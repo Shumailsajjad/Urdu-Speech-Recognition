{
  "cells": [
    {
      "cell_type": "markdown",
      "metadata": {
        "id": "LBSYoWbi-45k"
      },
      "source": [
        "# **Fine-tuning Wav2Vec2 for English ASR with 🤗 Transformers**"
      ]
    },
    {
      "cell_type": "markdown",
      "metadata": {
        "id": "V7YOT2mnUiea"
      },
      "source": [
        "Wav2Vec2 is a pretrained model for Automatic Speech Recognition (ASR) and was released in [September 2020](https://ai.facebook.com/blog/wav2vec-20-learning-the-structure-of-speech-from-raw-audio/) by Alexei Baevski, Michael Auli, and Alex Conneau.\n",
        "\n",
        "Using a novel contrastive pretraining objective, Wav2Vec2 learns powerful speech representations from more than 50.000 hours of unlabeled speech. Similar, to [BERT's masked language modeling](http://jalammar.github.io/illustrated-bert/), the model learns contextualized speech representations by randomly masking feature vectors before passing them to a transformer network.\n",
        "\n",
        "![wav2vec2_structure](https://raw.githubusercontent.com/patrickvonplaten/scientific_images/master/wav2vec2.png)\n",
        "\n",
        "For the first time, it has been shown that pretraining, followed by fine-tuning on very little labeled speech data achieves competitive results to state-of-the-art ASR systems. Using as little as 10 minutes of labeled data, Wav2Vec2 yields a word error rate (WER) of less than 5% on the clean test set of [LibriSpeech](https://huggingface.co/datasets/librispeech_asr) - *cf.* with Table 9 of the [paper](https://arxiv.org/pdf/2006.11477.pdf)."
      ]
    },
    {
      "cell_type": "markdown",
      "metadata": {
        "id": "nT_QrfWtsxIz"
      },
      "source": [
        "In this notebook, we will give an in-detail explanation of how Wav2Vec2's pretrained checkpoints can be fine-tuned on any English ASR dataset. Note that in this notebook, we will fine-tune Wav2Vec2 without making use of a language model. It is much simpler to use Wav2Vec2 without a language model as an end-to-end ASR system and it has been shown that a standalone Wav2Vec2 acoustic model achieves impressive results. For demonstration purposes, we fine-tune the \"base\"-sized [pretrained checkpoint](https://huggingface.co/facebook/wav2vec2-base) on the rather small [Timit](https://huggingface.co/datasets/timit_asr) dataset that contains just 5h of training data."
      ]
    },
    {
      "cell_type": "markdown",
      "metadata": {
        "id": "Gx9OdDYrCtQ1"
      },
      "source": [
        "Wav2Vec2 is fine-tuned using Connectionist Temporal Classification (CTC), which is an algorithm that is used to train neural networks for sequence-to-sequence problems and mainly in Automatic Speech Recognition and handwriting recognition. \n",
        "\n",
        "I highly recommend reading the blog post [Sequence Modeling with CTC (2017)](https://distill.pub/2017/ctc/) very well-written blog post by Awni Hannun."
      ]
    },
    {
      "cell_type": "markdown",
      "metadata": {
        "id": "qW3J3rBizeds"
      },
      "source": [
        "First, let's try to get a good GPU in our colab! With Google Colab's free version it's sadly becoming much harder to get access to a good GPU. With Google Colab Pro, one has a much easier time getting access to a V100 or P100 GPU however."
      ]
    },
    {
      "cell_type": "code",
      "execution_count": 9,
      "metadata": {
        "id": "2HOItuLyxt7h"
      },
      "outputs": [],
      "source": [
        "username = 'shumail'   #CHANGE THIS TO YOUR HUGGING FACE USERNAME"
      ]
    },
    {
      "cell_type": "code",
      "execution_count": 12,
      "metadata": {
        "colab": {
          "base_uri": "https://localhost:8080/"
        },
        "id": "SLAufgh_xxj7",
        "outputId": "8c5cf520-3e21-4081-b669-95c38f639c7f"
      },
      "outputs": [
        {
          "name": "stdout",
          "output_type": "stream",
          "text": [
            "Not connected to a GPU\n"
          ]
        }
      ],
      "source": [
        "gpu_info = !nvidia-smi\n",
        "gpu_info = '\\n'.join(gpu_info)\n",
        "if gpu_info.find('failed') >= 0:\n",
        "  print('Not connected to a GPU')\n",
        "else:\n",
        "  print(gpu_info)"
      ]
    },
    {
      "cell_type": "markdown",
      "metadata": {
        "id": "e335hPmdtASZ"
      },
      "source": [
        "Before we start, let's install both `datasets` and `transformers` from master. Also, we need the `librosa` package to load audio files and the `jiwer` to evaluate our fine-tuned model using the [word error rate (WER)](https://huggingface.co/metrics/wer) metric ${}^1$."
      ]
    },
    {
      "cell_type": "code",
      "execution_count": 3,
      "metadata": {
        "id": "c8eh87Hoee5d"
      },
      "outputs": [],
      "source": [
        "%%capture\n",
        "!pip install datasets==1.18.3\n",
        "!pip install transformers==4.11.3\n",
        "!pip install librosa\n",
        "!pip install jiwer"
      ]
    },
    {
      "cell_type": "markdown",
      "metadata": {
        "id": "8_6kYmDMH9lR"
      },
      "source": [
        "Next we strongly suggest to upload your training checkpoints directly to the [🤗 Hub](https://huggingface.co/) while training. The [🤗 Hub](https://huggingface.co/) has integrated version control so you can be sure that no model checkpoint is getting lost during training. \n",
        "\n",
        "To do so you have to store your authentication token from the Hugging Face website (sign up [here](https://huggingface.co/join) if you haven't already!)"
      ]
    },
    {
      "cell_type": "code",
      "execution_count": 5,
      "metadata": {
        "colab": {
          "base_uri": "https://localhost:8080/",
          "height": 387,
          "referenced_widgets": [
            "c1769ed845eb44f2acb20f508179472d",
            "51a85dd15071420582316df7d98868c3",
            "a01c0e6ae52d4d2587e3b7d7cc49de19",
            "46f48fa158e4412fa3a3347cc5496a21",
            "9d514df149ec40e8ae80afbb58e38f71",
            "99d0cadfca28484da4f502f4cf6cd09e",
            "035abd7f0e5b44979109d7ad68e41949",
            "10deb8d48a6d41e0897d205567d2df21",
            "5ce89147351b46bf9173278309421ad9",
            "c6874f97c75f4e8eac15d4723d86569e",
            "a52f49f4574f4caf8da2de9ebccdc710",
            "77bbcbf4c4f6467888a3037455d37ea9",
            "28d42d84960441828bc3b99bb36dbbc8",
            "0fbfefbb0d3c41939bb0995117988173",
            "b265a9019aca4f3b93d1501ed3d2eee7",
            "2579a03859fa4391a1c78e1ac3045299",
            "a58c89230ced455097f33bd1553fc347"
          ]
        },
        "id": "zFLBDyzQIA3R",
        "outputId": "9cc155a0-aff5-4b2f-a36f-290a1d3a1b52"
      },
      "outputs": [
        {
          "name": "stdout",
          "output_type": "stream",
          "text": [
            "Login successful\n",
            "Your token has been saved to /root/.huggingface/token\n",
            "\u001b[1m\u001b[31mAuthenticated through git-credential store but this isn't the helper defined on your machine.\n",
            "You might have to re-authenticate when pushing to the Hugging Face Hub. Run the following command in your terminal in case you want to set this credential helper as the default\n",
            "\n",
            "git config --global credential.helper store\u001b[0m\n"
          ]
        }
      ],
      "source": [
        "#GET token from hugging face  account\n",
        "from huggingface_hub import notebook_login\n",
        "\n",
        "notebook_login()"
      ]
    },
    {
      "cell_type": "markdown",
      "metadata": {
        "id": "zCyw5D23IQ1F"
      },
      "source": [
        "\n",
        "Then you need to install Git-LFS to upload your model checkpoints:"
      ]
    },
    {
      "cell_type": "code",
      "execution_count": 7,
      "metadata": {
        "id": "Q9BnQDhOITBC"
      },
      "outputs": [],
      "source": [
        "%%capture\n",
        "!apt install git-lfs"
      ]
    },
    {
      "cell_type": "markdown",
      "metadata": {
        "id": "Mn9swf6EQ9Vd"
      },
      "source": [
        "\n",
        "\n",
        "\n",
        "---\n",
        "\n",
        "${}^1$ Timit is usually evaluated using the phoneme error rate (PER), but by far the most common metric in ASR is the word error rate (WER). To keep this notebook as general as possible we decided to evaluate the model using WER."
      ]
    },
    {
      "cell_type": "markdown",
      "metadata": {
        "id": "0mW-C1Nt-j7k"
      },
      "source": [
        "## Prepare Data, Tokenizer, Feature Extractor"
      ]
    },
    {
      "cell_type": "markdown",
      "metadata": {
        "id": "BeBosnY9BH3e"
      },
      "source": [
        "ASR models transcribe speech to text, which means that we both need a feature extractor that processes the speech signal to the model's input format, *e.g.* a feature vector, and a tokenizer that processes the model's output format to text. \n",
        "\n",
        "In 🤗 Transformers, the Wav2Vec2 model is thus accompanied by both a tokenizer, called [Wav2Vec2CTCTokenizer](https://huggingface.co/transformers/master/model_doc/wav2vec2.html#wav2vec2ctctokenizer), and a feature extractor, called [Wav2Vec2FeatureExtractor](https://huggingface.co/transformers/master/model_doc/wav2vec2.html#wav2vec2featureextractor).\n",
        "\n",
        "Let's start by creating the tokenizer responsible for decoding the model's predictions."
      ]
    },
    {
      "cell_type": "markdown",
      "metadata": {
        "id": "sEXEWEJGQPqD"
      },
      "source": [
        "### Create Wav2Vec2CTCTokenizer"
      ]
    },
    {
      "cell_type": "markdown",
      "metadata": {
        "id": "tWmMikuNEKl_"
      },
      "source": [
        "The [pretrained Wav2Vec2 checkpoint]( ) maps the speech signal to a sequence of context representations as illustrated in the figure above. A fine-tuned Wav2Vec2 checkpoint needs to map this sequence of context representations to its corresponding transcription so that a linear layer has to be added on top of the transformer block (shown in yellow). This linear layer is used to classifies each context representation to a token class analogous how, *e.g.*, after pretraining a linear layer is added on top of BERT's embeddings for further classification - *cf.* with *\"BERT\"* section of this [blog post](https://huggingface.co/blog/warm-starting-encoder-decoder).\n",
        "\n",
        "The output size of this layer corresponds to the number of tokens in the vocabulary, which does **not** depend on Wav2Vec2's pretraining task, but only on the labeled dataset used for fine-tuning. So in the first step, we will take a look at Timit and define a vocabulary based on the dataset's transcriptions."
      ]
    },
    {
      "cell_type": "markdown",
      "metadata": {
        "id": "bee4g9rpLxll"
      },
      "source": [
        "Let's start by loading the dataset and taking a look at its structure."
      ]
    },
    {
      "cell_type": "code",
      "execution_count": 2,
      "metadata": {
        "colab": {
          "base_uri": "https://localhost:8080/"
        },
        "id": "GFo8a3fqaZIh",
        "outputId": "00779edc-97d4-49c9-9f9a-e105a0f33395"
      },
      "outputs": [
        {
          "name": "stdout",
          "output_type": "stream",
          "text": [
            "Mounted at /content/drive\n"
          ]
        }
      ],
      "source": [
        "from google.colab import drive\n",
        "drive.mount('/content/drive')\n",
        "#!unzip '/content/drive/MyDrive/Speech/23100080.zip' -d \"/content/drive/MyDrive/Speech\"\n",
        "path = '/content/drive/MyDrive/Speech/Recordings/'  #ADD YOUR DRIVE PATH TO THE DATA HERE\n",
        "\n"
      ]
    },
    {
      "cell_type": "code",
      "execution_count": 4,
      "metadata": {
        "id": "w7bxyuiYay62"
      },
      "outputs": [],
      "source": [
        "import numpy as np\n",
        "import pandas as pd\n",
        "\n",
        "from scipy.io import wavfile\n",
        "\n",
        "file_list = []\n",
        "for i in range(1, 709):\n",
        "    p = path + str(i) + '.wav'\n",
        "    file_list.append(p)\n"
      ]
    },
    {
      "cell_type": "code",
      "execution_count": 5,
      "metadata": {
        "id": "24XG3Us21vEF"
      },
      "outputs": [],
      "source": [
        "audio_list = []\n",
        "for file1 in file_list:\n",
        "    samplerate, data = wavfile.read(file1)\n",
        "    d = {}\n",
        "    d['path'] = file1\n",
        "    d['audio'] = data[:,0]\n",
        "    d['sampling_rate'] = samplerate\n",
        "    audio_list.append(d)\n",
        "text_path = '/content/drive/MyDrive/PRUS.txt'  #SHOULD HAVE PRUS.txt uploaded to your Drive \n",
        "text_list = []\n",
        "import io\n",
        "with io.open(text_path, mode = \"r\", encoding = \"utf-8\") as file2:\n",
        "    for item in file2:\n",
        "        text_list.append(item.replace('\\n', ''))"
      ]
    },
    {
      "cell_type": "code",
      "execution_count": 6,
      "metadata": {
        "id": "jR9iJlLah86Z"
      },
      "outputs": [],
      "source": [
        "from sklearn.model_selection import train_test_split\n",
        "\n",
        "d = {'file' : file_list, 'audio' : audio_list, 'text' : text_list}\n",
        "df = pd.DataFrame(data=d)\n",
        "train, test = train_test_split(df, test_size=0.2)\n",
        "\n"
      ]
    },
    {
      "cell_type": "code",
      "execution_count": 7,
      "metadata": {
        "colab": {
          "base_uri": "https://localhost:8080/",
          "height": 641
        },
        "id": "d9PfmL7Fjo2j",
        "outputId": "dadc5ef3-4d7b-446b-8fed-d0980d591c93"
      },
      "outputs": [
        {
          "data": {
            "text/html": [
              "\n",
              "  <div id=\"df-ec75b078-a9a0-4f45-8f32-33e062f248aa\">\n",
              "    <div class=\"colab-df-container\">\n",
              "      <div>\n",
              "<style scoped>\n",
              "    .dataframe tbody tr th:only-of-type {\n",
              "        vertical-align: middle;\n",
              "    }\n",
              "\n",
              "    .dataframe tbody tr th {\n",
              "        vertical-align: top;\n",
              "    }\n",
              "\n",
              "    .dataframe thead th {\n",
              "        text-align: right;\n",
              "    }\n",
              "</style>\n",
              "<table border=\"1\" class=\"dataframe\">\n",
              "  <thead>\n",
              "    <tr style=\"text-align: right;\">\n",
              "      <th></th>\n",
              "      <th>file</th>\n",
              "      <th>audio</th>\n",
              "      <th>text</th>\n",
              "    </tr>\n",
              "  </thead>\n",
              "  <tbody>\n",
              "    <tr>\n",
              "      <th>165</th>\n",
              "      <td>/content/drive/MyDrive/Speech/Recordings/166.wav</td>\n",
              "      <td>{'path': '/content/drive/MyDrive/Speech/Record...</td>\n",
              "      <td>عزت مآب رخشندہ کو ڈسٹرکٹ کمیونٹی ڈویژن کی سیر ...</td>\n",
              "    </tr>\n",
              "    <tr>\n",
              "      <th>217</th>\n",
              "      <td>/content/drive/MyDrive/Speech/Recordings/218.wav</td>\n",
              "      <td>{'path': '/content/drive/MyDrive/Speech/Record...</td>\n",
              "      <td>ایرانی قدروں میں بندوق کی روایت ٹھوس نہیں صرف ...</td>\n",
              "    </tr>\n",
              "    <tr>\n",
              "      <th>538</th>\n",
              "      <td>/content/drive/MyDrive/Speech/Recordings/539.wav</td>\n",
              "      <td>{'path': '/content/drive/MyDrive/Speech/Record...</td>\n",
              "      <td>موہوم پیشنگوئی دیوار اور لوحوں پر مرتب کرکے لک...</td>\n",
              "    </tr>\n",
              "    <tr>\n",
              "      <th>628</th>\n",
              "      <td>/content/drive/MyDrive/Speech/Recordings/629.wav</td>\n",
              "      <td>{'path': '/content/drive/MyDrive/Speech/Record...</td>\n",
              "      <td>شیلڈ ٹریڈ کے گوشوارہ کے اواخر میں فیلڈ ابزرور ...</td>\n",
              "    </tr>\n",
              "    <tr>\n",
              "      <th>507</th>\n",
              "      <td>/content/drive/MyDrive/Speech/Recordings/508.wav</td>\n",
              "      <td>{'path': '/content/drive/MyDrive/Speech/Record...</td>\n",
              "      <td>بالغ منشیوں کے سروں میں کھجلی رسولی کا شاخسانہ ہے</td>\n",
              "    </tr>\n",
              "    <tr>\n",
              "      <th>...</th>\n",
              "      <td>...</td>\n",
              "      <td>...</td>\n",
              "      <td>...</td>\n",
              "    </tr>\n",
              "    <tr>\n",
              "      <th>623</th>\n",
              "      <td>/content/drive/MyDrive/Speech/Recordings/624.wav</td>\n",
              "      <td>{'path': '/content/drive/MyDrive/Speech/Record...</td>\n",
              "      <td>مفسر کے نسخوں میں گلسرین اور فاسفورس والا فوڈ ...</td>\n",
              "    </tr>\n",
              "    <tr>\n",
              "      <th>527</th>\n",
              "      <td>/content/drive/MyDrive/Speech/Recordings/528.wav</td>\n",
              "      <td>{'path': '/content/drive/MyDrive/Speech/Record...</td>\n",
              "      <td>افسردہ لیڈی عرفان گاڑھا پراٹھا تمام ساتھیوں کی...</td>\n",
              "    </tr>\n",
              "    <tr>\n",
              "      <th>478</th>\n",
              "      <td>/content/drive/MyDrive/Speech/Recordings/479.wav</td>\n",
              "      <td>{'path': '/content/drive/MyDrive/Speech/Record...</td>\n",
              "      <td>گیہوں اور سبزیوں کے سوکھنے اور سڑنے نے لائیوسٹ...</td>\n",
              "    </tr>\n",
              "    <tr>\n",
              "      <th>493</th>\n",
              "      <td>/content/drive/MyDrive/Speech/Recordings/494.wav</td>\n",
              "      <td>{'path': '/content/drive/MyDrive/Speech/Record...</td>\n",
              "      <td>گدھوں کی انڈسٹری ہارویسٹر کے قبضے میں مقید ہے</td>\n",
              "    </tr>\n",
              "    <tr>\n",
              "      <th>124</th>\n",
              "      <td>/content/drive/MyDrive/Speech/Recordings/125.wav</td>\n",
              "      <td>{'path': '/content/drive/MyDrive/Speech/Record...</td>\n",
              "      <td>کیا پروفیسر طیب اور لائبریرین نے یونیورسٹی میں...</td>\n",
              "    </tr>\n",
              "  </tbody>\n",
              "</table>\n",
              "<p>566 rows × 3 columns</p>\n",
              "</div>\n",
              "      <button class=\"colab-df-convert\" onclick=\"convertToInteractive('df-ec75b078-a9a0-4f45-8f32-33e062f248aa')\"\n",
              "              title=\"Convert this dataframe to an interactive table.\"\n",
              "              style=\"display:none;\">\n",
              "        \n",
              "  <svg xmlns=\"http://www.w3.org/2000/svg\" height=\"24px\"viewBox=\"0 0 24 24\"\n",
              "       width=\"24px\">\n",
              "    <path d=\"M0 0h24v24H0V0z\" fill=\"none\"/>\n",
              "    <path d=\"M18.56 5.44l.94 2.06.94-2.06 2.06-.94-2.06-.94-.94-2.06-.94 2.06-2.06.94zm-11 1L8.5 8.5l.94-2.06 2.06-.94-2.06-.94L8.5 2.5l-.94 2.06-2.06.94zm10 10l.94 2.06.94-2.06 2.06-.94-2.06-.94-.94-2.06-.94 2.06-2.06.94z\"/><path d=\"M17.41 7.96l-1.37-1.37c-.4-.4-.92-.59-1.43-.59-.52 0-1.04.2-1.43.59L10.3 9.45l-7.72 7.72c-.78.78-.78 2.05 0 2.83L4 21.41c.39.39.9.59 1.41.59.51 0 1.02-.2 1.41-.59l7.78-7.78 2.81-2.81c.8-.78.8-2.07 0-2.86zM5.41 20L4 18.59l7.72-7.72 1.47 1.35L5.41 20z\"/>\n",
              "  </svg>\n",
              "      </button>\n",
              "      \n",
              "  <style>\n",
              "    .colab-df-container {\n",
              "      display:flex;\n",
              "      flex-wrap:wrap;\n",
              "      gap: 12px;\n",
              "    }\n",
              "\n",
              "    .colab-df-convert {\n",
              "      background-color: #E8F0FE;\n",
              "      border: none;\n",
              "      border-radius: 50%;\n",
              "      cursor: pointer;\n",
              "      display: none;\n",
              "      fill: #1967D2;\n",
              "      height: 32px;\n",
              "      padding: 0 0 0 0;\n",
              "      width: 32px;\n",
              "    }\n",
              "\n",
              "    .colab-df-convert:hover {\n",
              "      background-color: #E2EBFA;\n",
              "      box-shadow: 0px 1px 2px rgba(60, 64, 67, 0.3), 0px 1px 3px 1px rgba(60, 64, 67, 0.15);\n",
              "      fill: #174EA6;\n",
              "    }\n",
              "\n",
              "    [theme=dark] .colab-df-convert {\n",
              "      background-color: #3B4455;\n",
              "      fill: #D2E3FC;\n",
              "    }\n",
              "\n",
              "    [theme=dark] .colab-df-convert:hover {\n",
              "      background-color: #434B5C;\n",
              "      box-shadow: 0px 1px 3px 1px rgba(0, 0, 0, 0.15);\n",
              "      filter: drop-shadow(0px 1px 2px rgba(0, 0, 0, 0.3));\n",
              "      fill: #FFFFFF;\n",
              "    }\n",
              "  </style>\n",
              "\n",
              "      <script>\n",
              "        const buttonEl =\n",
              "          document.querySelector('#df-ec75b078-a9a0-4f45-8f32-33e062f248aa button.colab-df-convert');\n",
              "        buttonEl.style.display =\n",
              "          google.colab.kernel.accessAllowed ? 'block' : 'none';\n",
              "\n",
              "        async function convertToInteractive(key) {\n",
              "          const element = document.querySelector('#df-ec75b078-a9a0-4f45-8f32-33e062f248aa');\n",
              "          const dataTable =\n",
              "            await google.colab.kernel.invokeFunction('convertToInteractive',\n",
              "                                                     [key], {});\n",
              "          if (!dataTable) return;\n",
              "\n",
              "          const docLinkHtml = 'Like what you see? Visit the ' +\n",
              "            '<a target=\"_blank\" href=https://colab.research.google.com/notebooks/data_table.ipynb>data table notebook</a>'\n",
              "            + ' to learn more about interactive tables.';\n",
              "          element.innerHTML = '';\n",
              "          dataTable['output_type'] = 'display_data';\n",
              "          await google.colab.output.renderOutput(dataTable, element);\n",
              "          const docLink = document.createElement('div');\n",
              "          docLink.innerHTML = docLinkHtml;\n",
              "          element.appendChild(docLink);\n",
              "        }\n",
              "      </script>\n",
              "    </div>\n",
              "  </div>\n",
              "  "
            ],
            "text/plain": [
              "                                                 file  \\\n",
              "165  /content/drive/MyDrive/Speech/Recordings/166.wav   \n",
              "217  /content/drive/MyDrive/Speech/Recordings/218.wav   \n",
              "538  /content/drive/MyDrive/Speech/Recordings/539.wav   \n",
              "628  /content/drive/MyDrive/Speech/Recordings/629.wav   \n",
              "507  /content/drive/MyDrive/Speech/Recordings/508.wav   \n",
              "..                                                ...   \n",
              "623  /content/drive/MyDrive/Speech/Recordings/624.wav   \n",
              "527  /content/drive/MyDrive/Speech/Recordings/528.wav   \n",
              "478  /content/drive/MyDrive/Speech/Recordings/479.wav   \n",
              "493  /content/drive/MyDrive/Speech/Recordings/494.wav   \n",
              "124  /content/drive/MyDrive/Speech/Recordings/125.wav   \n",
              "\n",
              "                                                 audio  \\\n",
              "165  {'path': '/content/drive/MyDrive/Speech/Record...   \n",
              "217  {'path': '/content/drive/MyDrive/Speech/Record...   \n",
              "538  {'path': '/content/drive/MyDrive/Speech/Record...   \n",
              "628  {'path': '/content/drive/MyDrive/Speech/Record...   \n",
              "507  {'path': '/content/drive/MyDrive/Speech/Record...   \n",
              "..                                                 ...   \n",
              "623  {'path': '/content/drive/MyDrive/Speech/Record...   \n",
              "527  {'path': '/content/drive/MyDrive/Speech/Record...   \n",
              "478  {'path': '/content/drive/MyDrive/Speech/Record...   \n",
              "493  {'path': '/content/drive/MyDrive/Speech/Record...   \n",
              "124  {'path': '/content/drive/MyDrive/Speech/Record...   \n",
              "\n",
              "                                                  text  \n",
              "165  عزت مآب رخشندہ کو ڈسٹرکٹ کمیونٹی ڈویژن کی سیر ...  \n",
              "217  ایرانی قدروں میں بندوق کی روایت ٹھوس نہیں صرف ...  \n",
              "538  موہوم پیشنگوئی دیوار اور لوحوں پر مرتب کرکے لک...  \n",
              "628  شیلڈ ٹریڈ کے گوشوارہ کے اواخر میں فیلڈ ابزرور ...  \n",
              "507  بالغ منشیوں کے سروں میں کھجلی رسولی کا شاخسانہ ہے  \n",
              "..                                                 ...  \n",
              "623  مفسر کے نسخوں میں گلسرین اور فاسفورس والا فوڈ ...  \n",
              "527  افسردہ لیڈی عرفان گاڑھا پراٹھا تمام ساتھیوں کی...  \n",
              "478  گیہوں اور سبزیوں کے سوکھنے اور سڑنے نے لائیوسٹ...  \n",
              "493      گدھوں کی انڈسٹری ہارویسٹر کے قبضے میں مقید ہے  \n",
              "124  کیا پروفیسر طیب اور لائبریرین نے یونیورسٹی میں...  \n",
              "\n",
              "[566 rows x 3 columns]"
            ]
          },
          "execution_count": 7,
          "metadata": {},
          "output_type": "execute_result"
        }
      ],
      "source": [
        "train"
      ]
    },
    {
      "cell_type": "code",
      "execution_count": 8,
      "metadata": {
        "colab": {
          "base_uri": "https://localhost:8080/",
          "height": 374
        },
        "id": "9nJCVYEFbR7O",
        "outputId": "f88bc322-227c-470c-d2c2-2f7e16ab55bf"
      },
      "outputs": [
        {
          "ename": "ModuleNotFoundError",
          "evalue": "ignored",
          "output_type": "error",
          "traceback": [
            "\u001b[0;31m---------------------------------------------------------------------------\u001b[0m",
            "\u001b[0;31mModuleNotFoundError\u001b[0m                       Traceback (most recent call last)",
            "\u001b[0;32m<ipython-input-8-4df7b8a89cbb>\u001b[0m in \u001b[0;36m<module>\u001b[0;34m()\u001b[0m\n\u001b[0;32m----> 1\u001b[0;31m \u001b[0;32mimport\u001b[0m \u001b[0mdatasets\u001b[0m\u001b[0;34m\u001b[0m\u001b[0;34m\u001b[0m\u001b[0m\n\u001b[0m\u001b[1;32m      2\u001b[0m \u001b[0;32mfrom\u001b[0m \u001b[0mdatasets\u001b[0m \u001b[0;32mimport\u001b[0m \u001b[0mDataset\u001b[0m\u001b[0;34m\u001b[0m\u001b[0;34m\u001b[0m\u001b[0m\n\u001b[1;32m      3\u001b[0m \u001b[0;32mfrom\u001b[0m \u001b[0mdatasets\u001b[0m \u001b[0;32mimport\u001b[0m \u001b[0mDatasetDict\u001b[0m\u001b[0;34m\u001b[0m\u001b[0;34m\u001b[0m\u001b[0m\n\u001b[1;32m      4\u001b[0m split = (\n\u001b[1;32m      5\u001b[0m         \u001b[0mdatasets\u001b[0m\u001b[0;34m.\u001b[0m\u001b[0mSplit\u001b[0m\u001b[0;34m.\u001b[0m\u001b[0mTRAIN\u001b[0m\u001b[0;34m.\u001b[0m\u001b[0msubsplit\u001b[0m\u001b[0;34m(\u001b[0m\u001b[0mdatasets\u001b[0m\u001b[0;34m.\u001b[0m\u001b[0mpercent\u001b[0m\u001b[0;34m[\u001b[0m\u001b[0;34m:\u001b[0m\u001b[0;36m20\u001b[0m\u001b[0;34m]\u001b[0m\u001b[0;34m)\u001b[0m \u001b[0;34m+\u001b[0m\u001b[0;34m\u001b[0m\u001b[0;34m\u001b[0m\u001b[0m\n",
            "\u001b[0;31mModuleNotFoundError\u001b[0m: No module named 'datasets'",
            "",
            "\u001b[0;31m---------------------------------------------------------------------------\u001b[0;32m\nNOTE: If your import is failing due to a missing package, you can\nmanually install dependencies using either !pip or !apt.\n\nTo view examples of installing some common dependencies, click the\n\"Open Examples\" button below.\n\u001b[0;31m---------------------------------------------------------------------------\u001b[0m\n"
          ]
        }
      ],
      "source": [
        "import datasets\n",
        "from datasets import Dataset\n",
        "from datasets import DatasetDict\n",
        "split = (\n",
        "        datasets.Split.TRAIN.subsplit(datasets.percent[:20]) +\n",
        "        datasets.Split.TRAIN.subsplit(datasets.percent[80:])\n",
        ")\n",
        "\n",
        "train2 = Dataset.from_pandas(train)\n",
        "test2 = Dataset.from_pandas(test)\n",
        "timit = DatasetDict({'train' : train2, 'test' : test2})\n",
        "# timit = Dataset.from_dict(d)"
      ]
    },
    {
      "cell_type": "code",
      "execution_count": 73,
      "metadata": {
        "colab": {
          "base_uri": "https://localhost:8080/"
        },
        "id": "9GXY6U_5eLLt",
        "outputId": "710c8a45-a11b-4c1c-ed8f-5f09800a377d"
      },
      "outputs": [
        {
          "data": {
            "text/plain": [
              "DatasetDict({\n",
              "    train: Dataset({\n",
              "        features: ['file', 'audio', 'text', '__index_level_0__'],\n",
              "        num_rows: 566\n",
              "    })\n",
              "    test: Dataset({\n",
              "        features: ['file', 'audio', 'text', '__index_level_0__'],\n",
              "        num_rows: 142\n",
              "    })\n",
              "})"
            ]
          },
          "execution_count": 73,
          "metadata": {},
          "output_type": "execute_result"
        }
      ],
      "source": [
        "timit"
      ]
    },
    {
      "cell_type": "code",
      "execution_count": 74,
      "metadata": {
        "id": "2MMXcWFFgCXU"
      },
      "outputs": [],
      "source": [
        "# from datasets import load_dataset, load_metric\n",
        "\n",
        "# timit = load_dataset(\"timit_asr\")"
      ]
    },
    {
      "cell_type": "code",
      "execution_count": 75,
      "metadata": {
        "colab": {
          "base_uri": "https://localhost:8080/"
        },
        "id": "QbIM-L0xdvf4",
        "outputId": "a90dfcaa-2c33-4a1c-eec2-3d98aa1aca81"
      },
      "outputs": [
        {
          "data": {
            "text/plain": [
              "DatasetDict({\n",
              "    train: Dataset({\n",
              "        features: ['file', 'audio', 'text', '__index_level_0__'],\n",
              "        num_rows: 566\n",
              "    })\n",
              "    test: Dataset({\n",
              "        features: ['file', 'audio', 'text', '__index_level_0__'],\n",
              "        num_rows: 142\n",
              "    })\n",
              "})"
            ]
          },
          "execution_count": 75,
          "metadata": {},
          "output_type": "execute_result"
        }
      ],
      "source": [
        "timit"
      ]
    },
    {
      "cell_type": "markdown",
      "metadata": {
        "id": "ri5y5N_HMANq"
      },
      "source": [
        "Many ASR datasets only provide the target text, `'text'` for each audio `'audio'` and file `'file'`. Timit actually provides much more information about each audio file, such as the `'phonetic_detail'`, etc., which is why many researchers choose to evaluate their models on phoneme classification instead of speech recognition when working with Timit. However, we want to keep the notebook as general as possible, so that we will only consider the transcribed text for fine-tuning.\n",
        "\n"
      ]
    },
    {
      "cell_type": "code",
      "execution_count": 76,
      "metadata": {
        "id": "kbyq6lDgQc2a"
      },
      "outputs": [],
      "source": [
        "timit = timit.remove_columns([\"__index_level_0__\"])"
      ]
    },
    {
      "cell_type": "markdown",
      "metadata": {
        "id": "Go9Hq4e4NDT9"
      },
      "source": [
        "Let's write a short function to display some random samples of the dataset and run it a couple of times to get a feeling for the transcriptions."
      ]
    },
    {
      "cell_type": "code",
      "execution_count": 77,
      "metadata": {
        "id": "72737oog2F6U"
      },
      "outputs": [],
      "source": [
        "from datasets import ClassLabel\n",
        "import random\n",
        "import pandas as pd\n",
        "from IPython.display import display, HTML\n",
        "\n",
        "def show_random_elements(dataset, num_examples=10):\n",
        "    assert num_examples <= len(dataset), \"Can't pick more elements than there are in the dataset.\"\n",
        "    picks = []\n",
        "    for _ in range(num_examples):\n",
        "        pick = random.randint(0, len(dataset)-1)\n",
        "        while pick in picks:\n",
        "            pick = random.randint(0, len(dataset)-1)\n",
        "        picks.append(pick)\n",
        "    \n",
        "    df = pd.DataFrame(dataset[picks])\n",
        "    display(HTML(df.to_html()))"
      ]
    },
    {
      "cell_type": "code",
      "execution_count": 78,
      "metadata": {
        "colab": {
          "base_uri": "https://localhost:8080/",
          "height": 363
        },
        "id": "K_JUmf3G3b9S",
        "outputId": "f26c6110-53e5-473d-ecda-4bfc5f863d21"
      },
      "outputs": [
        {
          "data": {
            "text/html": [
              "<table border=\"1\" class=\"dataframe\">\n",
              "  <thead>\n",
              "    <tr style=\"text-align: right;\">\n",
              "      <th></th>\n",
              "      <th>text</th>\n",
              "    </tr>\n",
              "  </thead>\n",
              "  <tbody>\n",
              "    <tr>\n",
              "      <th>0</th>\n",
              "      <td>پیشوا نے ملیریا اور پھیپھڑے کے مریضوں کو ڈسچارج کرا دیا</td>\n",
              "    </tr>\n",
              "    <tr>\n",
              "      <th>1</th>\n",
              "      <td>ہتھیلی پر پاؤڈر کی آمیزش سے افیم کی موثر خوشبو آئی</td>\n",
              "    </tr>\n",
              "    <tr>\n",
              "      <th>2</th>\n",
              "      <td>فنڈز یا روپے کی ڈیلیوری بڑھائیں تو سائنسدانوں کا آپریشن اور ترقیات لاینفک ماڈل بنیں</td>\n",
              "    </tr>\n",
              "    <tr>\n",
              "      <th>3</th>\n",
              "      <td>مگسی قبیلے کی سست فقیر نیسچن کے حصے میں تقدس کا ترشول آیا</td>\n",
              "    </tr>\n",
              "    <tr>\n",
              "      <th>4</th>\n",
              "      <td>خواص کی تلخ رپورتاژ پر بھلا صغیر کو چھیڑنے بھگدڑ مچانے یا ناچنے میں کیا پنہاں ہے</td>\n",
              "    </tr>\n",
              "    <tr>\n",
              "      <th>5</th>\n",
              "      <td>چودھرائن نے بوڑھے ماچھی رساؤ کو افضل کی عیادت کے لیے بھیجنے کا سوچا</td>\n",
              "    </tr>\n",
              "    <tr>\n",
              "      <th>6</th>\n",
              "      <td>حسیں مدح پر ڈویژنل ڈائریکٹر کی طرف سے رعایت بشمول چھٹی تعیشات اور مہربانیوں کی جولانی ہے</td>\n",
              "    </tr>\n",
              "    <tr>\n",
              "      <th>7</th>\n",
              "      <td>مجلے میں مظلام تابش کا منفی رویہ غیرت اور ایجنسیوں کے مطالبے کا ذکر کریو</td>\n",
              "    </tr>\n",
              "    <tr>\n",
              "      <th>8</th>\n",
              "      <td>ہر اناڑی اور راہگیر ایک سپاسنامہ لے کر معاشیات کا معلم سمجھنے لگا ہے</td>\n",
              "    </tr>\n",
              "    <tr>\n",
              "      <th>9</th>\n",
              "      <td>مدعیان جلد از جلد کھلاڑیوں کی بیویوں سے شوربہ اور قورمہ کا تناسب سیکھیں</td>\n",
              "    </tr>\n",
              "  </tbody>\n",
              "</table>"
            ],
            "text/plain": [
              "<IPython.core.display.HTML object>"
            ]
          },
          "metadata": {},
          "output_type": "display_data"
        }
      ],
      "source": [
        "show_random_elements(timit[\"train\"].remove_columns([\"audio\", \"file\"]), num_examples=10)"
      ]
    },
    {
      "cell_type": "markdown",
      "metadata": {
        "id": "fowcOllGNNju"
      },
      "source": [
        "Alright! The transcriptions look very clean and the language seems to correspond more to written text than dialogue. This makes sense taking into account that [Timit](https://huggingface.co/datasets/timit_asr) is a read speech corpus."
      ]
    },
    {
      "cell_type": "markdown",
      "metadata": {
        "id": "vq7OR50LN49m"
      },
      "source": [
        "We can see that the transcriptions contain some special characters, such as `,.?!;:`. Without a language model, it is much harder to classify speech chunks to such special characters because they don't really correspond to a characteristic sound unit. *E.g.*, the letter `\"s\"` has a more or less clear sound, whereas the special character `\".\"` does not.\n",
        "Also in order to understand the meaning of a speech signal, it is usually not necessary to include special characters in the transcription.\n",
        "\n",
        "In addition, we normalize the text to only have lower case letters and append a word separator token at the end."
      ]
    },
    {
      "cell_type": "code",
      "execution_count": 79,
      "metadata": {
        "id": "svKzVJ_hQGK6"
      },
      "outputs": [],
      "source": [
        "# import re\n",
        "# chars_to_ignore_regex = '[\\,\\?\\.\\!\\-\\;\\:\\\"]'\n",
        "\n",
        "# def remove_special_characters(batch):\n",
        "#     batch[\"text\"] = re.sub(chars_to_ignore_regex, '', batch[\"text\"]).lower() + \" \"\n",
        "#     return batch"
      ]
    },
    {
      "cell_type": "code",
      "execution_count": 80,
      "metadata": {
        "id": "XIHocAuTQbBR"
      },
      "outputs": [],
      "source": [
        "# timit = timit.map(remove_special_characters)"
      ]
    },
    {
      "cell_type": "code",
      "execution_count": 81,
      "metadata": {
        "colab": {
          "base_uri": "https://localhost:8080/",
          "height": 363
        },
        "id": "RBDRAAYxRE6n",
        "outputId": "01524096-c117-4907-c9bb-0ec9ec742c48"
      },
      "outputs": [
        {
          "data": {
            "text/html": [
              "<table border=\"1\" class=\"dataframe\">\n",
              "  <thead>\n",
              "    <tr style=\"text-align: right;\">\n",
              "      <th></th>\n",
              "      <th>text</th>\n",
              "    </tr>\n",
              "  </thead>\n",
              "  <tbody>\n",
              "    <tr>\n",
              "      <th>0</th>\n",
              "      <td>سادھو نے الہیات کے ابلاغ کیلئے فقر کو اپنا اوڑھنا بچھونا بنایا</td>\n",
              "    </tr>\n",
              "    <tr>\n",
              "      <th>1</th>\n",
              "      <td>گوشت اور پھوگ کی تقلیل میں تغافل کی سوجی چھڑک کر وثوق سے اُٹھو</td>\n",
              "    </tr>\n",
              "    <tr>\n",
              "      <th>2</th>\n",
              "      <td>رینگتے ہوے اس مہم میں سوشلزم کے لیے بغاوت کا علم بلند کیا</td>\n",
              "    </tr>\n",
              "    <tr>\n",
              "      <th>3</th>\n",
              "      <td>معاصر اہل تشیع کا ایوبی امن بیڑا نیچر کی طرف سے ودیعت احساں ہے</td>\n",
              "    </tr>\n",
              "    <tr>\n",
              "      <th>4</th>\n",
              "      <td>چیل اس فعل پر مصر ہے کہ پرتھوی بطخوں کو چھیل کر نوچ لوں اور پھاڑ کھاؤں اور ایں ویں ای لے اڑوں</td>\n",
              "    </tr>\n",
              "    <tr>\n",
              "      <th>5</th>\n",
              "      <td>سینما گھروں کا رسیا بوڑھا حبشی لیڈر عجیب مسحور آواز رکھتا ہے</td>\n",
              "    </tr>\n",
              "    <tr>\n",
              "      <th>6</th>\n",
              "      <td>سسٹم مرچنٹ کی پرچھائیں ویوز پر پڑی تو قادری کی صلاحیتیں خزاں رسیدہ ہو گئیں</td>\n",
              "    </tr>\n",
              "    <tr>\n",
              "      <th>7</th>\n",
              "      <td>محترمہ پروین مینگل گردش دوراں نامی مدرسہ کے پرنسپل کی دوست ہیں</td>\n",
              "    </tr>\n",
              "    <tr>\n",
              "      <th>8</th>\n",
              "      <td>مجلے میں مظلام تابش کا منفی رویہ غیرت اور ایجنسیوں کے مطالبے کا ذکر کریو</td>\n",
              "    </tr>\n",
              "    <tr>\n",
              "      <th>9</th>\n",
              "      <td>دارلخلافہ میں ویڈنگ ایڈوائزری بورڈ معرض وجود میں آیا</td>\n",
              "    </tr>\n",
              "  </tbody>\n",
              "</table>"
            ],
            "text/plain": [
              "<IPython.core.display.HTML object>"
            ]
          },
          "metadata": {},
          "output_type": "display_data"
        }
      ],
      "source": [
        "show_random_elements(timit[\"train\"].remove_columns([\"audio\", \"file\"]))"
      ]
    },
    {
      "cell_type": "markdown",
      "metadata": {
        "id": "jwfaptH5RJwA"
      },
      "source": [
        "Good! This looks better. We have removed most special characters from transcriptions and normalized them to lower-case only.\n",
        "\n",
        "In CTC, it is common to classify speech chunks into letters, so we will do the same here. \n",
        "Let's extract all distinct letters of the training and test data and build our vocabulary from this set of letters.\n",
        "\n",
        "We write a mapping function that concatenates all transcriptions into one long transcription and then transforms the string into a set of chars. \n",
        "It is important to pass the argument `batched=True` to the `map(...)` function so that the mapping function has access to all transcriptions at once."
      ]
    },
    {
      "cell_type": "code",
      "execution_count": 82,
      "metadata": {
        "id": "LwCshNbbeRZR"
      },
      "outputs": [],
      "source": [
        "def extract_all_chars(batch):\n",
        "  all_text = \" \".join(batch[\"text\"])\n",
        "  vocab = list(set(all_text))\n",
        "  return {\"vocab\": [vocab], \"all_text\": [all_text]}"
      ]
    },
    {
      "cell_type": "code",
      "execution_count": 83,
      "metadata": {
        "colab": {
          "base_uri": "https://localhost:8080/",
          "height": 81,
          "referenced_widgets": [
            "82a45f883f7843beb144b58841e35fdd",
            "56c65e3ba1c847ad958c5244e85255d8",
            "8a20c9b8f62348de8c5c2f3f472d399f",
            "724926daa37440b3a259a0e1c1fbb93d",
            "dea593b1f54a477ead0f9dc2143f2ab4",
            "b0873ccc8df44d1abfbca45ee00e67dc",
            "6de03dc43d4e4d9f81cbfd969612bb2d",
            "57e938fdff904c46b661bf4d369ddb95",
            "5716b0b53dc141978fb9900e35787877",
            "d5f18942b4014d39ba9b26d9cb3f73af",
            "428ff0619f28484dbf1f45abc26ce45b",
            "aafd56b437d64e84912f19531ca08227",
            "06f1eeac68c04c6a840b8585cabef387",
            "bf1a124470384d6db31433542a072697",
            "c87064b3f63c41d0846336ca2da5e4d6",
            "8eb89b5854c74677b210e104ba856b2a",
            "5dc72c5b47444246a04ec8d6e3888b05",
            "507868ff2e854637ab48b2a204bacbfc",
            "982e69be6eee44f780ea651e08fb46db",
            "89d85b45e7d24b2ebb46a58f2ccd0cb8",
            "906bab11b2f24c438633d435084c92b5",
            "0c76df17cfe64affb074da9617c6da73"
          ]
        },
        "id": "_m6uUjjcfbjH",
        "outputId": "de390377-a4c6-4e1a-9094-be55083c0a2f"
      },
      "outputs": [
        {
          "data": {
            "application/vnd.jupyter.widget-view+json": {
              "model_id": "82a45f883f7843beb144b58841e35fdd",
              "version_major": 2,
              "version_minor": 0
            },
            "text/plain": [
              "  0%|          | 0/1 [00:00<?, ?ba/s]"
            ]
          },
          "metadata": {},
          "output_type": "display_data"
        },
        {
          "data": {
            "application/vnd.jupyter.widget-view+json": {
              "model_id": "aafd56b437d64e84912f19531ca08227",
              "version_major": 2,
              "version_minor": 0
            },
            "text/plain": [
              "  0%|          | 0/1 [00:00<?, ?ba/s]"
            ]
          },
          "metadata": {},
          "output_type": "display_data"
        }
      ],
      "source": [
        "vocabs = timit.map(extract_all_chars, batched=True, batch_size=-1, keep_in_memory=True, remove_columns=timit.column_names[\"train\"])"
      ]
    },
    {
      "cell_type": "markdown",
      "metadata": {
        "id": "7oVgE8RZSJNP"
      },
      "source": [
        "Now, we create the union of all distinct letters in the training dataset and test dataset and convert the resulting list into an enumerated dictionary."
      ]
    },
    {
      "cell_type": "code",
      "execution_count": 84,
      "metadata": {
        "id": "aQfneNsmlJI0"
      },
      "outputs": [],
      "source": [
        "vocab_list = list(set(vocabs[\"train\"][\"vocab\"][0]) | set(vocabs[\"test\"][\"vocab\"][0]))"
      ]
    },
    {
      "cell_type": "code",
      "execution_count": 85,
      "metadata": {
        "colab": {
          "base_uri": "https://localhost:8080/"
        },
        "id": "_0kRndSvqaKk",
        "outputId": "c4408c1e-d593-4bbd-b37a-3de30f39a53d"
      },
      "outputs": [
        {
          "data": {
            "text/plain": [
              "{' ': 14,\n",
              " 'ء': 19,\n",
              " 'آ': 15,\n",
              " 'ؤ': 20,\n",
              " 'ئ': 0,\n",
              " 'ا': 28,\n",
              " 'ب': 4,\n",
              " 'ت': 11,\n",
              " 'ث': 36,\n",
              " 'ج': 8,\n",
              " 'ح': 31,\n",
              " 'خ': 27,\n",
              " 'د': 45,\n",
              " 'ذ': 16,\n",
              " 'ر': 17,\n",
              " 'ز': 23,\n",
              " 'س': 10,\n",
              " 'ش': 24,\n",
              " 'ص': 38,\n",
              " 'ض': 7,\n",
              " 'ط': 3,\n",
              " 'ظ': 21,\n",
              " 'ع': 13,\n",
              " 'غ': 26,\n",
              " 'ف': 12,\n",
              " 'ق': 22,\n",
              " 'ل': 32,\n",
              " 'م': 34,\n",
              " 'ن': 46,\n",
              " 'و': 35,\n",
              " 'ً': 1,\n",
              " 'َ': 33,\n",
              " 'ُ': 37,\n",
              " 'ِ': 5,\n",
              " 'ّ': 30,\n",
              " 'ٔ': 42,\n",
              " 'ٹ': 25,\n",
              " 'پ': 40,\n",
              " 'چ': 44,\n",
              " 'ڈ': 48,\n",
              " 'ڑ': 41,\n",
              " 'ژ': 49,\n",
              " 'ک': 47,\n",
              " 'گ': 2,\n",
              " 'ں': 39,\n",
              " 'ھ': 43,\n",
              " 'ہ': 29,\n",
              " 'ی': 9,\n",
              " 'ے': 6,\n",
              " '\\u200c': 18}"
            ]
          },
          "execution_count": 85,
          "metadata": {},
          "output_type": "execute_result"
        }
      ],
      "source": [
        "vocab_dict = {v: k for k, v in enumerate(vocab_list)}\n",
        "vocab_dict"
      ]
    },
    {
      "cell_type": "markdown",
      "metadata": {
        "id": "JOSzbvs9SXT1"
      },
      "source": [
        "Cool, we see that all letters of the alphabet occur in the dataset (which is not really surprising) and we also extracted the special characters `\" \"` and `'`. Note that we did not exclude those special characters because: \n",
        "\n",
        "- The model has to learn to predict when a word finished or else the model prediction would always be a sequence of chars which would make it impossible to separate words from each other.\n",
        "- In English, we need to keep the `'` character to differentiate between words, *e.g.*, `\"it's\"` and `\"its\"` which have very different meanings."
      ]
    },
    {
      "cell_type": "markdown",
      "metadata": {
        "id": "b1fBRCn-TRaO"
      },
      "source": [
        "To make it clearer that `\" \"` has its own token class, we give it a more visible character `|`. In addition, we also add an \"unknown\" token so that the model can later deal with characters not encountered in Timit's training set. \n",
        "\n",
        "Finally, we also add a padding token that corresponds to CTC's \"*blank token*\". The \"blank token\" is a core component of the CTC algorithm. For more information, please take a look at the \"Alignment\" section [here](https://distill.pub/2017/ctc/)."
      ]
    },
    {
      "cell_type": "code",
      "execution_count": 86,
      "metadata": {
        "id": "npbIbBoLgaFX"
      },
      "outputs": [],
      "source": [
        "vocab_dict[\"|\"] = vocab_dict[\" \"]\n",
        "del vocab_dict[\" \"]"
      ]
    },
    {
      "cell_type": "code",
      "execution_count": 87,
      "metadata": {
        "colab": {
          "base_uri": "https://localhost:8080/"
        },
        "id": "znF0bNunsjbl",
        "outputId": "37db99e0-34df-4b73-de47-14a184343091"
      },
      "outputs": [
        {
          "data": {
            "text/plain": [
              "52"
            ]
          },
          "execution_count": 87,
          "metadata": {},
          "output_type": "execute_result"
        }
      ],
      "source": [
        "vocab_dict[\"[UNK]\"] = len(vocab_dict)\n",
        "vocab_dict[\"[PAD]\"] = len(vocab_dict)\n",
        "len(vocab_dict)"
      ]
    },
    {
      "cell_type": "markdown",
      "metadata": {
        "id": "SFPGfet8U5sL"
      },
      "source": [
        "Cool, now our vocabulary is complete and consists of 30 tokens, which means that the linear layer that we will add on top of the pretrained Wav2Vec2 checkpoint will have an output dimension of 30."
      ]
    },
    {
      "cell_type": "markdown",
      "metadata": {
        "id": "1CujRgBNVRaD"
      },
      "source": [
        "Let's now save the vocabulary as a json file."
      ]
    },
    {
      "cell_type": "code",
      "execution_count": 88,
      "metadata": {
        "id": "ehyUoh9vk191"
      },
      "outputs": [],
      "source": [
        "import json\n",
        "with open('vocab.json', 'w') as vocab_file:\n",
        "    json.dump(vocab_dict, vocab_file)"
      ]
    },
    {
      "cell_type": "markdown",
      "metadata": {
        "id": "SHJDaKlIVVim"
      },
      "source": [
        "In a final step, we use the json file to instantiate an object of the `Wav2Vec2CTCTokenizer` class."
      ]
    },
    {
      "cell_type": "code",
      "execution_count": 89,
      "metadata": {
        "id": "xriFGEWQkO4M"
      },
      "outputs": [],
      "source": [
        "from transformers import Wav2Vec2CTCTokenizer\n",
        "\n",
        "tokenizer = Wav2Vec2CTCTokenizer(\"./vocab.json\", unk_token=\"[UNK]\", pad_token=\"[PAD]\", word_delimiter_token=\"|\")"
      ]
    },
    {
      "cell_type": "markdown",
      "metadata": {
        "id": "P6L2EVWwIazG"
      },
      "source": [
        "If one wants to re-use the just created tokenizer with the fine-tuned model of this notebook, it is strongly advised to upload the `tokenizer` to the [🤗 Hub](https://huggingface.co/). Let's call the repo to which we will upload the files\n",
        "`\"wav2vec2-base-timit-demo-colab\"`:"
      ]
    },
    {
      "cell_type": "code",
      "execution_count": 90,
      "metadata": {
        "id": "1mbffBdxIl0M"
      },
      "outputs": [],
      "source": [
        "repo_name = \"wav2vec2-base-timit-demo-colab\""
      ]
    },
    {
      "cell_type": "markdown",
      "metadata": {
        "id": "pmpG2ftFIu3B"
      },
      "source": [
        "and upload the tokenizer to the [🤗 Hub](https://huggingface.co/)."
      ]
    },
    {
      "cell_type": "code",
      "execution_count": 92,
      "metadata": {
        "colab": {
          "base_uri": "https://localhost:8080/"
        },
        "id": "ScBMUz8jIxJi",
        "outputId": "1658a432-a95e-431a-acf1-0c8ab372190b"
      },
      "outputs": [
        {
          "name": "stderr",
          "output_type": "stream",
          "text": [
            "tokenizer config file saved in wav2vec2-base-timit-demo-colab/tokenizer_config.json\n",
            "Special tokens file saved in wav2vec2-base-timit-demo-colab/special_tokens_map.json\n"
          ]
        }
      ],
      "source": [
        "tokenizer.push_to_hub(repo_name)"
      ]
    },
    {
      "cell_type": "markdown",
      "metadata": {
        "id": "KvL12DrNV4cx"
      },
      "source": [
        "Great, you can see the just created repository under `https://huggingface.co/<your-username>/wav2vec2-base-timit-demo-colab`"
      ]
    },
    {
      "cell_type": "markdown",
      "metadata": {
        "id": "mYcIiR2FQ96i"
      },
      "source": [
        "### Create Wav2Vec2 Feature Extractor"
      ]
    },
    {
      "cell_type": "markdown",
      "metadata": {
        "id": "Y6mDEyW719rx"
      },
      "source": [
        "Speech is a continuous signal and to be treated by computers, it first has to be discretized, which is usually called **sampling**. The sampling rate hereby plays an important role in that it defines how many data points of the speech signal are measured per second. Therefore, sampling with a higher sampling rate results in a better approximation of the *real* speech signal but also necessitates more values per second.\n",
        "\n",
        "A pretrained checkpoint expects its input data to have been sampled more or less from the same distribution as the data it was trained on. The same speech signals sampled at two different rates have a very different distribution, *e.g.*, doubling the sampling rate results in data points being twice as long. Thus, \n",
        "before fine-tuning a pretrained checkpoint of an ASR model, it is crucial to verify that the sampling rate of the data that was used to pretrain the model matches the sampling rate of the dataset used to fine-tune the model.\n",
        "\n",
        "Wav2Vec2 was pretrained on the audio data of [LibriSpeech](https://huggingface.co/datasets/librispeech_asr) and LibriVox which both were sampling with 16kHz. Our fine-tuning dataset, [Timit](hhtps://huggingface.co/datasets/timit_asr), was luckily also sampled with 16kHz. If the fine-tuning dataset would have been sampled with a rate lower or higher than 16kHz, we first would have had to up or downsample the speech signal to match the sampling rate of the data used for pretraining. \n",
        "\n"
      ]
    },
    {
      "cell_type": "markdown",
      "metadata": {
        "id": "KuUbPW7oV-B5"
      },
      "source": [
        "A Wav2Vec2 feature extractor object requires the following parameters to be instantiated:\n",
        "\n",
        "- `feature_size`: Speech models take a sequence of feature vectors as an input. While the length of this sequence obviously varies, the feature size should not. In the case of Wav2Vec2, the feature size is 1 because the model was trained on the raw speech signal ${}^2$.\n",
        "- `sampling_rate`: The sampling rate at which the model is trained on.\n",
        "- `padding_value`: For batched inference, shorter inputs need to be padded with a specific value\n",
        "- `do_normalize`: Whether the input should be *zero-mean-unit-variance* normalized or not. Usually, speech models perform better when normalizing the input\n",
        "- `return_attention_mask`: Whether the model should make use of an `attention_mask` for batched inference. In general, models should **always** make use of the `attention_mask` to mask padded tokens. However, due to a very specific design choice of `Wav2Vec2`'s \"base\" checkpoint, better results are achieved when using no `attention_mask`. This is **not** recommended for other speech models. For more information, one can take a look at [this](https://github.com/pytorch/fairseq/issues/3227) issue. **Important** If you want to use this notebook to fine-tune [large-lv60](https://huggingface.co/facebook/wav2vec2-large-lv60), this parameter should be set to `True`."
      ]
    },
    {
      "cell_type": "code",
      "execution_count": 93,
      "metadata": {
        "id": "kAR0-2KLkopp"
      },
      "outputs": [],
      "source": [
        "from transformers import Wav2Vec2FeatureExtractor\n",
        "\n",
        "feature_extractor = Wav2Vec2FeatureExtractor(feature_size=1, sampling_rate=16000, padding_value=0.0, do_normalize=True, return_attention_mask=False)"
      ]
    },
    {
      "cell_type": "markdown",
      "metadata": {
        "id": "qUETetgqYC3W"
      },
      "source": [
        "Great, Wav2Vec2's feature extraction pipeline is thereby fully defined!\n",
        "\n",
        "To make the usage of Wav2Vec2 as user-friendly as possible, the feature extractor and tokenizer are *wrapped* into a single `Wav2Vec2Processor` class so that one only needs a `model` and `processor` object."
      ]
    },
    {
      "cell_type": "code",
      "execution_count": 94,
      "metadata": {
        "id": "KYZtoW-tlZgl"
      },
      "outputs": [],
      "source": [
        "from transformers import Wav2Vec2Processor\n",
        "\n",
        "processor = Wav2Vec2Processor(feature_extractor=feature_extractor, tokenizer=tokenizer)"
      ]
    },
    {
      "cell_type": "markdown",
      "metadata": {
        "id": "DrKnYuvDIoOO"
      },
      "source": [
        "Next, we can prepare the dataset."
      ]
    },
    {
      "cell_type": "markdown",
      "metadata": {
        "id": "YFmShnl7RE35"
      },
      "source": [
        "### Preprocess Data\n",
        "\n",
        "So far, we have not looked at the actual values of the speech signal but just the transcription. In addition to `'text'`, our datasets include two more column names `'file'` and `'audio'`. `'file'` states the absolute path of the audio file. Let's take a look."
      ]
    },
    {
      "cell_type": "code",
      "execution_count": 95,
      "metadata": {
        "colab": {
          "base_uri": "https://localhost:8080/",
          "height": 35
        },
        "id": "TTCS7W6XJ9BG",
        "outputId": "ccc677bf-3e70-4bc4-9f0f-e397d841ea4a"
      },
      "outputs": [
        {
          "data": {
            "application/vnd.google.colaboratory.intrinsic+json": {
              "type": "string"
            },
            "text/plain": [
              "'/content/drive/MyDrive/Speech/Recordings/515.wav'"
            ]
          },
          "execution_count": 95,
          "metadata": {},
          "output_type": "execute_result"
        }
      ],
      "source": [
        "timit[\"train\"][0][\"file\"]"
      ]
    },
    {
      "cell_type": "markdown",
      "metadata": {
        "id": "BwxprOw4Nzrl"
      },
      "source": [
        "`Wav2Vec2` expects the input in the format of a 1-dimensional array of 16 kHz. This means that the audio file has to be loaded and resampled.\n",
        "\n",
        " Thankfully, `datasets` does this automatically when calling the column `audio`. Let try it out. "
      ]
    },
    {
      "cell_type": "code",
      "execution_count": 96,
      "metadata": {
        "colab": {
          "base_uri": "https://localhost:8080/"
        },
        "id": "mk9QHuSsN7lf",
        "outputId": "b4d6d552-1fb8-4abe-963b-b45e25adf59d"
      },
      "outputs": [
        {
          "data": {
            "text/plain": [
              "{'audio': [0,\n",
              "  0,\n",
              "  0,\n",
              "  0,\n",
              "  0,\n",
              "  0,\n",
              "  0,\n",
              "  0,\n",
              "  0,\n",
              "  0,\n",
              "  0,\n",
              "  0,\n",
              "  0,\n",
              "  0,\n",
              "  0,\n",
              "  0,\n",
              "  0,\n",
              "  0,\n",
              "  0,\n",
              "  0,\n",
              "  0,\n",
              "  0,\n",
              "  0,\n",
              "  0,\n",
              "  0,\n",
              "  0,\n",
              "  0,\n",
              "  0,\n",
              "  0,\n",
              "  0,\n",
              "  0,\n",
              "  0,\n",
              "  0,\n",
              "  0,\n",
              "  0,\n",
              "  0,\n",
              "  0,\n",
              "  0,\n",
              "  0,\n",
              "  0,\n",
              "  0,\n",
              "  0,\n",
              "  0,\n",
              "  0,\n",
              "  0,\n",
              "  0,\n",
              "  0,\n",
              "  0,\n",
              "  0,\n",
              "  0,\n",
              "  0,\n",
              "  0,\n",
              "  0,\n",
              "  0,\n",
              "  0,\n",
              "  0,\n",
              "  0,\n",
              "  0,\n",
              "  0,\n",
              "  0,\n",
              "  0,\n",
              "  0,\n",
              "  0,\n",
              "  0,\n",
              "  0,\n",
              "  0,\n",
              "  0,\n",
              "  0,\n",
              "  0,\n",
              "  0,\n",
              "  0,\n",
              "  0,\n",
              "  0,\n",
              "  0,\n",
              "  0,\n",
              "  0,\n",
              "  0,\n",
              "  0,\n",
              "  0,\n",
              "  0,\n",
              "  0,\n",
              "  0,\n",
              "  0,\n",
              "  0,\n",
              "  0,\n",
              "  0,\n",
              "  0,\n",
              "  0,\n",
              "  0,\n",
              "  0,\n",
              "  0,\n",
              "  0,\n",
              "  0,\n",
              "  0,\n",
              "  0,\n",
              "  0,\n",
              "  0,\n",
              "  0,\n",
              "  0,\n",
              "  0,\n",
              "  0,\n",
              "  0,\n",
              "  0,\n",
              "  0,\n",
              "  0,\n",
              "  0,\n",
              "  0,\n",
              "  0,\n",
              "  0,\n",
              "  0,\n",
              "  0,\n",
              "  0,\n",
              "  0,\n",
              "  0,\n",
              "  0,\n",
              "  0,\n",
              "  0,\n",
              "  0,\n",
              "  0,\n",
              "  0,\n",
              "  0,\n",
              "  0,\n",
              "  0,\n",
              "  0,\n",
              "  0,\n",
              "  0,\n",
              "  0,\n",
              "  0,\n",
              "  0,\n",
              "  0,\n",
              "  0,\n",
              "  0,\n",
              "  0,\n",
              "  0,\n",
              "  0,\n",
              "  0,\n",
              "  0,\n",
              "  0,\n",
              "  0,\n",
              "  0,\n",
              "  0,\n",
              "  0,\n",
              "  0,\n",
              "  0,\n",
              "  0,\n",
              "  0,\n",
              "  0,\n",
              "  0,\n",
              "  0,\n",
              "  0,\n",
              "  0,\n",
              "  0,\n",
              "  0,\n",
              "  0,\n",
              "  0,\n",
              "  0,\n",
              "  0,\n",
              "  0,\n",
              "  0,\n",
              "  0,\n",
              "  0,\n",
              "  0,\n",
              "  0,\n",
              "  0,\n",
              "  0,\n",
              "  0,\n",
              "  0,\n",
              "  0,\n",
              "  0,\n",
              "  0,\n",
              "  0,\n",
              "  0,\n",
              "  0,\n",
              "  0,\n",
              "  0,\n",
              "  0,\n",
              "  0,\n",
              "  0,\n",
              "  0,\n",
              "  0,\n",
              "  0,\n",
              "  0,\n",
              "  0,\n",
              "  0,\n",
              "  0,\n",
              "  0,\n",
              "  0,\n",
              "  0,\n",
              "  0,\n",
              "  0,\n",
              "  0,\n",
              "  0,\n",
              "  0,\n",
              "  0,\n",
              "  0,\n",
              "  0,\n",
              "  0,\n",
              "  0,\n",
              "  0,\n",
              "  0,\n",
              "  0,\n",
              "  0,\n",
              "  0,\n",
              "  0,\n",
              "  0,\n",
              "  0,\n",
              "  0,\n",
              "  0,\n",
              "  0,\n",
              "  0,\n",
              "  0,\n",
              "  0,\n",
              "  0,\n",
              "  0,\n",
              "  0,\n",
              "  0,\n",
              "  0,\n",
              "  0,\n",
              "  0,\n",
              "  0,\n",
              "  0,\n",
              "  0,\n",
              "  0,\n",
              "  0,\n",
              "  0,\n",
              "  0,\n",
              "  0,\n",
              "  0,\n",
              "  0,\n",
              "  0,\n",
              "  0,\n",
              "  0,\n",
              "  0,\n",
              "  0,\n",
              "  0,\n",
              "  0,\n",
              "  0,\n",
              "  0,\n",
              "  0,\n",
              "  0,\n",
              "  0,\n",
              "  0,\n",
              "  0,\n",
              "  0,\n",
              "  0,\n",
              "  0,\n",
              "  0,\n",
              "  0,\n",
              "  0,\n",
              "  0,\n",
              "  0,\n",
              "  0,\n",
              "  0,\n",
              "  0,\n",
              "  0,\n",
              "  0,\n",
              "  0,\n",
              "  0,\n",
              "  0,\n",
              "  0,\n",
              "  0,\n",
              "  0,\n",
              "  0,\n",
              "  0,\n",
              "  0,\n",
              "  0,\n",
              "  0,\n",
              "  0,\n",
              "  0,\n",
              "  0,\n",
              "  0,\n",
              "  0,\n",
              "  0,\n",
              "  0,\n",
              "  0,\n",
              "  0,\n",
              "  0,\n",
              "  0,\n",
              "  -1,\n",
              "  0,\n",
              "  0,\n",
              "  0,\n",
              "  0,\n",
              "  0,\n",
              "  0,\n",
              "  0,\n",
              "  0,\n",
              "  0,\n",
              "  0,\n",
              "  0,\n",
              "  0,\n",
              "  0,\n",
              "  0,\n",
              "  0,\n",
              "  0,\n",
              "  0,\n",
              "  0,\n",
              "  0,\n",
              "  0,\n",
              "  0,\n",
              "  0,\n",
              "  0,\n",
              "  0,\n",
              "  0,\n",
              "  0,\n",
              "  0,\n",
              "  0,\n",
              "  0,\n",
              "  0,\n",
              "  0,\n",
              "  0,\n",
              "  0,\n",
              "  0,\n",
              "  0,\n",
              "  0,\n",
              "  0,\n",
              "  0,\n",
              "  0,\n",
              "  0,\n",
              "  0,\n",
              "  0,\n",
              "  0,\n",
              "  0,\n",
              "  0,\n",
              "  0,\n",
              "  0,\n",
              "  0,\n",
              "  0,\n",
              "  0,\n",
              "  0,\n",
              "  0,\n",
              "  0,\n",
              "  0,\n",
              "  0,\n",
              "  0,\n",
              "  0,\n",
              "  0,\n",
              "  0,\n",
              "  0,\n",
              "  0,\n",
              "  0,\n",
              "  0,\n",
              "  0,\n",
              "  0,\n",
              "  0,\n",
              "  0,\n",
              "  0,\n",
              "  0,\n",
              "  0,\n",
              "  0,\n",
              "  0,\n",
              "  0,\n",
              "  0,\n",
              "  0,\n",
              "  0,\n",
              "  -1,\n",
              "  0,\n",
              "  0,\n",
              "  0,\n",
              "  0,\n",
              "  0,\n",
              "  0,\n",
              "  0,\n",
              "  0,\n",
              "  0,\n",
              "  0,\n",
              "  0,\n",
              "  0,\n",
              "  0,\n",
              "  0,\n",
              "  0,\n",
              "  0,\n",
              "  0,\n",
              "  0,\n",
              "  0,\n",
              "  0,\n",
              "  0,\n",
              "  0,\n",
              "  0,\n",
              "  0,\n",
              "  0,\n",
              "  0,\n",
              "  0,\n",
              "  0,\n",
              "  0,\n",
              "  0,\n",
              "  0,\n",
              "  0,\n",
              "  0,\n",
              "  0,\n",
              "  0,\n",
              "  0,\n",
              "  0,\n",
              "  0,\n",
              "  0,\n",
              "  -1,\n",
              "  0,\n",
              "  0,\n",
              "  0,\n",
              "  0,\n",
              "  0,\n",
              "  0,\n",
              "  0,\n",
              "  0,\n",
              "  0,\n",
              "  0,\n",
              "  0,\n",
              "  0,\n",
              "  0,\n",
              "  0,\n",
              "  0,\n",
              "  0,\n",
              "  0,\n",
              "  0,\n",
              "  0,\n",
              "  0,\n",
              "  0,\n",
              "  0,\n",
              "  0,\n",
              "  0,\n",
              "  0,\n",
              "  0,\n",
              "  0,\n",
              "  0,\n",
              "  0,\n",
              "  0,\n",
              "  0,\n",
              "  0,\n",
              "  0,\n",
              "  -1,\n",
              "  0,\n",
              "  0,\n",
              "  0,\n",
              "  0,\n",
              "  0,\n",
              "  0,\n",
              "  1,\n",
              "  0,\n",
              "  0,\n",
              "  0,\n",
              "  0,\n",
              "  0,\n",
              "  0,\n",
              "  0,\n",
              "  0,\n",
              "  0,\n",
              "  0,\n",
              "  0,\n",
              "  0,\n",
              "  0,\n",
              "  0,\n",
              "  0,\n",
              "  0,\n",
              "  0,\n",
              "  0,\n",
              "  1,\n",
              "  0,\n",
              "  0,\n",
              "  0,\n",
              "  0,\n",
              "  0,\n",
              "  0,\n",
              "  0,\n",
              "  0,\n",
              "  1,\n",
              "  0,\n",
              "  0,\n",
              "  0,\n",
              "  0,\n",
              "  0,\n",
              "  0,\n",
              "  0,\n",
              "  0,\n",
              "  0,\n",
              "  0,\n",
              "  0,\n",
              "  0,\n",
              "  0,\n",
              "  0,\n",
              "  0,\n",
              "  0,\n",
              "  0,\n",
              "  0,\n",
              "  0,\n",
              "  0,\n",
              "  0,\n",
              "  0,\n",
              "  -1,\n",
              "  0,\n",
              "  0,\n",
              "  0,\n",
              "  0,\n",
              "  0,\n",
              "  0,\n",
              "  0,\n",
              "  0,\n",
              "  0,\n",
              "  0,\n",
              "  0,\n",
              "  0,\n",
              "  0,\n",
              "  0,\n",
              "  0,\n",
              "  0,\n",
              "  0,\n",
              "  0,\n",
              "  0,\n",
              "  0,\n",
              "  0,\n",
              "  0,\n",
              "  1,\n",
              "  0,\n",
              "  0,\n",
              "  0,\n",
              "  0,\n",
              "  0,\n",
              "  0,\n",
              "  0,\n",
              "  0,\n",
              "  0,\n",
              "  0,\n",
              "  0,\n",
              "  0,\n",
              "  0,\n",
              "  0,\n",
              "  0,\n",
              "  0,\n",
              "  0,\n",
              "  0,\n",
              "  0,\n",
              "  0,\n",
              "  0,\n",
              "  -1,\n",
              "  0,\n",
              "  0,\n",
              "  0,\n",
              "  0,\n",
              "  0,\n",
              "  0,\n",
              "  0,\n",
              "  0,\n",
              "  0,\n",
              "  0,\n",
              "  0,\n",
              "  0,\n",
              "  0,\n",
              "  0,\n",
              "  0,\n",
              "  0,\n",
              "  0,\n",
              "  1,\n",
              "  0,\n",
              "  0,\n",
              "  0,\n",
              "  0,\n",
              "  0,\n",
              "  0,\n",
              "  0,\n",
              "  0,\n",
              "  0,\n",
              "  0,\n",
              "  0,\n",
              "  0,\n",
              "  0,\n",
              "  0,\n",
              "  0,\n",
              "  0,\n",
              "  0,\n",
              "  0,\n",
              "  0,\n",
              "  0,\n",
              "  0,\n",
              "  0,\n",
              "  0,\n",
              "  0,\n",
              "  0,\n",
              "  1,\n",
              "  0,\n",
              "  0,\n",
              "  0,\n",
              "  0,\n",
              "  -1,\n",
              "  0,\n",
              "  0,\n",
              "  0,\n",
              "  0,\n",
              "  0,\n",
              "  0,\n",
              "  0,\n",
              "  0,\n",
              "  0,\n",
              "  0,\n",
              "  0,\n",
              "  0,\n",
              "  0,\n",
              "  0,\n",
              "  0,\n",
              "  0,\n",
              "  0,\n",
              "  0,\n",
              "  0,\n",
              "  0,\n",
              "  0,\n",
              "  0,\n",
              "  0,\n",
              "  0,\n",
              "  0,\n",
              "  0,\n",
              "  0,\n",
              "  0,\n",
              "  0,\n",
              "  0,\n",
              "  0,\n",
              "  0,\n",
              "  0,\n",
              "  0,\n",
              "  0,\n",
              "  0,\n",
              "  0,\n",
              "  0,\n",
              "  0,\n",
              "  0,\n",
              "  0,\n",
              "  0,\n",
              "  0,\n",
              "  0,\n",
              "  0,\n",
              "  0,\n",
              "  0,\n",
              "  0,\n",
              "  0,\n",
              "  0,\n",
              "  0,\n",
              "  0,\n",
              "  0,\n",
              "  0,\n",
              "  0,\n",
              "  0,\n",
              "  0,\n",
              "  0,\n",
              "  0,\n",
              "  0,\n",
              "  0,\n",
              "  0,\n",
              "  1,\n",
              "  0,\n",
              "  0,\n",
              "  0,\n",
              "  0,\n",
              "  0,\n",
              "  0,\n",
              "  0,\n",
              "  0,\n",
              "  0,\n",
              "  0,\n",
              "  0,\n",
              "  0,\n",
              "  0,\n",
              "  0,\n",
              "  0,\n",
              "  0,\n",
              "  0,\n",
              "  0,\n",
              "  0,\n",
              "  0,\n",
              "  0,\n",
              "  0,\n",
              "  0,\n",
              "  0,\n",
              "  0,\n",
              "  0,\n",
              "  0,\n",
              "  0,\n",
              "  0,\n",
              "  0,\n",
              "  0,\n",
              "  0,\n",
              "  0,\n",
              "  0,\n",
              "  0,\n",
              "  0,\n",
              "  0,\n",
              "  0,\n",
              "  0,\n",
              "  0,\n",
              "  0,\n",
              "  0,\n",
              "  0,\n",
              "  0,\n",
              "  0,\n",
              "  0,\n",
              "  0,\n",
              "  0,\n",
              "  0,\n",
              "  0,\n",
              "  0,\n",
              "  0,\n",
              "  0,\n",
              "  0,\n",
              "  0,\n",
              "  0,\n",
              "  0,\n",
              "  0,\n",
              "  0,\n",
              "  0,\n",
              "  0,\n",
              "  1,\n",
              "  0,\n",
              "  0,\n",
              "  0,\n",
              "  0,\n",
              "  0,\n",
              "  0,\n",
              "  0,\n",
              "  0,\n",
              "  0,\n",
              "  0,\n",
              "  1,\n",
              "  0,\n",
              "  0,\n",
              "  0,\n",
              "  0,\n",
              "  0,\n",
              "  0,\n",
              "  0,\n",
              "  -1,\n",
              "  0,\n",
              "  0,\n",
              "  0,\n",
              "  0,\n",
              "  0,\n",
              "  0,\n",
              "  0,\n",
              "  0,\n",
              "  0,\n",
              "  0,\n",
              "  0,\n",
              "  0,\n",
              "  0,\n",
              "  0,\n",
              "  0,\n",
              "  0,\n",
              "  0,\n",
              "  0,\n",
              "  0,\n",
              "  0,\n",
              "  0,\n",
              "  0,\n",
              "  1,\n",
              "  0,\n",
              "  0,\n",
              "  0,\n",
              "  0,\n",
              "  0,\n",
              "  0,\n",
              "  0,\n",
              "  0,\n",
              "  0,\n",
              "  0,\n",
              "  0,\n",
              "  -1,\n",
              "  0,\n",
              "  0,\n",
              "  0,\n",
              "  0,\n",
              "  0,\n",
              "  0,\n",
              "  0,\n",
              "  0,\n",
              "  0,\n",
              "  0,\n",
              "  0,\n",
              "  0,\n",
              "  0,\n",
              "  0,\n",
              "  0,\n",
              "  0,\n",
              "  0,\n",
              "  0,\n",
              "  0,\n",
              "  0,\n",
              "  0,\n",
              "  0,\n",
              "  0,\n",
              "  0,\n",
              "  0,\n",
              "  0,\n",
              "  0,\n",
              "  0,\n",
              "  0,\n",
              "  1,\n",
              "  0,\n",
              "  0,\n",
              "  0,\n",
              "  0,\n",
              "  0,\n",
              "  0,\n",
              "  0,\n",
              "  0,\n",
              "  0,\n",
              "  0,\n",
              "  0,\n",
              "  0,\n",
              "  0,\n",
              "  0,\n",
              "  0,\n",
              "  0,\n",
              "  0,\n",
              "  0,\n",
              "  0,\n",
              "  0,\n",
              "  0,\n",
              "  0,\n",
              "  0,\n",
              "  0,\n",
              "  0,\n",
              "  0,\n",
              "  0,\n",
              "  0,\n",
              "  0,\n",
              "  0,\n",
              "  0,\n",
              "  0,\n",
              "  0,\n",
              "  0,\n",
              "  0,\n",
              "  0,\n",
              "  0,\n",
              "  0,\n",
              "  0,\n",
              "  0,\n",
              "  0,\n",
              "  0,\n",
              "  0,\n",
              "  0,\n",
              "  0,\n",
              "  0,\n",
              "  0,\n",
              "  0,\n",
              "  0,\n",
              "  0,\n",
              "  0,\n",
              "  0,\n",
              "  0,\n",
              "  0,\n",
              "  0,\n",
              "  0,\n",
              "  0,\n",
              "  0,\n",
              "  0,\n",
              "  0,\n",
              "  0,\n",
              "  0,\n",
              "  0,\n",
              "  0,\n",
              "  0,\n",
              "  0,\n",
              "  0,\n",
              "  0,\n",
              "  0,\n",
              "  0,\n",
              "  0,\n",
              "  0,\n",
              "  0,\n",
              "  0,\n",
              "  0,\n",
              "  0,\n",
              "  0,\n",
              "  0,\n",
              "  0,\n",
              "  0,\n",
              "  0,\n",
              "  0,\n",
              "  0,\n",
              "  0,\n",
              "  0,\n",
              "  0,\n",
              "  0,\n",
              "  0,\n",
              "  0,\n",
              "  0,\n",
              "  0,\n",
              "  0,\n",
              "  0,\n",
              "  0,\n",
              "  0,\n",
              "  0,\n",
              "  0,\n",
              "  0,\n",
              "  0,\n",
              "  0,\n",
              "  0,\n",
              "  0,\n",
              "  0,\n",
              "  0,\n",
              "  0,\n",
              "  0,\n",
              "  0,\n",
              "  0,\n",
              "  0,\n",
              "  0,\n",
              "  0,\n",
              "  0,\n",
              "  0,\n",
              "  0,\n",
              "  0,\n",
              "  0,\n",
              "  0,\n",
              "  0,\n",
              "  0,\n",
              "  0,\n",
              "  0,\n",
              "  0,\n",
              "  0,\n",
              "  0,\n",
              "  0,\n",
              "  0,\n",
              "  0,\n",
              "  0,\n",
              "  0,\n",
              "  0,\n",
              "  0,\n",
              "  0,\n",
              "  0,\n",
              "  0,\n",
              "  0,\n",
              "  0,\n",
              "  0,\n",
              "  0,\n",
              "  0,\n",
              "  0,\n",
              "  0,\n",
              "  0,\n",
              "  0,\n",
              "  0,\n",
              "  0,\n",
              "  0,\n",
              "  0,\n",
              "  0,\n",
              "  0,\n",
              "  0,\n",
              "  0,\n",
              "  0,\n",
              "  0,\n",
              "  0,\n",
              "  0,\n",
              "  0,\n",
              "  0,\n",
              "  0,\n",
              "  0,\n",
              "  0,\n",
              "  0,\n",
              "  0,\n",
              "  0,\n",
              "  0,\n",
              "  0,\n",
              "  0,\n",
              "  0,\n",
              "  0,\n",
              "  0,\n",
              "  0,\n",
              "  0,\n",
              "  0,\n",
              "  0,\n",
              "  0,\n",
              "  0,\n",
              "  0,\n",
              "  0,\n",
              "  0,\n",
              "  0,\n",
              "  0,\n",
              "  0,\n",
              "  0,\n",
              "  0,\n",
              "  0,\n",
              "  0,\n",
              "  0,\n",
              "  0,\n",
              "  0,\n",
              "  0,\n",
              "  0,\n",
              "  0,\n",
              "  0,\n",
              "  -1,\n",
              "  0,\n",
              "  0,\n",
              "  0,\n",
              "  0,\n",
              "  0,\n",
              "  0,\n",
              "  0,\n",
              "  0,\n",
              "  0,\n",
              "  0,\n",
              "  -1,\n",
              "  0,\n",
              "  0,\n",
              "  0,\n",
              "  0,\n",
              "  0,\n",
              "  ...],\n",
              " 'path': '/content/drive/MyDrive/Speech/Recordings/515.wav',\n",
              " 'sampling_rate': 16000}"
            ]
          },
          "execution_count": 96,
          "metadata": {},
          "output_type": "execute_result"
        }
      ],
      "source": [
        "timit[\"train\"][0][\"audio\"]"
      ]
    },
    {
      "cell_type": "markdown",
      "metadata": {
        "id": "wSBIGEiaKHMn"
      },
      "source": [
        "We can see that the audio file has automatically been loaded. This is thanks to the new [`\"Audio\"` feature](https://huggingface.co/docs/datasets/package_reference/main_classes.html?highlight=audio#datasets.Audio) introduced in `datasets == 4.13.3`, which loads and resamples audio files on-the-fly upon calling.\n",
        "\n",
        "The sampling rate is set to 16kHz which is what `Wav2Vec2` expects as an input."
      ]
    },
    {
      "cell_type": "markdown",
      "metadata": {
        "id": "SOckzFd4Mbzq"
      },
      "source": [
        "Great, let's listen to a couple of audio files to better understand the dataset and verify that the audio was correctly loaded. \n",
        "\n",
        "**Note**: *You can click the following cell a couple of times to listen to different speech samples.*"
      ]
    },
    {
      "cell_type": "code",
      "execution_count": 97,
      "metadata": {
        "colab": {
          "base_uri": "https://localhost:8080/",
          "height": 93
        },
        "id": "dueM6U7Ev0OA",
        "outputId": "70ac1f43-1005-49d2-d150-4bf09cc7561e"
      },
      "outputs": [
        {
          "name": "stdout",
          "output_type": "stream",
          "text": [
            "زیڈ گھمن نے دو مرلہ پر سنگھاڑے اگائے تو بچہ کھلکھلا کر پھدکتا ہوا وہاں آ گیا\n"
          ]
        },
        {
          "data": {
            "text/html": [
              "\n",
              "                <audio controls=\"controls\" autoplay=\"autoplay\">\n",
              "                    <source src=\"data:audio/wav;base64,UklGRiQ/AgBXQVZFZm10IBAAAAABAAEAgD4AAAB9AAACABAAZGF0YQA/AgAAAAAAAAAAAAAAAAAAAAAAAAAAAAAAAAAAAAAAAAAAAAAAAAAAAAAAAAAAAAAAAAAAAAAAAAAAAAAAAAAAAAAAAAAAAAAAAAAAAAAAAAAAAAAAAAAAAAAAAAAAAAAAAAAAAAAAAAAAAAAAAAAAAAAAAAAAAAAAAAAAAAAAAAAAAAAAAAAAAAAAAAAAAAAAAAAAAAAAAAAAAAAAAAAAAAAAAAAAAAAAAAAAAAAAAAAAAAAAAAAAAAAAAAAAAAAAAAAAAAAAAAAAAAAAAAAAAAAAAAAAAAAAAAAAAAAAAAAAAAAAAAAAAAAAAAAAAAAAAAAAAAAAAAAAAAAAAAAAAAAAAAAAAAAAAAAAAAAAAAAAAAAAAAAAAAAAAAAAAAAAAAAAAAAAAAAAAAAAAAAAAAAAAAAAAAAAAAAAAAAAAAAAAAAAAAAAAAAAAAAAAAAAAAAAAAAAAAAAAAAAAAAAAAAAAAAAAAAAAAAAAAAAAAAAAAAAAAAAAAAAAAAAAAAAAAAAAAAAAAAAAAAAAAAAAAAAAAAAAAAAAAAAAAAAAAAAAAAAAAAAAAAAAAAAAAAAAAAAAAAAAAAAAAAAAAAAAAAAAAAAAAAAAAAAAAAAAAAAAAAAAAAAAAAAAAAAAAAAAAAAAAAAAAAAAAAAAAAAAAAAAAAAAAAAAAAAAAAAAAAAAAAAAAAAAAAAAAAAAAAAAAAAAAAAAAAAAAAAAAAAAAAAAAAAAAAAAAAAAAAA/v8AAAAAAAAAAAAAAAAAAAAAAAAAAAAAAAAAAAAAAAAAAAAAAAAAAAAAAAAAAAAAAAAAAAAAAAAAAAAAAAAAAAAAAAAAAAAAAAAAAAAAAAAAAAAAAAAAAAAAAAAAAAAAAAAAAAAAAAAAAAAAAAAAAAAAAAAAAAAAAAAAAAAAAAAAAAAAAAAAAAAAAAAAAAAAAAAAAAAAAAAAAP7/AAAAAAAAAAAAAAAAAAAAAAAAAAAAAAAAAAAAAAAAAAAAAAAAAAAAAAAAAAAAAAAAAAAAAAAAAAAAAAAAAAAAAAAAAAAAAAAAAAAAAAAA/v8AAAAAAAAAAAAAAAAAAAAAAAAAAAAAAAAAAAAAAAAAAAAAAAAAAAAAAAAAAAAAAAAAAAAAAAAAAAAAAAAAAAAAAAD+/wAAAAAAAAAAAAAAAAIAAAAAAAAAAAAAAAAAAAAAAAAAAAAAAAAAAAAAAAAAAAAAAAAAAgAAAAAAAAAAAAAAAAAAAAAAAgAAAAAAAAAAAAAAAAAAAAAAAAAAAAAAAAAAAAAAAAAAAAAAAAAAAAAAAAAAAP7/AAAAAAAAAAAAAAAAAAAAAAAAAAAAAAAAAAAAAAAAAAAAAAAAAAAAAAAAAAACAAAAAAAAAAAAAAAAAAAAAAAAAAAAAAAAAAIAAAAAAAAAAAAAAAAAAAAAAP7/AAAAAAAAAAAAAAAAAAAAAAAAAAAAAAAAAAAAAAAAAAAAAAIAAAAAAAAAAAAAAAAAAAAAAAAAAAAAAAAAAAAAAAAAAAAAAAAAAAAAAAAAAAAAAAAAAAACAAAAAAAAAAAA/v8AAAAAAAAAAAAAAAAAAAAAAAAAAAAAAAAAAAAAAAAAAAAAAAAAAAAAAAAAAAAAAAAAAAAAAAAAAAAAAAAAAAAAAAAAAAAAAAAAAAAAAAAAAAAAAAAAAAAAAAAAAAAAAAAAAAAAAAAAAAAAAAAAAAAAAAAAAAAAAAAAAAAAAgAAAAAAAAAAAAAAAAAAAAAAAAAAAAAAAAAAAAAAAAAAAAAAAAAAAAAAAAAAAAAAAAAAAAAAAAAAAAAAAAAAAAAAAAAAAAAAAAAAAAAAAAAAAAAAAAAAAAAAAAAAAAAAAAAAAAAAAAAAAAAAAAAAAAAAAAAAAAAAAAAAAAIAAAAAAAAAAAAAAAAAAAAAAAAAAAACAAAAAAAAAAAAAAAAAAAA/v8AAAAAAAAAAAAAAAAAAAAAAAAAAAAAAAAAAAAAAAAAAAAAAAAAAAAAAAAAAAIAAAAAAAAAAAAAAAAAAAAAAAAAAAAAAP7/AAAAAAAAAAAAAAAAAAAAAAAAAAAAAAAAAAAAAAAAAAAAAAAAAAAAAAAAAAAAAAAAAAAAAAAAAAAAAAIAAAAAAAAAAAAAAAAAAAAAAAAAAAAAAAAAAAAAAAAAAAAAAAAAAAAAAAAAAAAAAAAAAAAAAAAAAAAAAAAAAAAAAAAAAAAAAAAAAAAAAAAAAAAAAAAAAAAAAAAAAAAAAAAAAAAAAAAAAAAAAAAAAAAAAAAAAAAAAAAAAAAAAAAAAAAAAAAAAAAAAAAAAAAAAAAAAAAAAAAAAAAAAAAAAAAAAAAAAAAAAAAAAAAAAAAAAAAAAAAAAAAAAAAAAAAAAAAAAAAAAAAAAAAAAAAAAAAAAAAAAAAAAAAAAAAAAAAAAAAAAAAAAAAAAAAAAAAAAAAAAAAAAAAAAAAAAAAAAAAAAAAAAAAAAAAAAAAAAAAAAAAAAAAAAAAAAAAAAAAAAAAAAAAAAAAAAAAAAAAAAAAAAAAAAAAAAAAAAAAAAAAAAAAAAAAAAAAAAAAAAAAAAAAAAAAAAAAAAAAAAAAAAAAAAAAAAAAAAAAAAAAAAAAAAAAAAAAAAgAAAAAAAAAAAAAA/v8AAAAAAAAAAAAAAAAAAAAAAAAAAP7/AAAAAAAAAAAAAAAAAAAAAAAAAAAAAAAAAAAAAAAAAAAAAAAAAAAAAAAAAAAAAAAAAAAAAAAAAAAAAAAAAAAAAAAAAAAAAAAAAAAAAAIAAAAAAAAAAAAAAAAAAAAAAAAAAAAAAAAAAAAAAAAAAAAAAAAAAAAAAAAAAAAAAAAAAAAAAAAAAAAAAAAAAAAAAAAA/v8AAAAAAAAAAAAAAAD+/wAAAAAAAAAAAAAAAAAAAAAAAAAAAAAAAAAAAAAAAAAAAAAAAAAAAAAAAAAAAAAAAAAAAAAAAAAAAAAAAAAAAAAAAAAAAAAAAAAAAAD+/wAAAAAAAAAAAAAAAAAAAAAAAAAAAAAAAAAAAAAAAAAAAAAAAAAAAAAAAAAAAAAAAAAAAAAAAAAAAAAAAAAAAAAAAAAAAAAAAAAA/v8AAAAAAAAAAAAAAAAAAAAAAAAAAAAAAAAAAAAAAAAAAAAAAAAAAAAAAAAAAAAAAAAAAAAAAAAAAAAAAAAAAAAAAAAAAAAA/v8AAAAAAAAAAAAAAAAAAAAAAAAAAAAAAAAAAAAAAAD+/wAAAAAAAAAAAAAAAAAAAAAAAAAAAAAAAAAAAAAAAAIAAAAAAAAAAAAAAAAAAAAAAAAAAAAAAAAAAAD+/wAA/v8AAAAAAAAAAAAAAAAAAAAAAAAAAAAAAAAAAAAAAAAAAAAAAAAAAAAAAAAAAAAAAAAAAAAAAAAAAP7/AAAAAAAAAAAAAAAAAAAAAAAAAAAAAAAAAgAAAAAAAAAAAAAAAAAAAAAAAAAAAAIAAAAAAAAAAAAAAAAAAAAAAAAAAAAAAAAAAAAAAAAAAAD+/wAAAAAAAAAA/v8AAAAAAAAAAAAAAAAAAAAAAAAAAAAAAAAAAAAAAAAAAAAAAAAAAAAAAAAAAAIAAAAAAAAAAAAAAAAAAAAAAAAAAAAAAAAAAAAAAAAAAAAAAAAAAAAAAAAAAAAAAAAAAAAAAAAAAAAAAAAAAAAAAAAAAAAAAAAAAAAAAAAAAAAAAAAAAAAAAAAAAAAAAAAAAAAAAAAAAAAAAAAAAAAAAAAAAAAAAAAAAAAAAAAAAAAAAAAAAAAAAAAAAAAAAAAAAAAAAAAAAAACAAAAAAAAAAAAAAAAAAAAAAAAAAAAAAAAAAAAAAAAAAAAAgAAAAAAAAAAAAAAAAAAAAAAAAAAAAAAAAAAAAAAAAAAAAAAAAAAAAAAAAAAAAAAAAAAAAAAAAAAAAAAAAAAAAAAAAAAAAAAAAAAAAAAAAAAAAAAAAAAAAAAAAAAAAAAAAAAAAAAAAAAAAAAAgAAAAAAAAAAAAAAAAAAAAAAAAAAAAAAAAAAAAIAAAAAAAAAAAAAAAAAAAAAAAAAAAAAAAAAAAAAAAIAAAAAAAAAAAAAAAAAAAAAAAAAAAAAAAAAAAAAAAAAAAAAAAAAAAAAAP7/AAAAAAAAAAAAAAAAAAAAAAAAAAAAAAAAAAAAAAAAAAAAAAAAAAACAAAAAAAAAAAAAAAAAAAAAAAAAAAAAAAAAAAAAAAAAAAAAAAAAAAAAAAAAAAAAAAAAAAAAgAAAAAAAAAAAAAAAAAAAAAAAAAAAAAAAAAAAAAAAAAAAAAAAAAAAAAAAAAAAAAAAAAAAAAAAAAAAAAAAAAAAAAAAAAAAAAAAAACAAAAAAD+/wAAAAAAAAAAAAAAAAAAAAAAAAAAAAAAAAAAAAAAAAAAAAAAAAAAAAAAAAAAAAAAAAAAAAAAAAAAAAAAAAAAAAAAAP7/AAAAAAAAAAAAAAAAAAAAAAAAAAAAAAAAAAAAAAAAAAAAAAAAAAAAAAAAAAACAAAAAAD+/wAAAAAAAAAAAAAAAAAAAAAAAAAAAAAAAP7/AAAAAAAAAAAAAAAAAAAAAAAAAAAAAAAAAAAAAAAAAAAAAAAAAAAAAAAAAAAAAAAAAAAAAAAAAAAAAAAAAAAAAAAAAAAAAAAAAAAAAAAAAAAAAAAAAgAAAAAAAAAAAAAAAAAAAAAAAAAAAAAAAAAAAAAAAAAAAAAAAAACAAAAAAAAAAAAAAAAAAAAAAAAAAAA/v8AAAAAAAAAAAAAAAAAAAAAAAAAAAAAAAAAAAAAAAAAAAAAAAAAAAAAAAD+/wAAAAAAAAAAAAD+//7/AAAAAAAAAAAAAAAAAAAAAAAAAAAAAAAAAAAAAAAAAAAAAAAAAAAAAAAAAAAAAAAAAAAAAAAAAAACAAAAAAAAAAAAAAAAAAAAAAAAAAAAAAAAAAAAAAAAAAAAAAAAAAAAAAAAAAAAAAD+/wAAAAAAAAAAAAAAAAAAAAAAAAAAAAAAAAAAAAAAAAAAAAAAAAAAAAAAAAAAAAAAAAAAAAAAAAAAAAAAAAAAAAAAAAAAAAAAAAAAAAAAAAAAAAAAAAAAAgAAAAAAAAAAAAAAAAAAAAAAAAAAAAAAAAAAAAAAAAAAAAAAAAAAAAAA/v8AAAAAAAAAAAAAAAAAAAAAAAAAAAAAAAAAAAAAAAAAAAAAAAAAAAAAAAAAAAAAAAAAAAAAAAAAAAAAAAAAAAAAAAAAAAAAAAAAAAAAAAAAAAAA/v8AAAAAAAAAAAAAAAAAAAAAAAAAAAAAAgAAAAAAAAAAAP7/AAAAAAAAAAAAAAAAAAAAAAAAAAAAAP7/AAAAAAAAAAAAAAAAAAAAAAAAAAAAAAAAAAAAAAIAAAAAAAAAAAAAAAAAAAAAAAAAAAAAAAAAAAAAAAAAAAAAAAAAAAAAAAAAAAAAAAAAAAAAAAAAAAAAAAAAAAAAAAAAAAAAAAAAAAAAAAAAAAAAAAAAAAAAAAAAAAAAAAAAAAAAAAAAAAAAAAAAAAAAAAAAAAAAAAAAAAAAAAAAAAAAAAAAAAAAAAAAAAAAAAAAAAAAAAAAAAAAAAAAAAAAAAAAAAAAAAAA/v8AAAAAAAAAAAAAAAACAAAAAAAAAAAAAAACAAAAAAAAAAAAAAAAAAAAAAAAAAIAAAAAAAAAAAAAAAAAAAAAAAAAAAAAAAAAAAAAAAAAAAAAAAAAAAAAAAAAAAAAAAAAAAAAAAAAAAAAAAAAAAAAAAAAAAAAAAIAAAAAAAAAAAAAAAAAAAAAAAAAAAAAAAAAAAAAAAAAAAAAAAAAAAAAAAAAAAAAAAAAAAAAAAAAAAAAAAAAAAAAAAAAAAAAAAAAAAAAAAAA/v8AAAAAAAAAAAAAAAAAAAAAAAAAAAAAAAAAAAAAAgAAAAAAAAAAAAAAAAAAAAAAAAAAAAAAAAAAAAAAAAAAAAAAAAAAAAAAAAAAAAAAAAAAAAAAAAAAAAAAAAAAAAAAAAAAAAAAAgAAAAAAAAAAAAAAAAAAAAAAAAAAAAAAAAAAAAAAAAD+/wAAAAAAAAAAAAAAAAAAAAAAAP7/AAAAAAAAAAAAAAAAAAAAAAAAAAAAAAAAAAAAAAAAAAAAAAAAAAAAAP7/AAAAAAAAAAAAAAAAAAAAAAAAAAAAAAAAAAAAAAAAAAAAAAAAAAAAAAAAAAAAAAAAAAAAAAAAAAAAAAAAAAAAAAAAAAAAAAAAAAAAAAAAAAAAAAAAAAAAAAAA/v8AAAAAAAAAAAAAAAAAAAAAAAAAAAAAAAAAAAAAAAAAAAAAAAAAAAAAAAAAAAAAAAAAAAAAAAAAAAAAAAAAAAAAAAAAAAAAAAAAAAAAAAAAAAAAAAAAAAAAAAAAAAAAAAAAAAAAAAAAAAAAAAAAAAAAAAAAAAAAAAAAAAAAAAAAAAAAAAAAAAAAAAD+/wAAAAAAAAAAAAAAAAAAAAAAAAAAAAAAAP7/AAAAAAAAAAAAAAAAAAAAAAAAAAD+/wAAAAAAAAAAAAAAAAAAAAAAAAAAAAAAAP7/AAAAAAAAAAAAAP7/AAAAAAAAAAAAAAAAAAAAAAAAAAAAAAAAAAAAAAAAAAAAAAAAAAAAAAAAAAAAAAAAAAAAAAAAAAAAAAAAAAAAAAAAAAAAAAAAAAAAAAAAAAAAAAAAAAAAAAAAAAAAAAAAAAAAAAAAAAAAAAAAAAAAAAAAAAAAAAAAAAAAAAAAAAAAAAAAAAAAAAAAAAAAAAAAAAAAAAAAAAAAAAAAAAAAAAAAAAAAAAAAAAAAAAAAAAAAAAAAAAAAAAAAAAAAAAAAAAAAAAAAAAAAAAAAAAAAAAAAAAAAAAAAAAAAAAAA/v8AAAAAAAAAAAAAAAAAAAIAAAAAAAAAAAAAAAAAAAAAAAAAAAAAAAAAAAAAAAAAAAAAAAAAAAAAAAAAAAAAAAAAAAAAAAAAAAAAAAAAAAAAAAAAAAAAAAAAAAAAAAAAAAAAAAAAAAAAAAAAAAAAAAAAAAAAAAAAAAAAAAAAAAACAAAAAAAAAAAAAAAAAAAAAAAAAAAAAAD+/wAAAAAAAAAAAAAAAAAAAAAAAAAAAAAAAAAAAgAAAAAAAAAAAAAAAAAAAAAAAAAAAAAAAAAAAAAAAAAAAAAA/v8AAAAAAAAAAAAAAAAAAAAAAgAAAAAAAAAAAP7/AAAAAAAAAAAAAAAAAAAAAAAAAAAAAAAAAAAAAAAAAAAAAAAAAAAAAAAAAAAAAAAAAAAAAAAAAAAAAAAAAAAAAAAAAAAAAAAAAAAAAAAAAAAAAAAAAAAAAAAAAAAAAAAAAAAAAAAAAAAAAAAAAAAAAAAAAAAAAAAAAAAAAAAAAAAAAAAA/v8AAAAAAAAAAAAAAAAAAAAAAAAAAAAAAAAAAAAAAAAAAAAAAAAAAAAAAAAAAAAAAAAAAAAAAAAAAAAAAAAAAAAAAAAAAAAAAAAAAAAAAAAAAAAAAAAAAAAAAAAAAAAAAAAAAAAAAAAAAAAAAAAAAAAAAAAAAAAAAgAAAAAAAAAAAAAAAAAAAAAAAAAAAAAAAAAAAAAAAAAAAAAAAAAAAAAAAAAAAAAAAAAAAAAAAAAAAAAAAAAAAAAAAAAAAAAAAAAAAAAAAAAAAAAAAAAAAAAAAAAAAAAAAAAAAAAAAAAAAAAAAAAAAAAAAAAAAAAAAAAAAAAAAAAAAAAAAAAAAAAAAAAAAAAAAAAAAAAAAAAAAAIAAAACAAAAAAAAAAAAAAAAAAAAAAAAAAAAAAAAAAAAAAAAAAAAAAAAAAAAAAAAAAAAAAAAAAAAAAAAAAAAAAAAAAAAAAAAAAAAAAAAAAIAAAAAAAAAAAAAAP7/AAAAAAAAAAACAAAAAAAAAAAAAAAAAAAAAAAAAAAAAAAAAP7/AAAAAAAAAAAAAAAAAAAAAAAAAAAAAAAAAAD+/wAAAAAAAAAAAAAAAAAAAgAAAAAAAAACAAAAAAAAAAAAAAAAAAAAAAAAAAAAAAAAAAAAAAAAAAAAAAAAAP7/AAAAAAAAAAAAAAAAAAAAAAAAAAAAAAAAAAAAAAAAAAAAAAAAAAAAAAAAAAAAAAAAAAAAAAAAAAAAAAAAAAAAAAAAAAAAAAAAAAAAAAAAAAAAAAAAAAAAAAAAAAAAAAAAAAAAAAAAAAAAAAAAAAAAAAAAAAAAAAAAAAAAAAAAAAAAAAAAAAAAAAAAAAAAAAAAAAAAAAAAAAAAAAAAAAAAAAAAAAAAAAAAAAAAAAAAAAAAAAAAAAAAAAAAAAAAAAAAAAAAAAAAAAAAAAAAAAAAAAAAAAAAAAAAAAAAAAAAAAAAAAAAAAAAAAAAAAAAAAAAAAAAAAAAAAAAAAAAAAAAAAAAAAAAAAAAAAAAAAAAAAAAAAAAAAAAAAAAAAAAAAAAAAAAAAAAAAAAAAAAAAAAAAAAAAAAAAAAAAAAAAAAAAAAAAAAAAAAAAAAAAAAAAAAAAAAAAAAAAAAAAAAAgAAAAAAAAAAAAAAAAAAAAAAAAAAAAAAAAAAAAAAAAAAAAAAAAAAAAAAAgAAAAAAAAAAAAAAAAD+/wAAAAAAAAAAAAAAAAAAAAAAAAAAAAAAAAAAAAAAAAAAAAAAAAAAAAAAAAAAAAAAAAAAAAAAAAAAAAAAAAAAAAAAAAAAAAAAAAAAAAAAAAAAAAAAAAAAAAAAAAAAAAAAAAAAAAAAAAAAAAACAAAAAAAAAAAAAAAAAAAAAAAAAP7/AAAAAAAAAAAAAAAA/v8AAAAAAAAAAAAAAAAAAAAAAAAAAAAAAAAAAAAAAAAAAAAAAAAAAAAAAAAAAAAAAAAAAAAAAgAAAAAAAAAAAAAAAAAAAAAAAAAAAAAAAAAAAAAAAAAAAAAAAAAAAAAAAAAAAAAAAAAAAAAAAAACAAAAAAAAAAAAAAAAAAAAAAAAAAAAAAAAAAAAAAAAAAAAAAAAAAAAAAAAAAAAAAAAAAAAAAAAAAAAAAAAAAAAAAAAAAAAAAAAAAAAAAAAAAAAAAAAAAAAAAAAAAAAAAAAAAAAAAAAAAAAAAAAAAAAAAAAAP7/AAAAAAAAAAAAAAAAAAAAAAAAAAAAAAIAAAAAAAAAAAAAAAAAAAAAAAAAAAAAAAAAAAAAAAAAAAAAAAAAAAAAAAAAAAAAAAAA/v8AAAIAAAAAAAAAAAAAAAAAAAAAAAAAAAACAAAAAAAAAAAAAAAAAAAAAAAAAAAAAAAAAAAAAAAAAAAAAAAAAAAAAAAAAAAAAAAAAAAAAAAAAAAAAAAAAAAAAAAAAAAAAAAAAAAAAAAAAAAAAAACAAAAAAAAAAAAAAAAAAIAAgAAAAAAAAAAAAAAAAAAAAAAAAAAAAAAAAAAAAAAAAAAAAAAAAAAAAAAAAAAAAAAAAAAAAAAAAAAAAAAAAAAAAAAAAAAAAAAAAD+/wAAAAAAAAAAAAAAAAAAAAAAAAAAAAAAAAAAAAAAAAAAAAAAAAAAAAAAAAAAAAAAAAAAAAAAAAAAAAAAAAAAAAAAAAAAAAAAAAAAAAAAAAAA/v8AAAAAAAAAAAAAAAAAAAAAAAAAAAAAAAAAAAAAAAAAAAAAAAD+/wAAAAAAAAAAAAAAAAAAAAAAAAAAAAAAAAAAAAAAAAAAAAAAAAAAAAAAAAAAAAAAAAAAAAAAAAAAAAAAAAAAAAAAAAAAAAAAAAAAAAAAAAAAAAAAAAAAAAAAAAAAAAAAAAAAAAAAAAAAAAAAAAAAAAAAAAAAAAAAAAAAAAAAAAAAAAAAAAAAAAAAAAAAAAAAAP7/AAAAAAAAAAAAAAAAAAAAAAAAAAAAAAAAAAAAAAAAAAAAAAAAAAAAAAAAAAAAAAAAAAAAAAAAAAAAAAAAAAAAAAIAAAAAAAAAAAAAAAAAAAAAAAAAAAAAAAAAAAAAAAAAAAAAAAAAAgAAAAAAAAAAAAAAAAAAAAAAAAAAAAAAAAAAAAAAAAAAAAAAAAAAAAAAAAAAAP7/AAAAAAAAAAAAAAAA/v8AAAAAAAAAAAAAAAAAAAAAAAAAAAAAAAAAAAAAAAAAAAAAAAAAAAAAAAAAAAAAAAAAAAAAAAAAAAAAAAAAAAAAAAAAAAAAAAAAAAAAAAAAAAAAAAAAAAAAAAAAAAAAAAAAAAAAAAAAAAAAAAAAAAAAAAAAAAAAAAAAAAAAAAAAAAAAAAAAAAAAAAAAAAAAAAAAAAAAAAAAAAAAAAAAAAAAAAAAAAAAAAAAAAAAAAAAAAAAAAAAAAAAAAD+/wAA/v8AAAAAAAAAAAAAAAAAAAAAAAD+/wAAAAAAAAAAAAAAAAAAAAAAAAAAAAAAAAAAAAAAAAAAAAAAAAAAAAAAAAAAAAAAAAAAAgAAAAAAAAAAAAAAAAAAAAAAAAAAAAAAAAAAAAAAAAAAAAAAAAACAAAAAAAAAAAAAAAAAAAAAAAAAAAAAAAAAAAAAAAAAAAAAAAAAAAAAAAAAAAAAAAAAAAAAgAAAAAAAAAAAAAAAAAAAAAAAAAAAAAAAAAAAAIAAAAAAAAAAAAAAAAAAAAAAAAAAAAAAAAAAAAAAAAAAAAAAAAAAAAAAAAAAAAAAAAAAAAAAAAAAAAAAAAAAAAAAAAAAAAAAAAAAAAAAAAA/v8AAAAAAAAAAAAAAAAAAAAAAAAAAAAAAAAAAAAAAAAAAAAAAAAAAAAAAAAAAAAAAAAAAAAAAAAAAAAAAAD+/wAAAAAAAAAAAAAAAAAAAAAAAAAAAAAAAAAAAAACAAAAAAAAAAAAAAAAAAAAAAAAAAAAAAAAAAAAAAAAAAAAAAAAAAAAAAAAAAAAAAAAAAAAAAAAAAAAAAAAAAAAAAAAAAAAAAACAAAAAAAAAAAAAAAAAAAAAAAAAP7/AAAAAAAAAAAAAAAAAAAAAAAAAAAAAAAAAAAAAAAAAAAAAP7/AAAAAAAAAAAAAAAAAAAAAAAAAAAAAAAAAAAAAAAAAAAAAAAAAAAAAAAAAAAAAP7/AAAAAAAAAAAAAAAAAAAAAAAAAAAAAAAAAAAAAAAAAAAAAAAAAAAAAAAAAAAAAAAAAAAAAAAAAAAAAAAAAAAAAAAAAAAAAAAAAAAAAAAAAAAAAAAAAAAAAAAAAAAAAAAAAAAAAAAAAAAAAAAAAAAAAAAAAAAAAAAAAAAAAAAAAAAAAAAAAAAAAAAAAAAAAAAAAAAAAAAAAAAAAAAAAAAAAAAAAAAAAAAAAAAAAAAAAAACAAAAAAAAAAAAAAACAAAAAAAAAAAAAAAAAAAAAAAAAAAAAAAAAAAAAAAAAAAAAAAAAAAAAAAAAAAAAAAAAAAAAAAAAAAAAAD+/wAAAAAAAAAAAAAAAAAAAAAAAAAAAAAAAAAAAAAAAAAAAAAAAAAAAAAAAAAAAAAAAAAAAAD+/wAAAAAAAAAAAAAAAAAAAAAAAAAAAAAAAAAAAAAAAAAAAAAAAAAAAAAAAAAAAAAAAAAAAAAAAAAAAAAAAAAAAAAAAAAAAAAAAAAAAAD+/wAAAAAAAAAAAAAAAAAAAAAAAAAAAAAAAAAAAAAAAAAAAAAAAAAAAAAAAAAAAAAAAAIAAAAAAAAAAAACAAAAAAAAAP7/AAAAAAAAAAAAAAAAAAAAAAAAAAAAAAAAAAAAAAAAAAAAAAAAAAAAAAAAAAAAAAAAAAAAAAAAAAAAAAAAAAAAAAAAAAAAAAIAAAAAAAAAAAAAAAAAAAAAAAAAAAAAAAAAAAAAAAAAAAAAAAAAAAAAAAAAAAAAAAAAAAD+/wAAAAAAAAAAAAAAAAAAAAAAAAAAAAAAAP7/AAAAAAAAAAAAAAAAAAAAAAAAAAAAAAAAAAAAAAAAAAAAAAAAAAAAAAAAAAAAAAAA/v8AAAAAAAAAAAAAAAAAAAAAAAAAAAAAAAAAAAAAAAAAAAAAAAAAAAAAAAAAAAAAAAAAAAAAAAAAAAAAAAAAAAAAAAAAAAAAAAAAAAAA/v8AAAAAAAAAAAAAAAAAAAAAAAAAAAAAAAAAAAAAAAAAAAAAAAAAAAAAAAAAAAAAAAAAAAAAAAAAAAAAAAAAAAAAAAAAAAAAAAAAAAAAAAD+/wAAAAAAAAAAAAAAAAAAAAAAAAAAAAAAAAAAAAAAAAAAAAAAAAAAAAAAAAAAAAAAAAAAAAAAAAAAAAAAAAAAAAAAAP7/AAAAAAAAAAAAAAAAAgAAAAAAAAAAAAAAAAAAAAAAAAAAAAAAAAAAAAAAAAAAAAAAAAACAAAAAAAAAAAAAAAAAAAAAAACAAAAAAAAAAAAAAAAAAAAAAAAAAAAAAAAAAAAAAAAAAAAAAAAAAAAAAAAAAAA/v8AAAAAAAAAAAAAAAAAAAAAAAAAAAAAAAAAAAAAAAAAAAAAAAAAAAAAAAAAAAIAAAAAAAAAAAAAAAAAAAAAAAAAAAAAAAAAAgAAAAAAAAAAAAAAAAAAAAAA/v8AAAAAAAAAAAAAAAAAAAAAAAAAAAAAAAAAAAAAAAAAAAAAAgAAAAAAAAAAAAAAAAAAAAAAAAAAAAAAAAAAAAAAAAAAAAAAAAAAAAAAAAAAAAAAAAAAAAIAAAAAAAAAAAD+/wAAAAAAAAAAAAAAAAAAAAAAAAAAAAAAAAAAAAAAAAAAAAAAAAAAAAAAAAAAAAAAAAAAAAAAAAAAAAAAAAAAAAAAAAAAAAAAAAAAAAAAAAAAAAAAAAAAAAAAAAAAAAAAAAAAAAAAAAAAAAAAAAAAAAAAAAAAAAAAAAAAAAACAAAAAAAAAAAAAAAAAAAAAAAAAAAAAAAAAAAAAAAAAAAAAAAAAAAAAAAAAAAAAAAAAAAAAAAAAAAAAAAAAAAAAAAAAAAAAAAAAAAAAAAAAAAAAAAAAAAAAAAAAAAAAAAAAAAAAAAAAAAAAAAAAAAAAAAAAAAAAAAAAAAAAgAAAAAAAAAAAAAAAAAAAAAAAAAAAAIAAAAAAAAAAAAAAAAAAAD+/wAAAAAAAAAAAAAAAAAAAAAAAAAAAAAAAAAAAAAAAAAAAAAAAAAAAAAAAAAAAgAAAAAAAAAAAAAAAAAAAAAAAAAAAAAA/v8AAAAAAAAAAAAAAAAAAAAAAAAAAAAAAAAAAAAAAAAAAAAAAAAAAAAAAAAAAAAAAAAAAAAAAAAAAAAAAgAAAAAAAAAAAAAAAAAAAAAAAAAAAAAAAAAAAAAAAAAAAAAAAAAAAAAAAAAAAAAAAAAAAAAAAAAAAAAAAAAAAAAAAAAAAAAAAAAAAAAAAAAAAAAAAAAAAAAAAAAAAAAAAAAAAAAAAAAAAAAAAAAAAAAAAAAAAAAAAAAAAAAAAAAAAAAAAAAAAAAAAAAAAAAAAAAAAAAAAAAAAAAAAAAAAAAAAAAAAAAAAAAAAAAAAAAAAAAAAAAAAAAAAAAAAAAAAAAAAAAAAAAAAAAAAAAAAAAAAAAAAAAAAAAAAAAAAAAAAAAAAAAAAAAAAAAAAAAAAAAAAAAAAAAAAAAAAAAAAAAAAAAAAAAAAAAAAAAAAAAAAAAAAAAAAAAAAAAAAAAAAAAAAAAAAAAAAAAAAAAAAAAAAAAAAAAAAAAAAAAAAAAAAAAAAAAAAAAAAAAAAAAAAAAAAAAAAAAAAAAAAAAAAAAAAAAAAAAAAAAAAAAAAAAAAAAAAAACAAAAAAAAAAAAAAD+/wAAAAAAAAAAAAAAAAAAAAAAAAAA/v8AAAAAAAAAAAAAAAAAAAAAAAAAAAAAAAAAAAAAAAAAAAAAAAAAAAAAAAAAAAAAAAAAAAAAAAAAAAAAAAAAAAAAAAAAAAAAAAAAAAAAAgAAAAAAAAAAAAAAAAAAAAAAAAAAAAAAAAAAAAAAAAAAAAAAAAAAAAAAAAAAAAAAAAAAAAAAAAAAAAAAAAAAAAAAAAD+/wAAAAAAAAAAAAAAAP7/AAAAAAAAAAAAAAAAAAAAAAAAAAAAAAAAAAAAAAAAAAAAAAAAAAAAAAAAAAAAAAAAAAAAAAAAAAAAAAAAAAAAAAAAAAAAAAAAAAAAAP7/AAAAAAAAAAAAAAAAAAAAAAAAAAAAAAAAAAAAAAAAAAAAAAAAAAAAAAAAAAAAAAAAAAAAAAAAAAAAAAAAAAAAAAAAAAAAAAAAAAD+/wAAAAAAAAAAAAAAAAAAAAAAAAAAAAAAAAAAAAAAAAAAAAAAAAAAAAAAAAAAAAAAAAAAAAAAAAAAAAAAAAAAAAAAAAAAAAD+/wAAAAAAAAAAAAAAAAAAAAAAAAAAAAAAAAAAAAAAAP7/AAAAAAAAAAAAAAAAAAAAAAAAAAAAAAAAAAAAAAAAAgAAAAAAAAAAAAAAAAAAAAAAAAAAAAAAAAAAAP7/AAD+/wAAAAAAAAAAAAAAAAAAAAAAAAAAAAAAAAAAAAAAAAAAAAAAAAAAAAAAAAAAAAAAAAAAAAAAAAAA/v8AAAAAAAAAAAAAAAAAAAAAAAAAAAAAAAACAAAAAAAAAAAAAAAAAAAAAAAAAAAAAgAAAAAAAAAAAAAAAAAAAAAAAAAAAAAAAAAAAAAAAAAAAP7/AAAAAAAAAAD+/wAAAAAAAAAAAAAAAAAAAAAAAAAAAAAAAAAAAAAAAAAAAAAAAAAAAAAAAAAAAgAAAAAAAAAAAAAAAAAAAAAAAAAAAAAAAAAAAAAAAAAAAAAAAAAAAAAAAAAAAAAAAAAAAAAAAAAAAAAAAAAAAAAAAAAAAAAAAAAAAAAAAAAAAAAAAAAAAAAAAAAAAAAAAAAAAAAAAAAAAAAAAAAAAAAAAAAAAAAAAAAAAAAAAAAAAAAAAAAAAAAAAAAAAAAAAAAAAAAAAAAAAAIAAAAAAAAAAAAAAAAAAAAAAAAAAAAAAAAAAAAAAAAAAAACAAAAAAAAAAAAAAAAAAAAAAAAAAAAAAAAAAAAAAAAAAAAAAAAAAAAAAAAAAAAAAAAAAAAAAAAAAAAAAAAAAAAAAAAAAAAAAAAAAAAAAAAAAAAAAAAAAAAAAAAAAAAAAAAAAAAAAAAAAAAAAACAAAAAAAAAAAAAAAAAAAAAAAAAAAAAAAAAAAAAgAAAAAAAAAAAAAAAAAAAAAAAAAAAAAAAAAAAAAAAgAAAAAAAAAAAAAAAAAAAAAAAAAAAAAAAAAAAAAAAAAAAAAAAAAAAAAA/v8AAAAAAAAAAAAAAAAAAAAAAAAAAAAAAAAAAAAAAAAAAAAAAAAAAAIAAAAAAAAAAAAAAAAAAAAAAAAAAAAAAAAAAAAAAAAAAAAAAAAAAAAAAAAAAAAAAAAAAAACAAAAAAAAAAAAAAAAAAAAAAAAAAAAAAAAAAAAAAAAAAAAAAAAAAAAAAAAAAAAAAAAAAAAAAAAAAAAAAAAAAAAAAAAAAAAAAAAAAIAAAAAAP7/AAAAAAAAAAAAAAAAAAAAAAAAAAAAAAAAAAAAAAAAAAAAAAAAAAAAAAAAAAAAAAAAAAAAAAAAAAAAAAAAAAAAAAAA/v8AAAAAAAAAAAAAAAAAAAAAAAAAAAAAAAAAAAAAAAAAAAAAAAAAAAAAAAAAAAIAAAAAAP7/AAAAAAAAAAAAAAAAAAAAAAAAAAAAAAAA/v8AAAAAAAAAAAAAAAAAAAAAAAAAAAAAAAAAAAAAAAAAAAAAAAAAAAAAAAAAAAAAAAAAAAAAAAAAAAAAAAAAAAAAAAAAAAAAAAAAAAAAAAAAAAAAAAACAAAAAAAAAAAAAAAAAAAAAAAAAAAAAAAAAAAAAAAAAAAAAAAAAAIAAAAAAAAAAAAAAAAAAAAAAAAAAAD+/wAAAAAAAAAAAAAAAAAAAAAAAAAAAAAAAAAAAAAAAAAAAAAAAAAAAAAAAP7/AAAAAAAAAAAAAP7//v8AAAAAAAAAAAAAAAAAAAAAAAAAAAAAAAAAAAAAAAAAAAAAAAAAAAAAAAAAAAAAAAAAAAAAAAAAAAIAAAAAAAAAAAAAAAAAAAAAAAAAAAAAAAAAAAAAAAAAAAAAAAAAAAAAAAAAAAAAAP7/AAAAAAAAAAAAAAAAAAAAAAAAAAAAAAAAAAAAAAAAAAAAAAAAAAAAAAAAAAAAAAAAAAAAAAAAAAAAAAAAAAAAAAAAAAAAAAAAAAAAAAAAAAAAAAAAAAACAAAAAAAAAAAAAAAAAAAAAAAAAAAAAAAAAAAAAAAAAAAAAAAAAAAAAAD+/wAAAAAAAAAAAAAAAAAAAAAAAAAAAAAAAAAAAAAAAAAAAAAAAAAAAAAAAAAAAAAAAAAAAAAAAAAAAAAAAAAAAAAAAAAAAAAAAAAAAAAAAAAAAAD+/wAAAAAAAAAAAAAAAAAAAAAAAAAAAAACAAAAAAAAAAAA/v8AAAAAAAAAAAAAAAAAAAAAAAAAAAAA/v8AAAAAAAAAAAAAAAAAAAAAAAAAAAAAAAAAAAAAAgAAAAAAAAAAAAAAAAAAAAAAAAAAAAAAAAAAAAAAAAAAAAAAAAAAAAAAAAAAAAAAAAAAAAAAAAAAAAAAAAAAAAAAAAAAAAAAAAAAAAAAAAAAAAAAAAAAAAAAAAAAAAAAAAAAAAAAAAAAAAAAAAAAAAAAAAAAAAAAAAAAAAAAAAAAAAAAAAAAAAAAAAAAAAAAAAAAAAAAAAAAAAAAAAAAAAAAAAAAAAAAAAD+/wAAAAAAAAAAAAAAAAIAAAAAAAAAAAAAAAIAAAAAAAAAAAAAAAAAAAAAAAAAAgAAAAAAAAAAAAAAAAAAAAAAAAAAAAAAAAAAAAAAAAAAAAAAAAAAAAAAAAAAAAAAAAAAAAAAAAAAAAAAAAAAAAAAAAAAAAAAAgAAAAAAAAAAAAAAAAAAAAAAAAAAAAAAAAAAAAAAAAAAAAAAAAAAAAAAAAAAAAAAAAAAAAAAAAAAAAAAAAAAAAAAAAAAAAAAAAAAAAAAAAD+/wAAAAAAAAAAAAAAAAAAAAAAAAAAAAAAAAAAAAACAAAAAAAAAAAAAAAAAAAAAAAAAAAAAAAAAAAAAAAAAAAAAAAAAAAAAAAAAAAAAAAAAAAAAAAAAAAAAAAAAAAAAAAAAAAAAAACAAAAAAAAAAAAAAAAAAAAAAAAAAAAAAAAAAAAAAAAAP7/AAAAAAAAAAAAAAAAAAAAAAAA/v8AAAAAAAAAAAAAAAAAAAAAAAAAAAAAAAAAAAAAAAAAAAAAAAAAAAAA/v8AAAAAAAAAAAAAAAAAAAAAAAAAAAAAAAACAAAAAAAAAAAAAAACAAAAAgAAAAAAAAACACYA8v/S/wgALAALAAIAAgAFAPj/FAAgAAgABQDp/wsAIwAgAAAA+P8UAAAA+//7/xcACwDy//L/CAAgAAgAAgDy//X/CwAUAPj/7P/4/wUABQAUAAgA4//m/wUAFAAFAO//4/8AAA4ADgDm/+P/FAAdAPj/3f8IAA4A+P/4/xEA+P/m/wsAGgAIAAgACADy/+n/9f8CAAUAAAD+/wsAHQD+/wUAIwAUAPL/1//m/xoALAAAAPL/5v8OACkAAADj//j/CAAXAAIA9f8FAAUAAAAOACAAIAALAAAAIwAXAO//7P8IABoAJgAFAOD/8v8dAAUA6f8IAAgA+/8FABQABQD4//v/AgAIAAAA+//+/+P/+/8OABEA+//v//j/BQARAN3/3f/j//L/BQDy//v/9f/7//X/+/8LAA4A8v/m/yMA5v/P/wIABQDs/9f/7/8AAAAA/v8IAPX/6f8AABcAAgDM/+P//v/+//j/6f/+/xQADgD4/w4ACAALAPL/7P8AAPv/IwAIAAAABQACAAUA/v/4//X/+P8CABcA+P/s//v/CwDp//L/CAD+/xQA/v/m//7/GgAOAPL/+/8dABoA7//1/wgAFwD1//v/FAAFABEAIAAaAO//+P8pABoA8v/4/yYAIwAAAAAAEQARAAsACwACABEAIAAIAA4AFAAaAAAAAgACAB0AIwAAABEA/v/7//j//v/v//L/AAAUAPj/0v/d/wIAFwDU/93/9f/m/+b/7/8IAPL/2v/+/wIAAAD1/+z/1//X/wgA9f/7/wUADgAAAOb/9f8CAAgA+/8CAA4AIAACAAgAAgD1/w4AJgAAANT/AAAmAA4ACwARAP7/BQARABEAFwD4/+z/CwARABEAAAD1/+//CwAmAAAA1P/7/wgACwAdAO//6f8RABcA7P8IAPv/8v8aAAIAAgDy/wgAAADv/xQADgD+/+b/9f8CABcACwDj/+b/AAD4/w4A+//s/w4A9f8OAP7/+//1/wAA6f/S/wIABQAIAAsA9f/+/+z/4/8UAAsA4//U/+b/AAAAAP7/BQDj/9L/7P8LAAsABQD+/+b/CAAOABoADgDS//L/DgALAAsACAAaAC4ADgAIAPL/7/8aACAA+P/p/xEACwAIAAsABQD1/wUAFAAAAMz/6f8CAAgAIAD7/wsADgAIAA4A+P8CABEAAgD4/wgACwDj//v/AgAIAPv/7/8RAA4A+P/7/wUA7P8aABQAFAAAAPL/AAD1/xoA7//4/wUA8v8IAAgA/v/1/+//+/8IABoAJgDp/9r/DgA6AB0A7//y/wIAIwD4/wAAHQAIAP7/+/8FAP7/9f/j/+n/AgARAAsA9f/X/+n/CwAFAPj/0v/P/+//AgAdAAAA4//g/wIAIAAAAAsAFADv//7/JgAaAPL/+/8OACwACADy/wsAJgAdABQAGgDy/wIACwACAN3/+/8UAAAA7P/v/xcAGgACANT/DgApAPj/z//d/w4ACwDU/8z/4//+/xoA+//U/+b/AAALAAUA4//v//j/4//4//7/+P8OAPX/8v8CAA4AFwAXAAsAxv/7/yAAFADS/8z/DgAOAAgA1//s/yAAFwDp/+b/IAAXAOD/1//1/xoAEQAIAP7/DgAjAA4A+P8CAAUAJgAFAO//NAA6AAsA4//4/z0AOgAAAAUA8v8AAC4AIAAUAA4AJgA3ACAACwARACkADgAAABQAGgAAAAAALAAmAPv/9f/4/+//+//1//v/6f/U/9f//v8OAPv/3f+u/9T/3f/j/+//5v/X/9L/AgAIAOP/0v/G/8P/5v/j//j/8v/U/+P/DgAOAOD/5v/y//v/7P8FAO//1P8AAAUAHQD7/+b/AgAOAAgAHQAgAA4AJgAaABEADgAAAB0AGgAaAAgACwAmACwAIwAdADEAKQApACMAIwAUABEALAAdAAAAAgAFADoAFwDU//v/MQAOAOP/5v/j/w4A/v8IAAAA2v/S/9r/DgAUAPL/z//U/xQAAAACAPX/+P/y/9T/FwA3AA4A6f/4/+b/7P8AAAsA+//U//v/MQD1/9r/6f/j/wIAGgD+/8//z//1/wgAFwDm/+b/6f/1/wUA8v/s/+z/CAD1//7/FAAAANL/1P8RABcAz//X/wgAFwACAP7/AgAmACkA4//p/yMA/v/U/+z/AAAaAPX/AAA6ABQA/v8OABcA+P/7/zEADgDa/9f/HQBMAB0A/v8gACAACAAUACwAKQDp/9r/HQAdAA4AFAAmADEA+P8CACMACADv/xQAAADj//v/AgAAAPX/9f8LAP7/8v8RAA4A/v/v/wIA4P8AAPv//v/v/9T/9f8RACAA7//v//v/AAD7//X/5v/d//j/AgAdABoA7P8CAB0ABQDp/+///v8IAPv/4P/p/9r/CwARAPv/9f/g/+b/6f/m/wUA+/8CAAsA7//y/+n/CwAFAAIA7//y/wsABQAUAAsA/v/y/+b/8v/p//L/FwDs//7/JgD7/+n/+//1//j/4P/p/wgAHQAaAOb/6f80AEYA/v/X/+P/IwAgAPv/EQAdAAgALgAsACMAKQALACkAEQAIABQAGgAmAA4ACAAUABEAFAAIAP7/EQAOAO//5v/+/x0ABQDm//L//v8OAPL/yf/7//7/AAAUAPL/yf/m/wsAAgDm/9f/5v/U/9f/+P8CAP7/4P/p/x0A5v+j/wAAMQDg/8P/1/8CAAIA6f8LAPL/7/8RAOD/2v/J//L/BQDp/+D/2v8RAAUA6f/m/wAAJgAXAPj/4/8CADQAHQDp/+//GgAaAB0AEQAxAC4ALgAOAP7/LAAXACwAMQAaABcAHQAUABEAFwAAAOn/IwA9AB0A7/8RAB0A+P8RADcATAALANr/7/9AAEMA+P/s/xoAGgAOAAAA7/8dAAUA/v/7/xQAEQDd//v/AgARABEA/v8AAN3/EQAmAN3/4//m//j/8v/j/+z/3f/j/9f/4P8CAOn/zP/M/+P/AgDg/7r/5v/1/+P/9f8dAAIAxv/U/wgAIwAAAMz/7/8OAAIAAgD4//j/CwAAAO///v8aAAAAzP8LACAAEQDa/8///v8LAB0AEQDj/93/9f8OAOb/1/8AAPv/4P/j/wgA8v/4/+D/7P/m/wAA5v/U/wIA/v/y/9f/+/8XADcAAADJ/93/DgA3AAsA4P/X/0AATAALAA4ADgA3ABQAGgA9ADEACwDp/zEAWABDACYAAAAuAFUANAApADEAQABaAEAALAApADEATAAaAAsADgAxAB0A+/8CAAUABQDy/yAAFADp/6b/z/8CABQACADA/8n/2v/d/8P/uv/S/9L/z//U/8P/lP/M//X/7//U/5r/+/8LANT/uv+0/+//AAD1/wAABQALABEACAAXAAIA2v8AABcAGgAdAO//5v8RACMAEQD7//j/CAAIAA4ACwACAPj/BQApAAUA1//P/yAAHQDp//X//v/+//L/GgAIABQAAAD4/wsABQD7/+n/CAARAAIACAAOAPX/CwAOAAgA9f/m/x0APQAFANL/IwALAPv/NAAIANr/1/8pAEYAAgDP/+P/EQAdAAIA/v/y/8P/7P8gAP7/zP/j/+z/DgAOAOD/6f8LABcA7//+/wIAKQAUAAUADgAgAA4ACwALAA4AMQAXACwAIAD+//j/OgBVABcA4//X/zoATAALAN3/1P8sADQADgDg/+//GgD7/xEAFwD+/xoA3f/X/wgA+/8mAP7/7P8AAPX/+P/1/+//yf/P//j/AADJ/9f/AgALAPj/5v/U/+b/EQDU/8P/4//v/+P/+//v/9L/6f/y/wAA+P/4/wUA8v/P/wAAFwDp/8//+P8uACAA3f/M/xcAIADJ/+P/FwA0AAgAyf8OAC4AHQDy//L/AgDy/wUABQD+/wUA5v8RADEACAD7/+P/DgAgAB0A+//4/wIAIAA3ACAAEQApAC4AHQAUAP7/RgApAPv/FAA9AEYAGgD+/w4ALAAUADoAEQAIAAgAAgAxAP7/7//m//v/EQD+/wIA4//4/yYA6f/g/8D/xv8OAOn/7P/v/+b/5v/s/+D/z//j/+n/+//X/7T/6f8gANr/w//j/yAAMQDa/8//tP/+/y4A8v/U/9T/5v/1//7/9f/P/+D/LgApAP7/zP8CAEYADgD+/+D/AgA3ABcABQD+/yYACwAdACwALAAOAPX/LAAgABoA+/8XACMAIwAXACMASQAsAAsAEQAFAAIAIwAjAPL/9f8pACwAIAALAOb/9f8xAPj/1P/s/wAAIwAIALr/uv/v/+D/7P/g/9L/zP/A/9r/5v/+/8//xv/G/9r/7//p/wsA6f/S/9f/BQA3AB0A1/+0/wgANAAXAO//1/8RADEAEQAdABEA2v8RACYA+P/s/x0AHQAAAO//IwBSAAgAAAARACYA8v/1/x0ABQAAABEAQAAaAAAA9f8FACMALAAOAPj//v8IAD0APQAFAOP/AAApAC4ABQDd//v/HQAgAAgAz/8FADoA4/+3/93/CADs/9r/9f/m/+b/3f/s/9f/uv+3/73/5v/1/+n/yf/X/93/4/8UAPL/4//S/+b/FADp/+n/CwAaAB0AIwAaAA4A+/83AEwADgALADcARgAxAAgALABMAEAAAgD+/1UANwAaABcADgAdAFUAFwD+/wUAEQBJAP7/xv/s/yYA/v/v//L/+/8pAAgA1//a/w4AEQDU/8b/4//P//v/6f/X//X/8v8OAPv/zP/D/+P/7//v/8n/sf+o/9L/EQDv/8b/t//p//j/7//J/9f/2v/y/wUA6f/s//7//v8IAAIA6f8sABQA+/8CAC4ARgAOAPv/EQAuAEAA7//g/yMAPQA0APL/4P8mAC4AAADa/wIAHQALABcA/v/+/w4AJgD7//L/AgAUAAIADgDy/+P/HQAFAP7/+P8CABQALgA0APL/2v8AAEwANADd/+P/FABAACkAEQD7/wAALAA6ABcA+/8AACwACADg/wIADgAgABQA0v/j/ywA+//m//L/+P80AOD/zP/7/wgAFwDp/9f/AgD1//v/5v/g/w4AIwARANr/AgDg//v/HQD4/8//7/8OAO///v/U/6j/4/89AAgAzP/G/+b/EQD7/+b/2v/m/9f/+P/d/wsACAC9/+z/9f8aAAUA4//y/ykAJgDU/wIABQDv/xQAJgAIACwALAACAPL/AgA3ABQA6f8aADEACwAUAAsAGgAAABcAIwD7/wsAKQAUABcAGgAaAC4ACADD/9f/MQALANf/0v/a//X/9f/j/+D//v/7/8n/6f/m/9T/7//y//v/7P/v/9r/2v8FAAgABQDd/wgAIADy/+D/DgAaAPL/CAAjADcADgAIADEAFwApAAAAAAAaAO//BQALADoACwDp//7/QwA9ANT/AgA0ADEACwDj/ywAEQD7/xcAIwAsAPv/AAAOACkACAD+/93/BQAxAO//+P8LAB0AIwDv/+b/AgDa/9r/AAAOAAAA7//p/+n/BQAgANT/t//j//7/9f/P/8b/z//j/+n/xv/J/9f/pv+x/8z/1P/X/8z/uv/j/x0A9f/D/8b/z//1/wsACwDs/+z/FwAAABEANAAAAAUALAAjACMAAAAaACkAFwApAC4AJgAUADcANAAsAAsACAAxADoAJgDm/xQAQABAADoAAgD1/w4AMQAdAA4ACAD7/zcAJgAXAB0A8v8CAAgA9f8LAAsAFADs/+n/LAARABcADgAOAAIA7/8FACkA8v+0/+n/FAAsAAAAzP/a/xEA+//p/9f/uv/d/9r/5v/y/+D/8v/4/9f/o//1/zcA8v/S/wIACwALAA4ACAARAOn/AgALAA4AAADy/+z//v8xABQALADy/+b/FAAdAAsA3f/j/9r/7P/y/w4AAAD4//L/AAALAOn/3f/A/+b/AAD4/xEA/v/d//L/1//d/+z/4P/+//v/7//7/+z/8v8FAP7/DgA6ABEA+P/+//j/+P8aAEMAFwD7/wIAKQA3AAUA7/8XABEADgAuABEA6f/4/08AQAAAABoAFAAUABQA5v/g/xoAKQD4/wAAFwARAAUA8v/1/wsA/v/U/+z/AgAIAAUA1P/j/xEAEQAgAPj/zP/a/wIAAgDa//v/GgAIANf/7P8jAPX/zP/+/w4A5v/m/xcAAADa/8P/8v9JAA4Az/+3/+b/PQACAOz/9f/a//7/FwAsAB0AEQARAMz/4/9DAD0A7P/X/w4AVQAgAOP/LgBaADEA1P8CACwAKQA3ABEAAADX//7/QwAxAMP/8v8dACAA8v/d/yMA9f/D/9T/6f8IAPL/zP/4/wsAIwC9/7H/7/8jAPv/vf/X/+z/IADs/+P/7//7/+D/z/8OAAgA6f/G//X/NwAgAPj/7P/j//7/DgD7/wgA+P/7/wAALgAxAOP/6f8jACYAJgD+/9r/IAALABcACwAFABQA7//1/w4ACAD7/wAACAALAAsAKQAgAP7/DgAuABcA4/8LACYA+//7/+//FwApAAsAAADa/9f/LAAdAM//1P8AABQAAgDp/8z/7P8CAOz/+//+/+b/+P/4/9r/AgApAMb/uv8CACYANwDd/7T//v9VADQA7/8AAAIAJgBjAEMA7//s/zQARgAUAPj/CAAgABoAHQApAB0ACADm/yYAMQAaAPL/AgAUABoAGgDp/wUA4P8CAPv/4P/4/wgA7P/S/9T/+//y/8P/pv/G/+//xv/A/8n/1/8AAOz/nf+3/+z/FADg/6v/vf/S//v/AADP/5H/4/8pAAgArv+6/wsAMQAOAMP/z//y/zoAIADs/+n/9f8XABcAHQAdAMz/CwA6ADcAMQAFAAUAGgBDADoAGgARAAIANwBGABQABQAaAEYANAAxADQAUgAaAA4AFAAgAFIALgAOAA4AHQBAAEkAEQAIACMARgAsABEA+/8dAA4ABQACAP7/EQD4/xcADgAxAA4A4//1/wAA+P+9/8D//v8AAP7/1//v//j/4P/+/wIA+P/M/93/2v/X/+z/3f/m//7/CAAXAPv/7P/1/w4AGgDa/+b/4P/p//j/4P/s/9L/AgAgAOb/rv+u/+b/8v/y/9T/xv+x/9T/rv/U/w4A1//J/9r/7//S/93/uv+o/9T/GgDv/8D/tP/7/x0A3f/g/+z/+/8CAO//+/8dABEAGgDv/wgAKQAgAA4ALABPACYAHQAXAEwARgAjAC4AGgAjAB0AQwA6AOn/8v8sAEkALAAUACAAKQAOAAsAPQAxABQABQAdAEMAGgAgACwANAApACYAPQApABEACwAAACMAGgAXAAgADgA9ABEA6f/+/wsACAAOAN3/wP/y/ywAGgDg/8b/w//p/wUA7//U/8P/+P8IAOz/zP/G/+z/4/8FAPv/qP/U/w4A3f/m/+n/yf/d/xcAFADj/+D/EQAaAPj//v8RAAgA3f8OABQABQAAAPX/KQAUAAAA4P/+/+n/+P8aAAIA+//g/+D/7//p/+//EQD1/93/1P/m//j//v8AAA4A4//G/wAAQAD4/7f/AgAmAAsA+P8LAAUA+P/g//v/QAAsANr/9f8XAB0APQAdABQANAA0ACYAIAAAAPL/+P83ADcA8v8IAAUALAAaAAAA7P/7//7/FwBJANT/pv8AAC4A9f/p/wAAHQD4/wIACADp/+n/3f8UAAsA+//7//L/FAAIAPX/BQAjAAsA7P/1/wUAEQDm/8z/8v8AAOb/4//s/9L/6f/4//j/9f/X/+n/0v/a/93/z//v/+D/2v/g/wAADgDp/8z/6f8sAAsA2v/X//X/IwAgAP7/xv/m/wsAGgAFAPL/6f/1/+z/1//X//X/CwD4/wAA7/8FAAAANwAsAA4AFAD+/xEAJgBMADoACwD4/xcARgBPAD0AOgAuAPj/IwBDACMAGgD4/x0ASQBGAAsAAgA6ADcAKQACABcALAARAAAACwAmAB0AGgAXAAUAEQARAAgA4P/s//X/AAAgAOD/yf/p/9L/4P/1/+b/+//7/wIAAAAOAPL/6f/j/+z/GgD1/9L/t//J//X/9f/7/8D/o//y/yAACwDP/9L/AAAXANL/4P/4/+D/5v/m/wUA8v/m/93/FAALANf/2v/g/+z/2v/4/w4A+P/j/wAADgD1/wUA/v/7/yAAHQAUAP7/7//4/yYAKQDj//j/BQApADoAMQALAOn/OgAmACYAEQDp/wsAKQBAAAIA8v8dAC4AIAAXAAsA+P8IAPX/6f8FACYABQC6/+n/IAAUAP7/8v/+//7/7P/a/+//7P/j/w4AGgDp/9f/1P/g/wsADgDU/9L/7P8LAOP/wP/7/xQAIAD4/8//5v8AAPv/5v/g/9T/8v8IAPv/DgDy/93/+/86APv/vf8IADQAIwDS//v/QAAUAOn/9f8FAB0AFwD4/wIA7P/1/w4AEQALAAUAQwBPAB0ACAAsACYAAAAgAA4AOgAxABoAZgA9ACwAKQAFAC4AGgALAPj//v9AADEA5v/X/yMAAADv/x0ABQD7//X/4P/m/+b/+//1/+n/tP/a//X/6f/g/9f/+P/U/9r/+/8CALf/vf/1/yYA+P+g/8n//v8gAOD/vf/U//L/CwDy/93/2v/7/+z/+//1/wAAAgALACkAFwARABEAEQAFAA4A4//v/ykALgD+//X/PQBJADoASQAsAEAASQD+/wIANAAuABoACAARADQAQwALAOP/BQAdAOn/pv/a/xcA7P/v//X/7P/7/93/0v/j/wIA2v+j/73/BQAIAOn/4//m/8z/3f8UAAAA3f/4/wUA/v8jAPL/9f8OABEAKQDj/8P/vf/d/wsA5v/X/wgA/v/M//v/CADs/+z/+/8sACMA6f/m//7/8v/7/wAAxv/S/yYATwApAOD/2v8aAAgA5v8RABoAIAALAC4ANAAuAD0AOgAsACMAKQDv//7/NABVADoA7/8IACwAFAAUAOb/+/8gADcAAADg//v/FAA0AAUAw//A//j/AgDs/9r/+/+9/8b//v/7//X/4//X/wAA+//P/93/oP/S//7/7//y/9r/+//7/9L/vf/y/xEADgDp//L/LAAjAAIA9f8RADEALgApAAIAAAApAAAANwBjADoAFwACACMAQABYAB0AAgAjABEAGgAOAAsAFwAuACwAGgAaAB0AIAD+/+D/4P/y//L/7P8OACwAPQD+/9T/GgAXAAgAwP/X//L/4/8AAPX/AAAUABoA3f/m/8z/yf/j/9L/uv/G/9T/t//y/wIA6f/s//v/2v/P/9L/3f/+//L/+/8aAC4A8v/S/wUAIAAIAM//7/8FAPj//v8FAA4A9f8AAO//0v8sAEMA/v8AACYACwDa/+n/BQAsAPj/q//P/yAAFwDj/wIAGgDM//v/5v+6/9T/7P8pAPL/2v8LAA4A/v/7/+z/CAD4/wgAMQDd/8n/9f9MADEA7//j/9r/EQALABQAAAAFAB0ACwALACkABQACABEAAgAIABcA/v/m/+z/EQAdAA4ALAD1/wUAMQAFAOD/AAAFAA4A/v8XACYAJgBSACAADgA9ADcA+P/y/+//+P8UACAANAAaAC4AOgAuAGMAMQD+/y4AQABMACkAEQAgAOz/0v8aADQAFwD4/yMARgAmAPX/1//J/5r/w//g/wsAxv/G/wIA8v/y/+P/z//j//v/oP+d//L/AACo/9T/PQAmAO//5v8FAO//t//D/xEADgDj//7/KQAdAAgACADv/9r/7P/4/9L/xv/a/wUAIAA3AB0A4P8CAOz/vf/S/8//7//j//X/IAAdAA4AEQApAPv/9f/P/5f/w//7/8//rv/D//v/QAACAOD/9f83ABcApv/M/xoAHQCo/8b/JgBJAEAAIAAFABEAKQD4/8//wP8OAB0AFwDy/+b/gQCVACAAnf9Z/9r/WgBjAOz/i//A/wAALAAXANf/qP8AAFUARgDy/5f/wP/P/6j/wP8CAB0ABQALAFIAiQBYAN3/nf/m/1IAHQCX/3//PQDHAMQAfgBYAHgAQwALACwAZgA0ACYAIABgALUApwBVAFoAoQCwAF0Az/+d/+n/QwBDAEMAYwDHAKcAMQCr/8//3f+d/3//o/8LAO//xv/S/z0AJgC3/2v/lP+r/1b/MP82/1b/fP+U/9f/z/+o/9T/uv+F/27/tP/P/3H/Rf9u/+z//v/j/93/MQCbAGAAAADP//v/QAAXAKv/1P8XACMATwBgAGkAPQAuAEMASQBJACMA7//d//X/CwAOAOz/AABJAJUApABjADoATAAXAOD/z/+u/9L/3f+3//7/RgAaADQATABPAB0AqP+R/7f/lP9x/5H/qP/j//j/AgAjAH4AdQDM/3f/3f/P/2L/X/+o/1UATwDv/8//JgBjAN3/z/80AFUA+/+F/9r/XQAjALr/yf9aAKEAYADP/yAAsABDAL3/qP9dAGYA4P/S/2MAygB7ACYA7P8jAEkAIAD7/wsAUgBvAEwAMQAgACwATwAxAEAAIwAFAAsA9f/j/73/rv/4/2YANAAAAAUA1//4/7H/lP/U/8z/zP90/47/BQDd/+b/6f/j//j/5v/D/8b/1P+j/6j/uv/P/93/t//P/wgAFwDm/6j/z//y/wgAHQDJ/5T/6f8UAAAAz/8dAHUASQAIAAsAKQD4/47/iP80AFIAIwAFAOz/FABJAEwAAgDg/+b/DgAaAOn/HQAuAOn/7P/m/yYAUgAUAOb/FABVAOb/3f/+//L/z/+6/93/IwBjAEkAKQDm//j/FwA9ACwABQCPAIkA2v+g/ykAlQBVAC4A/v8mAKoAAABL/7T/fgCeAEMA4P/U/xQAAAAxABEAz//M/wIAQAAsAPL/q/+U/6v/vf+u/+b/NwBDANr/t//y/+n/d/9C/1n/6f89ANT/sf/A/wIAQAAaAOz/yf+9/+n/qP/D/xQA+P8OAFgARgA3AEMAOgARAAUAGgAAAPX/FwBSAAAA5v/7/1IAngCMAAAAz/8mADEA+/+U/+//GgDa/9f/LgB+ADEA1P/j/3IASQC6/8P/xv8gACAA4P8sAF0ACADX//L/BQAAAO//4//m/yMA9f+L/6P/AgAOAMD/rv/a//X/5v/S/+P/5v/j/7T/fP+X/67/5v+0/8//LAAAAMz/5v89AP7/d/9C/9T/HQDJ/4L/o/80AGAAPQDU//L/cgAaAKv/4/9GAEwA5v8dAHgAewBjABEATwCYAGYA0v+x/zcAdQBPABQADgBaAHgAeABaAF0AmABdACMA7P8XAGMALAAOAD0AhACMAHIAJgAgAEYAIwAXAAsAAADm//j/HQALALH/w/8dAN3/f/+x/xEAHQD+/8P/rv/s/+D/t/+9/8n/EQDm/6b/sf8RACwA2v/A/8n/0v+u/6b/oP/U/wIAqP+X//7/6f/M/8D/4P8gAOP/tP+X//L/QwDG/7r/AAAjAMb/yf86AD0A6f/a/xEA8v/m/9L/9f8mACkAHQAaADEAFAALAAIA4P+6/9T/HQDX/5r/9f9YAO//4/8sAEkALADD/wIAEQAFANf/5v8UAAAA8v8LABQA4P+j/ywAbADU/73/xv9MAEwAnf/d/0MAJgC6/5f/MQBpAAgA1P8uAAgA8v8xABQA9f/m/yMAAgDp/+D/+/8AAOz/MQBMACwABQD7/xEAIAD4/+//+//U/8n/5v89AHgATAAUAAUAIwBaACYAFwCMAEYAw//v/2AAbwDg/5f/JgAmAC4AZgBJADcACAAjADoASQD4/5f/7P8pAEAA7P8OAIYAaQAOAB0AbwAjAOz/AgA3ACAAtP/D/yAA3f/m/zEAQwBGAA4AzP/4/z0AKQAUALT/kf/4/zoA/v/D/wIAQABgAE8AEQC3/7r/CwDj/5r/hf/J/wgApv+g/+z/IwCg/3//QAAFAJT/lP/v/9r/XP9T/6b/AADS/7r/sf+m//j/1P/D/7f/rv+3/9T/o/+j/0YACwCm/7H/4//v/8n/gv/P/zcAOgD+/5f/EQBPAPv/1/8AACAAIAAAACAALAAaACYA/v8OAPv/KQA0AP7/8v8FAEMAPQAFAA4APQBYAFIABQC0/x0AYAD1/9r/WACSAEwACADs/zcALgAgAD0AFABPAE8A8v9AACkAOgBAAO//GgAaANf/4/8xACwA7//U/xoAMQAIABoA7//S//7/4/8IAPv/+/8RAAAA8v8sACYA8v/d/93/+P8UABEAgv/A/w4ALgD4/67/AAApADoAIwAUAN3/zP8jAOP/7P8jAC4A1/+u/ywAEQBAAEYAIwARAAAAFAACAAAA7P8UAC4A+/8RAOz/CABaAO//CAD+/wUAMQD7/zEABQDs/+b/MQA3ACwAwP8UAG8A4P8XAC4A+P/D//j/zP/d/8D/tP/y/wUA7/+x/0MAQwDJ//j/9f/j/8P/cf+3//L/sf+x/9f/7//1//X/5v+6/6v/CwC6/7f/1//g/wgA2v8mAD0AKQAgAEAALgD1/8z/5v8IAOn/1//p/zcAhABJAAUABQAuAJgANADs//L/NABjAP7/yf8aAE8A6f8gADcAAgBVADcAJgAdANf/o//7/yMAwP/s/wUAFwBJACMA+P+r/9r/7P/y/9f/qP/m/y4AQwAFAB0A+//j/73/tP/J/67/yf/M/+P/q/+0/xoAsf9o/6v/1/+j/6j/4P/X/xoA2v+o/yAADgC6/67/vf8jAPv/1P/M/+n/+P+g/9T/FwDX/6v/BQAsAE8A1//1/34AMQAUAAgAFABmAEkAIwB1AFoATwARAH4AhADD/5gAJgAOAKoAIABgAEMAVQBJAAIAeABmADoAfgA0AOz/VQAsACkAAACx/5IAFwAdACkA7P94ACAAIADy/ykACADS//L/fP8jALH/q/8CAIX/kgDm/3H/xv+u/zQALgD7//j/CAAXABQA0v8dAAUAmv9yALH/wP8aAJr/jAAUAPX/EQAsABcAkf/a/+b/8v/d/+n/8v8aANL/zP/m/6D/4P+3/8D/1/+x/+n/zP/v/8z/7/8xAO//AADX/wsANwD+/9L/z/8AAMD/yf8pAO//4/8mAEAAJgA3AOz/1/8jAAUAFwBMACAA8v/7/xoASQBsACwA+P8gACAAxv/A//v/nf/a/ykAxv/a/9T/6f8sADQAw/96/8P/uv/d//X/oP+j/xcADgDa/wIA2v/A//X/zP/U/z0ABQApAGMAAADv/9f/5v/U/+z/+/+o/93/8v/S/zEAIwDA/7H/wP8RAPv/AgARADEApACVAIEAWgAjAC4AiQByAFoAUgAuADEALAA9AEkAKQD1/ykACwD1/zoAQAD+//L/JgAuABoA7P8LAB0ADgD4//X/QAAIAL3/vf/m/7f/jv/j/9r/vf8OABEACAAIAMn/FAD+/9f/7//X/+z/vf/y/xEA4P/g//L/3f/U/+n/vf/S/+n/1P/U/9f/tP/A/+//JgDm/6b/tP/m/0kAGgDd/9L/AgA9AAsAHQBPAGkAXQDM/wAAZgA3ACwA5v8AADcAUgBPAMz/FwBmAEMAOgC6/ywARgALAA4ACwBgAFIAIwAsADoAXQBDAOP/zP8OADQA8v/p/9f/AgBMAMn/xv8aAOP/HQApAO//7P8aABcA9f8OAO//FABdAP7/BQAIAAAANwBMAAUAuv8mAA4Acf/p/wgA8v8jAL3/z//a/y4A7P/A/8n/mv/X/7T/7P/d/5H/4P83AO//mv+x/+b/z/+3/3f/i//d/7r/i/9x/xEA/v+r/7T/zP8gANf/iP/P/wIAQADy/3//qP/+/2kA/v+I/+D/kgBAAO//w//+/0kAGgAaAAUAbwBmABEALADQAJgAWgA9AC4AQAAjANr/6f8LABEAQwD+/zcANABvAEAAHQAaABEATwAAAAsA0v/G/+b/KQBaAAUAFABYAPX/9f+U/6v/AgCu/9f/3f83AAsA5v/v/w4AMQBdAAgAAAAIAOD/BQALALT/lP/p/8b/9f/m/+P/7P8OAOD/t//X/zQA7P+X/5f/q/86AAIA+P/1/yMAAAAuANT/yf9GAAUAPQB1AC4ANABMAC4ARgDG//7/QwAUACwAQwAuADoAEQAAAPL/BQDs/wAAAAD4/10ARgB4ANT/4/91AFgA1/+o/6j/JgBmAOn//v8IAAIAIAACAL3/PQARAA4Az/96/+D/9f9AAFIAWgBsAFoAGgA6AFIAw/+j/6j/sf8sAAgAyf/y/xoALgAgAK7/aP+R/4j/qP98/6v/7P+3/67/BQAIABQA+/96/8n/QABYAKj/X//D/0YA/v/G/+P/7/9DAAAAyf8AABoA8v/y/+b/AgAIABEAIwDS/8n/FAAgANL/4P8AAFIAWgDj/+z/t//m/wUAxv9c/3r/LgByACYAt/8uAF0AKQAAAN3/AAAFACAAIwD+/zoAQwAsANr/yf/4/xoAIwACAEAAPQA9ANL/2v8dAB0AAgDU/x0AHQB4AG8AFwAuAEMAWgAUAOb/1P8RAPL/zP8RACMAGgARAAgAFwAXACAA+P/U//7/5v/X/wsAAAAOAEYAJgBPABQAGgDS/9T/+P/1//v/5v8RABcADgDX/wsA5v/a/xcAQwAuACwA+/8jACwA4P+a/07/kf8UADcAHQAOAAIAMQDg/6b/z//m/7f/zP/U/9f/6f8LAE8AMQAAAAsAFwDM/9r/4/8AACMA1//U/yAAIAD1/9L/4/86AFUAJgAUADoAQwARABEAxv/G/+n/HQApAM//1P/7/10AGgD4/+b/JgAsAPj/AgDM/zEAXQAuABoAQwBaAGYANwDv/8n/AgAxAO//7P8LACAA7P+0/7r/w/+u/6j/wP+m/4v/BQAIAAAAvf+x/x0AKQDv/6j/LAAsABcA4/+0//7/FwAUACMA8v8dAHIACACg/53/xv/g/93/aP98/9r/CwD7/6P/0v8LAPv/w//M//7/JgAIANr/AAAuAFUAFwDG/+D/AAAxAFUALAAIABoAFAD4//L/+P8RADcAGgAAAPX/z/8pAEAACAALAE8ANAALACAA7P/X/9T/1//y/wUAMQAuAA4A5v/s/0MAPQAXABcANwBmAFoADgDm/ykAZgBGABEANABaADQAVQBYACkAOgBgACMAwP/p/zEAKQD4/+z/IwBAACYA7//S/yAAHQDm/+//MQAdAOb/5v/4/yYAFAAFAAsANwA3AC4AFwDd/73/lP/M//j/vf+0/8//wP/P/7r/iP+x/8b/lP+x/+z/z/+0/8D/tP+u/93/0v/D/6b/wP/7/9r/t//P//X/7P/p/9f/2v/U/7r/2v/m/+//FwDa/9r/1P+9/xQA7P+C/6D/FABDAAgAFAAFAOD/EQAjAOz/6f/y/xoALAAIAAsAGgBPAEAA+//+/10AVQA0ADoAbABpAFUARgBjAK0AhABpAG8AdQBvAJ4AjwBjAFoAMQBSADcAWgCbAG8AOgAsAH4AfgBVACAANwB7AGYAIADv/xEA7//d/9T/7P/G/47/q//D/8z/iP9I/3T/2v+6/3H/Zf+u/8//rv93/6P/5v/X/7r/xv/A/7T/iP9l/2L/Zf+L/2v/ev9u/6v/2v98/y3/PP96/1P/Of8k//j+z/7H/gT/6v6j/kD+b/6S/mD+bP6G/qn+u/4Q/1n/yf8sADQAiQD5AGIBlAGyAT8CiwL9AlsDNQNHA5MDwgPFA84DqgNqA0EDNQNEA0kDCQOUAk0CGAK9AYwBegErAc0AXQAjAP7/w/9f/yr/9v6V/lH+/P3f/fn99v3B/aH94v06/jr+6/0f/n3+zP77/u3+EP9f//j/gv/W/c78Sf00/u78H/rg+CL6Ofsd+j74GPhS+fn5lvmT+cr63fsG/FD8vP2I/5sA8ABxAbQCTASIBb0FlAUBBp8Gqgf5B7YHZwdbB6cHnAdkB0EHIAdKBpQFHAW+BEkEvAO9AqAB2QCtAIkARf///Wz9df0A/Xn8G/xT/KX8HvzS+238TP3H/c39zf2A/pf/AgDd/1UAAgFdAW4BowH7ASQCjgKfAnYCRAJcAmgCwwFOATkB1gBgAHr/2/5y/vz93/17/RT9yPyu/I38ovyf/KL8wvxS/cH9x/3o/ZX+cf8CALIAmAAq/z399/w0/lr+z/u3+Cf4Lvoq+z75//bq9qX40PnF+Qj64fqO+yH8kP1C/4YAPAGgAa4CHQTVBfEGDwcDB3gHYwhCCaYJegkWCd4IPAl3CYgJ8AhUCMIHBgdzBuEFgwV1BOMCmgE5ASUBfgDw/vD9yv22/aT9Z/0A/cj8sfzF/OD8Rv1A/fr88fws/Sv+bP5I/jr+ff7t/mL/a/+j/+D/gv+I/wUAfgBpAMb/dP/s/+D/mv/t/nf+//3i/fb9yv3Q/UD9T/2q/Qj+Uf5R/pj+Fv9C/z//dP/D/6D/Vv9l/9L/9f+g/zz/kf9AAJsAsACtAOQAEAJKAi4B+/4s/bz9Gf6Z/E/5Rff498v4Hvh19rP12Pb49+D4nvlg+oL7q/xU/l0ASgLIA54E0gVnB/MI7wlwCq4KTQptCqgKmQp5CsMJ9gggCPQH5QcjBwQGPAVUBG0DlAIhAokB1P+g/vP9FP7Q/bz8rvtO+/L7avxt/ML86/xM/dD9Pf6p/vP+Zf90/1P/XP8gANYAeACa/0v/4P9sAFUAl/8n/x//MP/n/p7+VP7W/VL9TP2K/UP90fy0/Mj81/zl/An9QP0a/Sz96P2e/vP+ev83AK0ACgF0ARACRAI5AgEC3gHvAeEBgAHwANkAlQDhACUBQgFrAVEBugGZAoEDWQIOAKr9Uv03/tH8WPk09gv2t/cS+P/1DfSU9Nv2Afiu+Jv5LfvF/AL+w/9KAlcEdwVHBn4H4QhcClULCQtwCicKhQpNCo4J0AjTB6UGLQYKBukFHwWzA7ECXAJcAuEB/wDA//P+Zv4x/lH+b/7T/WH9+vyk/bX+Lf85/9X+a//4/5gA3ACVAPX/0v/g/8z/SP9L/tz93P3i/Sz9f/yL/Pr81/xK/A/8v/zu/D78vfsS/Oj85fx8/Fn8i/wj/e39rf1A/Vj9Pf4T/zP/Of9//5sAawHbAQoChQJEA1UDOwNwA6EDWAPOAlYCGwInAuEBrAFUAWsB+wFzAosCzgIYA/QDQAQeAnf+0vuN/En9nvqN9fzy2vSs96z2nfOt8oH1iPgX+uT67/sI/sb/kQHZA0cGmQfKBygItwnuCooL+gqACYMILghDCOUHsQYZBfEDQQMjAywDAAPGASkAUP9//6v/nf/t/tn9Nf2N/fj+SP+D/tn9SP56/6QABQETAeQAEwF3ARMCTQL+ARkBYABr/6b+Xf7Z/Wf9OPwi+7L63fu5/JD8vfup+9388P1d/vD9v/0X/iv+Rv6A/lr+Dv65/cH99v06/lr+V/5G/i7+r/7G/6QAkgCJADYBUwI+A5ADywMgBB0ELgRaBIAEaQT8A20D+gIMAwkD5gInAuwBSgL0AlUD9AJBA8sC4QBs/TT6O/n0+Bn3XfNN8BLxxvOC9AjzEfI29Az4NvtW/BH94f6AAdMD3gXIBwQJ0gn7CXAKeAvwCyYLtwk6CF4HwgbABfMEsAP4AbIAWgAZAVoBVQAz/7v+dP9+AMEADgBI/6D/3ACmAbgBlwFoAckBEAKXAt0CeQL4Ac8BzwGRAR8BJgAc/zH+Yf2Q/Ej7x/kP+Qn5bfkS+d34avnt+rn8af38/eH+KQA/Ae0AdQDNAKoA4//S/jH+/P2b/av8EvyL/Ab9ZP2w/Qv+Vv+VADwBsgFlAtkDQgXDBa8FnQUKBoIGggYwBisFbASMBEYEsAN8AksB9gBgAUUBqgBsACUB5wEuAYD+Tvoi98H25/aI9D/wNO7s8FP0APWR8+/zi/cB/Nj+7/+aAXgDaQSUBYcHDwrLCqkJ/giXCYsKRAqJCHYGBAUdBDgDHgI0ARQAz/7t/U7+uv+hAGwA4P9SACECAgSDBCMEnwPCA5UEcQXhBDIDBwK1AdsB2AE2AUwAP/+1/qb+vv7M/gL+FP37+3372vsn/O/7Dftp+tD6yPx0/nf+Ov5i/9IBGwOcAmUBNgFiAbIAE//0/FH74vkd+ev4cPhQ+M74DvqR+5z87f1T/9MA2wEGA/8DuASXBUQGiwafBhoHVQdeB8sGJAYfBf8DLwPYAWwAGf8u/lL9Vf22/aH9s/3V/nUAdgJhA8MB7f16+t/5vvpt+en0mfG48ur2OPjB9g72Fflw/E7+uv8xAXwCAQL1AQUE3Qb/BxoHUAZqBy0JzwntCF4H1QWVBO4DDAPMARQAaf47/Zj9SP/tAPMATABlAYQDKwVxBU4F/ASvBA4EywOzAzgDmgECAJT/EQChAHUA8v9i/2v/w/8FAKD/ev5P/Wr8NfxK/ID7tvl2+G354Psm/aj8n/xd/sQA/wB3//D+tP8z/2f9GPyF+/z6Sfn496L4r/oe/G38jfzE/acAKQNMA6sCawLTA8MFxgXHBEwEIgUSBhsGyQWvBTYFAgSuAmgCWQJ9ARn/e/0Z/if/jv/7/rH/hgFzA0gFvwb6BkkEoP9q/Nr7wPuu+P/y++8j8iD2u/bI9Oz0G/ig+wv+xv+AAQQCrwE2AhAFaQgQCYcHZQbxB4sK1worCPwEWwNwAmgB7P9X/rz8MPuY+kH8nf+OAVcBEwFPA5YGVwhwB68FAgWvBCgEIwPeAYEA2P4O/rL+Yv+R//j+qf74/hn/Yv8//yj+LfzB+pj6B/ub+tr4jvfr+B78CP7N/c39FACrAhsD+wH/AMcAWAB6/v38sfxN/H37vvr2+lD8v/27/kL/2v9FASwDSQTOA8MClwLlAz8FuARBAyMDeAROBeQEFwQLBN8DlwLzABQAbwBDAPb+s/06/lIAvQH1AYgCTAQ+BrkHmQdCBWkAx/pB+Hz4Yvcx8g/tdu2V8l32UvXS8yv2NvtF//wAWQJwAy8DPgM2BdsIHQsHCtwHwgcECn4LzAl9BQoCsAC3/9b9R/xL+zT6xfkc+8r+pQIFBNwDEwXlBwQKqQnQB7cF8QOcAucBGQG9/+v92vxs/a/+z//a/yf/3v4B/zb/vv51/e/7RvoJ+Vz4VfkE+8b7jvs1/Bn/iAI9BKEDeQIQAhACVAGL/5P9+Ptv+v/5jPoz+077Ofvy+9n9CwANAUUBZQFuAa8BEAJZAlwCQQJZAukCHQQQBR8F2wRPBBcEZgR4A/IBYwDm/1oALgCX/6P/uABwAsgDcgSmBTsHxAgRCGMEWv5J+XH3nvZd81LuBOwr7yT03/VY9Vf2lfri/W7/AgEMAxoEWwPaAu0E5wiWCxELVwmpCW8L6AsTCTcE7P84/Rz79/jj9533hvd8+LH7FgFuBRUH3AeUCZgLHAzLChQI/ARTAlIAHP+G/sf9Bv1Q/Dv9Qv/NANYAtP8T/2n+qf53/lj9MPx9+3T7Tfwl/gr/tf5G/nz/yQFtAjwB2v98/3H/H/7A+z36YPpm+t/5hvoV/ND92f0m/R/+AABXASkAFP5I/r4AZQKpAXIACAEPA6wE3gSYBOoE4QTxA58CUAKCAvsBVQC+/if/QgHxAssCCgJNAggE+wW/BhUGoAVfBmQHsQZKAnH7sPUN9BX0yPG97NzqAu/g9FH3Qvdt+Az8UP+yADMChgSmBU8EuQOOBj4Lgg2SDLcKOwqTCvIJdgaSAE77MPiA9jv1CfUO9qb3Ovp3/tYE+wnlC3oMQg3mDdIMXwodBwsEPAHn/iX+NP5D/gX+yv1D/kv/6f/J/1f+dvw/+1z7rPtW+yL7uvte/a/+0v+hAKMBVgLGAQsAP/9i/8r+5fxO+uL52/oW+7v6TvuW/KH9+f3M/oL/3v6Y/bn8hP1j/g7+h/2j/twAqAJbA4EDNATbBDAFBAWvBNMDEwLNAJ4AawGZAuwCdgLFAjoEmgWyBREE5gKWA7UEAgXBBC4FiAZ8BqUC4Psg9sX01PS+8uvtu+uj7yj2WPnp+DT6FP5uAVMCkQLcA18FwQQDAzcEpAjzC8oLmglmCIwIhAcaBJX+kPko9kH0VPM59Pn2/Pn0/F0BuQf+DDoP9A6FDpcNsAu1CGIFGAKg/nn8KvzO/GH98fyi/Fj9FP5D/qT9hfx3+4b6CPrN+qL8Rv5W/+b/uwA8AhEExwSiAlb/m/3Z/ev9JPy5+Sn5ifrV+/77ufwl/lD/Qv/S/kv/rv/b/qL8nfu0/AX+3v58/0YAawHLAoMEjgV9Bb4EQAQ0BJADcALkAaYBrAEeAt0C3APkBPwExQMSAzgDmQPAAucBHgJ4Aw0FPgbaBvwEDgDa+GL0+/NB9LTwhezl7Zz0CPoW+5T7FP6hALAAxwA8AvcD9AIFAWIBPwWWCksMwgowCbgI/AfzBLr/GvqZ9dny9/FX84P2tfqb/nwCfQg4DtIQphBSDyINsQk5BlUDsgDl/ab7X/u0/C7+sv4o/hz+g/46/gz9uvuJ+jr64frm+5j9J//kANoCgAUjB5kGVwQ2Am4BDgDX/Gr5MPiF+EP50/kH+8j8Tv74/kj/Kv+D/p791PzM+6H6u/pE/Pn90v5o/zQBcANSBDcEYwRaBecEbQMeApQBBAJWAkoCBgMXBAoFegUQBWMEcwN8ArUBSwEcAQoC4AJ+BKUGnAfnBO39hvaD8u7xQfH57r/tuvCy9gn8jv8nAsMCEALqANAAVwHhADb/0/2o/1QEWQmJDDkNFAwnCpAHCATw/g/5svM/8DDwHPNq+Kr9JAJDB9gMQhHFEnwRbQ7VCRYFuAG0//D9XPyx+1n87f4CAawBvgBf/5D9mvsf+tf4G/gk+ML54PzwACgEUAbxB0EKtworCPwDmAB6/mj7iPeZ9RP3t/hJ+Rf64/w8/yT/Gv0J/PT8mfzY+mT5QPp2/O39yv4dALgBSQNXBEYEjQMGA7cC4QHQAIQACAEBAvECpwMRBG8EGQUEBSMExQKpAWABnQGvAZoB4AIrBW0GsAdDCLIEtPsh8CjrY+6v8inx7OxU7zr66gTpBgwDLgEtAv4Bd/+e/Yb+EP/f/RH+FAQQDfURCBCCCvoGwwUvA+780fQW8MPvtfLv95L+uARuCZcNmBCKEv0RAQ7QB7IBm/3V+z78hP3k/hEASgITBQwHUAY5AlL9h/ne9h31YvTx9Ff39vkm/S0C0gjVDf4NRwqOBtAEIAPb/tb5SPdx93n42fmL+2r80fyZ/I39zf15/O36ufl4+Tj5wvmU+3L9ff5O/2gBCwTqBHIEXgPgAp8CawFSAJsALgGGAKQA8gFYAz4DFQK6AecBOQIYAuwB2wFfAtMDcQWCBpMH8wivBbH7EO8v6bztZfTp86fu0fD3/E4I6ghtA4QAIgFdAE/9JftZ/JL+2P5O/ygEdA2hEy8SkAuaBZYDpgEE/Fb0cPCG8p330/1JBGEKAA93EfsRiRDVDUUJNQPX/Gr48vf8+m/+JgDsAeQE0AccCb8GoAEA/ZP5ofbp9B31HfZw+Lf7iQBxBTEIMQg+BokE1ALBAAb9/fha97r4JPz+/p3/7/88AVACqgDw/R78K/r+9+v1xPbz+ff8d/6C/xABlALQAzgDMQGP/j393/0K/1gARQEhAjID2ATVBWUFqgOOAa7/af6b/p7+pv7S/hoA+wHiA/UFDgg7BrT7xu8964by/Pl698vxFfX7AdsJjgb4/6n+1P9b/RT6Pfp3/gQCMAImA40H7g4YEusOGgiUAUv/Bf5L+ib1+POZ+NX+LgTkCAMO2xAREKYNywrYCMMF4QB//IL76v4BApwD/wMuBEAEmQM2Agr/HPsr90/18fUC99b56/1OAQECWgHUArIEKATWACL+1v3W/S7+Nv/a/0v/5/77/9AAkgAH/yz9Aftm+sr68/rm+0H8ovxh/e3+zP8Z/x//Nv9X/hf+ev7B/iT/zP9VALIAVwFLAYwAKQAsAEX/8/7P/6oABQAq/2X/WADQAIkAFwD2AOQBZ/zP89/u0PKQ+En66fjn+p8C1gd1BxEEUwKYAD39Jftf++39TAAxAdoCoAU7CrIMjwztCJMDSQDk/hn+4/uA+/b9mgF3BQ4I5Qr2DKAMogrxB0kHZQY3BK8BGQHsAiMEBAXTBLIEbQPcAIr93PkV+FP42fnQ+u36Mv0OADQB4P+j/if/Nv+7/oH9QP5DAGIBbgGyAfQCoQOcAhoAnv2c/Bv8Rfvl+TX5OvrY+8H9SP5O/h//i/8r/jj84Pt2/Kr9SP7Q/V3+9f88AXIAVv8k/3f+9/xC+0b6wfo1/Xr+pP3a/Br9VP4UAG4B8ADEAEgBiQAg/W359feE+TP78Po2+6j8uv/KAOb/o/9FAZQCwwHMAUEDcgTkBL4EwAVwBs4GcAYEBTQEcANEA1ACmgHhAGABggIVA5MDVwRnBhcHiwaIBUUF7AUEBr0FVwVuBWUFXQR4A5wD2QM/Anr/lf4K/yMAbwDS/33+3P1G/h/+FP4u/tD9mP2e/n//8P5X/m/+6P2K/Vr+JP8c/1b//v5m/iT/5ACyAHT+Mv1K/N764vmK+a35V/or+sr61/yb/oP+Vf3F/C38CfzF/Bf9Ffzg+yn99v7a/+//6v5k/TD8t/u5/IH97vyh+jH6O/zT/fb9Y/7j/7oBNQP4Acb/Tv/s/5r/0v4B/2v/BP85/5f/CADwAEcCtgNMBDEEqgRqBu4GCgW0AosCDQVqB7kHZwZoBW0GeQZpBO8CsQI2Ai4BuAB3AT4DBAUwBc0EPAUVBiQGDQUMA/8AcgAfAS0CsgHTABAB3gGxAssCJAJ7AMb/GgAAAO//aP+1/h/+Pf5a/j3+Mf5D/bT72/q3+0H80vsq+zP7Ffwa/Tf+Rv5+/ZD8XPzj/En9Uv0A/dr84PxY/YH9zvy0+z/7KPoD+f34ivkX+eD43vrI/JX9z/4RALr/H/+J/s39cv2//d381Pwr/uT+uP4c/wUBVgLdAuYCOANkAxsDugLPAYYBfQH2AHIA4QDpAVACawKJAWUBIQKKA2MEYAS/AykD6QL6AnUEPAXSBVYGMAYqBogGVgYQBS8DvQHpAVMCKgIqAr0BdgKwA7ADagN+AzsDRAI/ARYB0gFiAhgCPQAr/uL9lf64/u3+IwDhAPYAVAGXAW4BVQA8/0b+Q/0P/I77qftr+4D7zPsn/Jr7ofpJ+i37bfws/R39c/zG+wb8t/xh/A/8U/wP/Qv+EP+6/1n/Uf7I/Fz7ffoI+qb6LfzK/ab+P//J/9T/Fv+D/qn+d//1/w3/Xv10+6D7vP13/9YAPAI9BAcGsgWzA30BUgCd/ywADQK4BJ8GOQYWBd8DGwMcAXT/EP+6//wAQQJGBLgENwR7A7ECdAEEAu4DNARSBL4EiQRtA0wDmgEU/nL9pv95AoAECgX8AzYCuADy/7r/DgBJAGX/E/9JAJkCDAOJAOL9t/wD/ar9iv2V/ev9Wv7J/xoAm/6b/bX+IABGAA0BHwHv/wT/1v3m+7f7rf3o/Tj9WP1e/c39xP5R/vf8AP3t/dn9F/20/Az9Q/58/zoACAF1AEX/sv6j/ij+p/0U/nT+mP59/vv+ev9PAPsBhwOlAsn/ev5e/TD8Vf3p/xMBKwGUAfj//P1U/lb/fgAVA/AEiQQUBDwCrP4J/Qv+Nv8VAhYFgAWPBJcCIACV/fH8j/4dAL4AvQLwBNYD8wDM/mn9df3/ACgEVwRjBI0DEwH2/qP+ff4t/4QAjAGyAdsBtgPZA0UBRgBXAYMBzwG0ApoBWf8k/xz/8/2k/ZL+B/8c/97+af5G/on+iP+9/8z+X/+YAIX/tf6r/wUAJ//q/lP/mv9SAEMA5P5d/uT+P//E/qH9Yf2n/cT9zP4mAFUAJ//E/sr+/v5GAAoB0ABDAPv/f/+p/ij+3/0o/j//KwEAA6gCegFjAMT+//2v/rv+jP7U/zwBxAD7/+H+Q/2N/cr+9f8KAVwCTQLzAMn/UP9Q//7+q/8oASECIQJrAYYARgD/AEgB5wAuAfkA1P+g/yAAFwCu/yL/f/9vACgBBAKpAXIAfgB1AJf/Gf+d/y4APQD5AC0CUwI/ASMAM//+/xMCEQRYA9AAVQBr/3L9h/24/tv+q/8HAl8CgQDM/47/0/1k/a7/8ACsASECVQA7/U38mP3z/l0A8gHeAfkAKwH4/1f+wf0r/oD++P7QAMABjABW/5X+iv0O/hcA6QH0Al8CoQDn/mH9Bv28/Xr/9gCyATEB1P99/of9Ef71/yoC7wJfAvkAxP4D/Tj8f/xU/owA+AGfAj8BE/86/v/9Rf8KAXoB7QDqAPv/yv1b/SL+Zf+GAeIDxQNuAfb+0/3f/Rb/xADGASgB4/85/6/+q/+4AaUCTgH/ACIBUgCa/yr/9v6Y/mX/bAAKAU4BsgAE/9P98/5rAbMDEQRiAhb/Yf3E/f/9Tv9TArADsQKJATcANP7W/ZH/sgDbAZkCjAEW/xn+Rv4Z/sD/NgKMAZr/DgBVACX+Lv60/+f+P/9ZAjIDzwFOAcD/k/0l/vAAUQGtAFEBxwAF/pn8Xv13/tL/3gETAtj+rvxN/Mz7T/3eAX4EfgNlAcH+rPtQ/P7/jAG4AZQBbv9k/AH7fftp/dYACAQ0BDwChf9//CX7fv1CAYsCPAIBAqv/Bv0x/sQAawJ4BK8EPwGm/vP+tf4R/uP/2wHbARAB9f90/pj+dAEpA3ACdAH8AJf/FP4C/vD+uAC6AuwCYADo/Zv+0wDdAusDfwLA/x391fva/OD/tALOAlEBa/+e/tT/jgE2AqwB0wAn/439mP2M/m7/LgBRAaMBuACSAKb/Uf7n/mABxQJRAW7/K/5a/qQAAAMJA8ABwQBu/wf/d//J/+f+3P3w/Rz+Lf/1/4L/ev5G/Vz8Mv05/6v/sf+7ANYA+//A/7r/cf+nAL0B1gAq/8z++f3J+7r7YP5DAG8AVwEmABH90fwi/sT+rQBzA9oCwP8L/u78Yf1ZAv0GZwawAxgCo/89/Qf/iwLpAh4CjAEH/wn98P1F/xcAEgNfBRUDFAAi/qP7AfzBAEYEAwPeASUBJf70/GL/5wFrAv8DOgRVAFj9DP1P/Zv+dgKnA5sAXP9JAGL/Kv/+Ab0Byf9IAQECB/8L/qb/5/7h/t4BvQJmAIb+Yf1G/SkAWwNzAsD/d/5J/Vj97P+LAiQCBQDw/pD9/fwk/0IB/wAgAHT/8/01/QL+K/6N/Ub+X/9u/+//1/+p/qD+FAATAfAAWABZ/5T/yf8q/57+Iv6m/m8AjgEIADr+NP5U/oT9nv6JAbcCcQF6/8f91v3a/8YBJAJfAkoCNAC+/t3/vQEKAtIBMAJxAV0AVv+b/pX++//yAUECJwLsAcD/Xv2Y/ucAIgH2AFcB5v8i/tv+FwCqABsCdQMtAtr/f/+tALAAUgBIAQUBTwBoAeoAUf5j/lQB+wEjADQA8wCU/6v/9gDKAIYAVwH8APb+3v51AIABVAG1AE7/Dv6p/ov/zP9jAPMA/v+2/Wf8Bf7y/wAA2v+hAAIAOv7z/XL+kv5//4QAVv9s/RT9Ef4///7/dQDKAAoBfgAn/+L9QP7QANEClwIuAQT/zf1p/pr/2QB4AL3/o//H/uP89/w8/2kACgGXAeoAoP6z/RP/ZgCGAQQCjAH1//D+Kv/a/1oBvQG7AI7/7P9mAPX/jv+r/6EAqgByAK0AIABx/28AXQFDAPX/aQD2/tD9fP8uATYB3gHbAYv/5/5AABoALgCIAssDJQH4/ir/uP4K/4sCYwRlAUj/Kv/8/fn9lAEyA2MAbv/S/2z+PP+rAgADngCyAPkAb/7k/uwBUQFi/yAAEQAl/uT+ewDJ/3//fQElAdj+8/4sAIQAuwBRASYAS/7E/fn9S/6O/4YB8AAi/xf+k/2G/kYA9gD1/+z/sAC3/wv+tv06/lP/SAGMAY7/KP4y/ej8Pf40AEkAo//+//P+TP09/pUANAAz/3f/7P94AKABhQLeAEv/S/96/nT+MQFnAycCf//w/Tv9+f2aAUkDpACm/9wAQADV/gUACgEpAGkA5AGJAdf/gv9f/yf/QABlApECpwDg/3//S/7S/1sD9AK9/3H/LAAk/5r/HgKaAcz/4QAxAVz/w/8FAUv/Uf51AH0B2v8FAMEAXP9F/9gBcAKSAC4Axv8o/ir/nQGPAIz+WAC4AC7+oP7/ABAB9gBfAkwAof2+/joA+/8rAV8CIwDn/oj/z//m/xMC9wLj/6r95f32/ir/HP8c/xP/FwAmAJX+k/2v/n//zP7t/kj++vxM/WX/IAAi/2L/Tv8Q/9L+//0K/6YBEAKC/wL+d/4gAPAAewDg/3z/GgAaAOz/iQAFAWYAqP+x/4X/0v9dAJUAWgH1AXcBq//Y/rr/+QAKAtsBHAF4AIYAFwDP/pf/YAHGAYMBDQJaADT+mv8NATkBjgH+AeEAWAD2AJ4AfP9mADkCCAFO/4v/q/8Q//7+EQAoAQoBdQCF/4j/vf+7/k7+UQHFA2ICw/9X/t/9vP1dAJwDQwRTAg3/ufzl/Mn/NgLmArQCpgHP/2P+sf/eABwB3gC0/8T+wf4t/6D/EQCu/8r+H/5L/nr/rv8u/lL94v1j/tD9wf06/h//7P8t/2/+lf5p/mD+d/+PAAAAm/6Y/mL/DgBdAH4AaQDA/wr/1P+vAYICgAGF/wj+9v6vAboCGwJ+AFn/a/8pANkAxwAcAVEBNwAB/+//NAH2AKj/SP8gAIQAUgBMABoACv9u/9kArAGaAZ4AU/+o/xABkQENATQALAApAMQAhgGsAWABAAAt/z//7P9lAe8BlQDB/q/+AAA2Ae8BsgGMADz/0v64/m7/5wD+AaABWf+K/X79nv5JAB4C4QG3/13+Dv7w/X//CgKiAjQBGgBX/tT8oP5rAeEBSwHYAYwAjf1Q/Kr92v/nAakBkf9v/r/9FP3N/WMAwwEXAID+b/7T/R39Bf7P/9wA3ABW/4r9W/2j/tT/bwByAHT//P32/er+Vv/S/wIACwBmABMBWAC7/kv/0ACvAWsBcQFCARoALf9jAJECDANfAmwAr/5g/gH/DgCRAdECHgLX/2b+ev77/mwAsQLIAmUB4/8E/3//vf/a/9wAJwKXAo4B3f++/lP/CAFNAiMDjgI8Aav/Gf/S/1QBNQN7Az8ChADq/ob+IADpAQQCjgFrAZ4Ai/+D/lr+uv/8AEUBEQCS/sf9LP1L/l0AiQEgAPz9iv1Y/Z791f7m/+H+n/zy+7H89v1s/jT+CP6V/Wn9TP3B/f/9b/3l/MH9nf+u/8r+2/4K/2/+Gf/VASYDgAFx/+T+tP9OATkCAQIfAT0AVQDkANIBaALyAdYAaQD5APsBaAI5AlcBfgAxASECfwIzAl8CHgIuAXEBwwLdAm4BlQC9AQMD0QI5AiECdwFjAFoBUgPlA9QCegHqALUAjwDkAA0BMQFyAOH+8/4dAEkA8P7//b/9Nf1k/VH+z/5k/VT7pvpI+wz8PvzU/Kj8PPsI+hH6qfuL/LH7YPpX+p76gPoq+1/8pfwB/Kb7rvva+wT8Bv1A/vP+/v7K/tL+E/8sAFoB7AHLAvoDYASfA9wDWgW3BpwHKAh4CJIIoQhgCDYJmQqZCuYJ1QkHCiEK9QlnCpAKSwlBB1kG9AfECCkH5AScA8gCgwGaAUcDhQJ8/2/93fxZ/Oz7mfzI/M/7jfl19lL1tPiA+8f5Nvf99B7xQ+4r8j752/qz9Rvwtu2K7QjvGfMo9+b3ZfQh8GPvv/Hh8xj1wPft+oX7Avq8+e366fub/bQCvAdRCBsG/wQcBYgGDwtuEMUSExEYDowM8wxyD84SnRRPEwIQXA1LDPgMJw4+DjkN7grlB1MGiwbXBhUG2wQ7A2IBzP/h/rT/cgCm/y7+Rv0M/b/8+vx3/rH/XP/c/av85fwO/j//tP9VANAAz/6s+wT7mP03AGYAUf7t+kL3nPW99+n7bP17+YzzuvAA8XbxSPMD9anz++817RHuavGn8jvxAPFy8if0rvQC9hL49PgS+RD7J/9rAY4BkQLkBKsGbAh+C0INBw3YDO8NGg8UD9kPcxLKE6MQBA1WDcEP3w/4DVwNbAxOCNAEZQZ6Cf8HigOpAVMCSAEZ/4L/FQJHAhP/ZP1g/n3+L/2+/g8DfgTnAAv+a/9oAU0CnANLBSAEHAH1/w0CCwT6AggBHQDB/qP72/ol/ikASvyM9qv0fvUb9P/xEPMt9OPwoOwb7azvjO/A7Bzr2uyj71/wMvEK89jznvK+8tP27/si/uv9m/7KANECgwS/BuEIZAtrDYUNFg1hDoEPSQ/oDrIQUhPrEvQOcgsODFkNdwy2C3oMOwt8BhMCrgKjBW4FIQJYAKQArv9V/aL8XP+JATz/2vys/lcBBQBS/fP+IwOvBDUDtAKKA0EDRQGOAW4FpgjZB0MEjgEKAVn/iPyq/bECAgTN/Yb3MfZ19qX0+PNj9oD3CPNH7Y/rQe1y7pztYe3n7jPw8O5w7dnuk/G78hL0Wvai+Aj6svq3+//90gF3BTsH4waeB0QKsgz+DRQPFBBXEEkP1A71EFsTCxMREEQOvw4nDmoL2gqSDDEMoQiLBbIFAQbFA4kBVgIXBKsCZf9y/nr/9f+A/iv+TADqAB/+R/wW/00CxgEIAIABJALw/vr8SQChBC4E8wAN/wP98fnr+X3+ugJAAEz5pfQY9H3zmPKU9P73Jfb27kLrq+1971LtKe1K8dvy/O5/7FTvr/Lx8QLyhvZF+7j6Lfgf+on+eAAuAd4E6ggoCQwHCAipDFgPWQ6HDvMQPhKJEOUPVRLkE8YRHQ+nDz8RJRBoDUgNag4nDRUKlQikCPYHjgbjBTYGxgXLA/gBdwENAvsBWgEZAbUANAC3/93/PQA3AL3/XP/E/rz9kv5SAIv/wf3C/Df6XPcb+IX8if56+rT09vLv80vz1vGM8lb0afIX7q/ree0f7/rsbusO7r3wEO/17H7u6fB88Nrw6fS/+Ef4aPfW+ZP8cv7WAFoEogbCBhUHzAm+DKsNfw7tD2gR1BEAEhkU2hWXFDIS7hLbFKoTlBGREfIR3w8cDY8Mgg2ADPwIeAfYCKQHEQRJA+oEcwOC/4L/GwI0Adz9Vf2v/mj/C/6E/TP/r/4P/GP6wvwLAAr/4Pua+077xPYz9Oj5/wBD/j71OvLO9Er05vB58Vr28Pbh71jqt+ww8L7uX+xj7/jzpfEN7LfswvEr85zxFfQa+ej5Wvfy97H81P/EAAADcwbLBtsFvAe2C3MOcA4UD68QEBGDEAwSJxVWFV4SORGHE2kTnRDQD0IRGRG+DBsKKAy7DMoI6QUdB0kIYgWsAc4CSQQ0Aa39dP/mAsoAk/zI/DD/3P1l+wb90ABaAKb6v/hS/ST/iPyj+0z9dPt+9eHz6PlL/y38ePXk8hD0KfIc72/y7PcX9jfusOqc7RPvpe0r7yXzvfPn77fs8+5X8y30ovSg97L6S/rx+Ib6Mf7yARcE7wWqB0AIkggHCvALgg5lEaISdxHQDzYRxxNOFFITdRPcE6URMg9DD6MRQhEfDSwL0wvxCsgHIQboB0MINwQoAV8CcAPcAMf9pv6AAR0AnPy8/CT/qf66+1/85v+3/zj8r/o7/LD9ZPx9+6T9Fv8U+iH0Z/VL+6H97vm+9nP1AvPD70rwSfVH+CP1Xe8c7ILsLu8G8frxtfO78tnupe1T8Ef0RvY599T4Kfn3+In6FP3n/kUBewQPBnYG8QcTCVQJ/QpfDWkPNhFZEawQGRAcEPMQ+xEDE00S+xC8D9INSA1nDvUNpgyYDGQLrwjpBZoFzgaTBiEGcQUVA10Apv7e/lcBvwMpAxoAAP0q+737Q/4uAcwBQv8o+zb4Svia+wIAngC3/BX4Z/VK9DH2fftA/uL5+fI88LnxqfOR8zj1lPe686vtDeyp7wH0lPNn8X7y+/PH8gbxwfJC9575DPht+GL7tPyT/DL8U/8WBeIHCgZPBPsF9gcLCBsKhA+BEj0PGAqOCf4NbhGFEcYREhIaDzgK7Al/DosROg9VC+MKqAo+BwoG1QhTCh0IMwWABOgDXwLpAQcCqALvAn0BUgCa/13+Rv40/vn95P6S/jj9S/vW+bP5kfs7/Fn7CPr6+Pn2d/Oq9cX5HfkC9ub0z/PI8ffwyvJM9SD1YvPv8Gvwh/Hc8RDz0/V+9XrzH/PC9MP3iPgs+d37Jv05+/76qf5eA10E4AIdBFYGZQbPBXoIUA44D0kLZwqeDC8OAA9yD30QkRFzDjILkgwlEIMQGQ2kC9kLogrPCbQJBwpICZkHAgWQA/8EcQWoAoj/NwCMAZcBAADH/Rf97PtR+0H81v38/YD6X/eG9zz7GPzc+S/5bfkM+ND1jvgw+//5PfY+9OT2Tvc79Zf36vrw9sjx0vPW9oj3uven9v/1E/c89yr00/V0+yf8mfiX9wb8T/2D+rj6Cv9ZAiQCtP+4/lsDoga8A1IDGwqdDeMFzwH7CfYPegzzCEYMSQ9vC+oIqw0TEUYP3QqQB8UKpA+9DcQIGwqxDcIHNwChB2sNlwVrAhMFXAL2/WMAngQlAcv8x/2N/MH6Jv0v/bn5W/mM+hL4IPWe+U38I/aA9tj6j/bV88n32PtA+hv02vRa+rr4pPVq+M36rPq+9mr1wfqq/RL8B/iX93z8X/yG9/34xv9rArL6VfU6/mQDsfy3+xsCVASs/hf6qP8WBZkD1AKtA0wEFgXbAdgBrwg4C4AIIgU7Bn0IlgYSBx8MBA0kCuIHagZUCeMKsQk4C4ELYQeDBZ8GRwaBB+AK/wePANkAVgYcBQ0BpABiAWIBW/3w+tMAAwPr/LH4wPcZ+0j/7Pt8+G/6p/ku9u71Wvps/e75EPdi95v2sPli+6L4Vviz+XX6HfkZ94b6eP1q+SD5Ffx8/BL8S/sQ+3D83P2Y/SH8Ov7P/8f6BPv0As4Dif5G/gUATAD+/tYAEgbeBK0A7P9gABIDDwdlBtAEAgWqBLADYQPVBZYKrAnWBMUDdQT3BukGZwZOCCoJlAWOAaIChQb+CHQFnwJtAgQG3gQc+6z+PwnuBkv7zPvBBBcA2vh9/g0CU/y3/2/+mPbd/B8BTPmv9kz93gG2/UL3ffea+1P8Ivv8/QX+Tvrl+QH8wvmN/PcD8P6J9t72Hf2wAyYDgvsB+1//R/yz+cT+8AT3Brj+0fQ4+YkEgAT6/Mb/+wWVAEP2r/okBmAIAgFc/Pv/TQKF/4L8iwJiCQ8GCfwH+zIDtwVOAfkA1gecBjX8bPpMBBwJlwXkAfX/0gEYA9f/WgBPB/gJRwIj+Vn8lgZ1CGAAm/6sBMYBUfuj+8ACGQ0WCar1PfIXAKsGRgRu/7AAVAV2+HPwKv9eDicKmvcI89r8fgN3AbgARwOcAuz04vFPBLEKTgWp/pL26fcW/7T/4QSPCPX/OPW69CYA+ga3AkUBFQJa+pn0TPnpCRIKzfrs+2j/ZPky+fED+QfBBOL5Ova//N3/tQShA9AANP4i+kv67QB0BfYEfgAP/L7+S/pS/VwJeAfB/dL7ewCo/7f8hf9uCTwJbP1E9TH+gwgVA+D8/QLXBrT8Q/kmAPYIQgUy/Un6dgJlCZcBLft//GoGKQPt+vIBug0zBdH02PfyAS4MwQj5/Yb+1QHS/sr55wBZDQ4IsPlD9n0BFAsNBfn1EvnhCGgCK/dC/1ENugI27KLx+grXDSf/8PYr9xf+c/zi9csCKRP+BZnpPeMzAigU7gOI+EH8cfsz9HX1mgGIDSUMqfoI54zypA+xCSb1rP4lDMH+/+bm904Y/w+p8xHuHgLQC4EDtPc+/DQQiApM6gTsLxrTHpHw4uWOCSgYV/aI9KgWdhJS8hnrmgGoFhsS5PoK97cC0AvW/Qn1QBB1F3z4Je9UBX0Q0gWc+M8ByQWm/g4AoQORBqcEnvp19kv+kAPTB0kE4Pyo+Nj39/xc/0j/7gdwB0rtcev9Ao8Iy/yt/bL+pfTD8/r45ASDBdIBafYh7Ff6AQmu//P2yQWpAZDxDfCZAtIQwQBa9wf4ovzFAt4AlQBbA0kDePrO9Cv+uBC4DKz2cPinAL4EvwNgAWgJTwfS+sv1bgFsDz8Npfx8/J8K5f2/9XUHwRPTC2n6hvddAGQKOAe3/x0EFQ5BBwbpbfRZHRMUFPIV9CALmwyr+IT1SQdODFMCqvUi81UDvg9+ACfwtvl8CjP/Zu++AOsKUPit9dH8+fl3+9n9tgMR+mvwnv1KBrf4mvDkAWELUfpF57/13Av6Cp764etP+fQOGAK97Bz7OxaYCxrqSOupDGQWffpk8bQKig82+IvwDgTCFvINU/T09SALBQg9AJz8jwTnFPUJMPCf8e8NMBnPBQ3wVgJUEP/91fvvAugKQglI/1r6wvkcDPcOgvgr83YG3Av8/X37OANoCSb1VvTFB60DcwK6/+X8kPxR9wf4d/+MCMsKBPdh6Q76nAbn/hf9+AHUAgTwAuemBbMLGQVO+pTvlvwi/5j2zPtODFcIuveu6QX6mA/jAuX5nvpABCIJXvlw9W4B1guSCCj3/PbOCtcNP/vS+l79BwasECr/wf6MBHoFK/6u+HIIAhDGBcj42AGLAtwDxgUUAIAI6gBv/oAFDQLKBNAApfjmBgQJ2vgR/nILzAU69tDygAj2D2n63vdy+gcFgQND8nP8CgmABO/01/Qg/WgFwP/9+BT9Jvkr/nj1cvpZCaf9gvis90H1fv1yB9oC9vYW86r9oAXa9Pf4FA8VBz32HeoP/AsQBAWt+VP84wobBsPwyPHjDVwRY/4A+boByw6a/4v3UQX3BgcGjgXf/ZgEIQ5XAcL8Lfs5BoUVIQZr+5wCmQL8Ay4AuvsnCoYX/AvR5efqwBg5FfT1iPisCWkIvPXU8HsHnREyA2X0TvNKAtMHlfqZ+Pv/cgQiAbDuZ/HsDUcKa/Pl7Vb82AW5/LT7r/YG/DgHIvcA7tT81QgwBiT0D+0CBIUJt/f+8+cBbAht+TP3RwMLBPT8uf1m+r7+KwzXAq35FP5XBWD++wF8Chz//Pp8BuEIAgBn/P0CvQ01A0L7xgHsCb8LAf/L9LADpBOQCnr3i/dGC8kFe/lkB00RKAFw9GD+ogIQ/3QJMguo/Hz4lvxI/z0EsgUHAlX9EvSa/2MIBPsYAkYEs/Vi8y0CxQd6+qL84ALo+Z/xxP2uBvn99v19/kn6ivGd94sK8QZ6+zT2P/f2/Qf/jP61AWAEAP1E9L72SQfwDz71OfBnCiAPZvaJ6/sFExjtBPXoQ/lGF6UOaO/t7pQNHhb4Abjrof04HkkLP+j/8WMT2hIt+Fj5kArRCiX66/g+BrcFHQfkARL5hv7kDOwFdfJp/t0JSwkuADr2jP7ABeIHVvyw8dkA1RARCFPwoe5ICfAPofWZ8WoHZA8i/7/msPElDKoPPvwM8Q4AOQUV/PTt/vc2DSUMG/yE7Xb4gAT2BAz5c/UYBsAFIv9f+H3z8QPmBTQAAfxM+TAJEQhR9lTzMgOICgUIVvgJ+XYKjwSN/Y/2zgPCEnAD7/Rl+y0GuQuUAlj1+gPnDEEHx/b58moOQhEW+7H02AGPEDsHr/Kj93IIcgs0BCn5Wvo+B1QBy/zQAPwE4QWZ+Gf9kANgAED6S/vdBj8CQP7BAFz8VfVO/3ADSQQLBFTz6P2nA5rzIPUsA+cQ8AT58i306fuL/MH+ZwcNAlQE3PnF7Rz7dAnCCm/2ZP2fBn79lvSg96AROAuU9Lr3pgXpAuP7iQFVA1QEuwBa+s/7YglkD6/6IPWfA6cHBvyB+Z0QIRHu9Y/u+QSHCxUC7/u4AbwP/fyA9zv9Tv84C1YG1PzC/AAHb/6Z+P7/ywbSCQT7PvwFAPAAQP38+v4I4gda/s/zlvgdBKoHAQIS9Vv9WgVIAW358PbY/nQBWAPpAf7+mfwd+uP7pPYZ/ysIFAh9BUrxp/KwAPsB3f+6ARMJ8QfC9RPr6/0gCOsKfAYU+l8CNf0r97X+PAInCoYIFP3t+ucBDQF7/Tj8wgaICmz92QAN/4EA1AaZ+cf6yAMqBjEISP7z/igJK/pj8gr/yQmlDlID1vmM/i73DvqPCA4ERAbGBQf/xfUQ8xID0Qo3BDYBxfwG+Y4BTvun+SoGTgnyARL1cfe1BdADs/n++7gBWgV6+yL3MAX2BFr6P/c6/jQI2QMR/Xb8R/i//TAClf3XAg4IKgI8+7D1O/gGA9EGfQmPAOj5S//u/HD8eP3ABZgL5AE2+FT+OgCZ/P8DegUNBsz+a/cVA3cBo/5aBboC/AAOAAAAQ/5gAB8BtwKrAhMBFgFE/IMBcAJcAqz+4vltApwGcwKO//P+xfnE+uQBNgUCBUQDzgLx+QfwvPkkBjAKHAliBen4u+6P+ucAwgOuBggEagMK/zv1zvSV/r0G+Qt1AP/1qfpcArQC0P1DAOwBHf0n/PYAjgG9AmkAcv4CATH6v/1rBe8BwwHY/pP8QgGmAVP/QgHDAW0D+f2k9br/mwwwCYb+R/X8+hwFAgDA/1gD5AgEBob3+fLF/OEICgnw/jD80gVjAL7yRfd3CQoRoAEV8Wn6AgVZAmsByftI/4sFdQBa92T4bQYDDt4AGfMU+t4ATAMVA/D+twKoAoD7BPeC/BUKUwa3/LH85AC7ANr8BvwLAJkH4AKU/9762fkrAdUBJAZ9AZn5Y/4uBEYAnvolAQ8HDQHE9hf6rwj1Cbb9sPXGARIKi/xZ9L7+AhAUDG73G/Et/z4L5gVf+5v9mAjWA+v5w/f8/e0I3QkfAaj4G/wjAxsD7vwM/O4DrAmfA4702vRABJEJgv/L+GgB6wfU/7z1D/ljBJkG1QEL+m/5EwJlBdv+dvg1/RIGTgUA+R74CgFFBa8EH/7U+D78JgQWBXH7A/lxBWUGb/0Q+9D9WQKXAmAAZv6W/JwDVAjK+Zb1wwEgBzoEHvw3/mAERf98/Ej/SPv1/40KjAii/Nvyrf2lBpYDkQF7/bUAmQdvAKD3WvpcBioNewD+92n+6QHtAMQAf//TAywDYP4CAAn8FP1EAy4EzQDR/EAAIAMG/ZP9cgDP/okAaAEuARD/V/60/2/+BvzsAawBuf0VA/MABvxO+uL9BwWtA3f+lf1DAAr/zvw9/fkAbQaWAwIAK/qV+lIAwQBzA5cF6QIP/Q/5RftoAVgDzgaRAv76kP0f/zP/CgK4AbH/sgFf/9r8rf1KAukFsgEp/Sr8Ov7DATsDmgEpAFP/1P8t/5P9wQASAxUCYAAP/XIAdwFo/zQAH/+X/wgB+/8Q//MAXQFr/1/8rQCcAqD/8/2A/loB5wEw/7H82v/+AdsBD/11/cABFgFf/8H+zP+sAUwA7vzS/nsAgAHkAPL/jv89AOn/BP9//w4A8wC4ALUBpwDX//b+MQCx/2P+GgDJAaQDCgKm/639i/xT/3UAKwH8A3gEEwJ6+9b5af7xAzoE0gG0/wL++P/v/1//sgC+AAgBfP/2/f8ABQFlATQAMf68/UD+hgC9AaABCAF6/6j8sfxy/u8BtAKJAIv/Of86/lr+Av7A/18CxACY/rL+cv7j//MAyf+L/+r+fP8mAC4ArQCwABP/CP4j/c//zwEVA5EBvgCy/hX88P2nAMgDWQL4Abj+ZP0q/4EApwCMAWABDQGUAYEAQ/4C/ksB+AHeAbX+0v5SAOYCBwI8/yf/ev/S/0kANgIFASwAYwBsADD/mP7P/ub/DQKHA1IACv9T/7L+vv5O/6QAIAC1AREAoP+PAJv+zf38/av/BwIqAkUBNP5A/Q7+N/5DAMcA/gENAXT/gvxT/HH/RQHVAcz/zP5O/hoAKv+2/XT/kgA2AXIAGf49/iIBwAGU/9/9r/7qALQCCgG3//j+QABAAMz+1//SAWYE/wBL/hn/mv/NAIkA/AD1AZQBtQAi/3T+/v/1AT8BHwGAAcz/Of+0/yAA5v+4AL0BHwE6AEL/x/56/wsA+QDbAUYAhf9MADH+V/7BACUB5wDp/+b/WACM/mn9sv6YAJQCBALA/9b9hP3//aj/NwBlAfsBUP///WT9Rv7e/vwABAK3/4b+/v67/q/+bv88/6EAsAB6/2L/X/8Q/0AAQwCX/6D/tQDqAFb/gv9mAPkAHQDs/+z/QwDEAIkA5v+kAFEBEwGF/2z+0v/VAQQCpABpAFn/kf8AAHsANgFCAQUBtP9O/rv+8wB6ASIBmwC6/6z+dP5mADkB7QChAFz/QP6j/jQAVwGtAPv/q/8E//b+iP8xAOoAqgACACr/sP37/mgBjAFMAM/+vP1I/5UASAFSAHH/kf+J/r7+1P88AdIBvgCj/lT+xP7d//YAZQEQASkA0v9i/3T+BP9IAaABXQFGAEL/1P8UAL3/oP8FAdgBAgEFACr/Vv+YAAUB7/8aAHUArQCSADEA8v9Z/wsA8v+X/ykARQHTAA3/nv7n/sD/gQBpAEYACAC6/xD/u/4N/3z/zQCbAEL/Cv9f/3r/t//p/zP/kf9dABEAgv+L/wsAw/+C/3H/mv+bAPkAqgDa/+//FAAAAA0BuwAIAaQAPQCVAJUAHAFJALIAdwGUAQoBpADeAHUAYwBJAFoB1QEoAYkArv/s/yMAQwAlARYBmAARAP7+jP7k/q7/BQDy/2L/9v7H/jT+2f0Z/uH+hf9C/6r9tPxD/SX+6v6y/mz+if5y/rD9v/2y/n//t/9u/3H//v53/zQAHQB7AP8A4QDZANMA8wBXAe8BXwLYAQoCVgKgAV0BPwKIAvECOANEAs8BugH1ATkChQJiApcBJQFoAYYBCAFiAaYBSAHHAE8ALAAXAJgAtQAdAJH/w/+U/yf/ev+R/47/Rf+G/u39Jf6A/pv+ev5U/q39sfzl/IT9sP3Q/WT9Gv25/Oz7RPzR/H797f11/QP99PyK/Qj+s/3f/cz+a/9C//b+S//J/6EA8wCeAIYAkQEBAs8B6QEeAqUCqAIMA6EDZwPaAukCZAOtA6cDPgMjAzUDOAPgAk0CiALxAqUC4QG9Ad4BlwExAUUBHwFGADcAVQA3AO//uv+9/3//bv/4/v7+/v7k/p3/w/8f/13+Iv5v/lb/Zf8k/1z/EP/h/mb+ev45/8b/sf8q/7L+hv7E/uT+pv/7/6D/Fv+A/s/+f/+o/3H/JP8f/zP/9v7z/hb/P/8T/8r+j/6b/s/+2/7q/rv+HP4O/jH+Uf7B/oP+Uf7E/cT9Xf6g/mD+Lv5O/mb+/v4i/+r+Lf9o/zD/iP86ADoAQADnAFQBVwGJAY4BqQF/As4CjgLaAkwDYQMvA0kDnwP6AzQEKwT8AxcEHQTxA+ID8QMdBMsDfgM7AyMDNQP0Ar0CawI2AgECAQKgAfMA5wCVAFgAWADp/47/oP88/+f+2/5v/vb9mP2n/Zv9Kf3U/L/8Tfz7+xv89fud+3r7gPs5+976xPrw+rj6pvqb+pj69vot+1n7evti+7H7Yfx2/Cr8lvxV/bz9Uf6s/rv+Df+r/3gASwFrAU4BkQEbArECDAOEAz0EqgSABIkE2AQrBZEFsgWdBdUFEgbPBU4FUQV3BYsFOQXTBMcEcgQIBKEDnwNMA8UCWQItAtsBjAEZAXsAIwC9/9f/uv9T/7v+Y/5R/kb+5f1p/ZP9zf2//U/91/zO/CP9Kf0R/eX8DP0d/ev8Pf09/d38/fwX/QD9W/2z/bz9Hf3L/B39D/0R/V79bP14/S/9yPyo/Nf8Rv1S/TX9Z/1k/Qz9fv3l/ev9H/4r/lf+g/7q/nT/wP/j/xEALABJABwB1QHhAcMBMwKrAuMCTwPOAz0E+gP3A5UE1gTHBPYEKAUwBWIFPwUoBTwFDQUcBRYFewQuBF0EaQTrA5ADlgNqA/ECaAIwAswBdAEiAeQA2QBgAN3/zP8q/+H+MP9I/9L+3P01/Wn9wf3K/VX94/xb/R39n/yc/Oj89/zr/Mv8q/z9/PH8xfyx/Ab9IP30/Dj9Z/1Y/UD9Mv3l/Oj8Rv1k/Qb9vPzj/AD9Q/0a/bT8Ef01/WH9h/1D/WH9CP5g/sr90/10/t7+JP+m/8D/q/8AAHUAwQAFAYkB1QFBApwC1AIVA0EDlgMOBFoEtQTKBOEEUQVIBUsFawWIBYgFcQVlBQ0FJQVFBdAEmASyBHUE4gN+AyYD2gKZAlYC2AGmAYMB7QBVADcACAB0/xb/9v7K/hn+wf3W/Z79eP11/Sz9t/yc/Lz8k/xc/Cf8MPyc/Nr8Z/ww/KL8tPx//IL8xfwG/Tj9b/2Y/Wz9qv0F/lT+S/4r/q/+1f6y/r7+PP+m/93/qP93/4v/a/+F/6j/wP+X/7H/zP98/47/t//D/3//bv+O/6b/rv/U/wIAAgAdAD0ANABYAL4A3gACARwBawF0AXEBvQETAl8CVgJwAogCkQK3AiMDBgMbA4cDgQN+A3sDQQPjAhsDPgMGAw8DMgPgAnYCTQIBApEBbgGyAboBIgGPAFgATwAdALH/gv+F/1z/Cv/2/sf+jP5U/iv+N/5g/hn+cv2b/d/9sP1p/YT9p/1G/T39Z/2n/WH9TP2//eX98P2k/ZX9sP3o/RH+Rv5p/nL+2P7K/qn+7f5W/2L/U/+F/0v/UP+6/wsAUgAxAPX/EQALAPj/+//M/93/GgDv/6v/mv+I/07/Wf+o/6D/ev9o/2X/SP9i/8b/yf+d/6j/CwAaAC4ApAB1ADQAcgDnAGUBOQEcAZoB4QHGAa8B2wFtAp8CiwKOApEC4ALgAuMCwwL0AiwD2gKOAnwC9wIDA8MCPwLhAe8BEALyAUUBKAE5Ae0AtQBmADoAFwDs/+z/lP8t/y3/7f6s/mD+QP6V/qD+b/4L/tn9tv2H/Zj9wf2E/XL9nv14/S/9WP3Q/Zj9Nf2H/RH+0/2Y/RH+Mf4f/jT+d/61/q/+x/77/l//mv9f/4L/w//J/x0AYwBgAOP/5v9YAFgAbAAgAPL/EQDU/8b/l/+I/7r/w/9l/wf/Fv82/5T/ev8c/1//iP9Z/zb/oP8LAAsAQwBYACkAbwDhAPkAFgFUARUCMwKdAdgBbQLFAqgC7AJwA6EDUgP9AnsDqgOkA58DkwO8A5kDTwMdA+kC2gLLAroCfwL4AcMBwwF3Ac0AXQCVAL4AGgBl/1b/dP/4/qn+d/6g/nL+xP2V/Sz9Nf1M/Xj9Nf3C/KL8nPy8/Mj8wvyQ/IL8efzX/Pr81/wJ/V79Z/0j/XL98/0c/gL+4v1m/u3+B/9Q/4L/f/98/73/IwBjAHUAsgCwAHgA1gBIATkBEwFCARYBsACEAO0AAgGeAKcAoQBdACMA+/8RAAIA7/8AAPL/PQD7/2j/1P8gANT/w/9PAMoAdQBsAPAABQGwANMASAGOAdsBBAL+AQ0CbQKUAjwCggL9AiYDKQMbAwkD4AKxAu8C2gLUAk8DwwJBAlACTQK6AUIBSwF0AXoBygAUAOb/MQA6AGX/Af8n/+3+sv53/hn+9v0f/sf9Yf1A/X79kP0D/dT81PzR/N38y/zL/L/8zvyl/KL86Pzx/Cb9Jv1J/YT9sP3Z/cH9+f1v/qn+5P5C/0v/Vv+U/9L/CABVALIAwQDtADkBPwEfAWgBBAIbAsMBvQH1AYwBcQG6AaABXQFUAW4BNgHHAHsAfgB1AHIARgAgAPX/4//j/+z/t/9Q/5f/8v/p/6j/7/8dAKb/3f9AAEMAUgCGANwA2QC+AM0AWgGOATEBYAEEAvUBPAGgAWUCGALkAVACRwJ0ASsB9QEKAo4BlwGMARkBwQDtAN4AsgCPAGAAhAAFAIv/cf+x/8b/X/8f/zb/Af/h/rX+Ov53/pv+g/4X/iX+af4L/pP9wf3l/bD9zf1A/t/9kP28/YT9rf0u/ob+QP49/mP+dP61/tL++P4N/07/oP+U/9f/TAAjAAIAewD5ACIBBQH2APwA8AArATEBRQGgAZQBWgEcAQIBsABdAGYAaQBAAEYAOgCI/w3/Lf88/wf/z/74/j//Rf/q/ij+S/74/vv+zP5c/9f/a/9T/9r/8v/m/3sAngCPAAUBQgFoAZcB7wH7AakBcwIGA64CfwLpAgkDrgL3AjsDJgP0AvoCqAJQAk0CXwJHAiECHgLAAUgBVwFaAbgAfgCbAG8AIAD7/8//Qv8W/2L/M//t/tv+o/4C/tn9KP7r/Y39xP28/U/9Gv04/V79F/0y/VL9cv1S/U/9OP07/Zv9vP3N/fn9QP50/oz+V/53/vP+Nv+F/9r/IADs/47/3f9yAL4AxAATAfkAqgC4AM0A2QAIARMBygCYALIAcgDa/6b/3f/d/2j/Qv9W//v+Wv5a/n3+Tv5y/vP+uP5a/mD+Q/5g/qb+6v5L/67/w//a/xcAjACYAMEAZQEqAn8CKgKfAmEDigNzA6QDNASeBMQE8wTwBLsExwQKBa8EwQQ5BfwEYwQLBN8DNQMPA0kDOwM2At4B+wExAYkAUgBPAL3/Zf9I/6n+v/1v/YT9Yf0J/aL8dvw+/L37rPsP/KD7H/s8+1/7Ofvn+ir7a/tl+5T78vsP/Oz7Bvwk/I383fxP/Xj9uf3w/QX+if64/jb/jv/U/wIATAC7AAUB/ABFAcYBzAEBAkoCjgItAiECXwKRAqICcwJKAgQCMwLeATEBKwE8AeoAXQA3ADQA1P9f/yf/Of/+/m/+m/7t/tX+Tv46/sT+u/5d/pX+MP9L/3H/0v/p/zcA2QAQAR8BRQGvAQcCbQIgA14DIANHA8gDDgQUBDoEoQSDBJIEuwTKBIMEPQTiA34DrQPQA58DDAOXAj8CmgFLAZoBBQEuAOn/+P8q/wj+Uf6S/or9y/x4/X79+/s/+wz8GPxl+xz7a/ud++H6S/rQ+nT7Rfve+hz7nftR+xP7pvtn/FD8O/wa/bD9T/0P/b/9Lv6V/g3/w/8sAC4AQwB1ALgA/ADDAYICwAJlAiECYgLaApwCtAKkA9ADywKIAjsDLAM8AskBcAJEAm4BcQGXAfAAHQDg/9L/U/8W/1b/M//V/qb+b/7i/eL9N/49/j3+m/6e/j3+af6A/s/+zP9aAA4A5v+nANwABQDBAM4C7AL1Aa4CjQPAAoICEQSbBB0EHQSPBI8EYASbBFcERgSGBF0EBQQgBCsEHQOFAgYD3QITAvsBIQKMAXgAzP/p/+//a/+m/mb+Ov5S/Zz81/wA/U38iPtc+y37wfre+gf7u/oo+t/53/kx+mP6YPpX+o/63vqm+uf6bvug+wn8nPwd/Q/9Vf0l/q/+yv4z/x0AOgBYAEsBLQLkAdIBwAJqAwMDDAMjBNAEYASqAxoEPQSTA2QDcgQKBdwDwAKcArcC/gEoAVcBmgF7ACT/XP/A/6b+Kf1s/SX+ZP1K/Mj8m/1Q/Bn7JPwj/aL8bfxv/fP9Gv0U/Vf+SP9O/6b/XQDTABwBNAEnAocDyAN+AwUExwT5BBwFDQZlBi0GJAZlBqsGUAZzBo4G9QWvBd4FCgbGBZIEigNtAxUDZQJNAmUCcQEOAJT/P/9U/vz9Mf6//bH8ffsQ+836tfqJ+i76H/rC+Vv5HfkG+c74Mvm2+VX51Pin+VH6fvlV+cf6X/uv+nT75fzj/Dj8Ef38/TH+u/53/wAATwDNAA0ByQGoAq4CnwJ4A3gERgRjBE4FIgWkBAIFmgUHBRkFJwaUBSMEsANSBOUDAAMVAzUD5wGtAGkAq//H/vD+z/5P/Xn8QP28/J76cvq6+2v7N/qv+p37/Pr5+Zj6l/va+xL8AP3W/e39xP2Y/iMAmAChAKkB9wL3AngDKAWUBdgEdAVnB9AHsQYABz0IrAj8B5wH+QcOCIEHqwb9BpMHfAaGBEME/AQgBI4CeQLRAgUBd/+m/07/vP1e/db91Px9+/z64foi+m35kPmq+eP4efjL+Hb49fce+Iv4cPhN+Mj4Kfka+V750Pn/+dX6dPtZ+1b7c/xe/WH9Ov5Z/6v/B//k/jcA/gG6AgwDtgP/AyADxQL0A1wFWQaFBjAGzAWDBQQFtQQ2BfUFnQXBBJUE8QNcAloBjgEcAaj/Zf+I/z3+cPx5/Lf8Jfvc+SX6+fou+ir4PviA+lH7Q/nX+NL7ZftF98v4Of/s/zL8lf02AiUB2f1o/xsCEAJzAkcGgwn2CKUG6gS5A1ACsgSmDd8T0Q5ACKYJ6gTm+FoA3hhWHZMKngQtDpcJm/pe/XcNDBI0DPQKvgxgCPT8yfNk+L0FqQirAgEGAQlb+SrosutS9ZfzufUxAXr/mvCs65/tZ+WO4DHuYPq99x31Svic8SLjQOIT7wD5DPwRALYDFv+c9Qvybfi4AR8F0Ad7D14SFAtsBP8EhgWaBWUNbhhtGjwUPw3eBGf8Qfz+BQsQHhKSDFUDYfkV8WrtZ/El+hT9QfhK9Ffy5OtR5LTkhOnh69zu9PUr+pv2NvAb7dntsPEx+mIGNhF8EpkKAgVhB0IJmAtkGkUsASxDH9AbjR6yG+8Z4CHqKics4yjDJEwfhheuDp8KPxFzGqIZhREACzP/yewa5svwRvr49930O/EC4/vRMNE53CLg6N6t4jjlEt5/1QzWy9o23BHfYugg8s3y/ez06T/si/DQ9Uj/2wjvCWAEkQJcBkQK/g2HEtsU1hPnEzEXNhl1F8sVZRXJFSYWchdEGSgYpxPTD8MR8xOED7oGfwKABL0GfAqxDgkKV/aF4V/duuh8+B0EvwNE8MPUFcaky7zaNujb793sGt+A0AHNS9SF3cLi6Oad7K/ylvWL9C7zCvMu9p3/5hEXI7UniyAcGAgX7h0kLPQ84UbJQsA3yzGgM9I3Ejw1QEI/qTaBLaArXyxAJ8kczxQcEGcLiAZBAy3/UPQs5ifdbtwn3ZzZdNSJ0LbLVMUqwrLFIcqFyQPHv8fVzHzRldNK1QbaLeAT5GLoc/Ag+eH6mfi5/JAHSQ9lEU4ULhgOF78S5hUEISoolCTIHU8bEhp4F8UZOCKrJEYbeREBEQkSwA04C+ANsw9fDacLJAptA/H4lPDL8fn9rAyDEGUFRPC+1/zIEdRy9sARlA1I7/XNyLsevy/Tpuu5+aHy3Nr+xaXGIdXl3vThGubf6QXrwO+Q+Iv7kfTF8Sz9xxDRITEr+SraIa4Z8R5iMwBIxk7TSUVDoD4dPT1Cjku6TqNGljxsOWM6OzhqMU4ndRtrEaMNng/dDgUEOvJG463bHtl22d/aCNj2zPe/ZrkDu3C/msG6woHDrcO6wq3DCsk1z8XSMtYd3rvnOO0L7n3vxvOH+aoAYglIEWkUfxIXD4QPyRSAG3IfoyAwIKYcqhfsFXwZ6hucGjcYABfdFcoTlhJmD/oKbwgvC1QQqBLVEIAJhP278mf1VwXYFGEWBwpt9endP9Gq3pEB5xeEC3roNs1FxRLK5Nge7UD21+UfzAPDa82B11PZh9r43DPcq91J6pf3SfYR68fqs/mtCz8ZViQtKKQf1hf0IXU6AkrhSUJGGEctR/JGJU2bVA1SV0ZYQClFAkrlRHM4HCueHosVJxWcGsYYgwgr8rDibtwO27fcWd3I1kDIjbuCt9y4t7q2u8G8m7xyvGW+vcHTw/nEhsjH0CPbhuNr6FLqlepN7PLzFwCZCkkPwQ+SD9AP8xDPFP8bziGoIRoeyRy9HQQd+hqnGrsbMRtnGn4buBtwFr4M9AaLCtkT/hgIF/APOgRq9bvv+vyKEu0bTRE+/AnlVNQe1RDv8Q4oFDn3cNKcw9XIHNRi4LrsN+v11bTCssWC1a3aK9SE0snYO95j48jtRvbv72Hl2+v3AiYWexvmHYMgyh7FHjItiUKSSWNCTUD5SYZR81AjUBRRLExuQ/RE2VA7U91DBjGNJm4gkRywHnEguRY8AaTuo+d15pnil9yR2fnTSci9voq/1cGaupmz9rj4wRbBs7x+wKjGYsXfw1PO991q4rPef+FW7NzxT/En+EIF0QoEBtQGJBHyFUgQ/Q6XGQEhzBzeFysbJB1BFt0R+xj7IIgdbhVzFaMY7hIZCfUJGRVPGzgWZA/PDFwGuPqt+bcKMRxwGSsIsPk47brgrOCq+eQURRCG71HUaNEm1uHXv9637K3tcdipxWfKAdkk2dDP+9E+3iXj+OBD5nbx7+/f5uPsOQJIEBkRcRUCH5Yi8iAWKLI21j1nPBVAjUzPUtpLO0RXRuFKokjXR+ZOcE+pPh8rVyewKqEmwh6/Gg0VAgVt9LLvgvAb6TncFNc02OLS+sapwVXDAL+XtgW50MOyxbO8cbk0wbDHwsefyu/Uidv+2DzYF+Mb8EnyiPDQ9g0BrgJAAMIGlxHZE2wPghEjGkgc9BbgFaAcDyH3HeEb5h0NHW8XRBZzHdYiwh6lFckQWxLyFacXshezFl8Rlgc2AVMGjxChE2INNwRS+Qrs7uWj71UApwMg9W/jM9zt24PY3tSJ2LPextz61fvU1NbG0brJt8pB1pnhNOdy6o7sKerX5crqafpuCRMRDBaTGkIcfB04JSMxAThAOv89lkTCSMhHI0VURjRJP0f7QuZD5EV0P1I1czBiLKUh4Rc+FmkU3wsYAtv6Z/Ek5d7b49nz2zXajtEUyJDDRL+suVC7esXwyLXAiryww0LJzMUExvDQhNra2dHZVOS17qDsr+fT7sj8PAJVAB4G4RBIEVQJTQqOFegauBcHGWchASTeHGAX/RlYHhEfNB8oI3UmGCHgFYAQSBThGCAb9x0lH9kXJApr/57+XgcSEmEWCRKTB/7zVd5c2TbstwIvB+X8DO3I2lTJFMR00JLj+u2N6Zzdy9LXysbFhsjX1XDlGO3R7YrtReuL5OPhCe1o/4YMIhRDG7ccNRZbEwUcDSjAL8A3ikCDQh090jeeNuA3/DkdPeJAUUJAPd4y5SlWJH4eDBrNG2Qe3BdQCqv/f/gE8Lnp+erf7rLrkOHe2BfTP80QyZ7Lj9NS17DS28yjzFfMAsi/x6jS1d954bLczd4E5KzgDdyr5bX2BPw890r44v3X/If5fP+hC94QoAyACdUN9RH8DxYQBRcFG7kW2ROfFnEYOhdaF38ZwBkXF2AUrhXMGBAZaRfoFjISWQb0AlYN5xQGEjYRtRDYAULv/ewn+FIAKgJ1ALj6ivEs5oDcZd0Q6Hns8OfJ6AbtmuTu1hTX1t4u333g6+36+F3za+i755btN/IM+eUDYAwwDSAI4wWODQAaAB7CGo0eXiW9HJsTySejPnEznh90JL8ppxuLGbMt9TMQJKoaaxnPEEsMbBOhE1kOWA+WBlXy2fEi/zD39OnT8ij3pOK81ivjQOaa2enZnuKm3PDT2dZY19DTC9h33AjYxNdX4Hnhfttw3ifoJOmW5arq2/Lm8w3zf/jy/2sCjgH0AxUKzA22DvEScBlxHIMbshsJHk4gpyJhJU0oQSnZJvAjdySQJqslqSPtI08ipBolFOwVKhlwFlARDA6ZB8T6lPDi8VH7v/1i9FPpSePk3OXTGdTp3DTf4NW6zX/Nmc5yz6LSaNVX1ELRN9D41b/hE+uX7ILsZu+W8fXzkP1hCzgSDhRrGMIdCiCPI2YqHy9MMQQ0JTe2OeA7tzuZOW04Njg0Nl8z+jFLL/cpyyV6I2EechctEVAKBgN9/hf+Yfxt9Sfs+eOv3FvXGNbn2MXalNUUzFvHUcngyXLH2Mm40OTQX8ody67V89se2fLZN+Mk6fDmzOh/9MH+lf4D/RQEiQwIDM8JOBKxHfwePRtOHxcm3iMAHqYgDCl3K48nGiZ/KIkntCCjHJwh2iTGHF8VnRi9GOgOZAvrEvsR1gTi/ZX9C/Z/7RzzMPwk+Gbr7uGq3ofeO94r22famd3O2ffOA8+X3EHhs9bA0XXXUdht1kvgIfCu9JXu8uvv75/08fl+A+cMQRI6FDMVMxksHq4h3iOMJy0sOi5XL7IyDjbpMw0vAi4bMH0voCySKiEpvyVRICscbRnSFMwM5gVtA8sCMP9G+cX0IfCv50HeldtX36bgg9uE1gbWK9TszUbL9dCW1n3U+NAW1DvaQNvM2H3ck+Vb6ZPmjuhV8lL5+vis+q4CjQd6BYAFZQ12FSwXshfBGwgfRRwKGUscvyL0JTAluiRcJGoh4x0KHX4ewh47Hf8abxffEu0P5Q80EGUNJQn6Aw37FfEz8GP6q/+79ljpG+Wr5YnfE9ji2k7kDuPl1hXSy9r74DXaj9PW1yTdudrQ2yroMPT88ojscu419b34X/tGBM8NrxBNEqUZBCCBHuobaR98JV0n3CnQMUo4JzQmKvkmPSthLbkp4SeEKVsm9RyqFxgacxnJEGcGgAHk/nj6U/g++Wj3ce9T5VbdqNkA2hXdpN4N3JHYatZb04TPvtCz1iPa0tge2X7eXuIE4djgm+ft7hPvBu3K8vD9+wHt/vgBIAsiDa0H4QjBE98adhlEGU4fiyHlGiYWpxtmI+QjjiCdIGEiPR9BGdwXvxp2GVITQhAIEy4U8A8sC2IJ6gQd+pTwHfJh/F0A8vc87GrpXuqj5PDb7tpt4SPih9r812rho+j14MPUzdOW2u7dPOAR6iX2EPd379HsifMd+kP9JwK0CWkPNRINGG8f7CCjHO0bNiCyIyMm/SyeNf00zyvcJmYqrysUJlgi0iSKJS4fJxmrGXMZdxCkBEwA8AAI/hL5Zfes9kjvHuVq4ZPiTeF429DXptgF24Ta8dad1dDXGdgL1ALUyttm42/jwOD746Hqf+wI62/uhva3+zP7KvzIA8sKXwn6BpYLmRJUFMUSPhZlHPIcgBgTGJwdQiAVHWwb1h66IOwcHhmfGcsZaxWPEN4QjBS+FL4PmQoNCXcFtPvZ8mH1UP9+APH0SOv87mnyf+gm28rb0eUE5VvaENky5oft0+J01SbX0uCq4nrgAucz9On43vJ28Gj3eP1k/eX9/wMlDQ0VKBsVHd4crh2kHhgemR0oI3EsJjGzLUMqcSzuLe0n5B/cHtchSyByGx0bzBxgF14LIwStAzwBIvo19ez0S/N27Rnoeuf85kjgddd21U3ZatpM13jX+duL3JLXIdVu2SzeMt6F3cXhaep978TuHe4R8jj4CPoa+k7+gwUwCbII4Ao2EdEVRRXcEycVFBfzF/IY1Ry0ITUh/xszGTobWhwAGrAXshdAF9MTWRHpEbYTjhFSCw8HTAN8/LD1ovjMAScCZvYQ7PzudPNl7E/fAtyU5LToA+Lv3Crk7+yh5tLYRNbs4Bjpm+bs5LTs8Pa9+JT0ofWo/LgA+f2N/A8GYhW3HQUc+xhyG7Ye4x06G4oegCfGK5Mp7SeKKqsshSijIAIcfhuJG/oZDRhNFjwUMBFDCyME2f3g+Bv0pu+z7T/vTfHc7mznQN+h2/Dbddv42KzYddvF3QPeVt2n31rjH+Pu3pbd8+IO63DwffMC9yv69voF+ir7dP+qBGQHngiQC88QlxUgF8kVxBN5EicSCBTqF9kbtxxSG0oZWBerFdMTwxGbD2QODA7oDksQAhAzDdkHYAD3+JTzrfW2/aEAGvm477rw3/X/8lXmDd0o4Brm5eVh4ijnnPBu7x/kbtxi4Hrog+s6673suPIX+rj+YwCkAHoBegFlAc0EgAxdFwUfiR/SHMUd6yHgIRQf6B70IRIlkiZTKDoriSt7JmQeWhgOFzgW/xO9ETEQeQ6TCw4IfwKm+zL1SO/96abnrunB63npCuSy4NDfrt272FnVTdYQ2dzaw9wK4c/kjeU9487hnuPo5pXqne+N9cL52PsF/ksBhAMgBIYFmQfpCY4N3BJMF+0XGBYbFZYW2RffFucUnRXsGIsZOxbfE10UTxMGD/0KpQpLDOgLowkLCOEELv5U9oj08Pqx/1X5wu237ND1mfit7UniCeLT5ivn2ONN5TnsefAs7SDm++ME6LPtAPGW8Z7yMfbI/GcDsQbOBusGMQhnCocO8hQjG4oeOCEcJAklgyNPIhoj/iQJJtQlAyZ9JzspxybSIBwclxmMF7sTcw4kCk4IxQe9BZgAnvqz9fjvz+jv5KjlruXa4W3dZd073j3bktdV15fYGtcV1jnZ0d0l4JfgxeKH5gPpkOn56m7wMfas9wz4D/wmA/EGhQZkB3MKbg3BD/sRjBO2E28TphRMF/oZBhrnF4gVJBV/FbATLBJQEWkPaA0HDRgOWQ4CDLIIoQTQ/fXzze4Y9JD8WfyQ8XXqIu/Q9VzwZOG42Ibb7+Bt4avhbOcv7ozu3enH5snoLO0H8FXxEPOc+E4BhQobEn0UXhLHDyoRnhdjH1YkSSZaJz0qlC+dM4MyYy4wLNYqByhQJSYmNSlfKLIj/hxHFiwSyA4BCrcCyfuX9+n0//LV72nrq+Ul4FXe1dwr2KDUUtZl2c3XadSj1LTZs94S3qfb8twO46zn0ugx69XvzfUh+IX4B/ta/jEBbwQgCN0GCgWOCekRshf3FR8QHg6KE3kZ3hfiE00VDxrmGXASFQ4KEXIT4A7QBxIHPgp/ChsGGQGo/Nvvv9o20TTfte/A6NnTj9Cq4gbqvNbivxTApc5Q0b7IcM636P38Jvlx7LvvdwFVC/wHzQeSEyIjYS1cNC0/S0oFSb89LDnLQP9J0UgdQXhBqEfTRWs77TJrL2IoCRo9DKYIRwqiBrf8KPNV7izpHOAC2IPUptEwzbHJUsvM0VbVfNLTz+vSBtqB3r/eluEC69jz8/bI+Bf+8ATFBkIFBgfhDIsREBH1DZAO+BAMDy0K4wbYBY0DqP/O/C387Pt1+vf4g/fL9UjzzfJj9sL5sfw5/2UBYgJWAgMDBAXIBzkJ3ghuCe8NtxGND2cLKwwFCPf0eN5y21PsHfJt4YvRlNjr5g3g8Mj7vavGbskMu7yzeMhs58ruieOb5j39AgykB7EGcxU7Jfgo6isJPG9R11uNV95RGVYmXxhfvlVQT0VO2EpcQwg+UzsQNMcmARkBDjcEHPvk8+TreeHw10zTkNLv0VDO6Mezw77EZsjcy1DOGtPL2WrefeMK7Jb1qfpn/XEBYQd6DEgQaxQvFj8VNxS+FB4VhxNmD4sKnQUbAo/+dvil8UHtN+uk5iHhs96e3x7h7+DJ4Afh1uJm56DsQvCO9Bj8BAL8A50F3QrhEA4UcxVHFiEZFhzKG0wXLRVoFdcKxvMj4nvmvu/D6L/Wgc922UbeSNHWvxC+GMZZwg+0vLSMzKTiveRA497yKAkSEucQChicJfgswS7INRRFQFFXVcRV3llmYBZhPlvFUwxP3UfMO7UyKTGMLigj8hhlFeoQggbu/M/3nPF66AHgpNvq26TfV+BZ3aTeD+ah6hDonOX16Gbuhu9Q8DX1cfva/50BQQJtAw0F1gOb/jL5z/dJ+er2YPJs8sbzLPFp6wHoTOYI44/futxa3MLdgODl4nnlzep079rwY/Iq+HT+9gAVA4oHwgvvDXUPMhM9F6kYhhfkFGQWxBc6EyEKPAVWAlz0+d5a1KfeTOa92JXITsxg2/Lcxs1NwnLHQtHnzO/BxMh64xr2WvOC9GoK2iEgJvggkSS5Ldcwhy5vLuM0OD0dQYA+/z1PRZ9I/j8oM1Ys8yaDHDcTzxCnD7ALOArVDKgOdw2QC+oI6gThAP/9PvzR/DkBWAOdAVwFjQ6EEtgMbAjGCfgJMwZBAmABsf/8/QP94fp++Vb4u/bB8uruOO2Y6onnQOaw5qPjvt9W4aPkqePR4QHkdOe85mfmqurQ7lzwLfB18gr3LP2GAAsAMQAnAtkDLQI5AWcDcQWoApH/+wHWA4v/Evi09ATwUuKd0EDLjtUf2OvLYcOWzlHgyeCH0snNddvF5ZfcjtEj36H5QQI0+pQB2h2DMtcwNyupM4k+Sz7sM20tFDJONwsyRClnLQM5gDr9MCwqFypWJS0ZAA+iCjkGtP/b/jwFogqyDFEQZRXAGAoYeBOVD48QlRDYCSEGDgw9E7QRDA5tEt4YBRfyDbkH6QUtAhT6lvFh7WnuWu/q6wPq3+5X8o/unOk16QbqxObm4FndT9/R4SPiKOPw5vLrmu8G8Q3wqPBO89vzafId8n3zRPTa9Iz2uvfK+bn8ff6r/PH5pvtQ/BD3Y++j61HrVOOP1I/MptSN3u/YAc5x0PrhkOlt3s3TG9kW6Bfq4d+O4VT2oQeOBmAEZhMyKT8waCieJvowxThENJUqbCq1L54uVSYPIvsomi8ZKzgisCKbJtoh7xjfEz8R0gxICZII0wtjEMQTFxfKG+QfeB/vHCUcHRsVFgkPhAvzDN4MqQi6BpAKqw7JDa8IWgTvAkkA9vmq8X/tv+287Q/tme0y8ZD1p/bR9FrzIvMO8tnt7OhU55fofOhL5xzoYOvL7Xbso+tk7d/uNO8v7jzsjeqK6cXpN+t87WTtruz/7lP0gPdT9OTv7PD98CXk4NENzRDZhd3U0cPJc9Yk7BPv7uGf3nztFfkU7lveneQv+ccAqfY++WIR4iXOJaEeYSYfM0c0SyjSHAMefCHwGw4U1xWVHwEkyyGnIkAnIypDJtEhbiDmHYwYaBUQGFEYmxd1G6AgNSW4J2wmFyY/KLYmEh61FCQSpA8AB1v9Wft0/zQBdP7++6/+kQJFAZL6n/R08730kPEl6yPqWO5s8tPyF/IS9an6jvub9u3yb/IC8ljuSOgB5RfmrOf65RTmL+qw7cfusO6z7rPtq+1B7Yvsa+t16grswO+/8dbu2OuM7rfwa+g72tnT29yK4uTYCc6n0yfk4OUE2VrUkuNq9ELw/OJO5wn8iwVU+wX2VARfFcsVZQ3UEmMj7yvCJQ8daR9TJUEhtBV0EMgWmxuaGIkXOB5hJgQopCYHKIwqBioxJ00lKiXdJIIkoiVnKZcsBSurKMoqKS20KGYfgRpSGjoU0AcK/67/RQH1+wT0UvL0+CX7ovRa7+Hyi/gd9WvsbOrD76fxEOz/5rnpze7n7pfr4urQ7u7xNvCd7E7rvup06EflIuSi5d/mlefX6WjsnO0Q8LrzffYy9SDyRfPE9pb1C+9Z7L7vQ+5y4zDZ9dxR58Dkjtnt10bmc/B354bceeEg8T70weej4yzxcgCy/jz34/90EOUWkhASDhMYECDhHDEUFxOUGBwYvRG3DckR+hbbFLkS+hY+HeIefx1gH7YifSTwI7sj0SUXJ9snXyiCKaMrgCulKcYopShPJichHBzvGXMWoQ8zCe0E7wE3/q/6XPc+9QT0BfNo8wf09PVI90D2FfXp9GL0b/Iy8YXwa+9M7oHufe9E8L3wOPGC8KHu+uyw6iHpJOj55krlS+Q+5TfnM+gq6Zrsxu+98PLw4fJT9Kry+e5g7tTtbOcJ3rba2+C749DeW9oT4MrqeuuY41viUu359sjxh+mJ7rr7zQDh+nf7cgcVEqMRww0vE1serSKmHE0WaxgzHDEYdBB2DmMTlBVBEn8RNRZsG5EcEByIHaMgRiLLIbchVSLiIs8jjiQ7JRglyiNfJJYlgiTYH5IbOxq+F18RugluBZwD8ACX+zP30/Z2+Kb3kfRw9G73lvmL9+D0yPW992j39PUI9tv20PaN9aL0NfWe9iP2a/Nz8Rjx9PB673Dt7evG6zTrTugX5uLlg+em6E7ne+YM6Y7sdOtD5zrnd+iM43vaydUm2l3cINex0XTVOt9X4BjaYdqT5W7v+Ozz5zTu8/pAAKD7ZPyzB2gRYRLkEFoXkyERJickqyHpJBMosSQdH2cetyF5IVkdRRw3H+shcCGmIBoiFiS0JHokMiUsJvElvCUMJt0ltyQsImsg2B8yHvoaKBjOFvkTAQ5XCXgHUgRU/u74Q/Z/9FLyxu8m7lHvFfGa8Frv1e9Y8frxMvG08H/wJPAQ8Ofvie+P77Twc/FH8Mrud+8S8ffwC++87X/tReyB6gbpZ+m76njqVumC6QfsDO0o66Lpr+t76lHjJdxO3Nvgfd/y2QXYNd7N4qff59uS3yfpRO3w55Xmd+/U+Nn5pvet/bMHLQ2MDIINkRXaHeofiB1hHtIjgSYiJBoimCMCJxQm2SLWIkclCycyJm0lDiakJpImICZ2JR4lGyV/JQwlKiQSIvYfASCWHn4ajRZlFYMUoBDTC2sJ+QfBBI7/Ivuk+f34tfZd88Xx0fHF8WLwC+8075rvBe8g7hrum+787tDuOu4Y7QfsCuzw62nrZuqP6qbrBOzq69vr3uuy65XqR+mC6cjp++i75wbpW+ri6Sroeuj+6CrlGeDs3ZnhGuP/3+ncgN9B5VzlMOFk4TDoO+3E6wnqWfAG+Q/8MfqQ/KwEbQoJCzgKrg5xFQoZORn9GUEeFCLaIYUgFCI4JTUmhSS6JN8mhSgGKdcoHimTKRcqGipeKZco8CemJ2Mn2iW1I0kiUCFgH0wbLBedFEMTXRBXDHcJ+gbKBPsBOf8a/TD8MPtB+XL2YvRB9Ar0BfO38OHvTfCC8GPvzu1m7tPu3O2v61vqLOpN6SjnKeYr5+fnMefg5fTlHOcB6Ffn7eZg54nngOd95/vnE+g65+XmDufa5Arhft6n3/ThbeFP313fueJr5EPivOFY5snreexS6ubsefTK+bb51vl0/8IGUQmeCAYLzBFMF9kX1BZiGSYefR/AHX8dySCLJKAkSyPJJHEoxCpbKocpKSrhK5cstSsXKgYq1iqHKi8pSCcvJlYluyOgIFQcrhmaGFgWqxEnDV4L/gnLBo4CNAAAAGL/Sf38+Q/4hfgY+JD1gPN0847zsvKf8Yjwr+9F7y/uMOxp6iHp7edY5kflKuUe5czk/uNp47biJuIm4jviF+LO4c7hk+Jm44/jE+SL5MPks+KM347dwt7S4LvftN3i3r/i++PI4evhlebc6mvrEerm7Lrz7/fb95/4zf2yBBUHBwYoCH8OlRMOFLgTyxZSGxUd5xtoHOQf0CIyIgQhwiIyJnQnaSZPJiooHSr0KT4pwikcK4YrYyqlKIwnOCaUJGci9h+3HbsbLBpvF04U+xExEOMNfAojB9MEPgMuAWz+Tfxl+5L6yPjn9n32mPb89br0hvPH8mnyW/H57hvtt+wN7Cbqmuje57LnN+ca5jXl3eTy5HfkeuNA49jjSOTt46njXOQk5XDlHuUk5abkC+Ni4fvgAOKz4njiI+I64yXkZeRC5DvmWOmS6m/qHOy38Ij03PVp9v/5X/9NAhUDPAXACTIOThBQEaQTvBZCGHQYvRneHCsfgB8QIEYijiQnJaYkoyRGJownHCc9JmYmgyfMJ/8mkCaKJuslCiS6IQog9h5WHRcbgBjUFbgTfBFJD9sMkwpgCOwFpwO1AUYA7f2d+6H5/ve79oH1nPRl81ryUvGX8OTv6u557TbsIus16nbppui+50bmPuW65GjkmOPz4h/jB+SL5JrkGOWl5U/mmObQ5h/noOdU50/m8eWQ5nTnMOh06Ivo2ujp6DjpoeqO7IftEe617ovwKPNq9bL2+/ek+q39yf/8ADIDmQZXCUkLMw2hD9cRPRNmFHkWNhnuGgsbSRtZHSsfpB9gHxkgKSIcI4EiPiIxIzYk6iPCIvchFCLLIRwgRB6OHWIdKxxBGkIYkxYkFRQTuxC/DvYM5Qo9CNsFXQSoAm8AWv76/Ob7MfqL+Fr3MfYS9dvztfJ78U3wo+8l71juiu3y7DPshusF64/qyOkG6ULoY+cR5wLn9uYl53Tnpudf6P7odunO6SbqI+rU6Srpbui36PfppOo16uLpsOlp6lTrJOxQ7Bnsyex+7g3wcPBV8e3ycPTx9Zf3ivm9+/z9/v9oAtsEEgcwCesK6gx1D18R9BLyFAgXrxgvGpUbdBwzHTIeNB/TH4sgRyH0ITsipyIuI2wjPSNvIkchKCCvHzcfOB69HEMbLBrVGFoX1BUiFFUSKBAnDmAMkwppCLcFtgMzAnUATv7M++L5t/ia97z1uPNd8i/xne9Y7kHtEOyS6gPp2+cI52/mqOVW5Z3k1eOm49vjBORy4z3joeMi5HfktOR85XLmaebi5eDlIufa6OvpT+p+6ufqcetC7ErtOu677qDv9/C+8kr09PXV9zv58/ru/MT++/+pAdMDvQV7B1kJZAsnDfcOGRE9E94UTRbzFxMZ3Rn3GrUb6ht6HHYdSR6cHooe/x6DH9AfpB+AH1cfeB6lHb0c2RsRG0oaGBlJFyYWRxXBE+wRLhCTDsEMNQumCc0HwwXcAxgClQBl/6394/so+mr48PbL9XP0xPIm8STwSO8X7hjtM+wT6wPqlung6NvnOucL57zmLObo5eLlq+UG5sTmN+ev5zno1+gb6XPpFOpD6tfpF+pr6/rshO3X7VjuC+8z8EHxY/JF8+TzhfTC9U73uvjf+Sr7y/x3/kkA+AGwA7UFswduCcsKDgyODf0OQBCIERETYBRWFT4WNBeJGGsZIxqzGt8aBRtdG1cb9Bo9G4AbTBvOGpMaahoPGjMZYBiMF3YWkRUQFJYSNhHqD8IOSA3KC0cK4QiTB1MGkgTLAloB+P9X/r/8hftA+hX57/fB9nD1TfQ08yPyzvCS77Pu1O3y7Lvrzeog6tHpv+k46Z3oXOho6Gjo++cW6LToVun66V7q6uqP63HsL+2t7dTt3O147ivvVvAb8bnxXfLZ8rLzq/ST9fn1gPZc94X4jfkK+0T8QP2b/loABAJVA+QEnAZRCOYJUguvDFMOMg8fEJcR7hLzE2kUMxU7FtEWOhftF9IY0hidGNgYLRk2GRAZrxgrGPMXQBeZFkEWRRUTFLYTUhNHEgoRhw/4De0MswskCoMIKQdNBgcFTwMkAiUBt//H/vz94PyU+0D6WPlW+A33RvYj9dvzNPOb8pDxf/AE8Gbvde6Q7ebsi+zJ6wXrnuqN6rbq/Or56gvrgOsn7NHsUO3U7XjuAu+D7yTwsfB58dzxHfLK8snz1PRe9eX1bPab9vD25veW+Az5ivlR+nf7k/zK/fv+GgATAYgCLgRCBUoGgQfKCK8JmQruCzwNCQ7xDi4Q8BB5EQMSkxIXE60TSBR3FHQUwRRNFU0V/hTSFO0UkhT2E4wTJhOlEtoRNhFdEJAPAw/SDX0MtguiCvAIrQfpBsMFcgSQA4sCYgFdAI7/u/62/cv8Bvx3+6z6tvkA+ST4Gfc09oH1pfSG88ry/fEv8c7wWfDJ7x/vQ+7c7bzthO1K7eDsG+2H7eXtN+6Y7mPvR/AA8W3xMfLw8mDzB/SL9Ef1+fVv9gL3hvdk+H75HfpG+u365vuQ/ML8df2+/nf/BQAIAVMCcwP0A9sEDQYVByII6gidCWQKBgvKC10M8AzDDUoOyA5PD/MPLhBFEGkQ+xBxEV8RLREEEfsQzBBFENYPxw+hD1IPog66DQcNgAyeC6gKjglsCIoHqAZrBf8DPgO0ApQBQABZ/6n+Mf4y/en7cftf++H66Pks+cX4iPjm92v3Dfdd9qr1GPWo9CT0pvMx8+HyhvLu8bzxwvFz8WHxW/F+8arx5fE98jfyb/L28qnzYvQs9aT1GvbK9sD3lvga+aH5ufld+i37wPtn/BH96P3B/lD/4/+1ADQBEwIvA/EDIARSBB8F7AVZBtQGZwcICG8IuwhCCaMJ+wkwCi0KYQrICv0KCQsJC0wLrQvwCwsM6AvWC6QLfguNC0ML9Aq5CsUKkAoECo4JCgm+CEkIswfXBuEFLgWABHMDkQJHAnEBTwCO/+f+YP7H/ff8LfzS+4j7HPvB+k76/PmK+WH5O/nR+GT4+Ped94b3dPcN9+H2e/YI9v/1F/Yd9iv2CPbT9RT2Y/aG9q/2DfeI9/73EvhW+Pr4Z/nc+SX6qfpO+6D7Ffyr/C/9xP1d/sz++P4//5f/LgDqAIMBGAJzAsgCKQPoAz0EUgSVBNsENgU/Ba8FOQZEBjAGRAZlBtQG0QZ2Bo4GzgbdBpMGnAafBs4G1wZ2Bj4GVgZZBgEG2wXmBRUG9QW9BYMFMwXWBLIEsgRGBK0DLAPOAlwCPwLVAfkAjwB7AC4AX//M/oD+Iv6//Yf9Kf3X/Nf8efz4+937vfug+1T72PqM+lf6cvpv+hf61vnN+Qj6F/ro+bD50PkU+mb6bPoX+mb6MPt6+0X7i/vS+1D87vxG/U/9af0F/iL+Jf6P/hP/HP9x/0kAYABAAMoApgGJAUIB5AFHAhgCOQKrAt0CqwLRAkkDTAONA78DnAOTA60DzgNPAwADLwOEAzUD7wJHA0cDAwPaAvEC1wLFAv0CsQI2ApcCqAJiAlYCwwKUAgQCVgJzAgcCsgHpAcMBVwETARYB1gBsAJgAXQC6/3H/jv9O/8H+Y/59/hH+m/3i/aH9Jv0m/V79Kf3U/P38/fzX/OD86/zO/D78Mvyx/M78vPzx/OD8xfzu/Gz9lf1Y/af9Tv6P/kb+ff7+/vP+5P5i/9r/rv+o/zEAhABMAIEA5wD/ANYA5wBXAXEBYgGJAZQBdwGjAd4BBwIHAhAC5wH7Ae8BrwGaAYMBkQGJAW4BMQHzANYA/wA0ARYB/ADHALgAiQA0AG8AygDHAGkANAA9AJ4A/wDHAI8AuwDtAAIBxAC1ALsAngCSAKcAsACtALsAmwB7AEkAQwBGAO//uv/y//j/o/8w/0X/fP9I/wf/M/88/8r+zP77/r7+Tv5v/tv+Y/6w/cf9F/4U/uv9CP4I/tb99v1U/kj+Dv59/sf+rP7q/lb/o/+6/4v/0v/7//X/HQApAFUAmwC1AIwAxwA0ASsBAgETATEBYgFaARABCAEWATwBVAFIASsBHAF0AVQB/wAcAS4BHwHHAH4AZgAUAAIAJgDy/7r/6f/m/4j/pv+a/zn/XP+j/47/EP8c/6D/pv+R//X/IwDX/xEAaQBdAPX/UgC7AEAALABjAHgA7P8CAKoATABo//L/rQAFAM//RgA9AJr/sf8UAOP/Zf/G/wUAZf9f//L/9f9o/4L/5v/y/5f/mv+X/y3/a//P/53/BP8i/7f/1P+u/8n/7P+0/7r/BQAxAAAA+/9PAH4ArQCnAGwASQBSAGMAaQBmAH4AxwCyAGkAiQDeABkBpACEANYA5wBdAAAAwQDeAGwAIABDAIQAMQAdAFIACwCU/5r/7/9//9X+9v4///D+af7K/i3/o/6b/iL/Vv8K/wr/lP9u/0X/mv/g/wAA6f8CACMA9f/j//X/ewC4AHIASQB4ALsAWgAsAGAAFADM/+b/+//v/5H/1P9dAC4A+/8RADcAHQD7/wAAAgCo/3r/sf+3/8P/o/+g/93/4/8UABEACwBPABoAqP+u/0kAbwDA/93/jACEAC4AhAAcAd4AbwCtACIBsABaAPkAFgEuACYACgH2AHgAkgD5AJgAZgDtABABNADs/7UAeAAAAHsAuwD4/67/NADy/2j/4P9jAKP/SP/G/6v/+P6p/lz/UP8c/jf+Kv+e/v/92/5F/6b+if4f/1P//v4q/4X/J/8f/+z/JgCX/5H/DgDd/6D/YADBAEAANwCwAJIA1P8sAK0AMQDv/2MAqgAsADEAsgB+AAUAMQCEAKcAeABaAHgAOgApAEMATABJAFoAsgBPAMD/IAC4AHgA+/97AMEAXQDv/y4AcgAaAC4AdQAUAMb/WgCtADEAAAB7AHgANAAjAFIADgDa/+//wP/y/w4A6f/A/+P/BQAdAOz/LgBvADEANABgAFoAKQCGAKQAIwAgAIYAaQAgAGkAlQDm/6j/CwDm/zD/Zf/X/+3+u/5x/xD/Zv67/nH/Af9v/rX+B/93/nL+Rf8H/2z+BP8UAFb/Df8xAEkAoP/7/5gACAA8/+n/sADy/4v/PQChADcAWADBAOoAlQAgAHUAsgAxAPj/PQDp/6j/MQCJAHUAPQChACgB0ABSAJ4A6gAxAMD/TABsAPv/TADwAN4AtQCaARAC9gC+AMYBhgHU/3z/4P/Y/rD9tf7P/0b+K/5JAFgAm/4T/8EA+/7X/Av+z/7g+336FP01/VT74v2fAngD6wP/B9cK0AjuBzMKcggdBMUD6gTpAaD/ggLoA6QAmgGIBcsDiP8HAs4CK/q99HT3xfUY7XzsQ/I78QntqfOO+435dfl3AXoFIwA9AG4FmgHJ+6z+BwIa/S38pwO9BmQDPge5D70N5wiIDbwPpAdzAwoGOAMS/Lz8YAFZ/4j8twJ5Bn0BhgEJB04FkP3z/R8Bd/s49TD3MfrC9Y7zK/rb/uD8K/5jBB4G3wMXBP4FzQTZAEMArAF//4v8p/00AI/+cv6aAaQDpQKyAZIE+gOg/4z+uP6I+wr4pfgI+jj4BPjY+wL+e/3v/xoEpwMHAtYDhgQ8AUL/oQAmAE/9v/0NAd4AFwD6ApoFgATFA+8FEwXJAfwAFgGM/uP7Bvxc/LT7rvuh/ST/lP+PAMABEwJgAUIBpABQ/0P+pP0g/fH8hP10/tX+d/9LAaUCQQOnA9kDjQMpAzYCNAGqAKD/Cv8K/1b/DgDTAPkAOQEBAicCqQGRAfYAqP+m/gv+fv3d/Ij8sfwD/Wf9Rv7+/jz/wP+wANwAbwA9AF0AGgCX/6v/AAAaAA4AEwHkARACMwLAAiYDlALvAcABZQFPAC3/2/61/qf9TP3T/Rn+h/2T/ZL+af7l/WD+pv7r/TL9lf22/SD9Xv0U/uX9eP0W/0wAev9I/0IBSgIKAfAAbQL7AWMARQGOAroBKwHLAssDAwMbA0AE2QPIAnsD6wNBAq8BnAKIAtMANABRARABHQC1AFcB7QCtAAgBHAEFAJf/EP9j/rP9Pf1J/d38gvyf/Jb8Tfyl/BT95fxN/I38lvz1+337Rftr+2L7hfse/Ov8nv1s/kL/KQANAaABJwIbAkcCsQJwAnACYgK3AhUDVQM0BDcELgSbBNsEpAQ3BEYEbQO4ASUBrwFoAT0ANwA/ATYBKAFEAk8DRANPA3sExARSBFQETgVLBWMEHAXbBW4FLgUtBt4FbwR7BMQEJgPWALH/zf0y+Xv1rvSJ86Pv1etg62brKepO6FTnnecQ6Evonefw59/qbe2/7fDuuvPj+G77Xf4xBFkJ6wvlDsoTche4GMgaPh1qHhQfPyDGIO0fAh9YHqAc6Rk0GKgVmBA0DL0JGAbv/zn7Uvkg9izxC+797IzrMunw5/jnsueb507ojeky6iTsa+8P8cfyx/bw+vH8SP+nA5AHYglnC6IOuBCaEeUSLhR3FF0UlRQfFAgTohLpEccP2g2vDP0KMQiGBXgD5AC5/cH6CvgM9YTxyO3o6T3nAOZF5M7hm98E4HPh0uAK4BLhPeMz5HTkaebR6TjtTu/l8bv2q/xRAS4FDwrNDxAU3BakGikemB/nH68gpSHxIXAhqSDeH04f9x3/G1saSxhZFRwRCg26CW4FbwBf/Kf5ePZJ8sPvte657VPsH+vQ6kjrJ+wq7L7rUu167wrwX/Al8+32dvjH+df8sgBEA6QEwgYBCegKegxCDaAN4A5OEBQQbA9OEMYR8BC8D2MQuxCHD8YN5wzlC/sJQAgSBoEDwAEuACD93PlN+CP15O8u6/3p/udv4iPe4dwz3eLaj9ho2A3ZwtoI2y7bc90M4sjldeYL6tPxXPhW+/7/2QdqDvURWBajHKwg6CKiJTwo3ykZKxAsRStgKnIqVignJaEifSBFHHkW3BIdD70J+gOX/8/7/PYi86Dvjuxy6gzpF+f75Jzl7eaY5q7lUecX6ijrguxu7/DyfvWg97j6cv11AKQDaAW6BkIJ3wvuC5YLXA2zDoUNuwwGDnwOMA1pDKYMngwUDEwLDwoECdAIsgjRBpcF3gXQBBUDKgIqAsEAwf1c/Iz6ffaW8cHuF+7X6QzlSeI+4Xfg/d293NnbUdxq3Yvcmtyb36njveSC5dnq3PH89bP5mwCEB30MEBHxFjMcrB9RI+4lASj0KRss3SzYK0Us5Cu8KXEnSSZyI9QdkRmNFjMRmQrABQQCbfx19q/yjO/Y6/DntuV05GbjXuJk4WLhpOIw5NrkPeY16TnsRu698An1Rvna+wj+kQL9BrII4wlDDEwPFhA4D+UPWREWETIPnA57D08PwA2ADIkMrwybCwEKcQk8CQsISgZoBXQFPQT4AR8BDQHg/0z9GPxp+o/2SfKP737uXupN5b/hsuA54D7drdoJ2sHbZdzI2tDbmN8f4znkDObe6xryafaJ+h8BdQjVDWQSORhEHrAi4iUZKNYqVS2ELnIuky1KLScsgimtJjMkJCHhG7kW0RLXDZwHcQER/Vn4mPLo7UbqkudZ5N7gBd9J3+Hf7t6E3ojg8OPE5kLo1up377XzwfYF+hn/3AOLBscI1gv/D98SgRMTFFkVShbLFXQUxxNGE6URbA9IDTcMVQtLCS8HaAWABMsDLQJgAB//+P4C/mT8d/tR+zn7fvkY+Bj4dfbq8pTvKe6z7QvqAObt4+Hjm+OI4MveZt9K4UThg99z4evl7OiZ6errMfL49277o//GBUsMjxCXFP0Z3B5GIkgkhyaxKEYqxyrrKTUpzCjcJuQjISGEHtMaTRW1EA0NFAiLAmf9Sfkm9SnxIO7K6oLoS+dK5Z7jj+Of5TvmXOX25njqvO1R73bxL/U4+RT9yf8VAoYF+Qg4CwIM4w2+EFYRbBBaEFARLRGeD2QOlw1DDFILoAlqBx4GrwWvBC0CFgFgASgBrv/P/m7/Vv+Y/mD+4v1s/RT9G/yV+vL3kPU38vXvQO4R6y7nrOOJ44DjCuGw3tDefeB34KHfTeGp5IznKunk6+Pwtfap+4L/4QR7C/sQXxWxGe4e3yKaJEwmeShVKiMq+ygQKFEntiXCIvkf9RxrGdIUSBB9DEMINQOq/af5QPZD8lXuxOtJ6s/nZOW35Ojlr+e451HnnOnZ7e/wy/Hy8+n3Yvvz/SMAeAOLBkYIowl7CzsOvg+2DwkPAw/ND/cOEA2/C3wKCglnBwEGxATCA7ADfAL/ABAB0gF3Aab/Tv+hANAAa/+J/ir/H/9k/Z/8OPxX+g33jvM08qXw3+2z6UzmI+a85TTjP+A24G3iD+Ly4OLi1uZ56QPqwOxM8tX3J/zm/9MEuQppDxETKRcFHIMfLSHlIlwlOieSJ5UmHSaiJYMjryAPHr4b+RcgExEP0AtdCEQDMf4q+zb4RPRc8E/uxuyE6R/nhuej6GXokufP6MTrre5C8MjxavVB+eP7qv2hALsETAcrCJoJrAwvD08PWw+MENQRhRExENYPWA9HDucMOwtiCToIAAf/BLcC5wEbAtkA0v51/QX+HP4y/NL6ifpa+l75lPeP9vr0fvLh7lbsOeyV6s3mQOOp4/rleuRQ4RLhOeRv5jjl1OXU6TTu7O+u8D71t/tJAPEC4AYZDUcSdhUlGCUchSAyIgYiWiO8JSkm/iNeIooihSEjHqQa8hi5FhgSiA3UCg4IcwN3/mX7Cfl19YfxY+8p7vvrYepG6kLrd+v26pfrhO7I8S7yr/LC9QX69fsy/Nv+zgKABe8FWAexCvMM4QwBDdcOXRD2D2cO1w0JDjUOmAx/CpoJfQl6CF8GKAXhBNYDLQICASwACv+2/RH9z/uG+i76VflF95n1G/X/8n7uNOtu6+fq6Oa54gDiWeTA5NrhReCq4n7mAuf05dfopO6T8SPxzPMt+1oBYQOLBU8LBhKOFXIXlhrTHtEhRiJAIgQkHSYYJbEhWSDsIBof7hp7F/0VQBN/DrQKKwhUBbsAc/wf+gr4XvXx8UXvre7h7vrt2+uL7Ajvu+9X76XwNvQ99tP2vfjp+9X+EQAIAVgDXAbbCBAJSwmbC8ANMw0iDIsNvw7BDMgKGgtvC8YJWwdNBtUFJQVJAzYBWgBpAC3/hfxx+yH8JftN+Jf3f/iD98D0xvMt9HbxtOzn6lPsK+tY5ozjiOQI57zmoeNv40Pnueog6k3pFO4k9Ef1OfTR+KcAMQTkBBoInw6tE9EVHBhvGwIfLSE1IWEhmyPaJHIiiR9sH6cfVBwCGPcVQhRREP8LkQnrBoUCmP59+/H4QPYT80rwNO7C7dfs4uph6vLrtu1N7cjt1PDP82T1xPa8+d38+P61AKgCBwVGB7sInQngCgoNig4YDr0Nhw5PD/IN2QuHCzILSwm/BnQF8wTIA24Bcf+g/lf+6/xv+qT5ufm/+Pz2Wvay9gL2gvTV84DzLPEs7iztF+7G7CHpGefy6MHrYeoH6Pjo5uwL7wntbe2S8u320PYR9kj75wExBK8EAggnDtoRTxOUFeQYgxtuHCEdOB6GHwogJh5IHG4c4Rv4GCEWvhR2EjgOuQq+CEgFiQCT/YX7uvcH9HXyRPGk7vLsw+yl7Ijsl+xB7WzuU/B+8kH0KPaH+Sf8Ef0T/+8CjgUKBnAHOAo0DGYMIg2FDuUOeQ5HDtcNsgyzC9EKTglPBwEGqgSxAhkBFwB3/mf8DftG+ub4/vdR9/n1sfSU9F71PPQF80LzYPNk8QvvHO8N8OHu8OsC61bsy+1b7ULsZO0t8KXxc/Gk8uT2s/ln+W/63v4rBHQFzwViCWcONhF/EW8T0RbVGAQZBxleGscbVBuXGT8YHBguFy4UuhFCEMMN1QnRBjkFRAIo/lb7e/ma9yz1gfKT8XPxCfGr8FPw7PA98jnzHvTu9WT4hPnY+sT9kgAKAvoCiwXxB+cI+AlbC0AMkgyyDNIMqQzQC9oK0gmJCHUHrgYfBeACjAHHADb/D/2A+1f67vhl9yD2IPVw9Onz8/J18sfyDfPK8oPy+fLk8pbxqPBY8Qjy1PBF77LvYfFg8rDxmfHS83j2ffeX9xX5XPyj/qn+kf8+A5EG1AZGB5kKIQ5MD2YP6hCME8YUWhTqE9gU5hX1FEYTkxJwEmIR4A7YDN8LTQoDB9MDwAJuAZ7+7Pum+ij6HfnV9wT35/YC9yX3Ofem9/T42fkd+gf7+vy+/n//hgC3AnsEEwX1BVUH+QclCHoIgAgdCK0HKQdKBjwFgATCA3YCYgFmAEX/1v2C/Iv7Mfrd+Hf3Q/Z49ez0M/RO89vyPPOR8wXzx/KX85H0f/Q89Lf04/Ts9CP1XvV79e71dfav9tX3F/mq+Wn6mvv9/CX+Qv+JANUBVQN7BGsFqwY6CGIJOAo+CxcM4QwnDVYNnQ0PDm0ODw7mDQ8Oqw1sDFgLFAttCigJnAczBjwFOgSCAscAoQBpAEX/H/78/Uv+tv0y/ZD9Lv4Z/rD97f0K/8z/t//X/5UAvQFNAjkCawJbA84DZwPDAqsC3QIbAiIBzQBgAIX/cv6h/RH9R/yU+7L68flv+a74xvc297L2KPZ+9R31JvUj9fH02vQp9Xv1jfXr9dP2lPfJ9+/39/ju+Yb65/qI+xX8RPyQ/Ez9Tv7w/lb/w/+7APIB5gJYA8UD1gTPBSQGIQaIBgYHBgcDB1IHtgd7By8HLAcvB6cHlgfxBg8HwgfxBx0HvwbRBnYGXAX5BEsFBAUuBFsDRANtAywDnwJHAkQCnAIwAsAB5AEKApQB+QA/AboBVAFsAE8ArQCMAAUAuv+U/73/nf8f/8r+xP5R/jv9hfx//Fb8Wftj+mn6ifrQ+W/5cvmN+Vv5Hfkg+e741/gD+eP4gvht+Dv4Evg++MX4+vjx+BX5qvl9+rX6EPvS+yH8D/xc/Lf8F/2n/QX+SP4Q/xEAoQACAfgBMgPLA0YEYgUbBh4GggbmBj4HHQcGBy8HAwcJB/oGQQbeBSQG7wVRBdgE+QSeBLkDZAOZA14DZQIYAvsBowFxATkBAgHtAN4A7QDWAMQACgH/ABkBhgHVAYMBSwH1ARMCAQLPAW4BhgGdAewBsgE0ASsBKAGkAOP/iP82/7X+Bf5e/Q/9wvzJ+w37KPsl+4P6/PnQ+bb5gfkX+eP4Nfm5+cL54vkx+tL6u/qD+kv7+PsM/O/7OPyl/Hj9wf3i/T3+m/7k/kj/kf+0//j/q/9i/8P/sAC7AFUA0wCOAc8BtQEnAukCcwPLA/QDIARpBIkEbAR+BIMEZgRABEMEFwTTA9YDtgN7A2cD9wJ8Ar0C1wJrAv4BiQHzAKcAmAAuALr/q/98/0j/bv/1/2YAbwB1ALIAwQBdADEAWgCGAHsAxABRAZcB3gHAAQIB8ABRARYBhgAsABoA5v+X/1//+/6V/jf+3P3B/a39k/0X/XP8fPyx/B78+Pvy+0f8t/zL/Ln8mfx8/DX8fPzU/Nf8L/3Z/QL+kv4k/yr/6v7w/lP/iP+u/4v/dP+r/4L/XP+0//X/5v8OAL4AFgFdAfsBBwLMAcYB4QG6AZoBRwIAA1UDagOzA6cDAAN/AjkCJwIEAhAC/gHkAcwBmgG9AZoBPwHcAKEAtQCSAEkABQDM/53/aP8t/1//w/+d/7T/NwCMAFIA+P9GANYABQG1AJsA3gDcABMB8ADqAP8AzQDkAFoA1/8LACMAi/8q/yT/z/6S/q/+qf4u/qT9vP2h/UD9df3z/dz91v0U/hf+H/72/aT9s/1U/o/+Wv5U/nT+Tv4f/n3+Kv9f/1n/i/8LAH4AYwD7/wUAIwAIAK7/sf8RAAUA9f/m/60AKAHeAB8BxgEqAvUBOQKZAnYCXwIzAgoC1QHYAfUBrwGXAdsBDQI/AkcCUAINAoYBmgE8AaEAvgDKACwA9f9jACMAJ//e/u//XQBW/zD/HQD7/y3/5/53/+b/oP9W/8n/uADBABQArv9JAOoA+P8f/+b/LAAi/2n+Af+0/27/Fv+O/2wALgAE/4b+9v4w/3L+x/2D/lD/2/5p/vj+mv8K/3L+u/42/2L/rP5A/gT/EP+m/mn+o/6d/67/HP+C/6oAYAAi/8z+SP+L/27/aP/P/4EAhACYAPwAYAF6AcQAvgCmAZQBKAGaAS0CPAJlAU4B4QEqAuwBnQHSAZoBXQFLAYkBzwF6AcoADQHYAXEBKQC0/wgA1/8Z/6n+Vv/J/1b/Zf/d/8n/w/+9/1z/X/9i/yL/Zf9VAGAA9f/p/4EAuADs/+//bwAXAHf/ev9u/1P/Qv9L/1D/U/+O/6D/w/+0/2j/Fv/w/jD/P//z/p7+z/5x/3r/Yv/a//v/sf+u/93/Wf8k/2v/mv+X/73/7P+U/6P/vf9Z/yL/7P9dANf/cf+6/5T/9v4T/7f/4//d/0YAewCYANwAEAG4AH4AtQCkAJsA4QBuAcYB5AHbAdsBrwE5AUgBZQGMAZoBhgFdAQoBwQCYAI8AdQCPAOEAwQApAEAAjACu/6n+m/74/hz/uP7S/jz/a/9l/07/l/+x/6j/bv90/8b/w/8w//P+f//M/5T/l/8mACMAXP85/8//xv9c/27/4/80ADoA4P+O/67/kf/7/iL/zP+6/1D/HP9W/53/JP/7/gUAeACx/3H/t/+0/4v/H//Y/n//KQAgAA4AvgArAacA5v/a/4YAEQAn/3r/jwDEAGMALgCSAOQA3ADkAAUBSwElAZIAIwBGAIYArQCPAEsBzAFLAeoASAFaAQoB/wCnAOQA8AC1AKQABQHwAEAA3f/+/3IATADj/9r/qP9Z/zz/Iv8k//D+o/6g/gf/Nv85/wT/+P48/0L/PP8T/zP/Df8K/3r/tP/P/53/kf+g/2v/f//X/wgA/v+0/5H/zP/X/07/xP5Z/xQAz//P//7/7/+L/+f+Iv9I/2v/Nv8N/7r/vf+o//7/mwBmAOb/4P+hAPAALAAFAC4AbABjAEAANwC4APwA1gANAWIBdwHkAH4AmwDZAPMAaQBYAA0B/ABsAJsAVwGaAVQBIgEoAf8A+QB+AGAAoQAuAAgASQDWAMQAWABvAPwAEAECAGv/sf+X/2v/o/9//5r/qP8B/97+6v5d/j3+kv6D/qP+7f77/k7/sf9i/4j/gv/V/u3+JP9c//P+r/6C/8z/aP9o/xoAZgC6/3f/yf+R/yL/Cv+C/9r/4P/g/53/jv+u/7H/jv+X/6j/pv+O/53/BQCx/5r/oQDhADQAPQAoARYBgQCnALAAhABJAAgApACGAWgBsgEVAqwBlAEfAX4A2QAQAQsA4/+4ANwArQCSAPMAdAHcADEAeACnAGMAFwDS/7f/QAA3AMD/TwAZAdMATwB1AP8A5wCg/0j/3f9u/9j+Of+g/73//v/1/8b/tP88/9j++P7z/rj+mP7S/ln/cf8Q/9v+aP+C/wf/Qv9L/w3/HP85/07/d/9f/wH/Kv9L/9v+5P5i/9f/mv8z/4L/OgAgAIX/5v9JAMn/l//D/8z/CwACAAUAgQC1ALUAsgDZAA0BfgARALgAEAF+ADQApAAZAR8B6gCAAQ0CTgG7AOoA1gCnALsAbwCtADQBpAARAEkAgQBVAAgAUgDqAPkAMQAUAIEA7/96/z//hf/1/4X/1P9pAEMAUgAaAM//2v/U/3H/Nv/j/+D/ev9O/x//d/+m/2X/Wf+U/2v/Zf88/8T+wf4c/8T+2P6r/9f/rv90/4j/uv96/1b/xv8IALH/kf+r/4j/iP96/6P/FAD+/zQAWgARAAIAyf+j/9r/AgCd/7f/BQD+//X/OgDeABkB8AC7ALgAmwCqALAAQABGAPMAgAElAf8AawFOAZsAIwBdAOcAjwAXAG8AmAAjAPL/aQBDACAAVQA6ABcAZgBgAAsABQBGACMAl/+a/8D/vf9F/2X/bABpAMn/7P83ABoAd/90/+z//v+r/3z/wP8CAA4AS/+v/lP/+//M/27/qP8gAO//EP/t/vL/tP/E/qz+Af/w/rj+r/74/ov/f/8n/1P/HQBSAKb/+/50//j/M/+S/ov/iQC9/7f/lQDWAIEAOgAQAdsBHAFAAGwAuwCkABcA3f8xANwAzQBsADkBegHeAIQApAANAWwAU/+a/9MAewCo/zQAuwCwAGkARgC4AA0BcgDX/0AApwApAOz/4P9AAIkAIAAIAHgAAgGhADQAmwBLAbAAlP9DANYAAABI/67/bwBdANT/5v9VAGYA+/90/47/FAAFAEj/EP9r/1//6v6A/uH+H/+V/pv+Gf8//+H+tf4q/y3/qf6S/tX+EP/4/gf/Wf9L/27/zP+u/+D/OgAxADEACwByAG8AzP9PAPwAcgC3/wAAjwDy/3//FwA9ANf/oP8aAD0ABQDd/6D/DgA6AIv/JP93/y4AZgDJ/0AAWgEcAUAAfgBrAXoBEwHnAIABBAJdASsBdAGJAZQBSAEcAX0BqQHzAKEAFgHkAPL/1P9sAJIA7/9u/0AAZgBr/z//vf8RAOP/l/+m/wAARgDm/8//GgBpAJ4A7P/S/x0A1P9f/53/zP9W/xD/Gf+U/1b/X/+j/6P/Tv++/lr+5f38/fn9//1U/ir/aP8Q/yr/cf+L/wT/g/7B/gr/EP/h/rj+u/7w/lb/gv9//6v/3f/J/3r/bv/X/5r/Nv90/+//1P9i/8D/iQD/AEgBYgGpAXAC7AH5ABYBJQHzAJUAxwCDAR4C2wGXAfIB8gFoAQgBGQHKAEwACABYAKQAhgAaAJgA0AB1AK0AsACwAJUAtQC7AKQAjADzACgBmAAdAGMAsgBvAHgArQAuAQgBIgE/AccAhgC9//7+8/4N/8H+pv77/mX/z/5O/t7+cf/H/iL+o/7b/k7+gf2b/Qv+9v32/Zv+HP9I/0v/Qv+I/8n/aP+j/rv+kf/J/zP/Of9GAHgA4P+u/y4AQAB8/2j/8v80APj/6f8IAPL/pv/J/w4ABQC0/8b/HQD1/3UAxAB7AJIA8wDzAKQA1gA5ATYBHwG6ASQC1QGJAewBIQKJAV0BcQE/AW4BSAEoAU4BAgHzANMAtQBpAFIAuv8N/1z/H//V/jb/hf8f/9L+H/9F/xD/x/6e/gf/5P7E/rv+nv7b/tX+x/7w/pf/f/8i/yT/Of/J/4v/6v45/3f/PP8f//j+8P50/9T/z//7/08AWgC6/zD/a/+X/wT/ff7+/gIAQwDj//X/QAAsAGv/5P5f/xoAzP88/93/lQCVALT//v8fARkBNADm/wgBNAF+AE8ApAAcAeEAcgC+ALUB2AGSADEACAE0AW8AIAA8ATACugFLAdUBaAKaAaEA4QAxAQUBoQDqAHoBfQFOASIBMQExAYQA6f8sAFIA1P9//2j/o/+L/zP/5/7B/qb+Xf5O/lf+pv5y/qT9Uv2q/cT9h/04/ZP9HP6Y/Sz9Pf2h/dD9e/0d/YT9Bf4X/uL9Iv7Y/hz/u/7q/ub/LADv/wIAmAAuASgBjADqAHQBVwEiAZEBTQJWAtUBcQGgAYAB6gBpAOQAhgFuAQUBvgAZASsBkgAIAGAA8wCqACAAJgCnAJ4A+P+O/08AHwGVAEYA9gBdAf8AYwC4AGUBaAG1AEMAzQBLAdwAWAD2AK8BNAGVANYAgAFRAREAqP9pAIkAvf9l/wgArQD4/9j+1f5///P+yv3c/dj+rP57/Vj9ff7+/tP9L/1v/lD/S/41/Q7+fP8//13+u/7a/73/pv4H/2MA3gD+/2v/lQCXAccA1/9sAF0BuwBx/6b/sgDnAAUAd/8gAMQAEQAt/1n/CwDy/xz//v7y/0YAgv8z/+z/WAD7/8P/KQC1ALUAZgCEAFcBaAHQAMoAUQGAAfYAxAAuATwBvgBJAMQABQFjAA4AEQDp/3T/bv9c/zn/4f5d/iv+Zv5g/vb9tv3t/UD+3/22/Q7+FP6t/cH9S/5O/rn9qv06/oD+j/6A/qP+qf56/sz+H//h/t7+P/+U/5H/UP9i//X/cgBVAGYAEAFiAS4BjAEtApcCaAJQAh0D/APcA0wDxQO+BNYE8QN+A1oEAgWDBLMDGgRaBIcDzgL3AlgDnALsAa8BCgLpAWUB9QEqArUBkQHsAVwCQQL1ATYCDAMJAzMCeQJ1A0kDJAKjAXACGAIaAJX+ff5D/gT8hPlc+Gj3TfSi8Cjv7e7j7Czpled66KjohOaC5PTlfOg26Bzn++hH7RvwTfBP8gz4b/37/38CFwj7DUgRLBNnFkAbhB5DHwoghyI4JUclNyO5ImwjsCKvH4sc4hpuGE4UjQ8rDMYJzwX8AOv8Rvqj9wr0pfFu8AjvRO376xbsTexl7BvtC+4/767wkvLs9Bb3LPnJ++T+jAEyAysFDgj3ChoM5QvADZoQrxBwDukN6A+NDzgLFwi7CJ4IpwPN/aj8eP0g+XbxbO5C70zqE+D/2uzdLN7P1NfN+NH813rULc3zz6XZdduX1YHWmeJ+6gXne+Yu8ln/uAETAd0KDRk+HqYc5iE9LskzizCxMLc3ID1LOmM2EjlZPG85rzKXMB0yQC4eJTUelBy4GGQOsgV8AlD/SPcN78Pseeym54Xhst8b4SLgXdzk21vePOCv34vgGOWN6WjsDe+D80H5WP09AEkEUQgjC+0MsA/gEe8RUBJMEzEU6xI2EagRlxHODggM9gvNCxQIGgSEA14DQABl+y76fft++SD15PNX9q/2IPJg77/xhvOU783q2+uF7D3mv94g31fjnt+81gPW5twA3m3WDtOo2SbeUNl01Fva7eMH5DzgyOWJ8r/5x/my/p4LYhUaF3YZYyNqLUIv3C5TNMU8A0CJPn9ABUbRRxtE/UDQQRpBwTrZMkkupyrzIpQZaRPxDhEIP//O+BX1o+9I6G/iF9+J24TWNNMk0lPRHNBI0DrTk9b72IncnOFM5u7pRu4h9PT4xvsc/x0ErAixCokM5BANFeEUDhOJFOUWIRW4EI0OqA5sDCAHsAOzA8MCcv4i+7r74/yG+iv3BPeu+AH4avWl9MH2rviv9572lvid+/j7x/lM+Vn73/lu87Du2O/v8KPrl+RU5Afo8OZ64G3dguHr4rHdM9nV3OLiWOJA3zHjOO1O82X0dfmhBFENlQ8yEr8a2yP8JrIn7CyoNJA4LDnJO8hADUOPQVw/xD5+PcU4IzJfLMQnkCH0GZ4Tqw7zCJoBpvqZ9cDwIOpO4zXeh9rR1lXTbtHe0JTRZ9Ir1KHXftuk3u7hb+aD62Dv3vLD9yb9jAETBZoJZw6XEXsTixX2F6wYVRfpFU0VJRTwEIUN1gs1ChIHOAPZALr/df2Q+Vr2wvVb9bXy3u9f8Cvy2fGO8JDx5vTH9rz1h/XI+Cr72fm3+BP7Q/1k+brzuvMB+Pv3gfHC7WHxjvPi7annfOhg67Ln4OB64GTmoOhu5BDkdOvO8f/xVfL9+AIBOAPpAuIH8BDvFUkXzRt6I4QpBywiLxU0gze6N043ODhHOAs2QjOHMYAv+yvEJzMkiyAxG+0U/Q5cCQ8DZ/yG9mfxJOwF57LjXOE73lfbZNoy2hvZ2dev2JPau9vJ3LvfheRi6Bzr/O7V88n3cvog/e0AHQQ2BTAG2wjKC2kM6Au4DBIOlA2TC20KJAq4COEFgQO6AgEC+/89/hz+Ef4V/Lb5Uvko+kn57fY09uD3n/hX99D21Pih+nL5yfel+MX46fSO8DXx2vQB9B/v1+0O8mXzeO6E6u/s/+466+XmAOn57tXvLO3t7tz1dfpJ+hv8PwJMB/YHOQndDhsV7Rc4GnofRCU8KCwqwi29ME8xyzBMMbYxpTCJLkEtRSyfKQkm8CIwIDEcvxYtEVQMLwdOAcD7M/f88k/uC+rr5k7kTeFE3pTclduK2mjZE9nj2Sbba9wG3tXgQuRA567p1Oyr8LjzIPYg+bH8cf88AVUDBAZJCFwJ7An9Cs0L0AthCwwLOwrKCHgHggZiBb8D+wGJABP/Pf23+/P6Y/od+f73X/eL93H3j/ZX9ij3dPfn9mj39Pgu+ob6Gftz/Cb9Vf3K/fP+IABdAKcATgG6AYYB/wAcAZEBcQGnAJ4AugHbAQ0B3gC1AUQCBwLSAeEBZQK9ApEC1wK8A48EJQW1BZkGpwdpCMEI9gjGCfEKoQvZC+ILfQxODZ0NvQ1BDqgOeQ4DDroNKg1RDHILdgrJCdAIAgjdBqYFmwRnAxUCeAAz//b91Pya+0n6D/kk+EL3Rvac9Vj14PQz9Db0GPS980XzxPIi807zuPJJ8rjyuPMe9N7zgvRw9ej1N/Zs9h/3l/f494v4Qfla+oj7qPyV/Zj+oP+YALgBWQKuAkEDWgROBe8F3Qa5B0wI3ghiCeYJ7AmLCUIJNglRCaQIEQjiB5MHywZ0BacEbwQ7A7gBsgCd/7v+mP0n/FT7kvqz+b/4D/jG94D3B/eD9lT2b/bn9gL3Lvev90r4Jvmt+Zv6vfuo/Nn9Lf+BAK8B4wIUBE4FDwb6BiUIRQkzCoUKNQs0DNIM6gxxDS0OGA5FDccMzAyPDNYL7gpECoUJjwheB18GmgWMBDgD/gFiAVoAxP7l/Uz9Qfwo++X5Q/nm+A/4P/es9sr2Wvaz9W31s/VA9g72ofUI9tj2Nvdf9wH4A/mw+f/5afqX+5z8yPzx/Pz9cf/y/93/HQATAfUBZQKFApkC9AL3AvQCFQMbAwADvQKrApkCggIkAoMBIgH/AJIAuv8q/zz/1f7Z/fH8rvyr/Fb8Lfy3+4D7aPso+w37M/s5+xb7+fpC+7f78vuI/BT91v2e/jn/IAAcAcMBZQIPA/cDBwXVBYIGPgdDCC0JwAlzCiMLfgueC8QLHAxaDCIMpAuTC0ALggr4CaAJHwkFCO4GIQaDBZ4EUgNlArUBzQCj/4/+zf09/Vb8LfuV+lr6v/nL+Dj4OPhz+B74mvej97r3z/eL95f3UPiZ+Iv4f/gS+eL5LvpG+oz6Nvtu+477EvzX/Dj9DP1J/fz9ff5y/oz+9v4//07/X/+r/yYAcgCeAMoAxAC1AMoApwBvAJUAWgApACkAWAB7AKEAbAA6AGAAIADM/1P/Lf/+/vb+uP50/mb+K/5R/qP+sv7e/vP+E/8//4L/w//S/yMAlQAQAW4ByQE8AtcCPgPCA2YECgUzBYgFQQaTBp8GwgZDB2oHhAfTBwUItgfFB+sHhwdJB/QGtwZBBukFZQWqBBoEWwOlAvUBgAGYALT/+P56/uL9A/2W/EH8yfsc+9D6svpj+jH61vmB+Xv5gfmb+af5zfnx+RT6ifqe+nj6yvoW+zn7UftC+2X7w/s1/FP8vPws/Vv9s/3H/d/9Rv7E/gT/UP+R/73/QwDEAO0AEAF0AakBzAHhAdIBEAJoAogCkQLmAiADRwMVAzwCxgH0AtYD2gJ0AY4BDwMVA9UB+QC4AVACjgG4AF0A2QCBAMD/Yv/J/9T/9v6v/vv+Tv/2/pX+5P42/+T+dP7S/ur+wf7k/t7+Cv8W/27/7P9GAGwAhgDtAFoBZQGRAdIB2wEQAgcCJAJBApQCvQK0AvEC0QLRAhID/QLAAnkCfAJ8AnAC5wFuAW4BhgGDAdkArQDzANAAYABGABcAoP8q/+3+wf5A/vb9nv1b/RT9A/30/OP8v/yL/Gf8FfwB/Nj7z/uO+3T7kfvm+0T8ovz3/Cz9Uv2z/VH+mP4K/z//a/93/53/+P+eAAoBKwGUAekBOQJBAkECTQJQAjwCWQJwAqICjgJ/AtoCiwJHAjwCKgIEAs8B6QHMAZ0BVwHhAKcAwQDcAJsALAAXAAAA3f+0/3//EP+p/s/+x/7E/ob+gP6P/on+Y/4f/iL+Wv61/pv+j/7H/vj+Of9c/3H/tP/p/wgAaQCGAGMAsAACASgBTgGJAc8ByQHyAT8CIQJoApQCcAKoAnYCFQItAh4C7wHyAQQC6QF9AQUB4QCnAE8A9f9//2v/Of+m/kP+V/4F/qr9rf2B/V79Mv1P/S/9+vzR/Ab9Nf1V/Wf9cv2t/bb9CP5A/lH+kv7z/jz/iP+I/6v/AAAxAFUAhADBAMEA+QA0AVcBNgE0AUgBOQGDAYABHAHwAG4BowE2ATEBIgEQAfwA6gDzANAA1gDcAIYAeAB+AG8AYAApABQA0v+O/4j/qP/J/47/i//d/7f/bv9L/1//X/9l/2j/UP9r/3r/aP+U/5r/dP+6/73/0v9JAFgA+P/1/zEAdQDKANMA2QAoATwBAgElAW4BhgGOAaYBdwFRAXcBoAFrATQBWgEfAQoB3AB4AGYAQABPAD0AEQAaAPv/nf88/yr/Yv8t/+3+z/7V/rL+g/6g/rv+yv5m/k7+j/7b/sz+Rv6J/qz+d/6S/tv+JP8E/9j+Cv88/1z/Qv9Z/2v/jv/J/5T/mv/J/93/qP/A/9L/EQALAMP/9f8aAPj/AAA6ABcA+/8uAD0AHQBJAFgAJgAUAIEAsgCyAJsAxADKAKEA2QDQAP8AAgHkAOQA9gBLASsB9gDhABwBNgEKAQgBFgHtAKEA0wDzAOQA3ADzAPYAtQBGAHgArQCPAIkAKQA3AEAARgApABcATAD4/9T/AgD1/5H/Qv9Z/5f/bv9Q/3T/Tv9I/3H/d/98/67/d/9c/1z/Vv9i/yr/XP+O/67/tP+m/67/rv/G/7r/Zf9i/3f/X/9c/2X/d/9i/zz/X/9u/zz/U/9W/x//Cv/n/tX+0v7z/kj/2/6Y/sz+HP9O/yr/UP9O/27/cf9o/4j/kf+x/8P/AAAuAE8AeAC7ANYA7QDhAPAAEwH/ADQBdwGXAYwBlAGyAewBIQJBAgQC2wEBAgcC+AG9AakBfQGJAbgBgAFaATkBCAHBAK0A5ADKAHgAUgAgAAAAFAAOAPL/vf+6/8D/l/9u/3T/d/9f/z//Nv82/zP/Rf8f//7+5/6e/tX+HP/w/uT+z/6m/qn+z/7V/hb/z/6g/rv+yv7P/o/++P5Q/zn/Gf8Z/1b/Wf9x/3H/a/+I/5H/jv+d/7f/wP/v/+P/2v/v/xcA9f96/3f/EQAsAAgA4P/g/yYACAAFADoARgAOAOP/zP/M/wUA+/8RADoA+/8IACAAVQBAAIQAmABSAFIASQCMAKQAxACeALgAAgEfAVoBNAFlAZQBXQFIAWsBXQEQASUBUQFUATkBHAE2AXEBdwFuAQoBmACPAM0AlQBGAGkAaQBsADoAEQAFADEACADS/wsA1/+r/5H/kf90/3T/hf98/6b/lP9I/0L/Yv9T/xz/8/4W/yr/J/8Z/+3+5/5T/2X/S/9C/xb/Nv9O/zD/U/9C/wH/Tv+U/27/Lf8f/zb/Gf9Q/3H/Nv/7/gr/aP9L/xn/Lf9L//D+Lf+o/1b/P/98/2v/XP+o/7T/z//v/73/zP8pACAAIAAsAC4AgQCMAHUAZgCGAKoA1gC1AJUA0wC4AKEA5AA5AdMAxAArAfwAxwA/AUgB6gC+AO0ANAH2AAoBCAEfAe0AxAAFAQIB4QDQAPYA3ADBAIQAmwCtAH4AZgCeALgATwBYAFoAYwAaAOD/KQBSAAIAoP/M//X/tP+0/9L/tP+9/7f/l/9W/zb/d/9o/zb/dP9i//P+1f50/6b/Iv9c/3T/Rf9u/3T/E/8n/z//Kv9L/zz/fP+6/2v/Nv+L/8n/tP+O/1n/M/88/zD/Zf9u/3//nf96/73/CAC0/1n/gv/m/+b/f/93/7f/9f/X//L/IAAaACwAeACMAEAAHQBAAIYAQwAAAD0AdQCYAJgAmwDQAJgAYACMAJUAOgAmAGAANAAmADEAbwCSAGAAYABgAGkAhgBaAEAAewBmADcAIwAFAEMAjABjAF0AZgBdAGkAXQBvAGYA3f+0//v/RgBmACwAIAAuADcANwBSAFUAFAAuAF0ARgAjADQAGgAjADcAMQAaACMASQAuABcA+P/j/zEA4P+j/93/1//m/7T/dP9r/9f//v+9/2v/X/+a/6D/o/9O/2j/pv9x/2L/cf9L/0L/iP90/6D/tP9f/3r/t/+j/6j/qP9c/4j/t/+a/+//AADj/0AAJgDy/yAAIAAjAA4AMQBaACwAIwBDADcAAgAgAEwACAAXAEMA5v+x//7/UgDJ/5T/CwAFANT/4P/j/6v/q/+u/6D/l/+r//X/sf9//93/FwDU/9L/AgDS/+b/GgAxAPL/AgBgAHgAjACYALgArQCEAKoAsADKAPMA8wDZAMoACAHZAOEAFgETARkBwQCEAL4A/wCJAIYA1gCkAGAAbAA9ACMAdQAuAOz/CAApAKj/lP+6/8n/7P+3/6P/lP9Z/1P/pv9c/2v/oP8k/yf/Rf85/yr/Iv8K/0X/XP8E/+T+Iv96/4j/Vv82/3f/fP9l/1n/qP+9/4v/7//S/4j/2v8IAJf/3f8sANf/7/89AEAAFAAFAC4AQAC0/wgAXQDp//X/OgD+//7/QABgAEYAw/8AAF0A/v/G//X/9f/d/z0AbwAAABoAXQACAM//GgARABEAHQDy/wgAFwAjAEwALgAIAGAAYAAjAE8ATwAuAFoATABpAJgATwCVAAIBWAAdAJIAjwB7AH4AqgCBAGYAXQBmAL4A3gBvAEMAlQBaADQAIwBgAGkAGgAmAHgAVQDv/1oAcgCo/4j/FADy/6D/t//D/4j/hf/J/3//S/9//3//ev9c/0X/H/8B/0L/pv9x/2L/i/9o/2X/cf9r/3f/fP+g/+P/rv+U/8//7P+3/6v/pv8FACYA1P8gABcA7//a/wgAHQDa/+P/NADX/5f/HQAFAMD/+/80AOD/7/86ACkA8v/g/+n/3f8OABoAFADp/wUAIAAAAAIADgACAPX/CwARAPv/1/8mABQA7/8xAGkAaQA0AHIAhAA6AEAAYACGAHIAdQCYAK0AmAB7AHsAfgDEAPwA9gDhALsAkgCYAEwAYADWAHsA/v9JAKcAcgAaAD0AVQDp/wgALgDJ/8n/gv+F/z//1f4IAJsAKP5y/mAAAv48/3EBwP8f/6b/S/+s/sr9yv0FAFP/EQCFArAAUP8gAM//qv3w/sYBeADa/6kBvf/5/eP/eAAXAHgA0wDAAYQAEf5VAN3/Xv0xANkA/v5pALIA1f5Q/8P/rv/M/+P/dQCX/4P+q//D/6P+3f+wAAgApv9YAIwAl//p/80Aev98/2sBaQDA/wIB3ADP/9f/uAA0ATEAaQDGAYkAkf8IAfAAXP8AADwBEwE9AFoAqgDm/6v/5wDTAFz/cgBUAYX/Rf/NADoARf+PALsAiP+u/10ALABu/8n/iQAAABn/q/+VAGj/P//BAAIA5P5pAL4A5P4q/zcAf/8n/xQATADX/1P/BQALABD/l/9SABoAbv8jAAIAFv+I/yAAmv/X/3gACADm/8P/1/9JAJ3/Of+hAAsASP8uAPL/lP8mACkADgCU/4X/VQCr/53/ZgAdAMP/dQD+/zn//v/y/yr/VQA2ATn/l/+6Ab3/Tv7nAGYAtf4XADkBYwAw/+//8ABI/4b+YAEFATH+aQBBAn3+Ef5NAjkBVf2kAKUCmP7E/tIBDQGg/r3/KgJ1AOj9JQHAAvz9o/6EA08Acv2UAbgBWv7M/w0Cuv/B/soAlAG6/8z+KwHzADH+d//GAdf/H/+jAZsAbP6g/34Auv+0/+EAcgAw/5r/bAARAFP/2v97AOn/UP/j/0MAcf+6/wsANwAFAEv/4P8UALX+lP9UAc//M/9vAMn/xP5O/xQAVQBr/8n/ewAQ/9X+YADBACr/Tv/qAE7/Dv6EAOcAu/5GAOcAbv/7/wUAl/8FAIj/KQArAZ3/BQB1AHT/oP/7/8oAgQB0/4EAiQBo/9L/ewBAAOn/XQAxAcz/Wf85AUwAgv8WAbsAd/++AAsA2v9rATQAVv+qAKcAw/9dAGkAYwBdAJ3/4/+VAGX/Tv8cAe//S/9OAXIAHP9x/1gAq/8z/yIBuAAN/xoA3gCI/zz/EQDTANr/6v5rAbUAHf1mACoCaf7z/mUBJgBL/gsAbgGS/h/+BAKJADX9qgDeASL+SP6jAWAATP2a/+cBaf4C/gQCsgB7/aP/DQLV/nj9rwFrAXn8IwAPA8f90v6UAtf/7f2VAG4BZf/z/vAAuAHS/hz/jgK0/379aAFrASX+NACrAln/YP6DAbAADv46AOkB+/9Z/7UAPAET/2z+KwEQAXL+NgE2Ap7+7P9lAYj/uv9+ACMAFADG/28A2QAt/w4AGQH1/8P/hgCMAFn/Yv91AAUAa/++AEwAaP9dANr/nf9jAKb/IAACAXf/w//hAKj/+/6bAEgBH/96/9sBrQDl/ZsA2AHQ/az+MwIfAf/9ev8tAh//I/26AdIBrPsw/3gEe/3j+0kD/wAN+2MASQQ9/az7VQMtAlf6o/5LBRf+MPucA38CzfoQ/1QFu/6C+x0DTANB/GP+mATa/2L7sgH6A0n99v1UBcEAoPvpAlUDnfvm/9YEDv6w/Y0DNAFA/cEAMgPH/hz+LwOGAQ/9aQCIAhH+/P0vA04BUPyPAAIEIP0d/c0E1P/N+iMDCQOA+kL/2AQo/nP8YQPvARP7Cv+PBEb+uvuhBOYC3/kAAPkEq/wS/GAEnwI5+ykAdAUd/Wv7xAR0Abj6lwHtBJv9O/xMBIUCIvoIAA8Gzf2N/OQEmAAB+7IBnAPR/KT96wOYACf8dwHLAsj8af63Agf/Yf2gAZEBxP3h/roBz/4G/dgBRQEg/UUBwwGc/MD/PAJe/Rn/GAIw/xP/SAHv//P9FAC6AZH/lf4/AbgBcv40/g0CTgGu/CgBYAQs/Zv+bwSP/oX8AgREAtT81gB1A//9nv39AloBaf0xATgDtv0Z/u8C+/8A/TACPAJy/WwApQL8/Uj+EAImAB/+hACIAgH/hP0QAucBhfzm/8cEXf5T/GoDSwEf+4MBRgRG/e3+7wKr///9ZgAEAiAA9v1dALoC0/01/fcDxACC/NIB5gL3/DT+1wIc///9GwJYAE7+mwDg/7L+qP8gAE8Ad/9//6j/0v4XAEAAvv7ZAOQA6P0Q/10AwP9c/+D/ugE6AAn9dQAcAev8HQD9Akv/S/7EAAIBEf6A/nwCYwBY/RYBNgLh/uf+jAB+ANL+Df8zArgA6/05AScCMf5R/u8BuACm/pIATgHJ/1n/rQDKAJ3/Tv/EAP4BM/+g/nkCsAA9/WUBogIR/nr//gFAAFz/NADkAZ4ANP6BAAoCDv7U/8sC1f5f/0IB2v/P/3r/Nv8/AZgAkv7hAVQBjfxdAEECe/2L/18CEP/a/9kAnv5gAAIAx/7tADoABP+bAIkAyv7w/tf/7P9i/xcAHwHs/97+lP8AAOf+/v8iAQH/sf+MAaP+0v7AAan+xP4kAov/Gf91AIEAIADh/s///wCI/3z/1gCg/3sAhf8i//gBo/5L/v0CWf+e/RMC2QDW/eP/+AGj/3L96gBHAlX9yv7gAsP/QP6wAJ0BVv+Q/QIBQgHT/eP/ZwM3ALz9xAB6AXL+iv3gAgoC4PwNArQCsfzP/5wCAv53/5wCyf+d/9YAa/+VAGwAB/9gADwBDf9I/2IC2v+J/hwBHwFy/f7/9wJh/XH/+gOm/gj+ugJC/xT+dAFmANT/4P9MAHcBwf7l/dsBhACY/mgBGAKy/jf+SAG9/zL97AHFApj9gQCaAR393v6SAH//sAAgANwAAAA4/RoATAD//RMBKAEQ/6EAwf5p/qcAS/5YAL0CEP/p/xAB1Pzt/l0BuP6GAPgBaP+u/6P///35AP7/sv52At4AeP0mAPgB8P2Y/tQC5AD5/fwARALY/pX+xAAQAs/+zf0jBGABrPrdAtYEsvon/w8GhP1o+6QDQQPa/Aj+gwV1AKL4JAIHBvD6W/29BtT/ePp5AkQDoPvo/TYFKQD5+vQCWwPz+mz+dwVl/1b7yAN4A0j7//0mBC3/jfxEA00CF/7S/3oB7P9+/UYAZwO+/lv9ygQ6AKH5fgOUAlH7rwGhA4r9Iv/MAUj+K/4NAfwAnf8gAHoBw/9D/oX/fgDJ/3f+2wFFAYf9fQF4AJP84QCsASj+ZQEiAV3+vgCA/h//9gC7/iIBCgGp/t4Ai/94/akBhgDK/TMCsABV/UMAIAC+/kAAhgAcAU8APf6wANMAtv0uAOwBBP8xABUCFv8U/eoAfwIO/hcAcAP+/uv80wBXAbD9IAB1A7H/A/3GAfUBAfs0AGwEk/06/hsDygDa/DoAZQK6/5X+dAEuAff8FwAtAiT/pv+UAQIB0/1i/9gBif4n/zIDBQF1/e0AuAD3/PwApQJC/yf/lwHZAPn9Df+RAXQBVP4sAOMChv41/bgBjgHQ/dYARAPM/kn9xgGqAHn8BwLIA8L8YP6TAyr/avwxAegDYP5z/EkEPAEi+p4AxwSV/T3+GwNi/x39iP9KAjn/C/5wAwIAX/v5AN4BVf3K/pkCzAEA/f/9nwMn/+/7AwNHAs78Lf/DAYL/F/6VAEcCSP/z/jQB3f8z/5T/mAAOAGj/rQCkAM//0v8KAVz//v7wAO//PP/5AIYA4/+7AC3/bP7hAVoAQ/29AagCIv4E//4BBP8c/tgBhgFv/i4A/gE5/2z+QgEQAuH+Dv6RAa4CSf1W/2ME5v/9/CkAewNV/RH9PAUZASj7qQHWA8b7hP3uAzoAavzNAKEDff79/AoCgAGu/Mf9uQNsANv6sQKYBKb6H/7gBlX9Z/nJBa4CGvkcATMGwPse/IIGQv9++ZUExQNy+jD/tQTK/Vn8DgTXAgb8Cv8LBI39E/uqA+IDCfy4/sIGaf5u948EIgXS9yMAiwmd+8f5iAZxAez3CAGhB938gvtuBSAD/fis/kMHzf0U+mIFgwST+V3+IAej/z36bQOVBIz6VvzdBgUBlvk7AxwFKPs7/f8E8/6R+7gBTAPD/1P8TgHoA8X8t/uPBPQDy/jj/ykHTvvj+6oHQwC/+CsF5gKo+P8AfQXh/hT94wKUAZT7+/55AtMApv6VAJ0B2P6A/sP/oQC1/p3/QQP+/wD9rQCDAb/8b/49BOz/Cf3bAcMBbP32/a0D4QC3+8cAqgQJ/W/6ggZ7A8P3lQDkCFz7cfcZCRQEy/VXAQ0JEvxK+CoGjAQE+JX+7Ala/tz1hwdDBxv1Nf2eC07+T/XpBlUHM/eZ/GgJ9gBw9YED5glK+JP5uQprAqX0GAPACXL5sfjcB4MFlvUc/lkNNfzY8zkJNAhd87z89gz//Y702AQiCfv3g/quCksBbfWqAJEJQvuq9R4KYQdO8+f+5Qt++bb1twm1BKn2XP8oCZv+DvZ/AiAHkvrE+pkHFQOO9z0ALweR+0L7XAZ1AB/7eAMWAeP8ggJ3/5D93AMCACj7vANGBAj6cf9XCML8k/iZBpECJfdFATwJ6P0G+YQDwwVM+Yb6rAnSAa31+gKPCLz5lfqEB3oBPvkWAdgFRv23/LIETgEj/V0A3gBMAFD/zP/7AdkAU/+nAP7/cv7MAb3/4f6jAQsA1P86ALH/QwDM/9j+HQD/AJf/MP+nAGsBOf9I/gQChf+k/XoB0wCa/zoAEAEz/2j/LgH7/rL+9gCVAFr+WgFCASP9FwDcALj+M/91AHgANv+u/4kAjv9d/hEAYwBO/73/WgC4AJv+aP82ATH+Fv/pAfj+HP4QAvwAD/1i/9EC2/54/SMEgQBI+0QC8gGu/G8AYgLJ/08AhAAdAFoAK/46AOMCS/9Q/+ACYgER/VIA9ANg/tz99wKgAUz9d//6ArIAv/1RAesDFP0j/c4DPP+N/BsDwAH6/OP/JgNm/h39owGeAIP+sf+dASMA2f3K/jEB6f/Z/TQB8gEl/rj+/wD1/1T+gwF3AdD9bwAlAcH+E/9lAfL/5/5RAaEAf/9W/7UAWf99/kQCxv/z/YYB/wAU/SL/7gOJ/iH8qAJNAh/7z/6LBRT+yPy8A0MAcPzBAOQBEP8CAIkAAgDEAN3/JgCYAFn/l/+sAbsAd/4kAm4BxP2x/yoC5v8R/kgBwAFJAF//lQD5AO3+m/7KAEUB+/7D/2UCyf/d/LIAJAK//OH+oQTn/j39cQFaAED9Cv8oAQ4AeACS/okAcQGn/aP+XQF1AMf9GQHSAaD+Gf/TABYBhv54AEIBJP9gAEAAbABZ/xoASAHP/vb+CgGsAUP+ngAPA4r9Y/7SAccAjf2x/wYDhf+D/psATgGw/W/+kQJx/3T+jAGhACD9CwBBAm/9Of/sAggAqv1o/8wBWf/P/scAmgHeAPb+4P/TAPj/zP7kAPsBb/6yAJkCx/4q/xACUgBM/aABBgMU/gH/RAJIAW/9lP+UAnr/d/6yAMACS/4a/QcCcgAI/nf/7AFr/639vgCYABD/Rv6d/yMAsv7P/wUBhADr/Uj/xgHH/iX+7QD2AOj9fP/dAiwA1f7zAL4AWv7z/sMBFwCd/woBqgBx/yYAHwHn/nT/JQHEAL3/hf+7AD0AYv+C/4YA5v/t/loB9gBl/+0AqgBD/qP/oQAr/kj/fAK4AXUAewAz/+T+Y/7H/m8AlQBxAT8CoQBc/2v/B//7/j//l/8KAW4BUgDs/yMAEAEW/xH+5AD4//7+vgBDAFgAqQGI/w7+uABRAbv+5P64Ab0B4f4W/zYBhABC/47/CAFsACL/bv/m/4kAkQH5AFb/JgCMAED+3/05/9YAMQDV/lkCnALK/rz97f7N/WH8cv6VAFMCwwLvATQBz/5G/qj8n/h8/KkFOQZRAfwEuQck/4j4avyPAMX8Pf7IB40K9AOu/2gC1PxE9C73S/66AeUD2QeZBtIBqf40+hX1g/a7/tAA5AGaCVAKYgIp/Sv+BvyU9+361gNlBs4CNgakCFz/4Pdw/Ej+X/jP+xIG9wbDAQECQATE/mT4k/mN/KL8UP+KA40DzgIqApL+Ffxv/Tr+DPwU/cUCTANi/9AAuATZANL76v4CAS/9Sf2rAgIEegFUAWUCCgFY/cv8BQA9ALX+GQHpAoX/Z/yM/j8BTAAO/jn/8ABI//D9B/90ATMCUAK6AqgChQJ9AfX/ygCWAzQEGwK3ArIFKwQZ/0AANwTa/2v7fP+CAmD+bfwIAUcC2vxa+gz9vPwF+qP7rv+BAJ7+m/4W/9H8X/uk/Zf/S/9OATsDVwGBAAoBo/+y/vX/tQE/AlwCbQMpA6EAsv6R/w4AVv96/5cBmQIUACL/1/+J/g/8rvzz/jz/3v7m/80AYP6Q/C/9O/2r/BH9S//cABkBPwH8AKD/Zv4u/tP9M/8wAqEDQASSBEMEeQJ1AIX/GgB9AfsB3wPSBaMFswMQAhABev+v/kX/MQBoAewCvQK9ATkB6f90/qf90/1U/nH/VQB4AGgBOQHp//b+6v7V/lf+3v4xAEsBgAHKAKEA8wAsADD/U//v/5f/Zf/A/0MAvf8H/+H+3P1G/f38O/zs+8b7cfud+6n7dPsE+4P6Sfo7+d73lvhv+qT6tfp5/OX9lf20/Br9S/5j/vb+MQGNAxAFPgaCBqAFcwbFB78GUAaYCFMKKAlvCLoJ1QlqB1wG2QdhB24FSwWeBD8C7AEDA1AC7wFSBNgFnwMKAQIBLgHB/g/9uwCfBqEIZghKClILDAeO/6P7k/zS/jQA3QLmCR4OgwiB/cj1CO5x4FrYiuLj9I355PJ48iP20utH1T7K/tEW3DPgy+lg/ioNQwck+FHzp/Z684Hx+/94F+8kniZpKqotPySNEpYK8w/vFHgX2yAbLWEtwyDSFNsMNwA18UTtCPYI/sb/sgGGBCkACPJi5AHgwOBN4bTlRvIuAAcFDQLj/x/+OfcQ8Lvyaf2cBk4MrhLhGAgXGA5BBuMCHwEk/2ABvweYDCUMgAgHBTcANfk086fysPU7+Bn7wf00ACAAkP2r/JP9rP43AAADWgUJBy4ITgjzCCQK6wogC90KVAkPA9D5ovFJ7gvuFO5C79Lvqe8V7cHmot071h/UUdRb1//f5Otb9a74Vfnx+R35G/jE+ocDDw6UGFcjtiovLRwrhCa6IKMc8BuTHVYhCSW8JTEj/R0jFikLVv/J96j0P/Ni8w33cfvT+enz5O5d61Xmv+Hb49Lr9fMS+VT+9AMzBeEAgvxh/aoAbQLzBGELsBLMFFYRXg6JDJ4HmwCJ/roBhAPeAeoASgKYAP/5hfRd8xbzPvF78ZP1T/lv+Zf3GPj++vf8qPwH/6kFKgoVCg0JMwrOCvwH0QbRCq0PMRCRDZIMVwh6+/Xr7uVT6LToBOh16rju3eyV47TZNNNPz9vMktB33DTrrPZn/YkBrgKGAOH+xgEVCg4UFx9KLMo23znENowyoCzeI5EcSByaIOIiqiKZIaQeGxWWBh36afJ87IjoUOmM7rLz5vSy8nHvZusS5c/gMePK6nLy5flTAiIJsQrXBrECVQAf/47/0AOTCywSZhSWElkOaQg0AVT78fhq+R/7df1sAKkBwf4p+VHzHe7X6QPpJOzG78HymPbQ+n/85fl49q31/PWh9kb5NABdCA8O7xGlFSIYNRauEUkPxA/BD7kOgxDLFY4ZGRjKE9QO+wXN9pXnst9E3uve++C25bDp7ecB4BLWIc7VyKbFlcgh1abnpvduAWAIwQy8C4gGMAXNC90VSCBNLCM5UEBCP5w4ei8JJTgafhPfEp0VPxjDGIcWQhFJBwv6lu1t5TDhM+A25EjsiPSo+N34pPaq8q3teOoz7EnyVPoSAzEMsBLDFMkRkwvjBVkCkgAKAR4Ggg0SEqISnRCQC5wCRPjO8cDwDvLR9Cv69f/GAUj+zPcb8MboXeMa4iDmSu3X9ID6VP45/8b7XfYd8ubwtfKT+AADWQ51F2Idvh8yHvYXMBFcDXoMzw15EhgatyADIkcdPBRKBhzzw+AT2GvYhtyR4Dvmd+vS6IjdmM9uxfq+ZrxTwizTsejF+TcEhQo0DPwHXAJtAu8JHhVPIqIxD0BrR0xFITxoMHQkXhoKFf0V1hsbITsiJR+mGKsNLv5F79flQ+J141vp0/L5+vb93fu19vvvUOlk5S/mJOxE9Rb/egjODsQPcgv8Awb9KvgC92f5H/9MB/EOkBJ6EC0K/wD89u3uP+z17832tv1nA2oGMQRo+9XvJefQ4sXhBOXC7Wf5jgFeA6kB2P4S+cPwQe2V8ov8QQaCEQsfkifUJVMdmhVOEGcKJAbJCU0VjB/ZIhciSR7qEHz4buCD1GbTQtXL2RnkeO7k7oDkI9cpy0/AMbl1vKPMg+Py984GDRGpFOoPJQgwBY8IERDTGwYtrD4USadJB0PsN5ooJxn8DyMPIBOEF7gb9B1bGr8Or/4N8AfkYNvd2e/g3uvL9Mr6h/2A+2r0JOwX50PmuujG72f8BwqcEqQToBBVC5cCzfk69nv5z/8hBkgN2RMrFHoMawGs9zLxCe0V7cPzOP2NA68EcwIA/Z3zxekq5N3kfOkE8JP4dAF/BjwFbwBp+iD1j/Jc9Cr7QgX7EG8boiFwIfQagRK0CtAE3gENBQkOohb3GsIaXBXdBpPxJt7J1EjUUtf+3BHmhO4a7trkBNmVz1rI/8ODyJrY5e2e/qkJZRE3FBEQLQltB9IMXBW7HwwtSzoTQv1A9zjuLZMiEBjPEIMQlBUYGhQb4Bn1FbALlvw571fnyuMn5APqxvPg/DEAxP1f+IPyYuy55njmL+78+RcEcguAEEsQEAnw/iT46PXN9qn7NAQNDTkRWw+0CagCqfrW8nXuvfDG9wv+JAJjBKICZftm8grs++h06MHrT/JB+X3+QgElAf38Nvd38/Xz/Par/MgG0RLIGnsbjxhOFN0NfwbjAssG9w7RFfoZThxoGfALNvde5oPf+t2H3objUu0x86nv9+Xz2wnSb8gHxe7L5drV67X6MAaADFgLegXtAOQBWwf/DxsdKS2eOdA9bjtENbsqkR3vFB8UbxeEGp8dOSByHkcWvgi7+uHv5Ofw45vmuO5v9iX6hvrm99Hxq+k85Gjkluk78e75nwIoCasKJQggBPMA2v/G//IBcAa/CnIMOgwRDJAKcAZlAUb+nv0J/TP7APk++NX3RvYt9JrzyPTv9HHzHPPR9FX1kfOP8hX1xfla/toCawkkEQQVLBOlDloMagsKCZwHFwyaFQccoByEGjUWYglx8y7fa9hw3VviLeV9647zZPEy4ovRwseowuy+GMNF1c7tWf/vBb4IqQnWBEP91Px1B3MV4CHpL6Y+C0a+QfA21CysI6IaAxY8GQQg+SJZIX8dhBa9CY35SOy95OvhO+Ke5onucPU69iDxWOqj5ODgMOAW5LHszPddAXgHUgu4DH0JvQLV/tMASQSRBlkKwBGkF1IWYBC5CvIFtP+K+Uf4Hvz+//v/M/97AJT/Yfk58/byovQN9D70X/jr/fAAqwINBV4HCwhdCGoKDgz9CiEKoQvBDL8LKwztDzsSQA/vCdYDQfhY5vXYotpR4+Ll8OOJ5yHsF+NDz3zC8cO8x4THrc945rz8jgIr/pv+gwFk/cP3bv99FIomxi8bOI1B00GZNBEm2B+IHX4avhtoJNQsuCuWIoAYOQ36/H/s/uR65wbt9/EP+Cf/6f//9U3py+Fp30/fxOOg74b+7gqgETISPA1gBDD7A/UC98cAsgyoFc4a9htYF50NZQJD+Zn0lvQe+MH+lAWmCTUHXP/g997yPO/17F3vbfWA+uT+NARmCFgHDAMEAv8D/AQFBIgFogoHDd0JNAiVDDoQdAx6Ba8BOvoG6QHZStpP5pDpVOT95eDsx+aC0pbDQsW3yhvKGs9z5cr+UQXr/YL7Wf/y+8L09/zqFCEpOzFNON9BikGqMrMigh36HYUddCC2KtgzLzHAJHgXggo3+jrrvOZN7N7ygPde/Q0Cs/3V7/ThSto52H7bPeah9cMCwgr4DdkLOQL99MLtovBk+XMCKg08GZwelBgfDYAEbP1q9cXxuvdhA90K0AsuDPAMVwgD/YzzevNU95z43vqWA0QOYBC7DKQLYAz/B47/sfw9AH8CZgDWAE4IVxCbDzQIeQJh+cHjJcwCyJXXheVK6QntOfNy7vTZNsZBv/S/7cCAyCLgv/0tDo8MMwZfAt/5cPBS9b8L2SIYMFw8Zkm6SrE8BSs3H1YZ7ReTHSMq3zVfN1Utth5yD9n9lOzB48jleexl86P7IgHr/aXxv+Ih1ujP2tUy5tz1z/4zBj8NpAu4/r7yQfHW9cX5uAAsDzYdAx4RE0UJuwQM/cLxTu/o+RkFLwd7B6wMuQ7BBFT3d/Pb9pr3nfej/+YNKReJF1AVuBPxDu8Fx/6j/sMCPAVXCAUQpBfCFrEN5AHD8BzY8cPvxW/bSe6d80fxjO775NbP+7ras+q5SsOa0Z7q0gXMEd4IpPnq7y/qTenl9VkRwCwkPP5CGUbLQDkwHR63FRoXlh1IKEQ4k0TlQDouBBm5B3H32ukJ5qfuTvsBAh0DKgKC+8jp0NOpyKDNwtrH5kDyyf9iCSAHcPwY9L3wGu5M7q748As6G5YethopFiMPAwNz+Cr4nf/2BJkHmg02FaAUiArG/2T5S/N/7TPwQP6jDYETmRL1EV0QvweI+9b1fPgD/eEAiwk1FoMcWBbGCTv8X+gC0DfEm9Mr72T9F/ky8WrtX+EkyiW287Q/wYXOI97F9RwN2BBI/yTsf+Vp5zvt2vxXGC4yWj7ePlM7vTOXJF0UVg0cFEAiPjHtPQpDATtDJtEO1v1Z9MDvL/Fa+jkGEA28C0MEtPcD5gXU4sv/037mcvYp/SMAEQTpAuf2Aeih4gToy/CM+rEJkxpFIJoVDQYF/hj8qPiM9ur+9A79GUoaURjQF5gQB/9I797v6/zSCXQRYxhyHxsdtw2p+9vzi/Sv88HyUft6DN4XlxRfCUb+uOuOzSC408Mg5r37Nfn58oH1e+6E0n+2prJ0wSfOhdm28RcPTBe5A9ntd+e755vnGfNCESgvjzoXOtk5pDXdJdUUNxCbF5AhgCu3OHFCnDw8KI8TUAa6+/zyqfNR/r0GXAanA9UBsfiI5QDWmtWO4Lnq6/Fb+R//gP5h+en0/fAu74nyavwaCIAQehSzE/UNowUUAH//KwEdAx0IzxBMF+EUAQ5LCesDOPlu8ND2BgfbEIIR3hTgGWcSU/+D8lX17foJ+bz5mQdvF6UWQwf5+q7w3dlQv7q+n92r+Fn4ee3R7YftgdeYuWqw3b5qznXXIeldBOUSvQZY8Z3o3+l069jzSAzlKW85zTphOe40gCeSF58SXxl6I8stgzo/Qww9qCnRFfkHfPyu9Nj2sQLVDDoM7wUxAFj1ouEn0TnRX9y35B3q5vPb/if/i/SK6srmn+WY5qLwAwMOEyQZBRhHFakQjAiBAJf/XgdbEtkbmyMtKPIkqRipCSL/P/vQ/VoFuQ5nFhsafhbCC2P+svNS7YTpnupT9GcDVwzYCYYBxfVW4TTIYL0Jzq7pIPXA79ztmvO+62zQurrMvWPMC9TV3BX0kwvKC5D4Xuom6vvrX+yd9wYStilwMNMuYy92LbQh3hQFFPcdNSlyMn07D0AUOa4oBRgEDawFlQAcAeUHHg5RDRgGjfyq8mbnbd2L2dvczeKg6L/tavER8tftTudD47bli+yp8677TwR8CggMZAoBCaYIRgh9CToPzxisIEAi2R4sGioVtg8BDWkQlhaxGa4Z+xg1FmINOQLs+9z5o/cg9vD6IwTXBpj+qvJi6HDZ5sXuv+XTRu4C8xHmceAJ5T7dH8WjtufBbtUd3v7kNvjlCkQG7e564OXlovDQ9pECOhuXMCszqyl9I8Mg4RjKD0sRjB/DL3g56DwTO5AxPyCHDj8FVAU8CSoNJxGyFPkTygv2/qfyjuhE4XXe3+Lg7CD2mfk39ozvrui54q3eMOBQ6Enyyvna/8AFbwhaBfD+Rfs7/cACcwq4FIoeAyLpHSgYoxSlEdwPCRKYFwUcrxzwG9kawBWwC9sB4PxZ+2v7wf5DBIgFLv738RnktNUxzGbQYuCd60vnYd5I4J3kcNopx8HAmc5X39TlC+vm9yoCuvsQ7JDm/+7l+SkAUQhSFmEixiTCHtwXVxRqErUQ3BMAHpwpuy+iLUUnBCD6FpcN8wheCzYRARVZFSIULRHPCbT/D/jY86jw3O5P8o35D/2k+XfzLu9061Hn7OR95+fu6PWN+TP7pfx5/HX6vfgX+U38yQF4CH4PiRRiFZwSLA9dDAkL0gwQEXMV+ResGOoXyRQjD5IINQMuANL+/v/QA08HKgaX/7v2HOx64C3ZlNzJ5yTwd++H6lPop+YE4BvW1dCJ1BLedOjx8YT5Bvwk+Hbxbe0v7lXyIPlBA6sOMReQGtIYLhT8DzYN8AuXDRwUSh3BI6sk7iHCHf0Wag4UCAMH6QlxDV0QkxIOEwYPIweF/+75rfXY87n1NPoo/vX/aP9V/W/5mPLU7DrrQO598wT4vfvh/soAIwAd/Vj5zfa+9oH5cv4QBeAKqw0VDu0M3QkNBY4BrwFrBTgKaw0fELERPRDEC1wFzP+5/Nr75fyo/+EBFQJ4ANr8E/d/8DfrZegV6f3sO/Fx8/Lz0PJ28MnsZOlx6N/pkO358lb4TfzK/kj/2f2p+4D6lPsZ/ywDhQajCf8LKg0BDTgLHwn8B6cHVwiFCswMkw5MD4IOmwzgCacH2gYABw8H6wduCUoKwAnVCAIIdgZ1A8oAWgDtAK8BQgFsAMz/JP/o/Gb6VfmQ+KP3evd8+Kr5ufn3+H75Xfpd+h36pvp5/BP/0wC1AbECAgQuBSUF3gQ7Bn0I9gjNB34H6wcdCIEHbQaDBaQE4wI5AVoALf+t/TD8yvpt+Tb4uPbf9Yf1efQ88wrzVPNU86PzUPTg9Bv1cPX39QL3M/jr+EH5s/mj+0P+mv+F/3f/SQCUAXMCvQJhA0kE4QRUBekFXwZtBhUGHgbUBjIHggbYBfIFLQZQBlMG2AUoBTwFkQXYBZQFtQT3A/wDLgSKA2ICugFNAq4CEwKDAfAAkgAXAC3/zP4f/3//H/8N/3T/4P/a/7H/XQAWATkBaAFEAi8DZANHAwIEvQU+BuoEMQSnBNMExQN5AmgCLwOZAngAE/9g/hr9wfqQ+Jr3m/ZP9Zb0fPQE9DbznvJg8kPyBfL/8fzyXPT69Jb1V/fH+WL7z/sS/Kr9f/9AADkBXwKQAxMFlgblB10IzQfdBssGDAcPByMHZAfNB/kH/AenBwYHVwU+A8ACBgOTA/EDvAOzA98DhwNlAq8BYAGPAKP/aP8CAfcCkAMGA+cB8wAxAIL/E/9//9kAEwLRAlID/QIhAigBhABVAH//EP9sAF8CyALbAfYA9gBIAbr/m/2//a/+/v40/pj9bP4q/0P+Pvwq+/76hvqW+Rr5nvk0+hf6hPng+Jn4sfi3+CT4MPgp+V36mvul/CD9Kf1V/ej9Uf7H/sP/awEmAzcEiQRABBcE8QP3AysExwRLBWgFTgViBWUFeARJAwcCegHbAZ8CGAO9AuwBaAEiAXgAev8w/wIAVwHOAl4DIwOCAucBEwE9AMQAMwKEA1QE2AQlBaoEZwO1AW8AIwChAJEB0QI7A5cC/gEZAST/w/sj+Un5nfsc/qn+m/2F/PX7hvqv99P1Hfad98L52vtV/Xv9GPx4+vn5TvqJ+hb7ufyx/zwC+gJlArUBEAFGAGAAyQGkA4MFmQYvB4QHpQYwBdMDDAPgAukCqgNRBYsG+AXFAw0BMP83/o39x/32/sb/ev/h/iX+IP3M+3j63Pkd+g37xfwB//7/aP9m/of94/xh/G/9rv/PAR0DlgPFA9kDcwM5AksBjAGXAtkDRQVTBk0GcQUOBBIDjgLyAUIBYAGZAkED7AL4AVQBjwDw/n79Nf0s/Yv83fv7+9r8FP0E/B36Q/k7+ff4nPjg+Dr6E/vw+lT6Ovqv+r76jPoi+zD8m/3t/sn/OgALANf/+//WAOwBmQKkAwoFtwVWBnMG2wVCBRwFFgUfBaYFhQbpBm0GbgVXBH4DtwJWAvgBYAG1ADQAjwDtADEAoP4M/Qb94v0r/r/9iv0F/lr+bP5L/rn9jf0f/jD/FAAsAFoA0wD2ANwAbAARAFIAkgDqAGUB9QHsAXEB6gAxAPL/l/8q/yr/vf9VADEA1/9T/13+0fzS+xv8I/0X/mP+Pf4X/vD95f1M/fj7fftk/I39ff6j/34AlQBJAMz/aP9l/5H/QACvAfQCTwMjA8UCjgLvAS4B3gA8ASoCqwJSA7wDHQPvAdMAAAB//0v/CwAIAVEBYgEuAdYA7/8W/1r+S/4K/67/WAAZAawBEwE3ADb/m/7n/rH/wQBXAW4BjgHYAdIB/AAdALH/t/83AMEAlwEkAskB0ABF/0D9ofoF+nn8gP4O/jv8c/zW/Un9Ovq998b3Xvkf+2r8vP2Y/rX+nv7+/iT/Df8c/34A4AKsBIAFwwUkBhgGKAVpBN4EiAVcBWUF2wVZBtUFmAQvA9UB8ABjAHIAUgAmAL3/S/8f/wf/SP5A/cX85fyk/YP+JP9F/1n/a/+I/67/wP8IADcAQwCPADwBoAHPAcYBYAECAaoADgB8/1//PP8c/wf/o/5v/pX+VP6Q/Zn8oPua+y38RPx//Mv8LP04/UD9Xv2N/eL9pP3E/Vr+Kv/y/94AlAGAAWUBlwHvARsCBwL7ATkCnALRAmQDkwMPA2sCrwF3AY4BUQFlAa8BZQEWAe0A0ACPABcAl/9I/6j/EQD7/08A0ACeAPj/i/+L/9T/2v/U/yMAjwDeAJsAFwDv/9L/wP+3/9T/GgBGAD0AFwAOAN3/l/88/+r+Kv/g/w4A3f+x/6D/f/9F/zP/Wf9l/1b/bv9x/1n/Qv88/xb/0v7P/v7+EP/z/vj+Nv8Q/8H+x/6p/rv+7f7z/vP+Fv88/z//Of8i/+r+mP77/pH/AABDACYA+P83ALgAqgBGAGAA/wCRAfUBBAIhAoIClAJWAjYCFQItAmUClAK0AtECnAJZAkcCuAEiAfkAEwHeAHIAXQCqAJUACwBF/4P+Xf6D/ob+d/7P/hP/2P5y/mP+rP6A/mn+ff74/p3/CABgAGYANwDa/8z/zP/p/x0AhgDQAMcA1gDTANkAQwCd/zD/Cv9u/1P/U/+x/+D/Of+V/nf+Zv6G/i7+FP5s/vb+JP/2/vP+/v7e/ob+z/4K/zP/bv+R/53/nf+m/1n/ev+x/4L/fP+m//j/WgBYAIwAuAB+AGkAygAZAR8BSwGDAekB8gGOAakBRAJwAgQCyQHJAQoCDQLPAYABTgGRAa8BKAHKANkA4QC7AGMAKQDj/6b/i/9u/3H/Tv8B/+f+z/7n/uT+x/6j/qz+B/9L/2L/Rf9L/3H/XP9i/27/o//p/wgA/v/y/wUALgBaAFgAEQDm/9r/q/+o/6v/4/+x/27/d/+j/53/Wf9o/2X/HP85/6D/fP88/1D/Wf8k/yf/jv/v/+b/+P80AP7/yf/D/93/7/+r/8//IwBDAG8AaQBPAC4ANABSAHsAYwBPALUABQH5AMQAsACyALsA4QDhACIBSAHzAPMAJQErAfwA3ADZAM0ApwDEAPMAxwCwAJIAlQBjAKv/tP/7/+P/hf9W/8D/o/+X/6P/d/9l/1z/JP8z/3z/Vv8H//b+Cv82/07/XP9r/0v/Rf9L/2v/i/+R/6j/sf+g/5H/Zf93/+n/+P/G/7r/9f8OAI7/hf+u/8P/0v+0/wIAPQAOANL/tP+g/4L/nf/m/93/EQA0ACYAWgBAANf/iP9x/8P/4P/M/xQAYAByAF0AWgBmAIwAkgBjAHgAngCyAP8AEAGSAIYA+QAIAe0A+QDKAMcARQEiAdwAkgBpAI8AqgB4ADoAWgBDAEMAz/9//6b/z//m/6b/i//P/7f/Vv9I/2X/tP/v/+P/xv/a/9L/+P/7/+z/AgDp/+//EQAXAAAADgBSAB0A4P/a/9r/+/+j/yf/H/9o/5T/X/8//1D/S/8//wr/+P77/uf+oP6+/hP/SP9W/1P/fP+m/8D/nf+d/+P/AgD4/x0ALgAxAEAASQC1AN4AjABVAJUAsACkAJ4A1gBUAeoAngChAOQACgHBAIEAdQCwALIA8wC1AIEAYAB+AKEASQBPADEAUgCEAGYALADj/+n/AAAIAMz/oP+3/9L/9f/X/+n/+P/g/8n/sf/P//7/3f/A/7H/6f86ACYA7/+9/+b/4/+a/7f/0v/m/9r/bv9Q/7H/zP9i/zP/Yv+j/4j/UP9C/2L/d/9o/07/qP+L/0X/Zf9l/4L/wP+3/6D/vf/M/7T/AAARAPv/NAAmABEA/v80AG8AhgBgAEYAeACGAFoAWgCeANAAwQCEAIYAuADHALUAuwDTANkAsgBvADcAgQC1AJsAhgBjAEYAZgByAEAADgAjAEMALgARAOn/wP+r//L/9f/J/7T/oP+6/7T/ev+C/7T/nf+d/8//7P+u/5T/yf+3/53/lP+o/73/q//M/wUA6f/+/w4Ayf+X/3H/jv/p/ywA2v+a/67/o/+O/73/FAD1/4j/ev/M/xQATADp/4j/lP/m/x0AGgAaABEAVQB4AEAA0v/A/wUAbAAmAOn/TAB1AFgATABgAOz/xv8aAFIAWAA9ADEADgAjAHUAYwAUAPv/+P8AAAIAJgBGADEA5v8AACMA/v/S/8n/1P/A/9T/3f/7//7/AACx/4v/z/8mADEA3f/J/8//JgBYAFoATAAUAC4AYAAuAC4AaQB4AFoAbABJABQA7/8pAGMALgA0AEMAKQAjAEAAQwBSAC4A7//X/z0ATwAxACAAEQAjADoAIAD4/9L/jv+0/+//4P+d/4X/l/+L/5f/xv+3/3T/aP9r/4L/uv+L/3r/kf96/2j/w//4/+//uv+O/9f/+//v/9r/4P/g/wsAIwAIAM//yf8LAE8ALgDg//L/+P/4//7/z/+6/wsADgD+//v/AgDj/8P/4//M/9f/BQACAN3/AAD+/+z/2v/m/1IAYAA0AFUAXQBGAFgAVQCGAIQAhADBAK0AewBsAIQAfgC7ANkAoQCJAIkAmwB4AEkATwBpADoANABJAC4ANAALAOz/+/8AAAIA2v/U/+n/sf/A/9T/1/+0/3f/hf+I/5f/pv+o/4v/nf/D/6j/Wf9i/5f/gv+R/3//tP/M/5T/xv8gAA4A5v/d/9T/DgAIAPX/BQA9AEMAIwAaABoAMQDa/wUAGgDG/8//3f/4/+b/1//U/5f/cf+L/8z/z/+3/6v/Yv9i/4v/l/+9/xEA7P/G//j/AAAFACAAPQAgACMAZgB7AF0AaQChALsAtQCbAHgAjADHALIAuACnAJUApwChAIQAPQBSAE8ATAB4AJIAfgAaAOb/NABGAM//mv+d/6b/w/+r/7f/1P/M/47/nf+j/2v/SP9L/6b/8v/g/4L/Zf/M/6v/X/+O/8b/pv+r/+D/+/8OANf/mv+j/9L/7P/j/9L/HQBAAFIAQwAUACAAOgApAA4AAgAuAI8AaQBAAEAAMQBDAPv/AAAAAN3/GgBAABoA+P8CACAAKQDj/wgAOgAmAEYASQB7AHUAYACkAJsAZgAjAE8AcgB1AHsAWABaAIwAjAAXAOz/JgACAMP/qP/A/+D/sf9o/27/5v/U/27/PP9C/2v/f/+X/5f/bv9o/4v/oP96/3z/q/+o/7r/wP98/27/hf+0/7T/dP+u/9T/xv/A/8P/4P/y/9r/yf/m/wsACwAXACkANwA9AEwAbABdAEkAUgCMANMA0AAsAAAAhACYAHIAYwCGAIQAVQB7AJIANwD1/wAACABAAFIAWAA3ABcAHQAdABQAIwB1AG8AGgDX/wgAQAAgAA4ACAD7/ywANwDs/wAAHQARAPj/5v+r/8//IADP/8//4P/j/+//wP+o/4X/l/+j/6D/rv+x/7f/nf/J/93/vf+F/3z/nf+g/+D/3f/D/73/4//p/+P/9f/d/8b/1P8UADQALgARAOz/7//7/9r/+/8dACkAFAAXACAA8v/J//j/GgDA/8D/2v/4/y4APQAuACAANwAIALf/FACGAKoAaQARAEYAcgCYAI8AWgBJAHIAaQBaAG8AUgB7AGkAFwARAD0AOgAgAPj/7P8dABQA1/+x/+//8v/4/9r/o//j/yAANAA9AAAAkf+I/73/CAAAAMz/wP/g/wsAKQDU/4v/wP+x/4L/pv/G/67/l/+X/8b/wP+m/6v/rv/U/9L/w//v/xcAKQACAAAA+P/1/zoARgAUABoAHQAxABQA5v/s/+//CAAaABQA2v93/4L/lP+C/+b/4P+a/1z/XP93/2j/Vv9l/6D/CwAFAPv/MQBaAI8AmAB+AJsA0AACAUIB/AD8AHcBawFxAVoBNAE0ASIBNgE8ATwB+QCYAGkAWABdABEAAgD7/8z/wP+x/5r/Kv/H/tL++/6b/hn+Gf6G/sz+m/6V/rL+uP64/vP+5P4i/1P/a/+a/3T/1/8FAAAA4/86AG8AaQCBAIwAngB7AKQAkgBYAFIAQAAjABEAIwAsAEYAbwBYAFgAYABGAAgAJgBGAEkANwBgALgAewB1AHUAhABmADcAAAAUAEYAJgBPAE8ACADa/6v/w//A/67/3f+0/67//v8XAAsAEQA0AGkAZgBvAJUAmACPAHsAngCqAMcA7QCMAGwAlQChAGAAFwD1/+D/z/90/1b/XP9Q/yT/7f7z/ur+z/6y/oD+j/6+/uH+xP7S/tX+2/4n/0v/Yv9f/3z/vf8XADcAQAAxAGkAoQD5ADwBBQErAWUBgAF0AVcBSAFuAQoB8ADwAPkAbgECAWAAUgBmABQAUP/b/rj+qf59/jf+Av7Q/QX+6/3H/eX9C/6A/nT+if4E/x//f//D/+//SQChAAUBFgGDAecBGAIQAuwBBwIEAuwBugHJAaABSwEcAe0AKwEKAY8AbABMAFgAKQDs/93/4/+u/3//l//M/+//0v+u/6j/yf/g/9T/2v/4//X/wP/U/y4ALAAxAE8ATwBYAJgAUgAOAF0AbAB1AHsAbwBPABoACADs/9L/nf+F/2X/Kv/7/rL+Zv4u/j3+Q/7w/bz96/0l/jT+NP53/pX+if7S/oj/+/9DAJgA3AAiAX0B7AFZAo4CawJ2ApkCwwJ2AgECmgGAATQBgQDs/xP/ev7t/Y39Cf1f/OP7mvus+6D7Ufs5+7r7HvyC/NT8hP19/g3/uv9pAGABdgISA34DKwTHBBMFnQUEBjsGQQbPBY4FWgX8BIwEFAR7A8gCEwIuAZgACAB8/9j+QP7r/YT9+vxz/ET8O/xQ/DD8LfxN/GT8dvzR/G/9p/35/R/+if45/4v/AgA9AGwA9gBOAXcBrwEEAicCWQKcAosCdgJoAmgCUwIqAkEC+wGpAX0BKAECAXIAFAD7/8z/Tv/Y/pv+QP4C/pP9W/09/ej8efxN/Hb8gvxw/Az80vsB/DX8pfzU/PT8QP3T/an+Df98/0kAPAEKAm0CIwMmBAQF3gVKBpEGZwf5BysI8QfxBwUIdQf9BgoGTgW7BIQD+AEdAI/+/fwB/J76k/hC93L2UfZw9WX02/MS9On02vT99B32wPcG+cL5Kvsm/Vb/GQFQAtwDkQV4B7gIhQlnCtQKpwsCDP8L4gtAC7EKpgmpCEkH/gXhBHsDBAJAANX+e/1K/Bn7fvm/+Jz4MPhi97X21vZL95T32PeO+IT5V/oc+wb8nv0k/xEA7QC6AekCswMoBMcENgVrBZ0FyQXPBW4F0ARaBKoDOwOrAh4CIgE0AM//oP9i/6P+YP5O/n3+yv4E/5H/9f8uAN4A8gGlAsUCDwOnA+gDQAQCBG0D0QLGAb4AaP+m/mz9Wfun+ZD40vdj9qv0qfNI883y+vGz8W/yQvPS82r09PX49x/6EvwL/rIANQP4BXgIjQrPDJkOURCxEb8SjBOSE5sTdRPCEo4R7Q8qDggMYgmxBmkE6QHM/rr7IPkw9x31/PL68CLvVe707QjuMe5Y7kvv7PDK8sD02/Ym+dL7u/5LAfoD0QZcCb8LiA1eDx8RMhKlErkSsxIYEgoRkA+CDQYLIAguBZwCwP9N/N34/PV986XwEe7t63XqO+kw6P7nVuh/6XLqHOy+7qrx9PT497T7jv8YA7EGWQpHDpcROhSBFmAYVRqyGyUcDRxvGzgaQhgGFlsTkA+iCqkFtQFd/pv5M/Qc75LrnOmQ5hHjSODE3y3gyt+k38bg8OOV5uDoXOzm8DT2lfoq/98Dmwj1DXASfBaZGV0cHR/4ILMiAiNvIkQhwR9BHl0b8xc8FIwQHAzpBnACOv4f+rz17PAY7Qvqm+ch5RHjUuK64evhgeIz5HXmw+ig66fuxPKy9qz6u/5zAiQGjgk/DWAQ6BKdFKIV+hZ4F1gXkxbDFO4SwRBhDmoL4gdSBJgAk/0r+u32GPR+8e/vGu4M7cPs8uyK7THuTfCn8h31G/jq+nT+2wFXBbUIswvIDgEROhPVFLoVvRVmFA4TSBFmD8oM5AivBOEA1v0a+sL1XvHl7Trrceix5YDjk+J+4n7i8+J35A7nj+rZ7WTxn/XB+iMA8ASRCRUOvBICF7AavR0NIA8iQyPqI8cjyiKuIWwfRRy9GL4UYxCeC6UGPwE4/Hr3r/JA7lLq6+Yi5B3ig+BR3zHf/9984UPjiOXS6G7sjvCf9P34eP3JAWIGjQo+DnERThTOFmgYXBmlGUEZyRgCF2sUVhGxDvMLvweqA7H/nPxM+Xj10/Jo8F3uvewN7CHsX+wY7SPudvDe8lv1k/j++7H/wALvBXQJegwdD+QQNRIIE/ESWBLMEAAP2AwzCuYGVQM6AMv8JvlV9ffxC+8/7PHp8Oen5qXlZ+U75nrnXum+6+HudfJX9sT6SP/FAwgIlQwwEe0UehiVGxIeCiBEIQAiDyJTIe0fDB67G5oYEBUWEcQMNAhwA7X+Mfq89WHxRO3O6bbmM+Rq4uDgKOBL4HnhzeJu5M3m2ulw7TLxNfWN+ar9sgG9BdIJhQ1REPES2xRkFmwX4Re+F7YWORUjEwQRhw41C7YHXQRdAfP9lfrj96H1hvNE8Qfwte8W8ELw5vBy8v7zlfYV+fX7uP5IAV0EDwcVCmYMXg7ND0IQ4RAcEIUOHAxICZ4HXQRVAMP7yfdt9Unyp+6N6snndebJ5B/jwuFe4tvjAeW55jXpxe2h8ij32PvzANQGngxQEjcXIxv/HkwiNSWJJ6Ao3ShlKL4nQCZDI4kf4Rv2F+gS2wzCBk4BHvxP9jzws+o95sXir9/43C7bStqZ2qHbfN0t4BrjlebK6sDviPQ4+Vf+PgO8B0YMSBDkE5MW/hjuGsEb/xs6G58awBgAFpMSsw6KCy8HXwII/iv6zfYQ8yfw8e127AfsMeve6/rsSe5z8KTy9/Xu+Bv8pv8yAwYHCQpWDR8QIRJIFGUVNRZWFWATPBHXDWoKCgYlAVP8x/b68WHtQemC5YXhyN613GnbgdoJ2hHb1dyG35Pim+bw65PxxvfZ/WYEewseEs8YxR4TJJ0oISzVL9kxpDJ1MpYxNjA1Lc4paiWFIAsbiRQBDnUH5wDr+UXzCe0R52figd4L2yLYLNai1SzWidd22Qrcct+M4yToNe2J8sb3D/1wAnAHQwydEIYUuBcJGhMc/hxBHYkc1hq7GAMWCBN+D2ELlgehA8//OPzF+Br2mvPW8TDwLu9L79LvzvDO8Xrz3/VZ+B/79v3qAM4DQQbNCNEK/wtODfINow17C7YHjAQTAqb//vqH9dfwou006y7nVOOO4Inflt453Tbdh94b4ZjjBuYR6onv/PVh/G0Cvgg9DwwWehzfIiEooyt7LhsxujPmNFA0wTLAMFIujCqWJUUgSRuFFS0Ojgao/7b5ffM27Erl598C3NLY4NXi08LS7tKX1OvWCdpW3RXhCeYu64vwmfXE+lUAcQVBCmcO2hL6Fh4aURxzHVsevB4VHkgcXBkYFj4SMg4bCqwFLgGC/Mj4n/UF88Dw/O4d7nDtwu0s7prvzvE+9BP3XvmT/AAAkwNJB+kJ8wykD+YRWxMDE2ATZBJLEXAOYAhKAg/8I/mf9Hntq+VU3x3eb9vT16rTiNFG02PTJdRo1TnZQ98a4+rnAO6Y9oQA4QiOEeEYoCDdKHwwBzjVO04+tz/oQOFCSUHfPQY5rjS6MBcqxCIRGxkUTgzFAvb5jfHQ6u3j+dt01UXQ88z6yr3J7Mmlyo/Mys+v1N/aM+DF5ZrrjPLN+TEAlgbTCw0R5hXaGekd7CDzIkkj6yKeIsMgLx5VGgAWvhBcCh8FSQCX+/n1XPD97FLqf+jr5ujlH+cz6Brqeexx78Pzhvdt/KQAewQ5CboNTxNzFskYexuOHdgfKR7eG6sZ/RYWFLUMvAPK+TrysO6y53Xeh9NrzbfNZMuzx3DCjsLxxtvIQ8t9za/UZd3P42PrWvNf/4QLLxbyIIcp0zJFO8ZDEku7Td5OS06pThZO2UkyRAY98DYHMNMmiB3/E6ELMALn9lDs6+Ir3EfVBs6hxwDDqcErwZTBWMMKxqLKDtCE1sjdqeT+6//ygPqRAfwHZA72ExgZBB1xIG8j/SVAJ6Em0iRvIgogmhyyF+kRWwtcBbH/NPp79QzxkO2V6r3o8Od86PHpLutV7WDvZvKk9hP77/9hAywHZwvKDw0VwRcAGsEboxwzHacanRjaFaARcgwBAoj4Ue+56Tjm4dwC1KXK0MhNylvHe8TcwNzDjMhwylDO3NKD3JHk0OqZ9OH+ygz2F/QhmiwtNOs8nUNiSvVOkU78TTBL8EnXR31CqDxQNEEt4CVlHQEVzgqmAab3R+1c5PbbLNZm0C/Lk8daxTPG1scJyx3PztLT1w3d0uP/6rfwV/bG+xUC0AejDHkRBhYsGsMcnh5CIBIh7CA0HyUc0xcIE1kOwAkgBNn9Ifhu8znwl+xK6eLmUOU15RXlBub25jnoa+tM7nXyTPay+l0ArAUFDFYRchf+HI4gDCV6J8Ip6CkKKP4n7CSZIdYbhRW9Ee4KgwUb/D/wKebP3LbaWtQMywTCpLyhwEPAJ768u6a9B8ZXybHNTNMB3VvpFvD3+AYDKxCcHZUmXzBUN0U+cEQmSEdMwkvtSVBHHkS5QTI8MTb8LpUnsSB+FwwPUwa8/W31/+qB4h/cp9dU1GPQcM7pzZDPZNJC1ZrZ0d2T4n3nHuy/8Xv2evvBALUFywp2Dl4SMhYwGcgaXhosGm0Z1he+FGkQiQwgCKcD0v4x+jT2OvIi727s/enS5+jlVuW65P7k/eU955Dpo+sI7w3z0vdh/ZcCzQjJDY0SxBf1HEAj+SZYKXgqjCspLW4rWClhJtMi9B4nGXoU6A6pCTID3veo7Ojhl9yR2HrQEsc5vs+9mr5bvEW6oLmZv0PEwMaHy9TSWN495pbt1vbzAMkNHxi2IskrTzKHOdg+/URYSIRIFUjERW1EAEEePB83ADFrK6Ej2RosE4oLiQQ/+zHy0Oqu5DzgNNvW18nV8tTJ1YfWM9mg3P/f1eNv53zsbfHQ9fP5C/5tA80Hkws6D9oS/RWiFs4WahZ5FbsT+xBHDtgJkgSa/3r7pfif9BPwxOtr6C/md+N/4QHgF99k3q7dvN7y4LfkA+kh7Snyi/cr/ogFlQwOE24Ykx1bIq0mEyvzLssxOTNCMyIzrTKTMZEv3isZJ+8gFRoGE+4LjwRQ/EXzt+jA3VrUFs2kyB3EUL5CuZe2GrhCuvq7rL0RwPPEB8oo0ALYMOGA63z04v1dCPMT6h/0KVUyWTh5PDVAzEOSRjNHF0VRQkFAgz6uO0s3OjIZLLokehyzE0kL6QIu+l7xO+nc4mfe4duZ2nnZzNjJ2MbZWtvy3KfeTuCh4p/lBukD7aXxHPcM/c4C+QfKCxcPNRL5E60TJxJjEEQOLgyxCe4GTwSUAWv/D/19+uP3ovS/8XjuMesw6PrlU+VH5S/mgOdG6oTuAvMh+Kj88ABIBYAJag62EusW+hp7HhoiMCVFKO0q+CwdLkotPSvYJwckFiB+G8MVqw78B1AC0fzQ9brsluJV2rvUQNAgy0jF+cBHv+a+vb7XvmDA08Pcx6HL5c9E1vne7OjZ8VH6OwPMDBoXzyCHKV8wXjWwOZU91EBCQ5xEFEVtRIBCjj+0O6M33jJZLMEjWxqgEaMJ+AEi+oHyEOyE5gPiI97c2i7Y3dWA1CbTs9Kq08bVxthR3H3gZ+VO69nxDPhs/ckBqQWmCY8M0Q7BENESxhTLFWcWGxZoFd8T0RF1D8ILgQeUAiX+NPoO9nXyku957bvrwunX6OboUOkg6ofqr+uZ7Tbw+PM4+P38wAG3BtkLuxDOFUcasR3YHx4hTyLZIrwivyF3IM0eXxw/GbcV7xEBDcwF1Pyv85rrVuXk3+vaJtYY0uXObMyfyiLJYMjKyLHJI8u9zTvSB9kE4XDpqvFy+rYD1QxQFZQcKCO3KM4t6jK3N907LT9OQpBEY0VVRGNBQD3jN2Qx9yn6IQMaJBKICmED1/wc9yPxsOof5LTd/NcI00zP1cxMy+bK+cu8zv3SHNhi3WHig+eR7JnxhvZU+28AjgXRCvkPshSmGIwbKh0YHuwd7xwRGx8YdBRAECsMAgg3BMEA5fxi+MPzTfBY7WnqH+gU5krlU+VP5qboHOz4753z3veC/BYBiAUPCsgO9xKNFrQZhhxDHwkh1CEXIhciJyHWHtsbKBiBEsgKBAL2+kn2zvHJ7Cvn4+Gv3LDXztKZzs3Lw8lGyH3Iwsr7ze/RyNbV3HXjaepB8QT4Cv8KBv4MRRSGGxQjWCqRMMg13Dn3PNg+4z8nQDY/3TynOTo2gzJVLmcprCMnHQYWyw5PB6v/U/g78SXriOWj4LXcR9mQ1ivUcNKg0bfRnNIx1DXWBNk23C3g5uQs6h/vuvPR+Cn9AgFABC8HGwrBDBcP8BApEqUSeRI8EZ4Ptw3cC0oKuAgsBwcFiAIOABn+efym+gP5Nvjg9+n3OPg1+Z76HvzE/U7/BQHDAoYEEgYgB+UH9ggJCiAL+QugDKwMUQx1C+AJngeqBKwBKv9V/bf7V/rL+DD3FfVs8lrvdOx76nPp6OkT6+Ps/+6x8OLxifLt8tLzL/X59pn5dvym/70CxgVJCDsK5QtCDZMO0A/qEBsSnhOAFBYVUBW0FRsWEhZfFb4TmRI5EYcP+A2mDFsLrAklCOMGiwUmBIIC1gBO/5j9BvzE+tb5Rvka+Rr53fjI+ML4n/hW+OP3sveR9273HPcK98r2T/Yu9vz1mfU49Zn08vOs82LzzfJy8pLyzfKy8rXy/PKg85T0Z/Wk9jP4/Pnm+6H9ev+yAZ8DgAV4BygJvAoaDFMNrg4iEEsR7BEeEj4SVRIMElMRURAXD64NYwwJCxwJ+gbEBL0CYADo/eP7xfnD98X1JPT88v/xG/EN8MruyO0k7cnseeyR7K3tDe9f8GrxxPJz9Nn1XPfg+KH6ovyA/kwAXwJgBEcGZggkCuILyQ2ED+cQ/RHCEj0TrRMoFH0UphSMFAgUqhNVE8sSCRLqEJIPPg7wDIoLDwrBCDsHlwX8A3wC6gA2/2n91ftg+q74Wvdp9pn1mfR987jy/fG58Xbx3fAw8Gbv/O7Q7vzueu8K8JHwUvEa8vPyzPOR9Hv1j/a099f4QPrs+7z9Nv97APsBhAMZBboG2QcTCQ8KkwogC3gLuQuHCwMLuQqFCrQJkgiZB0cG5AQ4Ay4Ba//Z/ZD8HPt1+ez3tfan9Xb0cfNs8tzx3/Fp8tny2/L88p3z1PQF9mv3F/nh+sL8Mf53/wIBqwJ4BBUGvAeXCbwLAw7QDxMRFRIOE8oT3xMlFPgUfxWRFXkVRxXGFLgTUxJcEUgQIw/GDUAMQQrxB8wF8QOLAowAkv7R/D/7ofkk+Nj2dfUH9FfyTfGf8AHw7O+g73Tvhu+a78nvQvDD8CPxpfFP8jTzJPQG9fT1H/dE+En5NPoK+/77xfxb/f/9rP5O/0wAaAEkAuACewMxBJ4EFgV6BbcFzwXABdgFiwVUBSIFGQUiBe0EzQQ6BCwDBwL/AA4ATv++/l3+Dv5M/Wf8evvw+nL66/mb+Zn59vko+mn6pPrt+g37RfvP+5n8p/2M/hz/nf8pAPYA5AHsAkYEUQUHBssG5QesCAoJgwn1CU0K7gr8CxwNiA29DcwNiw2pDaYNcQ0cDcwMNAxeC+MKBwqVCPEGsgW+BKQDaAIKAcn/V/7C/B/7wvnj+N73VPYD9Rv0H/NG8sjxn/GN8Y3x3/GJ8tPykvKY8kjzM/T69LP1uPbA95b4e/mA+pH7gvxy/WD++/6F/10AYgFiAhsDpAMRBI8E9gTWBMEE/AQzBYsFlwWABaMFtwWXBW4F+QQmBHgDtwKvAccACACI/z//J//E/hf+Rv1w/NX75Po9+hr6Wvqb+n36VvsB/CT8Svxt/Pr8TP3K/VT+7f5x/zoAbgF8Ao0DPQSqBOQEXAWsBbcF9QV5BgMHTwflB5IIEwllCT8JBwnYCMoIzQjnCDAJ2wg3CHgHEgeuBlwG+AVOBXsEVQNwAsYBHwE0APv+1v3U/Ef8X/vx+cj4JPjY92v3S/cE9//2tfYa9s31pPXL9fH1ePbQ9kX3r/fv94j4Cfnc+Z76M/vM+zv8v/xh/e39Tv4k/wIAdQCyAPYAdAHMATkCugI1A40D7gNJBGkErATTBJUERgQrBBQE5QN4AykDEgOxAicCrAE/AS4BuwCr/6/+FP7Q/Uz9sfxf/Fz8avyc/J/8yPz3/Ov86Pz9/IT9Ef6A/t7+Kv+U/yYArQACAXQBJwKrAi8DqgM6BIYEbwTTBBMFXAUHBlwGRAZNBr0GLwdBB5MHzQffB6oHTAcXB7cGnAZfBgEGwwV3BdME/ANHA6gC9QEuATQANv9X/o39yPwe/CL7qfpa+oT5vfgP+MD3Dfee9pv2bPaA9lf2XfaM9tD2fffM9/v3RPiF+CP56Pl6+ur6Lfv7+8v8af0o/sr+hf8RAJsAPAHVAYgCDwNzA5kD6wPHBGgFPwUrBVQFZQWABVwFPwVfBUUFzQSGBGAEDgSWA/oCeQIKAloB4QAsAGj/0v4Z/gL+x/2K/Wz9Rv1J/fH8f/wk/BX8+Psn/IX87vxy/aH9sP0R/pL+4f4f/0j/1/8LAKcABQEWAWABnQETAlMCAwOZAw4EJgS4BEsFXAWLBa8FHgYwBv4FGAZEBh4G4wUEBgEGtQWpBSgFgAT8A6cDTwN2AhMC2wHkADcAwP8K/3f+h/0p/Wr8bvvk+tL6mPqt+XX5APmo+Gr4OPgn+KP3r/cb+Ef4FfhN+O74O/l7+f/5ofoz+9r7MPyx/FL92f2y/j//8v/ZAIkBCgKRAj4DnAPrA10E3gQlBQ0FHAVUBVQFRQU8BS4FGQXWBJIEZgRUBOgDDwNBAqwBvQGRAbgATAAuAMn/Lf+D/t/9W/0a/dT8i/yx/CP9h/0m/aj8tPwD/Sz9Mv1Y/Wn9rf38/S7+cv7q/nT/o//A/0wAkgDWAN4AFgGmAdgBnwLdAvQCYQOzA0MELgQUBJgE0ATQBKwE+QTYBIkErwSVBKcEWgToA5YDeAMSA5wCJAJlAQUBxwCBAMD/P/+m/kb+//2N/eX8J/yx+2L7VPum+kP6KPpL+lT6b/pX+uj5QPpg+r76AfsK+wr7Gfud+yH84Pw1/cT9b/7w/qj/4P/v/x0AsAANATQBrAEQAnkCqwKxAt0CKQNHA1sDUgMbAwMD4wKrAp8CggJBAmsCbQJrAgoCCgLYAXoBqQF0AVQB8wCyAHUAXQCMACkA1//p/8D/mv/7/pj+mP46/iX+rf3r/Rf+K/4I/nv9+f3T/cT93/3H/fb9Iv4l/iv+m/4w/7H/+P8mALUAPwFoAZcBwAHkAUQCvQIPAz4DigOBA6QDFAQLBPwDuQOWA20DDAO9ArQClwKlAnAC5wGGAfYAvgAuAK7/ev8k/8f+bP4R/tn98P2t/bn9Rv3R/Mv8iPyN/Jz86/zC/PH8A/3d/FX9lf3H/Zv9hP2b/dD9Ef5G/kv+Ov6M/vD+Tv/7/hz/hf+R/7T/xv/7/9T/+/8sAPj/OgDEACsBDQHWAD8BoAHMAc8BzAH7AfsBRwJKAjkCPwJQAmgCZQLOAqICTQITAskB0gHpAX0BxwCnAAgBDQFsANf/2v+r/+T+jP6D/kj+/P0L/g7+sP2z/dP9Ov6D/jT+vP1D/Q7+Cv/V/qb+ff4n/6v/SP+9/wUAMQAUAAIAgQB7ANAASAGGAYMBjAGUAXEBugHbATkCPwLnAdIBHgJWAkoCEAKjAQ0C/gGAAQoBGQFRAfAAkgCBAF0AIwCx/5f/sf8K//D+m/5a/iX+Wv59/s39of1e/Wz9L/1k/b/9qv17/Uz93/2t/RT+Tv7r/ej9HP7n/vv+MP9i/73/+//y/ykAUgAQAVoBWgGdAXEBjgHYAboBsgFlAakB2AHPATwCGALsAXoBYAGAASgB0wC1ACsBHAHHAKoAuwANARYBoQBSAHUAQwBjAHUA/v/D/x0ANwDa/x//z/4Z//D+5P6Y/qz+af53/lT+sP3H/W/9lf2b/eX9Av5h/Zv9Rv6p/nf+Y/7K/kX/cf/A/8//AgCnANkA8AAiAR4CEwLJATMClwJMA58CWQKfAmUCogKxAnwCdgJZAv4BaAFaATQBpwBJAEwAfgDv/8b/i/9i/z//5/7S/nL+r/7P/qz+F/7z/V3+N/7E/tv+9v6b/ob+Fv9D/qn+dP8//3H/Fv+I/8D/Rf8CAAsAHQCL/z//lP/y/6QALABGADQAAgDU/9f/RgAaACwASQBSAKQA5wCqANwAjwDBAFEBngDTAJEBvQHAAfsBoAE0AT8BSAF6AXEBVAFaAUIBKAHcALUAhgAOAPj/mv9o/+P/ev8N/6D+cv5j/vb9F/4C/h/+rf2k/TT+hv49/tb9KP53/rX+V/6s/hn/z//M/9f/LgAXAMQAxwDhAIQAkgDhANYARQGXAXEBdAHPAdUBEAEmAGkAhgDtAF0BHAHwAEMAfgDHADEA1P/g/xcABQDd/9r/nf/g/2YAuv/S/zP/2P7A/8b/+/8E//D+U/85/2v/g/6V/hD/8P5F/4v/a/8z//D+Kv8T/7X+tf48/wsAxv+I/wgACwBjAFoATwBdACAAxwCVACIBRQHtAE4BjgG0AtsB3gFoAlACmQKRARMCBwIYAoUCBAI8AgQCEAKXASsBJQHkAPAAxwDEAKQACwCU/xn/B/+m/5H/9v6e/m/+7f7M/rD9bP22/W/+N/49/c39Ov4l/ij+of0Z/hz+0/1U/ij+Q/5X/oP+kv4H/yL/Vv9u/3f/CACC/yT/sf8uAMn/YwBIAYMBpwAjANMAjgH4AXEBrQAT/yr/kQHAAtIBuwAuAGL/kf+EAGj/6/1O/uP/sf82//8AWAAE//P+sAAS/IDz3fjABawMcAb6/In6s/27BAQFZf+x/LAAcQX+BUME7ALeARQAswOyBdQChP0pAGMEvQGOAp3/PQCI/1gAcAKn/W/96P1fAqgC+/8c/9L7Gv3EAK0AIP2Z/JEBgQPE/oj8L/1YA5oBRv2m/lz/aAKC/0v//P3MAZkCxfzv/10BKQM1/L76YAHAAh8B5/oH/8MCcv4pAOD8PPtXAQr/8v9a+mgBhwPb+vgBD/wQBa39l/ucBkj71QWG/sr9IATD/4gJZfuH/VEF+P9VA9j6QARwAp3/pgG7+isFrvtmAAj+H/uSBNL7BQBk/VX9Dv6k/eX9M/tO/2/+ff7k/n//ngBG+lT+RAMP/Dn/yf/tAG8AIAAZBer+Zv4xAL0CDQGY/gUEHgJ9Af0CqgBuAf7+0QLrByb9Of+OAlAC8QMo/u4G0wOY/TwCKQO0AvT8kwPtBAUENATM/roBBQFSBJYDXPwYAs0H+AFa/gUA6QWd/6z3VgIgCMcABPu8/aP/zQAu+rf8KQDzAEv/NPaf/NL78ABc/Dv5HP/z+SsBSfoy/IH9ZfuaASL6H/9+ALb94P8//1f+Z/yZAzUHLP3G+9r/oQMvA1P/rAQ2/60A4QTZA9T8ZPmOCT4DUfv1/xIH3QYF+p76Tv8HAl8CK/6z/V//eQIKBoP68fgg/Vr+IwNC//oCrflG/dADqf6M/mP2bfxwArIEMQCQ+Z79MQET/+P7cv34+xP/cgThAOD4qftoAi4BAv6FAlYGNfne8z8F4hIPBhX5hfxuBRIKkAfEBOr+ygjREaMFMv1tAiQOiAmPAJgI8Qr/A+kB/wRPA0n9tP8KAoX/6v4QAe3+Cvev9wT8wvie9m/5j/rR+Kn2S/c69iD1ePlX+sX44/iI/EwAUPxF+zEBxQKJAb4AAANxBfwEgwgECq8J9gfuBowINAjnCAAHbQo1C4QH/gVUAY8E2wR9/sz+PAV4B/AAmPql/Lz9A/kr+mr8sv7j/zj9fPwA/cf+cv3z+WP6uAAgA0P9s/1PAGH9QP4s/UX7UfvF/JH/MfPp6HDtcfO99Ivw3fAA8SnqZOJ94KfipeWz6Rjpeuvh8hv1R/G57cbwRvab+ggBoQtxFC4YFBviGgEZHRvPIEIoqSsnMB83iDfYM2MuOSw9K3EnviPgIUMi5R4xGFASPw3jBh39vfRD8mTx9+2b52/jY+PT30ra3NZY16XZJ9nU2Z3czuH45GXk7OSX6MPvZfRc9zz7xAB9BWIGAghmDDoUVhmwFyIUmBPiFkcZkxq3HGscEhrhFzYVng8ZCVcILAc0ABL5ovynBEwAb/L25jjlAttDxH68ZtTh8+nsjs3xw6vVIdmru7WqfsOA597r29y55oQDrAiB7arbe/IhEp8ZyxZxJ8ZCVUTjMMEnpDJTO1k0Vy+uOy5ObFGCQyY1cS/pKPwb5BBcEUAXqxXxDnEJAgT5+cLtO+ZJ4qfeCt0c4HLm1Ogy5v7jkeQB5Zbhvt8i5MHrqvGw9Q/9XwaNBx8B2vuB/XUDwQTfA+8FhAvODoMM3QnOBqsC6Pzb95T3//m0/Kn+cv4X/rP9uf0X/s36Ffhx92f5kv7dBqMRbxclGCwW9xKWDjAJWgjwCyUMKgnACTISkhceDikA2fUi6M3I+quZt37iKPau2Qe+nMcO1y2+K5Ksj2u28tG/ywrNCPP3FY4JMOTK37r/rBSbE68f40etZ5NjmFSeVHFZLk4WOzI5XUqVXK1fNlYHS0M9qChCEc8B4PvB9v/yIPWg95Ly5Od34AXYAclrvfK+g8yg2LPeheWN7cDzdfJE7XHs9PEc+7UAfAY8EVQcoCD3GpMWPRcCFLwKtQHvAksJKgqXBboBEAJd/mPyrOTR3XndVt1i3GbfJ+h+7gjrTuOn4vPnJupN6Wjw5v/eDNwSyhPjEfwPYBPQG3QkmyqiMLo0RDDWJmsg5h3kGFENKAScBiIQvBJAC5MDmfkN2KCfqYSCp0jcg+CbwMi/Hd+v30+s5If4noPFQMhzu+/ZyBqUO+wkdQdxEDshdxRtBz8kZljCax5e8FmAZTJjj0YHLAYmnSgLJ6MkSiz8NXMxjhynBC7zYuRG1zTU7dt14/bnKvA2+//58eke3b3dUeN349HlHPfoD1QcgBjREeQQ6A/8CMQAFAAoCTISxBM5EZoQQw/VBTn36O3Y63zoRuNp42rpl+zO6d3lTeEZ3OLWRdVP1zfb5uB55frpQvCk9f/1r/Mf9xn+hgDIA0gNShmsHxQiiCXWIiEdYx+hKgUyizBEMcs0LDEvJo4d/xoBFbIEffcZ+5ALkhDUAvX3p/Hi05uaAYAAqajd5dYysL22GOXe63W4p5bFrzHQSsOGrj3UVCAKQxcndA3JIPo0ZCLgDdckdU3YUnFCa0pwZiRt0FGBNVksoCj6HZUTqRiXJB0iQRKUBXsDOv6w7eDgXt5X3C7XcttJ7m77V/cf77jvPPQ88G3pQe06+qoE+QTbBOEMxRY0FyIMtwJOASgBHf3K+T399wJtAuv8kPgW9wrzjui435/e6OEM4jbgguSC7IHu9ej241zlz+jk52TlL+my83f7nv3nAYsK8Q47C4AIJw7AFeQYFRqvGx8cJx1FJCcsTSzUKGsoDCZEGlMOgg4iFGkPDv7G8yv+gwzkCBr5U/Rs7vnI2JownIrPsuvjzUa04dAG+bbqsr3MtqfT79n1uou2ye+1K7Es5QuiDpowbTSlFaAMYCsXPQwpiB0EOyFeWVp4PbsvlDN5Lb0YzA1jF+Ie8hGFAgAHtBUuFDwCpPbh817td+Sn5r3zRvlB9FfyLPlOAbIANfw4/MP/SP9q+ZP5AAOQCxQLYgVVA1cEigNJADj8kPjQ9YzzWfBY7f3szuzo6evmhOYR5tPiN9/x3hLhR+FP377fDeTU6PXrh+498jT2OPhk+P766gB2BoEL2hGjGHEcTB5LINMfJRzIGjUhlyhEKdwmeCZDJrcgxBfsERoP/Afo+arxcvmmBRQEQ/no9SHwnNL6rwixFdI84GrLWsG63BX5xuztzxnRJuaJ42bI3cbI8ecYkhS6ASIQ5y4eLPcO0wfIHWclfBEBCUkfjzatMTAgUh6RKAUnJxX+CXQQyxZZDtUFLw6wGsAYqw63DeIS8BA1C7YL8w/jDVsH0gVVC7UQBg9EClEJ2QsDC10EEQC6Ac8BlPtW9Ar0Cvit+Zr38fSc9JH0V/KQ7UHpFuha5zDkbeLx5drp1Ohs5/7omend5avhsOLd5RrmVOS/5j3u1/QK95z4WP0BAhIDqgOvCAkPEBHcD/UQRhMuFHAWjhwGIvchGh//G28X4g8bCoMIDwaG/kX3yvlsBFYKOQVx/zf+VfJu1YPBds4f6CfpCNsl427/1gch8PTdbuh89Bvl4M4J2kP90Asx/qT6eRFdH2AMSfaI/KMN/wen9hb7mRL+HEsRLQn8E5sfCBiOCesKehgvGjANqQiuFSEheBvmEcEUFR1LHJcUWxO6GbUb6hPcC2INYxOVE6sOrg1nEv8TSQ+5C/AMIQ7ACcAB2vy//Gn+YP7+++L5nvkJ+eP0le5A6i7nmeJW3Yrak9oL29bae9vI3UDflt4n3TncctsW3P/e+eJM5gDqP/AN95H7gP7cA4UJBAquBiEGKAlNCh8JJQymFBEb6huWGiMaORh2EqMMzgomC6kIMQQzBQENWxOzE2cSpRFhB9DyF+bO7OD4G/iU85v64wWcAnn04/BR+vj72+sm3vflhPXz9prwRferBpMGdfaa8M39ywYm/T/z6PkoBWsCHvjn+hUK3hDKCI4CvQlqEhkNdQO3BlARGxK3CQEJNRIUF38S2Q83FywerhmgEPYPkBabF7sQnQ2iEj4WUBGcCkkLKBAIEKkJpARMBP4BE/uo9MbzmfVN9Obw0O6Y7sPssOmx6O/oEee84mbf9N6j4JbiwOQH6LPqzerI6SLr1u4S8ULwFvAU8oL06/Xp+L7+kAOPBNMDiAWeB4UGdQMUBEgJzw1tDnQNrg4uEBQQUg/ZD68QZA+8C+AJFg1TEmUV+BQ7EowMEQSh/Sv+sANhB20GBgNu/438mPrH+nH7Yvhq8UvrH+tF7/bybfR+9Vr3EPcG9Tb0/fSh9YT10/Zq+Yv7w/vp+4z+EAKzA60D9AN4BCADYAAIAcMFTgmvCFUHaQiDCW8I2Qe0CooO4w0tCqMJXw0rEGkPBg9uEb8S7Q+MDNUM8Q5eDvYL1wqNC3MK3QYjBFgDVgJT/2f8HPvQ+Un2l/Mq9Nn1n/WU8wLzgPON8eLtzOyS7zHyxfHX8MXxMPTx9c311vVp9gj24PTU9Iv3E/tk/DP7YPrm++j9Af/j/wUB2AGRAcQAkQEZBUIJZAstCmcGwgNMBOMGJwoqDZkOtApxARf5afr5BJ0N6Aqd/5D1efE08u32p/1DAIX7H/OY7nbwnPV5+Az48/Yo9vH0NvRo9+r+VwUkBpcCr/60/Hb8Rf8ZBeMJwAl/BigFBgcnCrYLFwt0CYcHGAafBswJhQ0MD5QNUguLCocLEA0wDUYMSAy3DZ8Ogg2sDPgMdw2MDKsKlAlRCdIIoQfIBjMGVwQCATf+5fyc/Jf7F/pk+EP2WfTN8gvyI/KE8djv4e7N7onuCO4a7t/u4e+D7z3uuO6X8Avy7fL+82r11vXI9bX2Gvm0+3D82PvV+xH+HAE1A54EIQYAB3kGMAanBxcLoA02DfEKwQi4CEcKuwzTD24QswthA0j+EAHTB3MKYgbd//D6vfii+Hr6AP0g/Sb5vfOQ8ZfzK/ZG9vn15/Zc9zH2APX59jD7Bf64/tb9iPy6+8D7Bf71AfwEVAXOAykDfgR8BmEHuQdGCDEIpwcoCNQKvQ0AD9EOxg34DDkNWw4aDwAPOA9UEMcQsA8DDm4NQg1UDE0KzQj8CPwIZAfBBMMCegG3/4H9J/wN+6j4fvXp85H0CfV980/xxu9b7ubsaOyr7TTvEO9w7VPsRO1a75HwvfDa8GHxVfGi8dvz9vYJ+YH5bflL+uP7A/2J/goBYQNjBLUEhgXTBz4KQAs3DCoNcQ13DHILhwv2DBoPCxASDuwJ7AW+BHYGnghvCO0Eyf8Q+/343Pkq/ML8g/o292T1f/SC9G31bPZy9rP1RPXg9LP1dvhh/F//rv/l/XP8R/w7/ZH/HgIoBAIFpAQIBIMEsQaPCO0IZgjuB/8HlQiaCY0Lrg1DDwkP4A1ZDaYNgg4aD7YPehBxEEAPfw13DEgM/As4CxUKngjLBswFHwXIA8MBRf/O/N765fn0+Dn3wvTn8rvy8PLK8qLxo+8S7RzrC+u67GnuDu607BPseezo7anvnPB88MDvhu888B3yI/Wd99r4KfmB+WX7yv2BAIgCyAMXBOIDCgXIB8QLog7gDvAMbAvCC5QNsw/EEGAQaA0iCDcEJQXMCbsMRAr2BE8AJf6T/W/+aP+Y/ov7nfco9k34P/uI+9P5v/g++Rf5pfiH+RL88P2D/qD+6v4z/w3/UP9jAGsCjQNPAz4D4gNMBIMEdwX9BrkH/QZTBuAGfQiOCfIJ/QppDN4MHAwpC9oKswubDMEMdwzwCz4LLQp0CRMJpAjiByQGeAReA/cCGwJMAI/+A/19+zT6ZPm3+Fr3ePUQ9E7zYvNx80zydvD57pvuC+9R733vZu9g71rvmu9C8E/xMfKe8gLzXfNQ9OX1QveC+Df6iPtE/HX9xv8BAkcDkANkAwUElAUXCAYLmAy2C+8JLQktCucMEQ/9DgIMUgf8A8cE8AgoDBQLjgavAbL+x/4oATIDPAI0/jH6uvin+QH8vP2K/aD76/k++cL59vq//Cj+Gf4p/TX8Nfwg/dX+wQDDAZQBPAE5Aa8BywL8A8QE3gQWBcwFcAYaB78HQAjbCAcKHQsdC7EKwgqxCqsKOwvKC54LvwoPCqYJMwlvCLMHDAeuBukFNwRwAlEBkgC6/+T++f2u/Bb7p/l/+C347Pfq9h31bvMi8yvzifLC8TLxG/FZ8Izvw+9T8NHwy/AM8WHxn/FM8kXzWfQP9RH2ffeu+Gr5S/oe/Ff+jACsAXQBRQFKAkwEkwbtCFAKZAp6CVoIoQjLCkINGw7TC0EHhwN1A78GWQrgCuUHTwOa/1r+oP8tAsgCTwAe/ND5K/ok/Aj+V/5k/Tj8/PqJ+qP7wf3d/1UAOf/Z/XL9Jf66/30BDwOTAywDwALAArYDDQX7Be8FWgUwBQ8GFQeQBy4IIgmaCbQJ4wn4Cd0JOQnzCPMImgkYCnQJeAiWB9oGXwYhBuEFPAX/A6gC8wDM/2j/Nv/e/iX+D/26+zf6n/gP+DP4R/id9wX2fPTM8xL0aPRN9AH0E/Mj8uLxufFy8nrzIfRi9FP0dvTL9Nz1EPcV+OP4Rvka+j/7Vvwc/j0AcQFUAc0A2QAKAkMEVgYPB0EGXAVlBVMGvwfQCBwJjQfTA1gAYAB1A2UGkwYXBOoAcv72/UL/NgE0AfD+4PtD+uH6AP34/oX/H/8Z/tf8jfzo/T0AKgItAmsBpAA3AAoB9AL8BBgG6QUfBfAEoAXRBrwHMQggCHgHHQcDB40HnghlCXcJ8wiyCHUIJQg9CDcI6weHB9QGUwYEBtsFLgVUBOgDHQNHArgBKAFVAFP/cv5+/cj8dvwP/JT7svqN+ff4wviQ+Mn3K/fQ9iv2ePVE9bz1zfV79bf0gvQ49cL1y/WZ9Yr1vPXu9Yn2t/e6+GH5qvku+tj6vfsj/UD+r/4H/47/t/9SAJcBAAPxA0MEPQTiA/EDpASsBVMGywYbBpwDCAGSAEcCewSpBawEBAKr/6n+JP+nAIkB9gBg/g/8l/sp/Sr/FwDa/9X+//1k/ej9i/+MAZQCTQLMARsCZQLaAtYDawWuBsIGagb4BU0G0QZyBzEIxAjhCFQIjQcXB3UHEQisCJgI3AcdB38G7wWvBQQGIQbGBfwExQMAA7QCQQLJAVQBAgE6ANv+3/3E/af9Yf3g/Dv8X/ta+pb5Ffm3+GL47Pcw99D2ZvZJ9lf24vW29cL1LPWl9L30QfXN9Yz2B/fb9sf2aPd/+Hv5TvoW+5r7t/tt/Fj9cv7d/4QA9gBrAaYBMAJhA6EEUQWsBUUFsgS1BCIFIQZYBwIIBgd4BBsCRAIdBI4FdwUUBPgBCwBo/zcAUQGAASwA0P0h/NX7rvyT/Sj+C/5p/WT8vftc/Cv+w/9VAAIAJP8B//L/wwFzA6EEpAQLBD0EPwVqBlgH4gfoB7YHgQflBz0IkghpCDEIfQhdCNAHbQdJB6sGAQbsBfgFhgVyBPQClAKOAk0CRAK9AfAACAAc/yv+FP4X/m/9pfzp+6n7UfuJ+tD5HfnI+Kv4KviU9xb3hvY69lr2cvZa9h32vPWZ9Sj25/aD92j3B/da9yT40fiN+Zj6aPvY+038Gv3f/Vr+/v7a/xQArQBiAQQC4wJwA/8DKASvBA0F3gQQBd4FRwbVBQoFyANEA7YD2AQiBbIEhwO1ATQAqP+nAEgBTwDE/pX9i/zu/Jj93/2K/fH8cPz++2r8Yf3e/m7/fP96/6v/bABdAXMCTwMmBJ4E+QSUBV8GDwd+B9AHLgjrB6cHEQiJCIwIKAj/BwsI9gdtB90GcwYEBrIFhgUcBZUE3AP3AgcCpgGgAW4BvgDG//7+Jf4i/vP9Sf2f/DX8nfsT++T6Y/qh+Uz5Yfn9+Kv4ZPgt+P73r/d391/3UfdL92j3svf191D4Yvht+JD4APmt+QL6H/qe+iX7bvtB/FL9Bf4x/nr+xP4k/47/IwAoAdIBzwHyAcMCVQP8A8oEPwUCBRQE+gJTAvoCdQTNBPwDTAMbA8UChgF+AIwAEwGMAIj/2/6v/vj+yv5m/m/+Cv8H/5L+xP4k/5H/+P+yAC4BlwHvASQC1wK/A6QEPAWyBdIFMAa/BlUHpwcUCPwHvAfiB7kH6AcLCK0HFwcdB/QGcAb4BYYF/AQXBMIDeAPDAs8BAgGnADEA8v+U/+r+8/1A/Qn9tPxH/Nr7UfvE+kv66/mz+S/52vjg+Hz4Kvh5+L34NviA91z3tPcb+Az4aPcw9+n3jvjd+M74uvgX+eL5Q/pO+tD6ffvy+wn8R/wj/Qj+hv7e/kv/l/8OAL4AQgG9ARgChQIGA4cDIAQ6BGkEFgWLBeEFawWPBCgErASDBeYFtwUKBYAEQATQA/QCmQLDApECjAHKANMApAA6ADEAdQBgAOn/hf+m/+z/RgB+AIEAmACnANMAMQEBAgADWANMA0QDhAP/A1IEjwSvBK8EpATQBPwEEAUZBfAEBAXTBIwEOgTTA6oDZAM+AwkDcwKmASgBQgENAa0AFADz/jH+0/1y/R39F/2i/DD8mvvY+q/6Gvqb+Tj55vjU+ML43fjr+M74nPhf+ET4dviO+K74/fhJ+X756/ls+mb6evoq++n7bfy3/Oj8pP2G/h//Vv8w/4X/bAD2AEgBpgEQAo4CAwOKA5YD9wNDBE8EWgQaBG8E3gQ/BSgF9gQNBSUFVAXqBIYEgwQFBOUD/APcA5MDGwOiApQCbQLGARMBlQBsANf/lP9C/4z+HP4x/jf+QP7w/cr95f2//dz9CP5I/jH+FP5X/vP+dP8CAG8AUgDP/+//8wBdAXQBiQG6AdsBEAJzApEClALgAuwCugKOApkC6QKFAlYCawJoAvIBwAHvAawBWgEfAfYAaQD1/8b/9f/a/xP/g/75/cH93P3i/Xj9ufxT/Pj70vua+4X7iPsz+wr7KPto+6D7lPst+zb7lPst/Kv8n/wa/V79Z/38/VH+mP4t/7H/+P80AHgAngD8AIwBCgJQAoUC5gIyA+kCGAPIA9wDnAMgA3ADqgN7A5kDrQNzA0QDWwMMA8sCfwJWAg0C8gHVASsBpwCeAL4AIwB//1z/J/93/vz9x/2h/Wz9bP0p/bz8y/wj/WT9Vf1y/T397vwd/QL+jP6G/pL+hv7K/oj/TwBgACkAMQByACsBjAFXAcMBwwGaAU0C4wLOAq4C4ALOAroCAwMYAxsDOANHAzID1wLIAqgCdgJNAj8CLQLGAVoBBQHkAGwAAgDy/6v/8P6M/kb+sP1+/SP91/yN/Cf8PvxK/N37evvj+zX82Pv1+0T8PvxT/HP8iPw4/ZX9mP3W/S7+zP7n/uH+Zf+6//j/dQCbAOQANgGOAQECwwH4AcgCagMjA2UCxQLxAgMDLAMPA+YC1AI7A4cDNQOxAmUCHgIqAuwBlwFuATYBMQHWAEwADgACABcA9f+O/+f+Pf5p/qz+Rv7w/fD95f2B/Sn9gf0c/jf+yv1P/Ub9eP2q/RH+bP5A/hH+H/5X/rv+X//g/3r/X/+9/xoAcgCBAKoA9gA8AUgBaAEEAmUCMwI/AoICwwIVAxIDyAK3AtQCAwPLAroCyAKXAqICVgK4AR8B5wDHAFIAAgDy/5H/4f46/nr+oP7N/bn9v/0R/Zb8ufxM/Rf9jfyr/Mj83fzR/Cb9T/0A/cH96P2n/S7+bP6b/sf+HP+I/wIAhACwAOEAZQFdAaYBCgL+AZwC9ALjAssCtAImA1UDWwNkAwwDLwMbA8sC1wJ5AiECJwIzAu8BegEoAQUB1gC1AGkACwDJ/4v/Rf9F/4X/Yv/w/oP+Tv5I/jT+S/5d/uj9wf11/fT8FP1S/Wf9+vzU/Dv9DP3r/Mj8AP14/Rr9Q/3z/dP9pP0I/qb+yv7M/jn/gv/a/zEABQAXAL4APwFUAZEBzwEbAkoCXAKCAogC0QKrAvoCMgOxArcC/QIMA5cCJAJoAkcC2AHkAYwBjgEoAWMAcgBdAGYALADJ/6D/U/8f/8r+lf7H/p7+Pf4r/jH+Wv5y/kv+Wv5I/jf+Wv6J/sf+9v4t/2X/q//M//7/WgCGAFoAUgCSAMoAAgFlAcYBiQF6AQECIQLAAU4BSwGUAY4B3gH+AW4BRQGAAXQBLgEoAVcBvgBAAJIAUgALAPj/TwByAMb/yf/D/07/H/9W/zD/vv5m/nT+HP7//Wn+Iv4X/vz94v17/f38Mv1Y/TL9OP0y/Sb9D/2Q/ev9fv3K/Rf+3/3r/Xf+uP6e/uH+Yv9Q/4X/4//j/0AAmADqALgAewAlAYkBdwFoAcMBMwKsAcwBfAKRAnYCXAJEAjMCDQIqAjwCawKcAuQBrwHJAfUBCgKUASgB5wDKALIArQCEAHgAbABgAOb/fP/d/+b/6f/m/3f/f/+9/7H/a/+j/x0A1P9T/6P/CwDp/93/FwARABQAPQA6AAUA4P/4/xEASQBAAD0AbwBaAEAAIwARAHsAoQBmAPj//v86ABoAPQBjADEA7//M/93/zP+R/7r/+//A/w3/H/9W/xz/Af/e/vb+zP6J/nf+g/6v/sr+m/5y/kv+Xf6A/mn+m/5U/nT+3v6m/m/+FP61/qz+H/6P/pv+uP6p/qn+5P4E/zb/H/8n/z//J/88/53/1/8UAEMAQABgAGYA0ACqAL4AiQE0ARABgwHJAYYBlAH+AcwB/gFEAgoCBwJQAnkCTQINAhsCMwLPAbgBJwInAroBnQEYAucB8AB9AecBVwEZARwBDQFVAKoANgGeACwAEQDg//X/HQAdAMb/PP+R/4L/JP8c/yT/M/8Q/2X/PP+4/u3+MP/+/rj+Gf+d/07/P/9l/3//o/+U/z//E/+R/wAA1P96/3z/w/+a/6b/t/+g/5r/Wf+0/1//2P4w/zD/MP82/1P/Qv/n/vD+5/4H/zP/0v6J/rX+8/4K//b++/4f/6b+1f5i/3H/Lf/w/hz/HP+j/5f/vv5O/zQA+/9O/2L/HQDA/+z/iQD7/5r/CACGAEAACwBAADQAlQDEAIEAhgDeAB8BbwBmALAAzQAQAe0ADQECAR8BlwElAQoBegHbAb0BHwGOAdsBOQGdAU0CAQKyAakBwAFiAZcBPwKDASsBYAE0ATkB/wDEACsBoQD+/54AjABgAO//RgBYAP7+P/+I/1P/zP9C/yL/MP/K/jb/Iv9l/yf/2P5Z/6/+wf4t/7L+Kv90/yf//v7V/hD/Tv+F/6b/Df85/1z/Cv9r/3H/U/8w/1n/ev9//27/dP+m/1D/+/5c/7f/cf9W/3T/8/6+/pf/oP9L/3H/rP7w/kX/a/9gANT/5P4Z/3T/o/9u//v/dQAOACgBu/6C+6b+fwIKBVQEjv97/Qv+YAEPA60ALABZ/3UAnwIlATEB+QB//4ABRQFf/9X+XP/sAeoAPQDJ/wb9/v5jABMBXAKC/yr/nf8z/0kAt//EAEYAB/9OAVoALACnAKP/NgFxAckBbgGC/1IA5ACaAdsBewAeAvsBxwA8ARAB5AAKAb0CZwP1AQQCKgI8AQoCzwGPAAgBugILBDQBDf8QATMCtwKBACf/cgAw/8D/1/9v/hD/Ef7H/XL9b/0T/3P8yPwr/rH75vvD+zD8avyI+5n8MPtR+y/92vv++0386/z//Vn81/xs/cT98/5v/ZX+AACI/1//g/6bAD8BhADGAY8A7QDPAcAB4QGyAKsCAwNxAUoCNgKoAq8BRQHmAqwBwwE8AiUBDQGbAPsBvgA2/2gC2QCg/60AIADp/5j9QABEAjD/pv+m/pX+WAAAAL0BH/4a/QwD5v+s/uEASQCGAKz+UgOCAq77rgLZA0wA0gExAJwD0wDG/6IGAgHj/xUCrAEUBBn/EQQXBNj62ARvBET8dQBtAhEEiv0G/RAFjP6L/9T/gvyxAjr+z/4xAEv7vQGX/xL8Iv6G/jACqfo2++kCtPtb/Zf/XPx9/ov8jP47/Xz80ABU+g/86v5u+8b/xP0f/q39//mj/1f+Bf6A/j395wG2/ar9QAAy/B8B4gN7AKr93f/ZA8H+o/8uBXEBtP8JA5sE7wH5AKgCsgAEAkAETAPTA00C/gFKAoj/Af+dAW0GKwQ//wcCr/4e/L3/hAAmA3cBUgDS/tH8AgAD/YT9KwGD/h0AoQAf/kb+4f51ANb9ZPwAAKYBAwOyAZv+pv+C/7H/qAJrATQAogKkA1QB0v/dAncBOv7IAswFPAJf/4QDMAVy/nX9WwP0Avv/FwSkBDT+Lf9JBOD/VPtCAekFTwA7/asCAQJO+537sADs/xj8aQCEA8/7h/k3/s78cvqQ/e//3/3L/Cz9SfqF+LT7kgC+AHL6wfq3Aj8B7vkw/E0Ckf+0/GsCYQN3/kAANgVMA179fP+mBSADmAByBJgE6v5aAKYF1P+u/CUFBAY6/vv+GgQlAVv9ewBaAbn9Uf6mAVYC2/4p/W8AcgCg/sP/f/+h/Y8ASQQRALb9PwIhAoj/3ADWAAIAtgOLBUgB5wA4A+b//v+yBc4DNf0HAmwIjgEC/qABIADM/nACRAMF/vb+EQQFAET8l/9u//f8S/8uAYz+h/2bAOf+nfuM/q7/6/w3/g0Bsf9P/Vb/LgEJ/A76fP8QATj8AfyXAdj+4Pi8/SL/TvdG+tgBUfsR9h//9f/F9Kj4SAGz+V32Uf5f/xz70fz7/0P+2vwK/6oA/gHRAj0ECgaUAtECugkXCFgDKgp7DygI1AbHD3cN/QYoDHEN/gi5C0INAQpODf8PpQbvAr8KFQouBP4FnAdcBVcEGAPs/zb/hAC+/rD9Gf5//Mz7Yvuh+dr4m/aJ8xT2rvig8x7xofVl84Prf+yN8fXvXOzy6+fr1euU7OLqqOiH6pntCuxY6aDrR/DR8aLwYPLQ9aH27/eX+8z+DQGQA2IGegi5C1gPRREGE0EWfRgVGc4anx2vH0wfxR7BH0ggVx9SHmUd8BuiGhAZnRVAE3kSWA/dCjQIqwaxAqD+D/1i++P33fQ28z7xxO4k7QDtCuzB6nrr1+yo7LvrEu1d7/vv0fG69Kr1gPeC+1X9uf3eAdgFEwX/BIMICAyFDYgNgg1sD3oQ1A74DR4O3gwyC18KFAhwBgYHvAMQ/1P8zfbn74nvjvMB8PzmFuRy5njmS+Dz15XXzt0h3erUT9OJ27Hhm9963EDfZOYd6j7pzOxY9V/7QP1JAGEHVQ9rFF4W+hkzIW0lUiYpKogw+DMwNPIz2jTAN6U4QTWnMYYyjDIbLW8nNSVvIzseHRc8EdUMVwgDA/H87fZJ8mzuZ+mS42zfi91g26rXa9WD1G/TrdPV1BvVNtXn18rbEt4i4KzkrulY7QDxQfVv+pT/0wP6BsIKGRCEEycVwxgHHcoeZh/jIIQi0CIPIoMgIB/2Hu8c8hgaF3AW9REgC1EIuQdJA5H7AvdL98fyZ+bL3e/g9uYW4LHRAM/y2OrbcM6qw87KrtWx0fLFRsfR1k7g8tlx1F3fI+6G74rqEvEmAKQH0gXoB+0UiCDWIjcjuSrAND44xjezORpBm0UOQsk+4UJtSO5EzT0YPFs9ZDkHMB0qtyi8JYkcaBHcC0gJIATF+WvwBu076VHgy9Yc1OXT4M57xzHEssVwxjTE0sGqw5bHyshxyWPMYdI52AXbn9235P3tqvIs9TD7nwOvCaAMbBCHFuMcUSDbIDcjmijsLPUshitrLHIuAC5JKnonHCfCJSohRRw7GhwY3BIKDaAJHgbs/575jPYw9GjsO+HA3FPhCuHh1DXL089p1w3RmcPpwh7OoNHUxmq/bslg1wDXOs8F1OTju+vq5/LoY/ZYAwsEgwGQCssZdCBmH4wj2C+QOGI4czghQIpIqEfVQp1DK0lUSjhE+D5/QCVCXzvfMQ4urS2MJ28bhBK5Do0KVAGh9rrwy+1F6K3erdZ31PHSOc1KxqrD0MQOxFXAW79twxrHk8cUyCLNEdRD11/Z5d5G5nrrWu9e9Zz87wKzByIMwBHZFqoaCR5hIeAkKyccKA8paSoCK9Ep+yjDKJsn5iSxIZweEBzDGGwTLQ5KCnUHnwPr/UH4JvXm81XucuPA3FXeDeDB15vM/Mv30rDSBcgvw7rKNtFAy+/ChcYv0hXW+c++0Bjdvuc/6LXn/fGx/0kEDAPtCI0W7h6GH34iHi2dN+E6DDw/QgpLCk7OS91L4E+FUpBPzErcSOJIl0bPP5A5uzY8MyIrHiG6GT8UEA0AA+b40fGO7Pvk2dvh1OHQU80+x5jAY70rvc674rcWtpi4pbvRux288MBnx5DLvM4L1LLbueIr56zrdPPs+z8BZQXCC7AS6hf/GwEgwyQsKYkrhSyHLrowvTAQLxouFC5nLWMqICaPI1YhOR1DF3wSaQ+BCwsE9/y7+r33eO4/5KvhqeO83uvSfcxg0NzT1svpwdzDH8x4y23Cb8BKymHSSc97yzrT/uD35eTjNen79ycC7wFvBBkRIR2YH04g0igpNdU6uDpmPm5H5E1jTWJLS06jUg5R20rAR0FIvkZtQJY4SjQ1MccqDyHeGAsTlQxYAwb5nPFi7KXlItzt03vPIswgx/zAPb0Zvd+8PLqutyi5Qr0vv0q/6cELyNXNa9Gi1WXcmuQT65TvnPWz/VEFbQotDrYT3xoTIGcigiVbKpYtLi7HLk0wrTEmMcouKS2RLCAqRCXLIYkfdRshFZIP0wsgCMMBPfoE9831W+7/4tfdwd9Y3p7Tasq2yx/R+cw8wh/BzMn+zIDFm8D5x5bSZ9KSzNXQ6N5R55Dl+ea98zkBQAR4A/AL3BrUIQwhDCVwMMI5DTs/O41BxEkdTBxK4UrMTilQhEwpSPJGHEZSQR864DRbMS0szSMaGz8V6g/NBxH+g/YS8Zjq3eGL2anUa9FjzKPFP8HKwBHA8LzMumO8Z7+7wDnBsMP5yAnOB9HG1Cvbh+JZ6NTsTPLK+RkBKgYRCwcRABfbGxEfZyJsJtQpSCv7K1gtgS7lLSosuys/K64oEiUSItUfwxyMF4gR7w3rCi4E3fxS+eP3lvF95yPiDuP94cDY+c8X0BPUUdCOxq3E5ct8zlvH7MLSyU/Ty9JrzbrRh96C5RbkRuZA8tn9OgCtAJQJ8RbYHJccMyFFLFM0JjUXNnU9AEV9RtxE8EUlSsVLv0ilRFxDu0L+Pt04UTORL5UrdyTwG2gVxBDxClYCWPkf88TuBOg03+TYLNYL09XMYsbExOHFssRFwTHAYcN8xqLGwMY1y47RM9V11wfcSePx6XbtpfEV+cQARQVjCGEOmhUMGvkbkh+jJP4n4CgYKWsrii0HLLMp8Sl1Kg0o6iOlIakgAR3fFnMSjBBdDLUE5f2g+4H5zvDQ5hnkBuaI4RvWm8+z0urUBM3xw53FqcwXy4vCpsH6ys/Qr8zpyWTSO96O4PfdaOSt8gr7zfq8/SoK2hWRGHkZZCH1LIkyYDJPNes9cERSRHRDyUYKS0dLaEdYRJNEokNmPu83oDMYMWssLSROHA4XwxFECsYBK/qU9IPv1een37naDdhU1AzOUcnTx6HHkcUmw4rDgsa7yMHIAMs00ILVWtiy27rhNug+7VjxE/fN/WoD+QegDD4SfheYG/EeRiLLJd4nHik6KlcrjytbKj4pRSjOJZMimiC5HlUawRQkETIP+gp1Azj9qfoQ93XuueWW4qHiNt1J0wHO888c0YLKRMN+xIPJvMdlwWXBa8m5zvDLZ8pT0q/c2N+G3yDmCPMT+6X8AgFLDCAXxRq3HEgkmC4hNN81qjkSQCxF6kafRzRJdksMTOpJgkc5RjVENUAzOyU2GzHVK5wlYR57F0sRDwt4Ax/7lvRR78Poi+GD2yPXF9NWzsPJO8cbxoDEFcMJw6rEMMYJx3fJ3c2u0a/Uw9iK3m7kjuj97IbzUfoE/0cDrAiZDtESuhXRGR0eWSHcItckyScqKR8oLidRJ/MmuiSuIf8fMh5KGpQVdhJREJUMmQZRAcT+VvtC84brW+nX6DHjRNpH1lTYgddg0AnLXM0w0UrOBMlnyk3RE9Qh0aDRmtml4V3jkuMv6vT0MPvX/A0CdwzMFH4XWBovIpUquC6IMGo0QzofPgE/LECyQgZEAUNPQddAWT/PO+A39TOmL3sqLSXYH8UZ4hIcDPgFAgBP+WnyguxD5zPhOtvO1lvTns9nyxbJtcikx8nFssUFyFPKmMtTzdjQtNVN2UjcfOHz5+bsnPD89dr8jgIYBl8KXRB5FT8YqhoIH/kiWSS6JKcmEilTKfUn8CbTJqIlpyJRIGEe3xpnFrkSQBCmDBcHMwI5/2X7uvQa7u3qkOlo5MPcndgW2YnYHdPyzT7O59DEz+jLOsx80bXUY9Ng04jZ3uDh4wHlYeoQ8xX5OPytANAIxBDqFEUYpB4DJocqPi2aMHI1pznwOsY7nj0NP/g+mz3pO6w6RDhoNPcwLy2oKN4jNR5gGKUSjwwaB6kBvvoV9Bnv9+lR5O7e0Nrw107UetB5zszNOc1jzMLLlcy5zvXQ69KX1SrZUN3V4JHk9+kr7yXzPPck/EUBvQWFCWUNUxGjFCAXyxlrHPcdnB4gHzwg7CAQINkeVR4JHk4cfxnfFp0UIRKcDmcLBwkkBo4Ccf/o/Jv5TPVS8U7vh+2K6avlweMa46XhZ96j3EfdwN2R3FXbS9xU3+/giOAS4hrm5ekB7OLtjfGb9qH6Mv3BAMkFLQotDXoQ5xRZGW4cuR58IVwkBSedKGEpVSoRK+oqrSpMKm0pSCiBJhYkliG5HuEbBxn1FMQQBw2sCd4FUQEA/XX54vX38ZXutetE6ZjmzeMd4hXh898935neO96w3uffM+Gn4kXk1+UE6NPqlu217yvyt/Th9nj5VvzK/rsAwAL2BPQGsggBChELTgzBDEINLw6FDp8OsQ6HDt0NhQ1CDdsMEQyWCuMJgwmYCCMHrwXNBN8DRwKeADn/HP49/cD7mflK+PL3Avcg9Wvz2/JP8rbxvfDk7yTwf/CL8ETwvfDo8fDyffNi9Hv11vZ2+Jb5PPss/fj+mACUAqwEywaJCPUJ5QvaDXIPdxCFEaUS3xOSFDMVvRXaFfIV1xWaFRAVehRSE90RgxA1D8kN8wsECh0IcwaSBLQC2QD+/jL9Yvvi+WT4ePb69CT07fJ78c7wrvAw8Ofv1e/v7yHwNvBo8MjwnPH/8YHyjvPL9L/1T/bz9h74h/k0+tL6pvu8/Pz9+P6g/7AA8gGcAj4DQARLBcwFUAZSBwgICAhJCPMIaAlrCWgJSAk/CX0JBwmPCBQIwgdbBzMGMwWyBMsDfAKRAXIAX/8c/r/8Qvtj+rz5mfjM99D2AvZV9bf0U/QS9Af05vO48w30n/QJ9XX1DvYQ9yf4Gvn8+Tn75fw6/hb/CwCRAVUDgASIBcsGMQisCSYLFwzEDJcNkw49D28P6A/8D/wPlQ8dDx0P1A5bDroNJQ1pDFgLNQoHCfQH3QaDBe4DsQLkAbgAFv+e/dT8Ifz2+oH5dvjj9zP3N/aK9Sb1X/QY9ET0J/Tm88PzzPNl9Lr0sfQd9ev1wfZU99j3DPlR+gT7evuo/Jj+i/+u/08AtQGcAuYC+gLTA4kEsgTqBBMFKAXkBLIEUgQFBM4DDwMTAnQB1gAFAN7+Ef7T/R39DPz2+mb6dfoI+l757vj3+Cz59Pi3+CP5vPm5+eX5dfpf+zj80fx7/bj+4/8xAAIBXAKEA4YEEAXvBVgHLgi1CC0JFQoMC7YLxwvuC6wMPw1oDTMNOQ1IDZgM3AuqC08LhQq6CcoIEQhyB2cGawVJBDgDBwLcAL3/u/7c/RH98vu++rb5I/nj+Bv4Ufes9lT20/Vb9Tv1TPUJ9XP0lvQG9V71lvW89VH2X/cH+HP4F/nu+fP67/uc/ED9dP42/wAA6gAlAbUBsQJ7A6oDnwMoBO0EDQWJBEkEhgRpBPQDJgOrApkCPAI8AToA1P96/5L+bP3r/I38FfyA+wf7OftC++r6dfp4+sH6vvrk+kj7vfs+/Hb8Kf09/n3+0v7m/y4BmgHeAcgCzgPWBH0FOQYGB6oHKwiMCEgJJApqCnYKvAovC5YLbwsaC/0K7gphCuYJjgm+CCAIlge/Bv4FWgV1BMgDmQJxAbIALAB0/xH+8fw1/Kb71frF+ff4gvhE+Mb3u/ZP9lH2I/az9Wr1ZPWQ9aH1ofX59af2B/cz99v3iPhD+db5mPqa+3/8Hf3K/cf+l/80APkA7wFwAnMCxQKhA0MEOgRABIYEgARDBB0ETwQ6BH4DugJ/AlYCuAExAU8Al/9L//v+if7N/Ub91Pyf/Ef8DPwq/Mz7cft6+7T76ftN/Jn8pfz0/G/97f2b/hb/Lf+9/+oA8gFzArECQQNABKcEKAXVBWUGFwdqB9kHGgibCBMJSwlICRMJLQkwCRkJxAhXCNwHqgdMB8UGWQasBR8FmwT8A2oD2gLvAVQBtQCa/7v+Ov65/f38SvzY+2j7yvrr+YT5W/nX+FP47/fS98P3lPdi92L3oPe99+b3O/iW+PT4O/m2+Uv60vo/+8n7avws/dz9F/6V/hn/hf/v/1UA/ABFAUgBjgHbATwCIQLeATkCBwKOAVoBSAFRASUBAgGMAAIA1P9c/9j+if5d/jf+sP09/UD9W/0p/ej86/wm/Xj9Xv1n/bb9FP6g/v7+SP/P/2MA7QBxAR4CnAISA5MDEQQKBaYFwAUhBukGigfTBxoIUQiDCLUIzQjQCJIIuwiyCGYIKwjuB/YHXgfXBjYG2AW6BVwFbwRHA/QCAwOrAloBHQDg/4j/rP6w/RH9n/z4+1/7ifoX+vb5b/mi+Oz32PfV93r3HPcC9/b2yvb29lH3VPdf99X3+/cE+Ij4MvnW+Vf6kvrn+sb71/wa/W/9hv4H/0X/vf9SAAIBegHbARgCjgI+A3MDagOHA8sD4gPiA9MDkwNJAw8DDAMDA84CRwJ0AQIB0wCBAAIAcf8q/wf/d/4U/uX9s/2Y/T395fzj/Pr8Kf1s/Uz9of0l/lT+qf7q/l//6f9+ABYBzwGIAsAC4wJ7A2MEHwV3BZQFRwYJB4EHzQcICEYIbAjeCOoIYAguCK8IEwneCEMIyAfcB4cH1AYEBkIF2wRGBGoD7wKCAmUBKQBW/+r+FP63/Pv7evvV+gL6OPmr+EH4kffB9kD2qvWE9UT1BvX09NH0xfTd9Fj1s/Xu9Qj2TPYZ9wr4hfi9+Hv5uPrg+2f8A/0X/if/8v+yAIkBawIsAwIEmwTzBMAFPgafBk8HhAdJB40HmQc+B/EGlgZZBgoGiwWyBPwDuQNwA4UC8AAmAA4AZf8i/kn9Ef2Q/Mn7M/sN+9D6b/p4+m/6QPpR+on6+fp9+477zPu3/Gn9xP0Z/hP/LAAuAdIBRAJbAzcE6gTYBZYGNQfQB3UIKgmsCSQKfwqICogKpQrdCsIKKgrYCQkK7wm7CKcHLwcgBzsGngR+AyADeQJRAT0A8/5d/o39Vvy4+qr5Jvkz+Cj3Jfa59XD1vfS98znzVPOg8zzzx/LQ8jnzpvPp81/0vfSt9Z72RfcM+Az5afqI+438iv24/uP/HwFQAlgDewR6BX8GSQehB1QIKAmICY4J3QltClYKzwmLCawJgwl4CA8HggZQBk4F0APdAogCjgH1/2b+jf3I/Bz7wvkV+aj42/cQ95X2Lvak9Rj1CfVY9Vv1VfWQ9Qv2//ZW+F75p/mG+vv7k/3S/o7/VQDVAZYD6gQeBjsHiQj1CZALtQxFDfsN2g5vD8EP+Q8lEHoQbhBUEBEQZg8DD1sOdw1mDB0LJwpZCU4IjgbnBBcEKQN0AWj/SP51/fj7kvp7+Yj4H/eq9b30KvRx88ryMfK58YHx9/Cx8AnxJvHd8MPwEvHI8bXydPME9N30xfX/9sz3IfgX+bX6G/zR/Lb9Df9pAGIBUwKWA3sE5wR3BZYGvwfiB7MHNwj2CCgJ5AiyCNAIqQgCCM0Hnge3BtIFJQUHBRoEbQLAAUgBNADt/gX+ZP2c/H37evri+WH51Pgn+K/3ffdC9+H2p/bt9l/3OPii+Ob4IPnf+Tn7/vvX/Nb98P4OAHQBwwKKA0MEgAXdBrwHeghFCQwKQwsxDKkMPw3JDQEOzA0eDlAOGA6aDVkNvQ1fDWYM0wtPCzsKHwlRCG0HOwYrBSMEXgNcAjEBIADY/lX9X/uz+e74iPh39yj2gfUy9ST0xPLi8Y3xIPG68Bbwne8Q8B7x3/Ed8tvyo/Pb86PzZfTZ9UL3YviW+V/7L/10/mX/tQAzAl4DCATnBA0GGgcdCOEIawnpCRgKjQoUC+gKjQoECiEKDArSCFsHOwbJBdgE2gLWACYAd/+8/Tn7O/kA+Z/4+fbF9O/zbfSL9HTzwfJx8yf0aPQK9Ef01vWa9+P4FPpZ/EL/rAFEA68EhQYRCD8JxQoODJgMNg3iDjkR/RGUEa4RhBIaE9ER1g9GD2YPJA5eC24JZQkqCcgG+gPjAmgCOQH7/uP8z/tF+x/6M/h49qf1CPb09Xz0TvN686v0XvXs9OP00PUz9wf4/vf49yz55/qu+3T7Bvyw/QT/6v5d/hz/xwAKAhgCTQJVA4MEoQQmBFcEXAW3BU4FKwWdBXAGeQY5BrEG3AebCDQIlgcuCFEIqAYgBMUCXwIaADL99/xL/vD9Tvt1+sz7e/kP8X/pWOrX7bbpx9/p3JDloOyV59jfKONt7eru3Obn427swvQ68k3tifNUAREI6QWWB40SgxxKHW0a3hz2IlEkMyFlIJ4jjSZmJkwmMygqKX0npiTdIRgd8RYsEuAOwgqDBP7/z/50/sP77PeP9mn2PPQk8Cbtruy+69roEebg5T/omOpf7Bzv1vLr9QH4Uvl9+nr6Yfkb+L33fPiN+cr6lvy1/ikAJQEzAjACCACE/cb7wfqC+Aj2PfaT+Lj66fsu/hgCCgX2BIMEXAYuCHAHVAXhBN0G5wiIClYNeRETFaoWqBaLFfoSDA9tCq8EC/4X+X751v2b/gj6EvmI/8b//+7n2EjUod693ZbKPr8U0J3nTufc1p7XUOwJ9fDj29Q54KX09PRk6ePw2Qv0Hc4a4Re5JVg1lzO1JwklgyvRLAwmPCRzLO8zDTPVL2oxrTLMLMoiTBupFHkK0wDK/Xr/NP6G+iX7TADkAXb8TPZi9Cby++t+5ibmeekx6/7rt/BZ+EP9bP1k/J/8iPuv9+nztfIF8lbwU/BO86n2nfd091/4G/h89Cjvd+u86YznEuUb5Vno1+yc8P7zdPdJ+un78vum+9j7gf2YAA4EuAgjD4oWgBzcHhEfFx+KHrocZxqEGoAc2h0YHrkeQR7dGe0TRg/DCXz/IPbH9sH9dvw68kfwofmh9mDY6Lu6wvzbXtpRvYe4xd1I+9To58hp0FfvnO2ky1PC3eX8BIL83O5KBvgsmjBnFlAOXSPPL0Af8Q4GGkYu9zB2KWMuUDzBPRUxiSdkJiAiYRZ5DuUPZhDoC10MORUPGrwSIgkICIwIE/9B8V7td/PE9s/zsfQl/rIFUwLT+Xv2B/dM8u3nnOF/5Tjtz++77rrwePW/9RDwYuha47rh5N9Y3ojgsOag7MHu8+638FLyR/B06zXqHe7f8RD0oPcc/4gGSwmsCdYLtg4bDmcLtQx1E/oZ6hsFHFseVCBqHvcaOhteHgkelBmHFvoWAxa4EKsK8gXeANj7mP2qA0QC3vfy82n90Pq82l25icDp5MTuQ9OeyCrsKwzI9G3H78XJ51DsTcqUwQPuiRdoDen0lwXdKKYjGfsW7O4HTx4GEhkF3hgCNok2vCFhGsYkqCXqEycGowx5Gawb2Bg8HEYiEyBtFnIPcQ1zCuoErQPeCOYNVg5IDaUORA7IBzP/gPs+/MH6I/ah9aP7AgDD+030UvL58o/uKeb/4mnnu+sm6o/nK+tN8HLuJefY4/zmKumQ5nnlNOsp8jP0tfO59ZD4WvfA8yT0EvmT/Jz8sv4NBokM+wwmC5cNShJqEuwNxwuZDnEQgQ/vEb0ZDh/0GoQTrhE9E7kOoQQ0/rb91f4YAgwK1Q0VBoT9kANdCLfsXcDIuwLrBA0F9vnXDPHrHgQRENEcufHhwf0i4MPJrfV1LnAlpfSo8HQY0xvm6EvMdPN/JCEhxgUkDoQuOy0BBo/uhv5dECAHKvssC/Am5ysKHGES5BQAEu4D1/wKBvsRXBWBFoscIh8JFpsI3gFSAG/9t/uAAS8LBg78B0QCsgFI/vbyFekR6t/xmPbP96z6YP4S/Mry/+oV6dLo6OXJ5Crskva/+J7yge7+72Du3eWv4Brmcu6I8AzxO/iGAckBnvlt9Wf5of0b/JD8IAdCFCUYYxN4D3sPygwwBkQGphDgGaQXHBG6ERAVRRCsBIH9UPy6+2L/hwt+E2oKcf9uCY4VkPk7w0i5RvJZIfAI7t008zoqkB6d0fCtqt4fDD7xgs1t8WIw/Snq6/XYrQNNFuzoMcUF62IowCxIBWX77xgYIa77Fd2O8CoVPhoECQUMaCRMKjcTlP9GBPgNmwiOAWkMCB+BIv8XHhJ7E3AO+QD8+iMDFg25Dn0NcRG8EvAIO/wG+Z791/wx9kn2XQAmBz8Bxvd29BL07u2x5Xjmku7N8lHvdu0P8f3wmuiy4BriguiP6sbohutu80j3oPOI8D/zJffq9qT17vg6AKMF4AY0CHsLYg2kC4gJBAnfB9cG8QoCFMMZdhZeDy0N/Q5iDWQH+gPnBL8Gdwm2DrcRhwtJAx0HkA9eAwrhH9BV7QIXjBic9Z/lAv7qD1j1MM7IzqfxdAX5+X3v6vrIB6v/Je/X7AD1zfUk8HX1dQifFjgSkgS8/Uv/kf8K+xf6oQMWERoXRRSAEMcPzw2SCMcE+wUPCvgNvRGEFhMZ/RYRE98P8ws+BlsDTwdkDq4RcRDFDpAO/wvkBPP9lvxL/1n/rvtR+iL+pwD1+5TzP/Dx8Z/wN+vJ6H/snPAe8Lztpe2l7cHqCug76UjsGO3D7CXvpvM99tn1G/Wh9af29feH+Un6VPuv/rADFQYrBPECAQZoCeIHKATTA90G4wkXDPoOPBHTD+gLZwqqC0AL1QjbCBYNQBAJD9IM4QzgDeULlQj7BfcC6P0r+gX+ogYjC8IG3v4L+un3mfWJ86/zivW19hP3NvjH+WH59vat9TT2vPVX837y2fUl+4n+nf+U/4T9WPlO92P6U/91AKn+d/8dAwQFkwOUAk8EzAXLA74AlQAIBLwHNgmaCe8JNQoNCWoHEgdyCG4JaAlxCQwKcAqpCWkIZweuBk4FYwT8A8gCQABu/2IBWQIz/0D6k/m0/Bf+UftW+Jb4WvrB+gv6pPlB+Rj4P/eu+Bn7Jfu9+CX33fi6+537y/j+9+b7IwCY/gP5Ufdl+/7+CP6C/B/+EwHnAaMBgQPABQ0FFQP0Aw8G2AQ/ATACEwl/Dh8MEgZ4BLYHPwnGBRsCeQJjBIICPf35+nL+PgNyBOEAMvyF+Cv2VfU39if4Mvk7+Z/4M/iO+Ov4FfjN9lf2Jfc2+NL3p/ZB+KH9xgFc/734NPZa+iL/f/9p/iYAywLdAswBsQIwBawFzgMFBGcHKgp0CTcI7gp1D5APvwpyBzYJ8wxQDnENKg0YDvgNswuxCWsJRQlwB4kE+gI+AxcEgwStA6wBaP9v/kD+4Pzq+uv5H/pL+mr5hfjd+ML54Pg294b2zfak9h31TfSc9a/3nfeK9V/0rPa2+ZD5i/f89nD4MvnO+BT60P2GAJsA/v+7ALUBLgFmAOkBIgWRBjYFpATaBq8JGwqJCMgHjQe0BvYEnAODBDkGlgbUBtoGCASe/t37U/89BE8EEP+++sf6gPtU+iz5jPrC/Ln8uPru+QX6c/jZ9RH23fjp+Jb1FfSy9w/9P/9y/bj62fmW+en4T/n1+wIAOANyBGME0ANkA+4DUQU5BgoGTQZdCLEKMgtACzcMww2pDbwK/AcoCFwK2QsuDIoL8QoYCqQIKQesBDYC5wHFA/kEWwNlAa8BNgLy/+D7Pfqu+/X7ofmC+L76bP3a/P/5RPgh+BP3avTZ8uHzAvZl98/3HvgM+U/55vfw9jz35vfv9zv4Dvq5/H//iQGiAuwCtAInAuQBBAJWAs4CVQMzBaYIlgvcC4sJxQZOBcEEvANEAuwBkwMzBkwIVwlmCJQFPgMMAzMCZ/yc9Xv2qP9OCP8H+QBE/DL8oPtF93XyI/Lg9Fz3efiO+Nv3QPY49XD1RPWn8kvv9u5f9GX7V/70/Ar7t/sU/Xv9lf3z/twAeQJyBOkGfQiJCD0I7QjVCUsJsweqB2oKdw25DgEO1QxhC/UJgwk7CjULewt4Cz4LCQvaCsYJswedBYMEDQW6BdYEkAOQA3sE0wOeAC/97/sy/Mz7ePrp+L34k/mN+TP4XfZb9Xz0jvM/8zb0A/Vt9TT2aPfm93L2nPXY9nX5B/vw+i37vPxv/tv+N/4X/lP/uABFAbUBTwMfBWUFngTEBPUF2gbvBRcELgQnBmcHuQcfCe4KuQolCE0GAwdYBzYFxQNfBscIxwQy/UL7jgGKBzkFhP1W+PD2qvWv85fz8fVR92n2c/Us9aDzGPBJ7mHx8fXx9arxE/B79QD9o/9Q/BX4mvfF+dj71/yG/sAB5wQnBhkF7wJFAQ0C+QT2B4MJoAl9CcMJvAoFDFoMLwv+CUoKpAtCDWQOAA9SD6sOuwwDC6YJQwhDB7AH0gkUC2gJ9QVDBKwE/wOEADL9ufyw/QP9rPqN+Wz6l/ti+/H5RPi+9nv13fRe9fb2z/dx94v3h/k2+6T5H/fj9+r6hfv0+FT3XvkJ/S3/P/85/+D/HQDA/z//Gf8k/wH/Zf/bAcYFgAh6CWIJcghTBrYD0gEQAmMEggb9Br8H1ApiDVULBAbOAj8CBf6O9CLvbfWOAZYHFAQo/vn64Pen8UXr/+o/74nySvRO9wr7gvsK+Ir1TPZs9ozyeO4W8BX4kgBMAyAAnftJ+iT8QP7T/UH84PxrAcIGcggVBpMDlQSRBvEGZAf+CF8K0Qo5DV4SvxLpCaYBnwbhFA4bhxJUCHcJzBHWE4AMhgRhAwQJUg+vECwLZwNAAPECtQQ3APr4Y/Yo+xgCXQSC/xf5rvi5/RoAhvou8prvpfTy+4b+XPz5+iD95v9U/hn3GPCX7y30avjW+WH5//lc/Hr+9f/X/0/9Efqy+q/+VQAC/nD82v/wBPEHowlyC2kMNQv2CO4GCwRAAOL9//32/v8ATQb/CyIMWwcPB3EJqf6P4+3PNNvb9i4A5vNN8dgFhRVMBxnrReBB6bXuUOmb59fwn/yPBFMN3RVhEvv/h+5x7E7zK/PG6wDtaf1eD6sSDwt7BywLbww5BW77nfes+7kDeg27F5IfDCJjH/AbYxiIEcQI/wPeBFoIGgsPDq4SMRciGCATEQvUAkH8//a99Bv4nf9zBhkJxgmLCRcHdwEi+lP0ufEX8qL0jvhZ/LD9sfwZ+xL5ffMF623lC+dN7J7uie4+8R74SvwF+iz1OfNW9FD0tfOP9tD98AQOCJgITgk+ChYJiwUmAzYFUQjcB/8ErAQ0CJUMrQ+jEBwQgg64DAwKugasBDAFlgeNByEGwQgGD+oQYQqRBb8KXApQ8BfM98bq56MBPfZK5VT36BYMD8LhmcYT2Fnw3elI2DLisgE6EGcG0wAnCqIKIfQs3n3gq/A298DzCPqXDUoazxECAdH89gR4CJcBYf31BaMUMB2kH3YhESOXIL8a1RTHD28MewviDrsUxBdWFVYR4RAQEYMMxARVAHIAygCm/1gAhgRMCLwHkAOBAFb/dvzN9oby2/LT9Rf2ffN18p3zxvMH8NDqAejz52joGehI6Izrye/x8aTy0vON9b/1G/WW9cv4JPzX/Cz9bwA5BnwKBgvjCS0Kmwu8CxIKxAjPCdUMkw5CDSwLuQsWEC0V1BZXFNQSoBTHE10MEgaYCOwNCQtMAw0F9g8DE8gHKQBtBxoIGexGyAnHtuWi9FzkId3a+FIThAM13gvUkudR70LcF8/b3/b5Yv9e+VACTBMfEEj3iOX/5iXr0+YT5JfvBgPrDv4NgAnKDAgUaRMKCRYBRAPyCd0OVRNXHFEnISxQKJEgxRq8Fg4QMAklCPwLzA3KDB0PiBXjGcQXnRERC94Eev9k/JD8HP/hAQgE5gUjB+QE5/5G+S731vWR8LbpX+gP7VDwGu7k637ujfGP79rpRecG6jXtZeyh6prsHvFo9L/1TfhW/Av+J/wi+i37FP49AMwBDgQPB9UJ6wstDQwOkA6KDgcN7Am3BpkGIwvJEZkWEBhoGBsZ8xfsETAK6we0CmIJMwJvAOkJ9xKlDlQFIghSDzz/Ldm3xe/ZTPIf6BbV0ObyDYsRUu3x2kTxwQCY5kXJEtbo9Vf3qeMM7bsTyh8H/5HkqvJkAxbvBtIg2tD6zQR79aL0sw9qJWcdngxkDqYYpRE2/9n93hAjHpkasBc1IiQsBiY8GOwRnBLvDVkCkfvkABELlQ/qECwWaxzpGeUOIgXAAbUAI/0a+SL65v/fA7kDhQJEAj8BMv0j9rvuiukr5/zmz+hp643t5O+P8mXzlvFf8Jzwvu9K7RnseO4F8snzbfXf+eD/dgIfAQAATgHIAmABpv/zAEwEwAVOBY0HvgyQDmQLegmqC8cMVwh7BPAIExFtEjYNEQxnEncUYAydBSIJjAzJBWz+cAPHDPUJpACpAaEI0fyd4PPTheQ89O3nL9rS6yoJQQat6sPk3vqfAzLtMdtW6MD7Xfb+5zTzag74EQf7Lu+V/S0GbvOk3/7nKvzC/N7vyvI/CZoYQhTXDYUVUR+7GCQKuwgOE6YUqApsCDoUiB1EGcsSkRVbGskURgcK/+oA3wNaAIH9VQPBDM0PDQ3bDG8PAQ6OBiv+vPkq+Pn2avW59aH5kv6PAKD+BvyK+af1l/CD68znk+ZZ6ATs7O9B9Kf5sP0L/gH8ofm69wn1+vFE8WL0nvmw/SYA0wPKCDULWQnJBaED3gG6/z3+hf84A3YGkggeCloMMg7vDR8MzgoYCvMIYQcHBlkG0AfJCaELGgzACTsGwAUpBwQGMwIaAC7+v/UH6AfgAeSp60vreue57eP7xAC693vxJ/hf/1j5hO3i6gPxiPS188P3awKRCZwGWgC4/hz+Hvj1787t8vAF80XzmvcEAsANlxVBGZ4bfhvBF5ERmwxhC64KpgjTB/cKCxB8EpUTghVYFsISKAwPBncBx/6w/Wb+3ADYBHgISQvdDXgP1w5PC+wFkf/8+Rf2pvOV8iH0GPhB/Dr+Av7H/bP9rPoQ9PTtEets6rnqlOxT8BT2t/vn/joAQgETART9VPeW9Cz1RPWZ9A33Rv5FBbwH4gdrCZgLVAkmA7H/TAAAAGz9/fzVAbYHnwr2C0oObhCKDnwKvwceBmoDEAGXAZAD8QPfA5kHoAzqDIgJSgYnAnT3o+dd36/j3+lL5yrlAfA5/8YB//nj+AIBFQNB+K3tie4V9JHzI/GD90wErwkUBOD/gQM/Bfj7IfCb7sPzmvOq7hvx/P22C88R3xL0FjAdVxySE1EMUQy4DBoHKgJsBLkKwA0cDdEOwROCFbkPgQesBPwEiwIp/XH7eADbBeYGTAccDJcRlRCjCSgEJwJg/jP35fGt8s32zvjR+CL7TwDLAlD/2fki99T0E/CM65rrmu+O83X2h/ni/WsBwwE8/1b81vn29pn0MPQ69nL5Wfyx/+UDlgfVCMgHbQZFBekClP+H/Xv9Jf6r/x0Dhwc1CvcKRgwKDToMaAnbBdkDLAOZAisBXQGhBLgIjQpWCjUKVwhgAVj1Y+r85iTpRuqu6BHrxfTW/fj+EvzB/UECaAGm+u/0XPTc9fH1B/eZ/E8DkgTqAEL/HAFAAIf50/IV8Yny2/Kw8Zb09v3SCHwOiRAIFN8WWRUhEW0OWQ12Ct4FagMKBe4HEwkBCt4Mqg/aDhELkAepBVIEoAE//2j/4QEKBdcGsgihC1YOlA0iCVQEHAE6/rP5VPaY9tr43/mb+Tr6v/zk/kz9avmM9un0ePKv7wXvwvFB9VH3Jvns+1T+8/65/ZT7NPrK+Qb5jvfb95j6uf0XAHYCNgXdBkQGmwQ7A0oC/ADt/i/9h/1SABsDXwXoB/cKzwwHDRQMwAl7B7cFoQSTA0cDHQTsBWMIcwqzC/EKNgbg/GDyaetn6fvoWegd6vrw+fls/pL+Fv/GAagC5/7z+bf3FvcU9pL2x/qbAM4DYQNoAuMCugGT/Ef14/CX8Efwne/38Qn5LQLVCTIPRxKGFCQVNRIlDVQJ0AckBnsDlwLEBCUIYQogCz0MEw3CCzcIKATDAY4BCgF3/6j/gQNRCFYKnArKC6MNKwwaB/sBXf4E/KT5iPem94P6ZP2z/Rn+hADzACb9iPh79tr08fFW8PTxtvV1+SH85f0t/7UAIAAP/JD4Wvdm9kT1CPYP+Wr8U/+rApQFnwavBZADvgB3/mT9kfuT+eH67/8gBAEGOggAC5UMsAuDCS8HHwVVA30B3gBlAvkEnwZgCA4MuQ7rCy4E8/oZ8xjtWOlW6CTpjuwN83H7EwGlAsgCVgITAaH9Qfl99tn10/aC+Hn8cALLBuYGNwRHAy0CBvxX8zTueO6p7xjwxvPA+zYFKAwxEOgSaRQ3E/INKwhRBaEDxgEWAZwD1ge3CrUM4w0qDhcMkwc7A/7/F/6Z/An9AgB1A0kHIAtnDiAPsgxWCgIIMQSv/kv6e/k9+sn7F/2y/i4BRAO5A6wBrP5F+xz3WvPg8ELwrfHF9NT4I/3QABsCSwE3AC7+lfqV9kXzN/Km8+r2svrV/ocDhwcTCaEHEwX4Aaf9k/mL90j3UPjg+2AB/QaWC7kONQ/7DDUKFwfDApL+A/2T/cr+8gEyB8oLkA75D5APXAqm/4nyJ+m/5onnxOdE6UPy9f91B3kGbAQ8BewCjPqJ8kfwY/KZ9FT3+f30B8IOsQ0ECVkG/wMM/O/vHulp6iTtTu+69OH+OQmYD00SohL1EbEOCAhXAW/+UP9JAOEBvQZODR4SfBLPEOYN8wjAAgb80ve19rr4kPxaATEIyA6wEq4SdBDbDLcG7//B+n/4jviq+ZD88wBfBacHfge1BQ8Dif4H+GDy7+9f8IHxuPOC+L/9uACLAuwCVwHQ/Qj6FvcM9X/0sfTN9Vj5qf4TAmIC7ALoA8UCBQC8/ZP8Vvv2+n37Afzi/YABmAThBcoHGAqRCSwHOwbSBToEqAJtArEC0QKABFwG/wd6Cf4JowkAB/YAcvb1673oAuuE7Rfu1vH8+hIDUQVQAjn/4PzF+D/z4PD484v4jfxcApAK8xBLEHYKmAR//235y/GC7OPs7PB49c36lwI+CsYN3gzuCioJSgbRAhEAlQAOBAUIOAsyDpER+hLSECgMUgdQAnn8M/g/9yz51/xFAWUFKAnZC1oMkwr9Bh0Dz/9e/UT80fzq/pQB8QOpBZwG+wUgA9X+Yvtt+W73rfXL9Kf2xfll+4L82f3P/hT+VvxI+4b66Pmh+RH6VvtY/XH/tP/v/8QArQDw/kn9Z/3i/az+z/9pAA0BBAJiAuEAIv9i/+D/zP+7AGEDRQUeBrMHPQhbBw0GHQTAAQsAWAA8AZ8C7QQDBzcICQeOAlf6tvHU7O3qo+tR7030Q/lO/g8DhAOb/hr5SfWv8pnxQfSe+X//iwa4DN8PCBAwDQcGhfzQ9lz07vEv8X71Kf3AAsgGAQoqClIHqgM0AJX9nv2m/1wCSgZLDGsRahJxESUQsgxqBtMAk/2u+zn77vxjAEQDBwZtByEGGgTDAiUBkP1Z+/T8Yv8cAekCPwV2BuYF6gS3Atr/8P2//Nr7Lfxy/Sn9Lfzl/Jv9D/zQ+YH58/nF+WP6t/ur/HX9d/61/nT+rP4I/uj8cv3t/gr/6v49ALUB8gGpARABbwAjALr/oP7c/az+tP/4//kAQQOJBD0EIwSVBKED/gHcACMAFACSAIAB1wIiBTIH1Ab2BBgCDP289RPwSO8E8Bry8Pb1+6b+tP/M/z78tfY/837xI/G98836vQEgB4AMJg9nDtoKGAbG/xT6kPh7+dX68/04A+kGqAYbBmUF+wGz/WX7qfuN/KD/TwR4B/sJIgwBDW8LHwmnBygF7wJ8AtQCywIPA/EDpAMtAoMBXQGbALT/yf/v/1//nf/s/6v/Nv96/+D/fP/U/xYBEwLLArkDrQMeAvj/Jf7F/K77NvsJ/DL9Av7n/qb/J/9S/eP7nvp4+RL5C/p9+1v97P85AXQBsgF0AXr/Xv28/eH+vv5//9gBTwMdAwYDWQL+/2z+SP7r/Xj9Nv8qAsACTQLLAtgBpv8u/tD9FP4k/18CxARXBWIFOgRgAH75cPTn8gXzwvRH+Mv8fP/M/+r+i/v09Wfxxu8b8Kryv/gCAGUFPwnuC7ALVAjEBNUBuP6b/TQALAM2BToI1woJChoHuAT7Ad7+Z/1d/p3/HwGHAx8FawVFBSIF3wOCAuwC3AM0BH4EPAUwBUkEagNQAvYAPQCkAF0BWQIMA6sCWgELAAf/L/2a+wf7X/tQ/Mf9kf/KAI4B0gGtACr/C/7x/Kv8p/1u/80ANgJ1A5MDTQKEADn/p/1H/FP8D/2b/e3+oQArAQoBvgCj/zf+/P2w/Un9H/7p/2UB6QF/AlwCcQG7AFUAHQBQ//D+sf+JANwAPQB8/8r+b/1n/D78qPyq/cz+7P/zAC4BjACe/mn6kvbf9Wj3Pvki+2/9oP/kALr/iPwP+aH2LPUK9DX1bfmN/dL/bgHiA0IFZwNXAdYABQGgASkDKAWLBgIIAQmMCJAHCQdnBhwFvgS1Bf4FwwX4BQ0G3gQVA8wBrQBsAP8AowFfAu8CIwNiAsQAIv/Z/Rf9LP3t/fv+QACdAVwCSgK1AZUAIv8o/qr9bP0X/rT/pAD2AIkBjAEIAREABP8c/u39if5x/wsA4QAQAhMCQgHeAB0A8/4u/hT+Mf6M/pT/LAD+/+//IABZ///9I/3O/Nr8Kf2K/Zv9Tv4n/zP/4f6p/tL+r/6S/uT+2P7e/qj/OgAaAB0A+P8i/7L+1f77/qP++P77/ykAIABpAIEA1P9o/0v/EP9L//L/hADZAGIBCgIVAokBNgHHANT/2/5d/gL+1v1A/ur+tP8uAHIAKQCO/yr/r/7B/cX8Ifx8/Hv97f0R/vj+9f/d/7r/f/88/wH/r/7t/g3/U/8IAJsAYAH1AS0CCgIVAoICGAKGAdgBMwJlAs4CNQNVA5AD3wM3BGwEYAQOBK0DcANJA4cDPgPaApECPAK6AS4B6gAfATkBAgFCAW4BegHhAIEAQAAOAKv/U/9O/6j/TwApABcACAD+/8b/Vv+7/uv9ZP36/AD9LP2Y/Rn+Lv50/oP+8/1h/UD9Hf0g/Vj93/2b/j//pv/J/+n/uv9f/8/+Mf7l/Wb+2P7h/nT/DgAFAMb/z/+d/xn/yv6s/s/+BP9//wsAhAD/ACUB/wDwAPAAZgDM/2j/X/96/6j/vf/M/yMAXQCkAJgAPQDM/zD/z/49/qH9Vf01/UD9df14/ZX9Q/6e/iX+7f1D/jf+Jf5D/vn96P09/vP+jv+a/+z/gQAZAR8BHAHqAOcAdAGpAdsBawJkA4QDewMuBJ4EuATbBOcEqgSYBL4EiQT8A98D2QPOA5wDbQMYA0ED+gPTA+wCMAJKAhsCoAErAdYAuwBsAGwAYAAgAC4A1P9l/xP/rP7Q/Un9Rv3F/Jn81/wm/Sb9Q/1J/Sb9DP3F/LH8Hvxc/GT9tv3T/Uv+6v6Y/nT+o/4c/tP9Mf6P/uT+EP9C/7f/CwAgAOD/xv9W/yf/S/9o/7r/CACnAPYAuwCYACgBVwHTANMAhgAUAP7/zP/A/6j//v9vAHsAYACSAMEA/v82/0L/+/4U/tb9Dv7f/ZX9Dv6s/rv+cv6p/rL+bP56/kb+0P3Z/WD+oP6D/pL+Iv+R/8n/bwDcAGkAfgDZANkAEwFlAcwBWQLaAukC8QK8A2MEKASwA5wDrQNhAy8DZwNeAx0DgQPOA2QDLAMsA9QC4wLvAjYCsgH7ATACmgE/AZoBrAETAbAAsgChACkA1/98/9X+oP6J/g7+k/2E/cf9k/0p/Vv9hP3I/E38tPzR/Lz8D/1V/Ub91v06/hf+6/0C/hH+9v3t/S7+mP7P/iL/d/9i//v+B//Y/mz+ev42/3T/S//a/wUAKQBmAHgAgQBaAHgAlQCJAKcAlQCyABMBIgHkANYAPwHhAFoA3gA5AcEAewDQAGYAf/9Z/6j/d/8N/3//l/9u/6v/f//t/s/+ev88/2n+cv6Y/vD9H/4H/xz/5/5f/+P/gv9C/0X/bv90/4L/YAA/AX0B6QFlAgQC+AGlAhsDggInAtQCCQP0AtoCXgMPA1YClwK6AkQCxgEqAioC2AEVAswBfQHsAQoCjgFgAYYBNAEWAQgBLgFRAdYAaQAFANr/cf8W//b+sv46/vb97f3T/cr9bP1Y/ZD9T/0U/Zv9sP1D/af9NP4O/of9tv0C/vz9bP4Z//v+9v5I/7v+FP5X/uH+Y/5D/vb+E//k/k7/1P+x/3T/zP8pAAUA7/8AACAAlQCYAD0AtQAiAaQASQACAVoBCgFCAW4BNgHtANYAkgBjADQAyf/1/08AFwDG/8P/1//U/2L/Lf8c/x//r/46/tX+JP+p/iv+Kv+9/3r+af6O/0v/H/61/qD/Tv9//5IA7QCqAIwBIQJaAUIBOQJ5AjwCPgM6BEkDDAM6BAgEDANeA6oDtAI5Ar0CsQInAmUCiwLkAU4BuAF3AXIA3gB6AeQAWABjAEwAAADP/7f/3f+u/wH/6v5R/lv9af0f/uv99Py//Cb90fyI/EP9Pf15/ML8Xv2i/Fn8kP32/Sn9kP0E/+3+0/0l/nH/a/+m/vj+Yv+L/9T/6f/j/zEABQG7ABcA2QBOAbAAgQDGARAC/AArARsClAG1AFQBpgHzABwBlwE8AV0BtQEuAYwA6gACAdf/Vv9AAEMAQv+I/yYAnf8t/7T/ev+p/if/SP/E/uH+E/+m/lH+sv6A/t7+Qv+M/m/+Kv9j/tf8pv51AM397vy4AVoAs/mo/B8FBgO2/eMCrwUH/yv+iwWMBO///gUHCr0CSAEgCAcFF/6nBO8JBQHk/iIITgWs+rUA4QjQ/Z33dwWXBRnzhvasCHEBTPKj/kgJoflt9LIEQQKZ8d/5igdH/Mv18AQKBVr21PxdCH/8CvfCB7wH9vbH/bwLd/4S9dgFDAqz+e782QvxAkj39QEPB8H6zfrbBbgB7vkmAB0DrPvM+xMBT/2m+o4BJwIK+/H8yAIL/nj5z//AAuv88fx7A5wCGv0z/7wDuwDl/XQBJgOC/3H/dQP+AW/+AgEGA+f+Y/4PA5oBv/wXAAIEuP5k/M4C8gHQ+hP/GAZ8/z36TQI6BEX7xfwzBdAA0voHAu8Fy/zV+8cE3gE2+8wBiAWl/Ij8hgU2AhP7rAEAB4n+SvxlBfEDFvtF/64GLAAE+6IC0AS2/bX+IATnAJv9dgI1Ay7+wP8LBMEAuf0DA6QESP9f/1cERwLt/ccAZwNVANL+yQErAW/9FP51AG7/NP5x/xD/Kf3I/A/99fvV+7/8Z/y6++/7+/tW+4j7z/uj+5f7bfyQ/Hr7rPsM/cX8+/th/UL/Wf/e/uP/EwEWAcQAwwF+A+4DsANdBJEF1QUHBRkFrgaQB58GDQbOBh0H2wXHBDMFPwXfA+8CwgOtA7IBVQBmAFUAfP/B/sf+Df80/k/9Uv2Y/S/9rvz9/Fv98fxK/LT8O/36/Br9K/56/vz9if7B/gL+Dv4f/07/2/5C/3T/Cv8f/zoACwDA/74AlQBc/1n/1/+m/mb+FADj/0P9q/yV/fv7afrP+0b9UPxZ+2774fpj+uv5h/mS+sX8s/0X/aH95/6P/j3+QACoAjIDCAT7BdEGPgYhBlgHOgjhCJoJiwpYC+sKdwmpCCgJEAl1CLsIBwniBwQGoQSEA64CuAG1AHsAYwDM/q78pvvt+g76x/nS+tj6/fjy94j4efi994L44vmY+r76SPth/E38tPuo/GD+gv9AAI8AYACyAHcBiQHPAb0C5gIqAvgBtALIAu8BAQJrAmgB8AD+AY4CbgHKAC4BoQCX/3r/mwDwAPj/Cv/n/pX+2f3Z/TP/mwBQ/5/8GfvX+FD0hvPi+ZH/ufxs9lv1CPbn8tTw+vTY+q77fPj/9kn5Tvtb+UH4xP2DBPkEdQMwBpgIJwbbBF8JAw6TDuIORRG3EW8PQQ4RD8oPdQ9yD2YQdBC0DfIJ/AeQB9sF/wMTBVYG4AJA/Z37/vun+eT2WfjS+kz56/WT9cT2avVO80f0OPhL+vf4CvgR+qz7QPoF+u39EAHn/kP9TwApA/wA1f42AU8DVwFf/2ABugIuAL/9lf4XAGX/e/1M/YD+6v4M/XT7Sf0K/3j9O/zM/rAAXf49/YYACQNLAb4AxQMQBdQCDQJ+BMAFFgUHBboFdAV7BLADkANJBCMEGwIRAMr+nPwO+mb6bfwZ+4P3u/Yw90r06fD08aX0R/TH8sbzjfWf9Uf1T/YX+YX8b/5c/6YBuASGBSgFrQeYC7IMtQzRDhMR7RDwD2YQvhD2D54PwQ/FDh8N6wtWCnsHawUWBSAEcwICAST/i/wE+4n6Bvm695b4TPmj97X2Ofc89832cfcA+S763vpo+wH8sfzB/Xr+Nv/cAFkCJwIBAg8DcwMtAmUBpQLxAxsDbgHcAD0A7f7N/bz9Av5b/Qn8M/vw+h/6A/m9+AX6VPsi+776XPsS/LH7WfzY/nUAuADwADkCEgMbAxQEpgWRBgkHsAfrB8gHkwcGB5YGkwarBsMFEAVrBYYEaAF6/jL95vvE+v76Tvtk+bj27PTh827zaPOR85fz7PMz9PvzG/Rh9af23vdO+kz99v7A/ysBGAPnBC0GEQhWCgsM9gy6DTUOlg7rDhoPQA89Dw4PEg7YDJgLDwpRCPQGBwYQBV4DUQGg/2n+I/2p+2b6zfmk+aX4ZfdO9wT4nfcW9w/4Rvly+W35nvrS+xL8fPy2/cr+i/8LAFgA8ACMAa8BtQHSARMCBAJaAUgBsgFoAfj/9v7P/mb+Z/0p/d/9I/3d+8n7z/ti+0v7D/yN/EH8i/x+/Qj+NP4H/wgApADeAb0CtwJJA3IEoQRaBJEF/QarBuwFUwbCBg0G4wUKBpEFvgQjBCgEBQRkA44BGf8y/Zb8LfyC+3T7a/tk+Vf2nPUj9pb1nPTX9J/1qvUj9TL1Gvb29qz3Jvna+0j+Lf9Q/0YA2wGhA5EF9wZvCMMJLQqICocLZgw6DCUM7QxlDZ4MWAtkCh8J9gc+B5kG6QUCBaEDlAHd/8z+QP6e/ZP8kfv++gr7uPqQ+cX4Qfl++fT4yvlZ+537ofqJ+hL8I/1S/bz95/6u/4X/Rf8gAOQAWAD+/5IAsgFIAZgAsgBdAG7/4f6F/5f/Df9v/hf++f22/Un9Yf0i/mP+vP2b/dj+Yv+7/tX+JgDqAP8ApgFwAjwCRAJPA9MD8QMuBKEE1gTeBDwFBAVpBCAExQNnAzUDJgPFAlMC5AFYALP9+/v++zL8Mvwk/Af7hfiV9mD2ePZ19qH2H/da9wr3/Pbh9jn3G/hB+R/7qv0f//7+aP/2AOMCIASOBXsH0AgZCYUJXAqiCugKpAt0DE4Mlgs1C6gKowl9CGoHqAYVBl8FrQMeAvYAgv8c/mH9eP15/Of6jPq1+vP58fi6+PT4zvh8+GT5YPqV+p76S/tH/Pr82f1L/rL+f/9GAD0ArQDkAdsBYgEqAuACiwI5AioCrAE0ATwBYgEFAUAAAADm/1b/2/56/vz97f0R/hH+/P35/bP9nv35/YP+Df8E/1D/uv/U/zQA3gCOAaMB0gETApcCJgNhA1gDSQOKA6EDkwOhA34D5gK9AroCfQGa//P++P6v/m/+Xf6e/e/7PfrH+fn5bfmo+KX4Rvn9+Fz4hfhB+Y35+fnq+iH8nv03/h/+Cv+VAIABqAJ1BM8FUAbIBkEH0AcOCFQIKgnvCd0JgwloCawIeAfLBrcGGAaABTAFKAS0AkIBbwDU/yr/C/4s/fT8R/xL+0v6KPpA+s35WPm5+V36V/oU+iv6tfrV+ln7sfy5/Rn+Xf7q/nf/lP/S/28AQgHAAc8BxgH+AUoCyQGgAQoCKgKaAXEBdAGtAD0ALADm/8z/w//G/3z/Cv/P/pX+2/4N/w3/9v5L/9f/zP/j/0AAkgCwABkBrAHsAQcCEAKCApQCiwLDAsgCDwMSA44CeQKFAqMBmAACAM//wP+6/27/gP5v/YL82vt3+zn7HPsc+yX75/oF+nL5yvlA+on6LftH/Mv81PxA/Ub+d//S/2MA2AESA7kDKATKBOoECgXMBeAGQQfpBvoGTwcyB1kGiwVRBZEFKAVJBKQDGwP4Ae0AeAD1/4X/Of/k/oT9bfwy/CH8cfvK+rL6MPum+zb71fq4+i37Qvtr+9L7pfxJ/XL9Gf5v/mz+vv7P/2wAngACAdgB8gF0AYkBJAJ2ApQC7wIbAx0DvQJlAi0CGwITAvIBDQLyAXoBVAE0AfkA5ADnAO0AsABmAC4A7P/a//L/DgCu/3T/qP/P/wAA5v+0/3f/bv+g/07/SP+F/1b/Zf+g/5r/XP+O/1P/HP/t/q/+EP8z//7+uP6J/qb+JP/q/qD+vv6+/qn+tf7H/r7+o/5p/mb+vv4t/xP/xP72/m7/8v8IANr/yf+C/6b/DgBYAF0AhADEAMcA0wAFAS4BHwElAWgBkQF9AYMBiQHAAcwBhgFgAZoB4QGdAYMBSAEfATwBMQENAdYAdQBPAGYAHQDp/6b/nf+F/0v/Of9f/1P/8P7+/vP+5/4k/0v/8/4q/3f/bv93/2L/kf/U/xoAFwAgAP7/4/8mAGwAbAByAMcAtQB4ALAAJQHqAI8AjACbAM0A8ADKAHsAOgBgAIEAYwAXAOn/1//4//v/wP+X/3z/kf9I/zD/cf+U/67/dP9Q/7T/mv9u/7H/0v/S/7f/4P8aANT/t//+/1UAXQAsADQAHQD+/yMATABMAAgA2v/S/6D/t/+r/53/XP/q/sz+7f4q//b+4f77/sf+tf67/rv+af4o/pX+6v4k/x//E/88/07/P/9T/6b/EQBVACAABQAmACYARgCtALUArQDwABABxwCVAOcAHAH2APMA9gDkAPYAxwDWABYB5wD/ABwB2QDBAO0A+QA5AXEBNAEZASgBPAF9AZcBTgEFAeEA9gA8AV0B8wCtAOEA7QChAKQAzQBYALf/o//4/wAA0v+O/0L/Cv82/1z/M//4/rX+pv6v/rv+kv59/q/+vv59/pL+Af8W//v+/v4i/xb/E/9W/2j/U/9l/7r/BQDv/8n/2v8gAAgAIwCPAN4ApAA9ABoANACMALUAqgB+AFoAQAAuADoAPQDy/+//FAALANf/l/96/4L/dP9u/5f/rv96/0v/Tv9c/4j/nf+O/4v/fP9i/47/4//J/6P/CAAXAAgAMQAUANr/CwCkAIkAAABGALUAmACMAIwAgQCBAGkAQABjAJUAqgB+AIEAmABJAEwAWAB+AGkATABVAEkAQwA3AGYAfgB7AC4ATwBDABoALAA6AD0A5v8XAEMA5v/P/93/zP8IAPL/qP+o/yMAAAB//5r/t//A/8//AgDy/8b/pv/v/+P/zP/U/wIAIwCg/7r/2v/d/+//AgD7/9T/1/+j/4v/yf/U/8b/4P+6/9T/+//U/wUAcgCbAGkATwB1AH4ARgBmALAA1gDQAMEAvgDWAOoAxwDHAH4ASQBaAHgALgDJ/93//v80AOD/qP+0/5r/d/8W/w3/PP8i/8z+tf7q/t7+7f4H//b+u/6V/g3/M//+/sz+0v4q/zD/Iv8f/4L/t/9Q/2L/z//4/zEASQAmACYAXQCqAHsAhADTAMoAtQAZAVEBDQHzAB8BSAEQAeoA+QAFAdYA+QAFAfYAqgCBAMQAlQA0ADoAhACMAHsAJgDg//X/KQA6ABEADgALAAAADgAUAA4AIwAuAC4ATADa/+P/LgA3AA4Auv/j/zEAWAD+//L/7P9c/47/z/+o/8//qP+U/7T/gv8w/y3/Zf93/2j/Vv9f/1n/U/8z/zb/oP8AAN3/aP8//5H/uv+r/67/tP8LAAUABQAUAP7/AAAFAPL/tP8IACAA/v8pAE8AFADA/+n/LAAsAAIA5v/a/9r/0v+X/4j/xv+R/5H/t//U/+P/pv+F/67/1/+L/67/9f+3/7f/2v8FABQACwAmAGMAUgAgACwAQwChAKoAewChANkABQGqAHsA6gAWAfMABQENAdwAxwDqABYB0wCkANwAsgBmAFgAfgDZAIQA+/8gAEMAUgAOANr/1P/+/x0A7//P/4v/yf8OACMA5v93/5f/7//U/2X/ev/4/wIAwP+d/7T/xv+x/6v/uv/P/8D/0v+6/6P/lP+r/+//AADJ/8//tP+j/+n/1//M/7f/q/+r/8P/+//g/5H/mv/d/7r/rv/D/9T/5v+o/3//kf/S//7/wP9r/3//oP+C/1z/Zf+O/8P/sf+L/3r/nf+3/0v/Gf9x/5f/w/+R/2v/qP/G/8D/oP/g/wUAFADM/9L//v/+/yMATwA0AEwAhABdAHsAmwC7AKoAbACnALsAmwCyAO0A9gD8ABwBBQEFARAB5wDeAOQA/wD8AL4AxwDZAJsAjwDTAMcApwB+AHIAjwBMACkAUgAmABQAOgBVAP7/9f8RAAUA8v+6/+D/9f/p/53/Of9L/5r/iP98/27/Tv9Z/27/gv90/2X/Vv9Q/1//fP9f/27/oP+x/3r/dP/d/8//w/+9/7f/q/+9/+P/xv/g/+n/MQAOANr/4//S/wUA/v/S/8z//v/7/8b/4//p/8P/z//G/9L/q/+g/8b/2v/s/9T/7/+3/2L/ev/j/93/kf+r/8D/sf+6/+D/4/+9/9T/7P8aABQA4//7/yYAQAD1/x0ANwA0AFgAWgBDAEMATAAaAGwAlQBgAEYAUgByAHUAQwBdAHsAqgDBAGwAgQC1AKoAbwBvAJUAoQDBALsAVQAjAHgA6gCqAD0AOgBpAHgAOgA9ADQAPQBDAAAA8v8dACAA2v/m//X/vf/G//j/0v+X/6j/f/+X/8D/q/9x/3T/1/+X/1//z//g/4L/lP/U/9T/t/+x/73/1P/P/8//t/+6//j/7P/m/+n/1//D/73/7P/m/4L/lP8AAAgA2v+9/wUA+/+d/6P/zP/d/8z/vf/S/+//4//p/93/wP/A/9T/xv/G/73/yf8CANT/qP+o/7f/7//v/8b/AAAuAAsA3f8CACkABQAIAAUAFwBGAD0AJgAjABcA+/8XAEYA/v8FADcACAD1/0YAaQDy//X/PQBPAFUAdQB1AEwAQwBpAIYAcgCJALgAmABmAI8AwQCSAG8AkgCSAI8AjABmAEwAhACeADcALABMAEMACAALADEAIwDs/9T/BQD4/8z/o//s/wgA3f/X/9r/zP+m/53/hf+0/9f/pv+m/6b/vf/g/9f/l/93/8z/q/93/7H/xv+x/6D/o//J/8n/t//U/9f/l/98/7r/l/+I/9r/t/96/6b/yf+R/47/l//D/+D/q//P/+P/2v+9/wAAQAAAAPv/HQAgAAgAQABmACkAFwBDAGYAQAARAAIAIAB7AGAACwBPAIwARgARAA4AJgAxACMAAgD1/+b/4//1/zoA/v+3/wgA+/+o/5f/4/83AAAApv/G/ykAIwDa/wUANwARAO//JgBJAGMATAA3AEMAbACMAGAAewCMAIEAhgCbAF0AFwB+AKoAeABYAFgATwBAAEAAIAAXAEAARgDm/6D/xv/y/w4AJgD4/7T/BQAAAKv/wP/M/+D/z//a/7r/nf+6/+z/4P+a/5T/uv/g/9f/xv+U/4j/w/+u/4X/tP/S/6v/sf/g/93/lP+F/9r/z/+L/2j/lP/D/8b/w//G/8D/oP+r/+P/7/+o/7H/w/+m/+D/FwARAO//FwAsAEkAUgAjAOn/GgCGAGAATwBmAG8ASQBgAKQAqgCPAD0AXQBVACMANwBvAEMA/v/+/wsALAAAANr/DgBDAAsA0v/A/7f/7P8LAOb/zP8IAFIADgDS/0AAYwAxADEALgAaABoAYABGADEAYwB1AGYAXQBJABoAHQBMAFUAFwDy/yYASQAAALr/tP/U/8//i/+9/+b/qP96/6P/wP+r/5H/jv+o/6b/uv+o/4j/iP+3/+D/1P/a/8P/yf/p//X/2v/y//j/AAAIAAAAMQDm/8//NABVABoAyf/p/yAAMQAgAAAA9f8XABoA8v80ACAAxv/v/zQA6f/P/zoAPQDd/8b/AAAsADQAGgD1/ywATAAdANf/6f9VADQAPQBaAAsA8v9MAGMAIAAsAG8AHQDJ/zcAaQD4/8//RgBGABoA+P+r/6b/LgAIAIj/yf8UAN3/Yv/M/wUAuv+r//L/0v+F/+D/+P+d/7r/FwD7/9f/+/8LAOP/2v8xADcA1P8jAFIAFAAIABQA+/8XAGwAXQA9ADcAbAAxAPv/QwBGABQAGgBGAPj/3f8sAA4A5v8CABcA3f/X/z0AGgC6/8P/o/+X/+n/LgD4/9r/LgAAAKj/5v8jALf/lP8sAC4A7P/S/9T/9f8pACAA4P/j/yAALADs//L/CwDa/93/KQA9ANL/t/86AA4AzP/p//7/8v/y/+z/2v8AAEkADgDa/xcAIADv/7T/BQApAAUAEQAxACYA9f8XAFIAQAAUAEYANwDv/wUAQABDAA4AOgA9ABEA+//s/y4ARgA6AOD/xv/S/8b/z/+3/9f/KQAFAHT/tP8dAO//fP+o/3sACABF/73/QADA/4X/IwAaAKb/7P9VAPv/w/8AAOb/wP8pAFoADgD1/ykACwDJ/xEATwAOANf/AgAdABcAMQAXAP7/FADs/+n//v8jAA4Asf/J/xEADgC3/3//4P8uAMD/Vv+o/wUAuv+3/zoACwCg/7r/9f8UABQAFwAUAB0AFAAUACMAWACPAC4AFwByAJIAdQBGAF0AhABPADcAhACEAEwAYwCbAIkAXQBgAJUAWgAdAB0AAAAuADcA+/+6/xcAbwDm/2X/1P9gAAAAS/8//8P/FADS/+D/HQCd/wf/Zf9gAOn/M/8AAF0A9v7b/pUAbwAw/4j/FwA5/w3/bwAAABP/DgAUAIP+J/8oAQ4A+/5LASAAEPui/EwD4wKT/fj+SgL+/8H9z/88AU8AEAF6AY7//v+aAQ4AP/+UAh0DZf/1/6gCYADr/bsAPAIz//D+2AFlAef+fP+bAHz/Df/v/ywAQwBAADD/qf5L/1D/dP6F/yIB5v9A/iT/CADn/pL+xv9sADEA8v+R/3f/TADU/77+TwAVApsAUP/BAA0Bf/+U/+QA/wD/AGIBtQDm/3gAVQBi/4YA+wGbAFn/xADqAA3/XP/2AH4Apv8jAB0A0v86AJT/+P4UALUAuv+u/9YA5v9m/u//9gAT/1P/lAHNAIz+XP/TAHr/z/5+AK0Aw/9gAPX/g/4OAEUB5/46/oMBnQEC/ob+KwE3AJ7+CwB1AKb+hf//AG7/dP6hAJ4A/P3+/rgBMQAo/gIAmACv/lP/AgG9/z//MQEOAMT9TAA5Aln/H/4rAfgB+P64/lcBPAGU/9T/bAB1AJsADgBc/ywAiQExAMH+/ADYAfP+sv6aARwBff6X/7IBZgAt/zQAsADg/+n/bwB+AK0ARgBo/2L/jADHAPX/hAD2AL3/6v5YAMoAdP80AJcBKQCm/u//7QAxAJT/IwBaAO//1P8AAEMAxv9c/+D/0wBdAAr/U//BAIQAx/7k/psAaQDt/iL/sgCEAHT+4f4WAYwAS/5F/ygB+P8C/mv/jgEUAD3+S//cAHUAxv8n/+T+w/8QAWMADf+x/wUASP/m/9AAPP+S/iUBzwGe/vD9IgGjARn/EP8ZAQIA6v4TAYAB2/53/gIBuAEjAFD/EQC1ABwBYwD2/kj/hgGpAUL/SP9UAS4B0v5Z/04BxADS/4kAWAAN/7T/IgHqANr/AgD4/47/aQDHADP/SP+MAeoAqf5W/wIB4/+j/pUAlAGO/4z+z/9MAC4AsAAjADP/oP/7/5r/ewANAXT/nv5DAPwAd/8f/48A0wDG/7H/5v9f/7r/lQBaALr/nf9r/6b/1gBpABz/5v+qALL+v/0aAAQCbABv/qD+U//d/1UAZgD+/+P/iP/h/kj/uAD5ABQATACYAGv/E/+bAGgBwQByAK0Avf8K/yAAaAFCAUYA+P+a/zP/rv+JAPMAoQD4/xb/S//U/7H/2v8FAfMA6v7Q/RP/NwD4/10AGQFdACj+0/2g/zQBLgFpAOz/jv8c/8r+QAABAsMBCABo/yYA1P/z/nsADwM2Ah//VP7G/7UA4QBaAZcBsgDY/gL+mv/vAfgBLgBL/6v/a/9v/lP/TgG1AQsAmP6Y/lP/wP/U/6cASwHp/+v93/26/0gBGQEFAF//tP8i/4D+xv9xAc0A8/50/2YAWf90/qP/GQEZAR0A+/6S/pH/ewAAACwAKwEsAEv+zP7HAPYA6f8LAIkA3f8T/7H/gQCtAIwAWgALACkATACx/8//GQFUAREAdP8dAIkACABvAGABmwA2/0L/ZgDhAKoAaQAaALT/Wf/a/7UAxAARAJ3/t//G/5H/pv8mAC4AfP9W/wIAUgBQ/7L+wP/ZAF0AOf/w/l//xv/s/0kAiQDD/3r+sv5PABABAgA5/4j/2v+r/47/IwByAPX/Yv+O/z0AbwCu/1b/VQDTAB0Ajv/p/yYA4P/7/4YAuwBsACwA0v/+/2YAmwCwAPYA4QDX/1b/HQBFAVoBCAGnAPL/t/80APwAIgFCAdYA4P+o/zQApwDBABABAgFjAHz/xP6d/1cBnQGJAIL/6v6G/u3+cgDAAQIB8/57/ej9a/9yAIEACAA5/+L9WP24/mYAZgBO/8T+if7W/cH97f5AADEA/v6q/YT9H/4c/xoAGgDV/sf9wf2A/l//LABjAJH/Tv4r/sn/8ACwAFUAzQDQAA4Al/8iAb0COQI/AbUBPAJ3AQoBcAIrBLYDqQHEAOcBCQMJA9QCQQPpAu0A+P+aAZYDmQPyAen/Lf/7/04BVgIVAp4A8/7//Rf+rv/GARUCt/9K/MD7if6qAOP/Cv80AJT/pvub+Rf+tgOXAmz9bfz5/Yv7Qfgf/ioJYQcP+DnwVPqmBS8DSvwr/g0B5fnk8nX6iQgoCLb5ffNT/HMCRv3H+pcChQYi/gX28/ppBPMEUgByALwDUQEb/Hj9dAU7Cl8GFADK/qkBFAQuBa4GhwdrBUIB2/64AYoHowlfBZIApwBfAmgB0AB7BO4HigMq+wv62QDeBMABu/69//b+Pfos+ez/TgXnAGH50fiQ/fD+L/1s/lQBUP+t+cv4Lv7dAr0BZv6Y/eL9Sf3t/VoB5QPJARn+qPw9/uEANQP0Az8Bm/1D/d3/nQG4AZEC4AIq/6T6yfuXAswFqQHw/Vf+Pf1P+Tz7iAVhCjP/n/Go9EcCCgaS/g/8YADE/ZH09/UCBAwKx/7S86L4YgL8AHL69v0YBoEDVfmZ+AQCiAb+AU7/vANuBc//UPwHAswJrwmQAywADQKJBPYEaAXKB/YIKAW3/4j/lAUBClUHLQKpAdYDPwIB/2UBLAcbBiL+V/oq/6ICo/6g+1oAFAQM/Xb0G/jpAY4CNvva+PH8yPyd94X4/wDfA5f7EvW8+RwBewAB/An9mABo/9X7O/2JAVoBkv5o/84CmQK4/nv9wQDTAwADdwF9AXUAj/6O/4QDUgQ9AF3+ZQGrAjH+P/sFAbEGtwKU+2f9VwHA+/H1pwArEGwIjO/a6VUAvA9zA/n10fzLA6n3W+7a/4ETtgce7fHtEwVSCxD7RvbGBa4KF/rp8AgA/g3SBR/6Qv+yCEEDWPmP/tYLsQ1oAtX7ewCLBnMGMwWWBkkHcgTM/2j/fgQkCl8JggLr/SMAswPsAtsBlQTJBUv/bfhr+/oDdAXe/hP7W/0U/gr75PpQ//kAzvxM+Wn6pfxh/O/7/P1l//T8xfkF+kb9t/8uAFz/pP0V/Oj8aP9gAVcBdQD4/67/i/+9/54A3gE+A9ECfgCb/o7/2wGFArECRAMKAmP+9fud/04FaQS4/or9gwGRAdX7UfuhA1sHpv8++eL9rwGP+g33xARIECcC5+qo7U0Gsw+7AAL2Gv1YAGT1evP1BcYRpwB66+XxYgbhCM/7Jfq7BOoEAfgd9cgCvAtmBPv7fP8CBRMBbfxHApYL6wp9Ad37Vv+xBlkKKAhmBH4DuQM8AnoBgwUJCwEJ4P+m++kB9gdyBH//QQKgBfX/q/h8/PsFQgXd+8v4Q/58/0b6V/r/AHcBzvg19Sr88wBK/PL33fvy//77evcZ+8cAE/+4+gb8AgA2/2v7y/zvAa4CMf5t/GAAYQOXATz/HQBEAmUCPAFCAU0ClAICASwAJwKeBAUEBQB7/bUAcQXZA07+oP46BLkDQfzw+hEEgwj+/3v5hf/xAzb7QPZsBKMQMAJx63zwPwmNDmH8PvRmAOIDBvW88Q0GARF4/Y3q8fVBCqIGEfZn+FIHJwbW9nz0TwMnChYBr/qVAI4FMQB3+0gBJArzCI8AavwsAFMGTgjYBb0CJgOkBKUCoQBDBPIJygcf/3n8CQMRCK0DZv7WAK8E5AAt+7n9YwTFAzv8Mvk3/goCF/7r+Wf8HQDT/en43Pmg/4wApvrv9xH9EwFM/eb42PuAASAAuPpF+/MAzAFt/Mb7UAK+BDr+K/r1/4UGnwOh/Y/+3QJ/At3/FQJfBd0Ck/3l/VgDMwbIA+z/oP7a//gBAwP7AVIA8ADpAVb/TfxL/xAF3APx/AD9xQIuAMH20PmFCn0Nx/nq6235igszBnr3dfpOBT3+xu9i90gMuQsb9VXtmP5UCbP9ovTm/5EJiP8F8175bQe9BkD9Uv1ABCMDNfwA/eMFkApFBRz/B//FAgoG7gZrBbADJgTqBKsCkgBaBKYJ4AaO/+f+5wTDBZ3/Iv4NBV4HSP7V9yX+7AXPAXj6JPy6AdL+lPdY+V0BGwJv+lH3J/ww/7T7MvmT/V0BhP2p9z75/v+1AUD+rvx9/jz/eP0r/hMCAgQZASn9v/0QAi4FPQTkAEL/wQD3ApwDRAMYAyQCJgAc/8MBzwVuBbr/RPz1/94ESQPc/eX9kANUBMX8yPgUANQGNgEf+gf/0wTp+2TxfPw3EFILn/Ea6hz/BA0CAfT0+f0tBv34O+2N/LsQHQez7nrvLgWvCfH4CvTuAw8LqPyV8pP9owmYBGX7xv9dCCMESfqI/McIPw2OBSX+HP+eBK0H6QZfBYsF3gUyAwAAnAJUCVMKGwJh/E4BRgewA1L9mwA4B8UCZPg++aQDsgUq/Cr4Nv9RAR35/PWF/yIFMPyG82r4WgHJ/wn5Bfq6/6/+xfiZ+b4AxQIM/Tr6d/7DAdT/zf14ACYD6QHw/h/+vgAdBLgEBAKC/8P/qQEJAzgDugI/AuEA7f5O/9cCKwUbAmT9of16AQcCm/72/fgBkwPK/rz5OPzLAnADkv6e/TEBo/7B9pn41wbkDKb+SvBM9hAFEgar/LH7fwL7/xX1g/YiBTgKZP3v8zD8awX1/yf4m/56CAIEyPgm+ewC6QUrAUMAaQSGBFf+zvwuBDAKmQeyAUwAfAImBBYF2wXIBt4F7wLBAF0BoQQgB7UFFQILAPAAgwG7ACIB+gKoAlr+6vpQ/Lf/BQD//V79Uv2g+0H5Pfr2/RP/A/2b+h36ifo/+9H8o/6G/tH8hfvV+yz9ev6R/3gAgQDm/0X/5/4RAKwB9QHwACsB+wGpAeQAQgH3AkEDoAGYAGsBGwI0AXgATgF8AiECaQAq/7r/1gBOARABSwE2AVD/Z/1X/r0BjQMrAWn+B/+o/439CfwcARIH4wL0+Ij3JgBjBFz/Kvx3/9YAePpO95j+yQVoASH4NfljABkB8vvP+4ABkQJy/cH6V/66AmsCHQBGAFACLQKO/0L/pAPcBw0GjwC+/qICjgavBQMD9APhBQYDxP4/Ac0HhweYAAv+bQLlA4v/Gf4SA1wFmv8d+nn8zAG9AfP9rvyJ/j3+Qvu0+5r/CgHf/c36qfsu/ln/pv6n/Sj+4f5R/jv9Lv6GADQBi/8l/i3/RgBi/6n+AgFBAx8Bcv2n/eEASgLHAAAAPwHKADH+3/0FAT4DRQHP/jD/iQDs/5v+5v82AvUBkf8i/tL+AgCtACUBegFVAH3+VP4K/0v/gv9uAWUCyv5O+v76CAB/Atr/Q/1p/VX9gvuU+wgAyAI//yX61fp3/3UAhv6m/jYBNgFU/uv98wBMA3YC8gEyA/ECHAH/AP8DHgZuBSAEzgMvAz8CIwTrBnMGagPMAWUC5gJlAkkD0ARzA1b/5f3QAKUCeACY/j0AngA7/fD6rf13AREAHvzD+8f9tv04/Eb93f9i/2f8mvuB/bj+Iv5y/ub/mv+B/dr8if4sAP7/PP9r/67/u/49/m7/jADX/xz/4/8aAI/+FP60/wgBngAw/5j+5P48/5r/iQBIAZsAxP5I/rr/iQGyAWwAtP+R/4wAGQG4ADcAcgBoAY8AP/8w/ywATgE5AaP/+f2S/rH/l/9i/8z/vf8R/uj8H/6L/9L/U/8Z/6P+V/4f/9L/YABPAHUAmAATAUUB9gDMAcACfAJlAjUD1wIBAt0CTwTfA8gCfwLdAj4DKQORAmUC1AL1AXsA+QDsAicCpv9I/3UAgQCR/6D/AgCI/2b+jf0O/sz/2v8O/sT9H//t/hf9of3S/8//gP43/kv+Uf6s/sz+Lf/j/1P/4v2z/eH+lP9Q/xP/o/4r/nT+8/6s/rj+X//S/rb9d/6R/+f+Q/74/nz/Rf9W/zD/MP+X/9f/mv8jAFQB2QCF/6j/3gA/AdkAeADQAIwBrAE3ABP/9f99ATwBVQAFAK7/Af+m/qb/CwA9AGj/Iv4i/hD/a/+4/pT/aQCg/33+7f4OAN4ACgHnACIB8ADEACUBXAIGA5ECAQJ2AhIDsQJTAt0CuQNHA7oCxQKIAiQC+wF2AsMCCgL5ALsAdwFUAX4ASQDWAMEAhf8T/53/4/+L/1n/kf9W/7X+Y/4z/9L/pv8E/1H+SP7B/lb/hf8k/4b+bP46/hf+rP6X//7+of17/Vr+d/6z/Yf9CP5I/mT9Ef3B/Vf+F/6w/cf97f28/Xj9vP0z/4L/Gf72/ef+Of+e/kv/WgGMAT//Y/7A/7sA5AAIAW4BxgHkAPP+0v42AbQCMQHy/4kAygB6/wT/4QATAhYBYv/q/r3/CAE2AcEABQFgAccAWABlAZQCFQKXAQcCZQKoAm0CRAJWAhsDnAP3AjYCiwKxAl8CQQI2AsACyAKdAUwAuADsAWABjwDtAE4BcgAi/y3/SQDnAAUA9v5W//L/Qv9D/uT+gQBGAJ7+Lv4q/zz/0v5W/6D/+P4Z/kP+g/7M/gH/zP6y/jH+/P2t/dP9Uf53/mP+qv0s/Vv96P0Z/t/9uf2Q/d/9dP7z/Sb9WP2p/t7+Pf6b/ur+uP5y/ur+iP+g/8D/XP/w/tr/7QCMAKj/MQAKAXgARf+C/1IAYAA9AJUAtQACADz/Af+g/9AAUQF+AMb/4/9SAGAAmACOAeQBZQEuAecBqwJfAucBGwIAA6QDpwNkAywDAAOoApcCKQPQA98DGwMwAtIBHgJ5AkECMwITAr0BMQHHAKQAXQC7APYAqgDj/67/4/+d/9L/GgCd/6D+1f7y/9L/tf6e/kv/7f5y/hD/MP/V/v7+r/4L/nT+7f7N/bz9dP9f/9n9v/2S/rb9+vwc/qb+VP6s/mP+Bv3u/JP9b/2Y/Qf/0v90/iP95fyT/BH9wf4mABEAjv+e/kn9LP1R/mj/RgCmAVEBCv94/a/+QwCX/zz/RgBXAR0A1f6g/ur+aP9r/8b/FwCkAMn/QP6m/tYA0gHqAJsAJQF3AYYB3gGRAiMDjQNzA/QCcwM0BPwDMgOfA74EdQSfA4cDKwQLBD4D2gL6AhsD9AKiAlACMwKmARABBQG6AcYBrQD+/5sArQB6/y3/t//U/8z/yf8W/2z+if5j/s39kv6x/9j+ZP0x/sr+3P1P/eL9Bf7Q/Z7+o/7f/ev95f36/HX9Qv9T/xT+Rv5s/lj9Ef16/vD+qf4z/57+Q/2H/ZX+Wv6J/ub/gv/i/R/+r/6h/VT+HwFIASL/dP7z/iX+Cv+AASsBDgBpAOb/m/35/Y7/2P5I/8ABIgGb/eP80P1k/R/+xwAQASL/nv5p/qr9JP9lAVoBPAGIAqwB2v+sARcE9ALnASMEEwWNA5wDSQRzAx0D6AP8A6EEwAVjBLgB9QEFBHsDeQJwA0QD9QE8At0CFQI2AeEAEQD2AL0CPAJDAJ3/1/82//j+5v97AGL/0v6g/j3+gP6M/gn9vPw//+P/zf0v/WD+of3s+wb95/6+/iv+g/5p/qf9nv1S/QD9K/5c/+H+VP7e/kv+y/zr/HT+7f4U/nT+iP8z/6P+3v4U/jX9x/5PAEL/1/9cAvkA1v2S/qD/H/5F/zUDUgODAdsBmv+y+gT7XP+r/zQAdQM8AYD7l/uh/Wz6pvrHAP4Bvv5c/34ATfzN+rv+jwBrAbIELgVdAbgAcwJPAOz/BwXjBhoEKAW6BhUCSP+uAkAEJgOOBacHZgRQAgADEwEgACsEBwYbA6EDjgWmAbv+YgKkA48AJAIoBdUBJ/8fAZH/UPy3/ywDev/Q/eoAtf4R+pP8iP8J/Wf9hgDr/YP6Z/1j/hn7y/yVAEj+7PsH/zP/hfsA/Z3/+vyi/EAAEP9I+639rv9t/NH8OgDE/jX8cv6m/k38zP6RAQT/mP7vAa7/nfvz/mICAgC7AJsEGAIX/rT/zP9p/d4AMwVVA7cC6AOl/En1pPo0AXH/AgDnBFQBePqp+lH6dPcE/MsCSwFvAGYEgQD+97/5bAAxASADHwmWBwUBUQETAqr9u/4EBiMH+QShB9EGJgAU/loBEwG9ARUH5QfCA58DnANd/mH9WwMHBdQCIQb2B+wB6/0pAFgAsf+hA30FEALkAEIBOP2A+/7/6gAX/sP/2QAh/Kb6V/6T/Sj7if51AOX8avym/kf8zfoK/2wAWP0x/sz/mfyA+4b+b/4G/ez/9gAa/W38jP71+/z5Uf48AXT/0v/qAJP9KvsU/TH+mP63AucEXQGx/+EAsP24+nr/UgRzAzQEeQbGAeb78vss/Vr+3wPHCJEG7gMKAcf2S+9B+GME7gP4ASsFOQID+a31T/bw9vn92wVXBcgDzwVT/1P0o/eUAYQDkQVRDOsKfQEE/6D/+/u5/aAFWggXB7UIwwUd/RD78/5u/3oBeghxCesDXAKXAZn81PxnAxwFNQNKBlUH5wEz/8P/zf22/YgCLgS9AtAD+wFl+yL6/P3K/Qn97QDhAaD+lf7e/h/7ePlZ/Hv9S/+NAwcCD/2C/GH9u/p6+xoAo/+v/ksBAgDt+hb7kPy5+cb75AEiASn9oP7K/pD5hPkE/+P/4P/fA6cDJ/8Q/8P/3ftQ/AUEKQd+AxUDUgTn/kz5gvznAaICgwQICF8F4f7o/Ef8zfnS/qYIYAinBBYJpQJz7dPqMQCBB9j+EAVADH//AfTb9nfzv/FtAuwJ3ACyBasNyvlj6jD8CgYP/D8F6RXDCRz7TwPNAArzVf2GDC4F1wLHD/wHzvQR+iwDQvuh/fgMvwrZAEwEnALh9jr67wUyAxQAwAlQCi7+2PtDAGH9gPtcAlYGagPkAWkAPvxg+uP7Mv0B/z8CiAIK/438yPyF/BD7bfzeAHAC8P5p/cb/u/5C+0b9SQB0/gX+0AAc/277yv3S/iX79PxIAQv+M/tAAMEAcfvl/fsBDv7L/GcDmQO1/s8BgATE/kb9iAKMAbL+hwPhBYkALAD3Aq39Q/qgAS4FAgHFAlwGwQCL+8H9Iv4x/lEFiwkKBWcDegHp9APuHPt8BhMCLgEAB+cBifYn9Fv1j/ae/isF1AL8AzQIK/5k8TP4ZwPhAUcD6gwaDNUBiP/n/pn57vw5BogGewRxCcsGVvtD+dX+QP43/ukFiQiZA7gBWAAl+4v7RwLFAzYC4QWnBzkCuf2M/h//5/5UAb8DEQSQA6oAaPt9+uv9Wv6H/QgAZQGY/vT8fv3g/I38Mf5U/qT9vf++AN/9T/1AAMP/k/18//YAH/6B/e//XP/f/fX/gQAp/ZX9ngC+/gb9KQDWAP/9J//bAYj/8P0xAd4BP/9mAMgCFAAu/p0BrgJaAMcAugFF/3T+fQHnAWAA5AGiAnr/QP4KARkBq/98AgcFnAIE/+v8xPqe+jT+QwD4/4kBDQIv/SD5MPst/Pz6/P29ApYDUwKJAcr+xfwq/xYBlAEuBWkImgWmAWgBjADl/Tn/PgPCAywDFwQkAhf+xP2s/sr97/97BCYE5ADwAI8Ah/3Z/bUBcwJuAXsDHQS4ACf/BQCv/gj+2QAEAmYAiQDZAF79rPrr/LX+cv0X/lUArv9k/XX9CP7j/NH8qf7s/9r/EQAuAMz+dP7m/wgAu/6X/ysBPP/T/T0ALgEU/pX9xABDACP9j/4QAWj/4f4TATEARv7EAPgBH//D/1UDjAGD/nEBggKS/k7/kAPpAQT/zwHAAvP+iP/RAiIBSP9BAo4CPP/HAGcD2QAn/8ABCgHW/Tz/UgBA/RT9cgAE/6z7FP5GAJX9iPzz/hz/A/13/mAAU/9DADACsAAz/50B1wIZATkCNwRQAmAA2wFZAlUAmwDPAdwAKQAiAXIA6v60/wsALf8xAHQBTwCj/1gAo/8T/xYB7AG+ACIBSgLwAPL/ewCI/97+0wAuARb/cf/g/4H96Pw2/3f+DP29/3UAQ/3c/dL//fw7/N4AkQFs/iMAwAFR/tz9awGSAJj+pgEEAhH+5P6JAYb+0fzZALAAdf3M/3QBm/1G/WsB+P/K/b0BtwJX/v7+TANgAfj+HgLIAgIANgFMA9MAAgBtAggB/P0RAPECtQAZ/9kA8AD2/mL/3gCbAH4A/ADa/z3+o/6s/rD9K/4IALr/e/2Y/Xf/sv6u/Lb91P9l/07+U/8LAJ3/hAB9AXUAhgBHArUBdQBHArMDgwFPACECEALd/4EAGAKJALr/IgG+ABP/FAA5AbT/1//DARAB0v6X/4kBmADd/zYBOQEdALAAUQGo/0v/xAAIAHL+sf/wAL7+Bf7j/zD/tv3Y/uz/Pf6A/mYAj/5A/cn/ewCb/tL/tQHJ/0D+7/9mAJr/tQArAYL/tP9mACL+m/1vAHIAY/40AKMBr/6e/Z3/Tv+7/mUBzwGO/94AcAKo/6P+AQJlAsb/BQHdAqEAd/8cASwAif6hAGsBQv/p/+8Bjv+k/WMAcQEw/yAAugJiAbj+s/0d/aH9xv9Z/x39vv7GAeP/SvxY/U7/jf3I/NT/9QFxAX4AoP9c/woB5AFmAHIAvQL3AoYAXQBcAgcCnf+3/50BXQHg/+//ewChACgB9gDv/zQAAgGC/5X+SwESAxABBQA5AdAAbv/1/wgALf+hAD8CTADh/twACAC8/Ej+EAGG/tr8aQA6ANH8dP51AND9rf16AUYAPf0OAOEBQ/6J/pcCcgAj/ZUAJwKj/pH/0QKL/7n82QCMAXX9B//FAtf/pP2DAbgB5f0t/0EC7/8n/7QC2gIuADEB+AHq/gr/NgLPAXz/owEGA6j/ff6+ALr/gf3y/yECHAEbAq4C4PwE+IL7Iv9f/O784ALvAkD9Bvx4/RP7afoC/qv/hgAxBAgEb/6q/WgBdP8R/cMCpQZrAnQB0wSvAUz9/v9gAfD9CADeBFACLf/+Ae8BS/6U/0cCuwD2AMsDXwJSALEC9wK+/ir/cAJdAMf+RAJfAjr+Pf4aAFr+I/0T/1n/bP4AAB0A6/19/rf/IP0y/Ob/sAAR/m7/BAJF/y/9gv8FAK39af6VAIX/zP4mAHf/k/3h/vL/Dv40/uQAkgD4/kMA6gA2/1//EwHTAG8ABwLpAmIBRQGfAuwBNABsAK8BPAHcAIkBpgGnAN3/zP+a/3f/FwDcALIAmABaAecAH//b/jcAKAFlAUcClAK4ASMAmfyC+LX6ZQGyAeP8NP6OAmz+Svh7+aX84/yT/Vb/jwAAAxsDWP0T+wUBPgNr/wgBbQbTBIQAuAFHAgH/E/+MAacA0wCWAxACQ/6L/+wBxv9y/psA5wB4AA0CAgGF/68BmQI2/+f+3QInAqn+IABHAkAAWf+PADQAoP+r/x/+Sf2F/+z/Mv3//X4Ax/6c/I/+8v/c/UP+rQAFALX++/8XAIn+Rf+qAEYAYwCDAZ4AaP94AK0AMP8RAJcBdQALAK8BFgEZ/8D/3ABgAHUAcQHZAP7/NAGpAZf/jv82ASMA5/4xAdQC/AA6ACsBygAq/wr/aP86AKICPgMfAfAAygD5+iD2GfvpAYj/i/yhAJEC/fyB+SX7l/sJ/Cj+Vv+tAEkENQP0/Pr8iQH1/wb9gAHJBXADDQKZAyUByv2I/zEAF/7eAC4FZQLe/oMBIQJD/nr+jAEuATEBTwNoAqQAhQKIAsT+z/5iAvUBAAC9AYICxv8n/3UA/v5s/qoAlQCS/rT/PAG7/mT92P5U/pv9tP+hANL+Of+YAN7+Cf3w/uP/9v0Z/2ABQACm/pT/X/9v/VT+w/8E/2X/8ACVAC3/mv8mACT/PP+PAMoAygDeAe8BkgByAEIBngACAPwAYAFJAHsAwAHnAH//1/+PABQAo/89ABkBIgF1AGkAsADWANwAuwA/ASECDQK1AF0AMQBY/b76fPxyADoA//2y/i4AF/56++b7ufyY/cf+hf+m/04BwAGV/pv9TwAuAYj/wQBeA4IC8ABFAX4A8P6o/5sAd//G/xAC2AEuAP7/YACI/73/qgCSAC4B7wGpAeEAjgHbAYkA7P+nAH0BzAG4AfMAsACVAGv/0v4dAJgA4f5U/sb/8v/K/u3+Af8X/lH+jv8c/+T+YABaAAT/aP94AHH/Of9pAGkA0v+VANYAJP/P/h0A0v8B/wAAXQB//3H/gQBAAFP/vf8gAMn/FwD8ALsAIAByAPMAYABAAMEAwQDS//X/9gDtAGwAMQDd/0j/0v9GAOP/CAAoAe0A7P/M/wT/v/zv+6/+EQDV/mX/IgEXAHX9af3i/fr8zf3M/z0AlQDsASUB+/5f/0MAMP9l//IBXwLTAG4BCgIFANj+CAA6ALf/KwFwAjYBqgDkAWUB4P+EAMwBYgEFAV0BZQE5AZcBUQFVAIQAEAGJAMz/4//+/8D/lP/y/2kARgCC/3//jv8Z/xb/tP83APX/7/+X//b+JP+X/+H+cv63/0kASP8T/+b/SP9a/gH/Wf96/tL+CACX/0v/WADs/4n+EP/m/2v/XP9GANkAqgCbAKoA/v/U/0MARgAxAAoBKwEIAAgAbwDv/27/rv8RABQAVQDBAH4AFwAdADcABQAjAK0AHwEuAe0AjAA9AF//Uf49/qP+d//4/93/Zf/z/qz+d/5G/gX+Gf67/t3/3gAcAV0A+P9sACYAsf80APkASwFgAWAB/AB4AGAAMQB///X/GQFaAecA9gD/ALUAdQBsACwAgQB3AU4BmAB+AKQA8v/j/5UAiQBvANYA3gBYAA4A4/+g//L/XQA3AM//+//1//D+wf5I/1D/Gf+0/wAAcf+0/53/qf6D/nf/lP8c/7r/OgAXADEAXQDv/4X/xv/A/9r/OgBSACMA8v+3/0j/E/96/w4A0v9Z/73/RgAIALf/X/85/1P/t/8OADcAiQDEAGkA2v/4/yAAEQACAA4AOgB+ALsAuAAaAEv/+/7E/kD+lf63/zcA6f9F/xn/J//K/mP+gP5F/10AOQGAAZ4ADgBaAEwA5v8IAN4A5AAWAboBhgGEAN3//v+3/6D/tQBXAfYA/wAuAeEAsADQAIEAYwAcAXcBXQGyAcYB7QA0ADoAYAD1/9T/TABgAHUAeADd/3H/rv/X/5f/t/8xAG8ALgACAEMAFwB//0v/UP9o/6j/jv93/3T/sf+U/xb/u/7S/vj+E/98/8b/q/9L/xP/M/9x/yr/Fv8f/3H/5v+m/y3/SP9l/yL/8/74/iT/bv/g/wgAAADd/9T/z/93/3f/9f89AEMAUgCBAFUAJgBSAPL/1/86AHsAkgCbAK0AmwBDADQAIABx/7f/XQCJAOz/2v+MAJUASQAFAPj/3f94AN4AhABvAAIB5wBaAKoAEAGqAE8A8AA8AeoAxADQAOQAzQBPAP7/EQCSAJgACwAOAFoAZgBgAGMA9f/j/wIAMQBMAEYATwARALT/q//7//L/w//d/wsA0v8CAN3/o//D/7f/wP+d/xcABQBf/yT/X/+X/0v/Fv8q/3r/d/82//j+H/9i/zn/d//d/7H/B//4/l//Qv8n/1n/d/85/x//Nv9u/4X/P/9O/3r/2v8FAM//vf+j/7r/mv/G/w4A5v/p/2AA+QD8AGkA3f/d/zQAcgBPAF0A0wDNAK0AfgBPAJUAuAB1ACwAdQDqAOQAQADy/9AACgFaAIYAKwEQAWkAcgCeALsAIgE8ASgBMQEfAdwASQAAAGMAlQBvAMcA/ACEACkA+P+X/4j/tP/4/zEAZgCeAHIAEQDM/+//4/+X/+P/gQByAO//qP/d/67/X/8z/xD/Iv9Q/2j/a/+U/27/B//P/jz/U//h/pX+E/+o/53/Zf82/1D/3v6y/sT+z/4N/1P/HP8H/y3/5P7w/v7+yv6g/hz/i//U/7T/Rf/+/ln/z//X/+P/QADBALUAbAAIABQACwBJALsAAgFUAUgBEwGyAIkAfgBvAJgACAEoASIBXQFIAacATACJAPkACAHzAFcBdwFCAQgBmABaALgACAHHAJ4AwQATASUBxAB7AH4AgQA0AGMAzQBjABQAWgB7ACAA6f/+/yYA9f/+/wUAdP9///v/3f+O/8D/5v9C/y3/wP/m//v/i/9x/1D/jv+0/0j/XP9O/2v/gv9F/zD/MP8n//v+Gf9f/yT/Lf9Z/1//HP82/zn/S/9f/0X/fP9//3H/U/9l/0v/f//A/5r/mv+o/4X/Lf8W/x//Yv/S/9T/t/+R/4L/i/+u//L/+//j/8P/LgCPAJIAiQBmACwAbwD8AAIBrQBaAKQA+QArAQgB0wC7ALIA/AAfASUBHAHWAIEAsgANAe0AxADQANYAsgCwAJIAeACMAHsAhACBAHsAYwBVAF0AVQA9AEkAYwBVABEAFwBpADEAzP/v//v/5v+u/53/3f8aAEAAyf+R/6D/X/8//3z/l/+d/6v/uv+g/1b/Vv9C/1P/fP+C/6v/5v/U/3z/rv/J/4v/SP9Q/4L/X/9f/8b/0v+F/3T/hf9x/xb/M/+L/7H/1//J/+D/AAC0/7T/zP+9/+D/t/+F/wIAaQDv/3T/dP+d/6v/oP+X/6j/DgBdAO//0v9VAFUABQAOAEwATwCMAPkArQBDAHgAZgBDAGMAuwDHAGAAQwCSAMQAmAChAIwANwBJALAA0ADhAOQAjABVANMA3ABjADcAIABDAIEAjAA6AOb/w//y/0YAWABGAB0A5v+0/+D/IwAUAKP/pv/1/y4ABQC6/8P/wP+j/27/lP+d/53/BQD+/7H/4/+R/zz/XP+3//j/z//S/73/yf+o/3f/mv+u/7T/z/8AAN3/1//m/xcACwDA/47/Wf9//3z/o/8dAGAAJgDd/8P/oP+R/2j/Wf+9/y4AYwBGAPL/yf/s/xQA+//D/8z/KQByAHUAXQAUAPv/6f+9//v/FwACADoAdQA9ANr/MQAmAN3/+P8XAFoAewA3ADcALgA3AKQAQwAXADoAQwARACMAaQAgAAIANwBMAEYASQA9AG8AVQALACkAbABgACAALgBJAD0AQAA0ABQAHQBGACAA6f+x/9T/UgAmAL3/5v8mAOP/uv+9/wsAFwDj/+b/+P8UANL/wP/7/wsAuv+j/5r/l/9u/6j/5v+d/8z/z/9x/zP/hf+j/4v/sf+j/6P/z//M/7T/1P/A/8z/BQAAAPj/yf8OAEMA1/+9/9r/JgAaAAUACADS/wsAbAA6ALr/wP8RACAA8v8xAB0ADgBjAGwAQwBJAHgAQwAOAAgAYACeAFgAEQAXAFUAIwD+/xoAFwARAOb/FwA3ACYAAADG/6j/JgCGADcAzP+9/x0AJgBYAEMA0v/S/wsAHQAXAPv/5v89AEYAAAD4/yYAHQDs/+//3f/j/yYAHQDj/xcAKQApABoAzP+6/67/8v/m/+b/TwBsADcA9f/G/8n/GgAgALT/sf8XADcAAgDX/73/t//v//j/4//4/+z/rv+x/9f/AAAaAAUA3f+g/5f/HQBAAO//qP/S/ykALAAFAJr/gv/7/zoA+//a/8//4/8CAPX/3f/j//j/4P/J/+b/+P/v/wIA4P/p/w4AFwDS/4X/uv8aAAsACABPAAsAKQBJAAAA1P8LAC4A7P/j/wsAUgBsADoA/v/4/z0AaQAaAAIAIAAXAPv/FABMACYAMQBYACkA8v8LAFgAYAAsAA4ACwAOABEAFAAaAEkAKQAFAAsAFAAuADEARgAUAPj/7//+/zEAKQA3ABEAFAAIAMn/t//p/zcA+/+0/+//QwAaAN3/CwAUAA4AFAAgACYABQC0/7T/JgAaAM//4P8XANr/l//a/8n/wP/D/7H/1P/v/9T/uv+3/7f/w//s/7r/yf/G/9L/HQDj/8n/gv+9/yYACACj/4X/6f8LALf/t//p/9r/5v+9/8//DgAmAOz/wP/M/wsALgD+/xEAJgApADoAPQACAAsAYABgAD0AFAAxACwA+P8FACMARgA3ACYANAAOAAsAFAApADQAJgAmAEYAPQA0AEMAAAD1/ykAWAAUACwALgApADcAQAAXAPj/SQAmACkAMQApAAgA1/8RADEAHQD1/7f/vf/v/0kACwDD/+D/7P/v/8//AgACAL3/3f/1/7r/zP/s//X/7P/d/9f/sf+3/+b/+/+r/5f/t/+u/5r/1P/7/5T/o//M/xEAIwDv/8z/+/8uACAA5v/7/2MACAD+/zQADgD+/y4AIAD1/ykATwAdAOz/4//v/xEABQACACAAKQA9ACwAKQALAM//+P8OACMAAgAIACYAAAD1//L/DgAOABoAIADd/w4AMQDs/8D/AgAUAP7/FADp/9L/BQD4//v/BQD4//L/7P/7/y4ARgARAB0AGgAUAA4ALAD+/6b/wP/p/yYAIAARAB0AFAAjAPL/w//a//7/KQAxACkALgAIAOb/AgBmAHsAIADg/+//AADv//X/7//v/yAAFwDD/6j/0v/7/wgA6f8LABoABQDp/6j/wP/y/yMAJgD7/+n/FwApAPv/t//p/+//z//p//X/5v8IAAUAq/+j//X/LADd/7f/1/8uACwAwP/D/xcA6f/j/yYAAgDj/y4AUgDJ/6j/6f8FAPv/2v/P/9L/5v/+/+D/yf/a/wIAFwDv/93/4P8AAPv/6f8RADQALAAuAPX/AgAUABcAEQAdAC4AIwBMAEYAKQAAAA4AHQAaACkAWABjAEkAbABpAEkAIAA0ACwAGgBdAHUALAAXAEwANwDs/xQAHQALADEABQAmAB0AIwAIAOn//v/s//j/8v/M/7T/+/8UAPX/zP/M/7f/yf8RAPX/qP+r/yMAAACr/8//7P+x/67/yf/X//L/1P/J/6P/1P/+/9f/wP/J/9f/1//a/73/0v/7//X/1//U//7/7//S/xEATwApAPL/2v/G//7/CwAIACMACwAFAP7/JgDS/8n/GgApACkA9f/U/+b/HQAFAOD/1//7/xoAHQAXABoAFwAIAM//xv8AAAIA9f8UABQA3f8FAB0ANwA0ABEA9f/+/zEALgAXAA4ALgAXACAAVQBDACMAPQBAADcAIAAUABcA6f8CABoAIAALAO//FABJACMA+P8gAAIA5v/1/wgA/v8aAEMABQAmAEkAAAD+/xcA7P8AACAADgDs//X/AgAIAOb/4/8CAAgA+P/X/+D/FABdACMA4/8AABcA8v/m//X/CwAaACAA/v/M/+b/IwDD/27/xv/U/8z/7//s/6v/qP/1//j/1P+O/4j/z//g/8z/sf/M/+P/7P/p//j/4P+j/7T/7//1/9T/7P/p/8//4P/j//j/CADd//L/LAAxAAgA4P8IADQAOgARAAAAQwBjAFgAPQAdADoAMQD1/yYARgBGAGMAKQDp/x0ATwAXAOb/IwBGAFIAMQDs/wgAPQBYABoABQApADcAJgAOAP7/NwAmANT/6f8AAC4AFwD7/+z/LgA6AOz/3f8OACAA8v8AAOn/EQAmAPj/5v/4/wIA1P/X/+z/AgD7/+P/1//D/9T/6f/a/8b/z/+9/8//+/8IANT/tP/X/7H/3f8CAO//1//A/9f//v8CAMz/1P/y//j//v8CAAgAz//y/xEACwAFAAsALgDj/+D/+P8pAA4A7/8UAB0ANAD7//X/AAD7/93/6f8dAB0ANwAXAPX/BQAXAN3/yf8UACkAGgDm/+z/RgApAP7/FwAXADQALgAAAMb/AgBMAAsA6f8UACYAMQAOAOD/DgA0ABoA/v8CABcADgAFAAIA8v/a//L/FwAmABEA7//1/yAALgD7/8z/yf/7/wIA+P8XACAATwAjAAUA6f/v/0wAJgAUAPj/FAAuABcACwDM/8//4/8LACkAHQAgAPj/7P/j/+D/BQD1/wUA+//g/wUAEQDy/wUA7P+r/73/t/8UAC4Az/+9/+D/+//g/93/xv/P/+P/1P/d/+//8v/M/8b/7/8CAAgA4//D/wUAFwDp/7r/vf8XADQAIAD+/+z/3f/+/08AIADp/+P/8v/a/9f/IwAsACYAIAAXACAAGgARAA4AJgA3ADoAMQAuACwAKQAgAEAAMQAIAPv/IAA6ACMANAAjAAIA7/8CAAgAFwARABcABQAOAEMAEQDU/+z/EQDv/+P//v8CABEAFAAUAAgAxv+r/9f/AAD7//7/GgDm/73/wP/a/wsA4P/a/8z/2v/a/9T/7//d/7T/5v8FANL/o/+m/9f/xv8UADoA9f/j/73/2v/s/9L/9f8IAO//6f8gABEA9f8gADEAGgBYAB0A7P8UACkAVQBJAEYAOgBPACYARgBdABoANAA0AFoAKQACACYAOgAmACMANwD4/wUA8v/7/ywACwDy//7/7P8CABoA+P/+/+b/0v/J/+z/IwAIANr/z//S/93/3f8IAP7/1P8AAOP/z/8FAPv/+/8XACMA9f/U/wgAFAAIAOP/+/8mABoAEQDg/+//IAALAPX/9f/4/+//AgAsANf/0v8aAAsAzP/S/wUA5v/S/+b/4P/U/7r/z//+//L/DgDg/8b/1//j/wIA/v8AANf/vf/7/wAA4P/y/xQAHQAIAOn/z//P/+//FAARAOn/7/8pACYAGgA3AB0A4//p/x0A+//j/yMALgAXABoADgD+/+z/GgAjAOn/1P8FABcA5v8FACkAQABAAB0AAgD1/+//+/8IABoADgAIACkAEQAAAAAA+P8LACMACAACAO//4/8CAAUA6f/g/xEASQAuAPv/BQBAAGMAAgC6/8z/GgAsACwALAAgACYA7//+/wsAFwAUACwAAgDj/xEAEQApAOn/AgAxABcA+P/U//7/EQAUAAgAFAACAOD/CwAxAPj/zP/S//v/KQACAMb/7/8FAOz/4P/S//L//v/d//v/7//M/wUACwDg/+z/4P/U/+b/8v/m/9r/zP/P/wUA8v/U/73/0v/P/8b/CADs/8b/tP/g//X/wP8CACAAyf/G//7/JgAIAAIA+P/m/xoAHQAXAAIABQDv/wIAHQAmADQA8v/7/w4AFAAXAAUAIAAxACwAEQAOAAsALgAaAA4ANAAsADEAFAAaAOz/9f8xAEkADgDy/xcAEQALAB0AQwAUAMz/BQA3ABQA/v/+/zQAPQApABQACAAOADEACADm/zoAMQAIAOn//v89ACYA2v/g/xoAFAD4/wAA+P/P/9T/6f8FAB0AGgDv/9r/1//p/w4A9f+6/7r/7//1/8z/4P8CAN3/5v/+/+P/4//p/93/1P/+//v/1P/g//L/+P8LAPj/1P/4/wIA4//m/+n/AAAIAO//+/8XAAAA+P/y/+//CwDy/wsA4//g//7//v/j/+D/DgA0AAUAuv/X/x0A+//g//X/9f8AAAUAKQDv/+z/JgARANr/6f8RAAAAFwAuABEACwAIACMACwAUABoAFwALABcAIAD1/wsACAAsADQABQAaADoAJgAOAAsABQAgACYACwAsABEABQARAAIALgAuAAUAAAACAPj/z/8OABcAEQAXABQACwD+/wUA9f8XAA4ADgDg/+b/CADm/+z/HQALANf/6f/y/93/CAAAAOz/AADj/9L/3f/v/9r/7P8FAAUA5v/S/+b/+//j/+z/BQDg/+//7P8UAAgA+/8uABQAxv+3//L/AAD7/wsAIADg/+D/AgAFANf/2v/4/yMALgDX/8//+P8gABcA0v8AABcAAAAFAAUACADp//j/+/8XADQACwDS/+n/HQAXAP7/EQAXAAAA+//v/wUABQAIAA4A6f8CADcAHQD1/yYAEQDy/xEAEQAgAAgABQAUABQA9f/y/yYANADm/+z/IwAjAOz/0v8uACkA7P/p/wgA/v8aABcAEQAXABcAEQALABEAAgALAAgA8v/v/+//7/8OAPL/0v8XACMA3f/a/wUAFwDs/+//+P/7/wUA/v8AAOb/DgAsAPL/DgAIAMb/5v8RAP7/1//4/wAA2v/a/+D/8v8CAPX/5v/m//L/8v/j/93/8v8CAP7/5v/+/wIA1P/1/w4ACADS/+D/CwD+/wsA4P/G/+D/DgARAPj/5v8FABoA8v/S/+z/FAD+/wgANwAUAAgAIAApACwAIwAIAOz/AgAaAP7//v8dACMAIAARAPj/CwApAO//AAAgABoADgD4/xEACAAsAC4ADgARABEAFwALABcAKQAdACYAFwApABEAw//m/zEALgA6ACYA4P8FABcADgACAAsAQwAIAOb/CwAjABoA4P/+/ykAFADv/93/0v/m/wIADgDs/8n/8v/y/+b/0v/M/93/zP+9/+D/9f/S/+D/3f/g/+//z//4/+P/pv+U/93/AADM/8D/3f/g/9T/0v/v//v/1P/D/9T/CAAIAOn/0v/j/xoACwD+/wAAAAD4/w4AOgA0AB0AAgAjABQADgARAB0AQAA0AP7/CwAuAPv/IwBDAEMAHQACAAUAOgBAAP7/BQAgAEYAMQA3ACwAJgAjACAALAAaAEAAGgACADcAQAAFAOn/NwBDAB0A8v/j/yYAMQACAPv/7//+/w4A8v/1/+n/AADs/9T/4P/a/wAA+P+x/7r/+/8FAAAAyf/P/+b//v/m/67/0v8AAPj/zP/a/+b/+P/v//v/7/8RAB0A+P/v/+z/BQDs/+n/1//7/yMAFADy/9f/5v8CAO//wP/U/+///v8LAAUA4//d//7/FADv/9T/5v/4/xcADgAIAPX/CwALAAAA+//4//v/+/8UABQAOgAIAP7/KQAUAOn/BQA0ACwAIAAOAC4AOgAIAO//BQA0AEMAIwD4/+//JgA3APv/AgACAB0AIwACAP7/AgAjABEAAAC6/8D/+/9DAEkABQD1/wIAFAAAAPj/7P8UAAgAEQAjAPX/8v8FABQA1//d/wUAJgD+/8D/AgALAOD/7//a/9f/BQAFAOb/yf/p/+b/xv/g//7/7P/X/+n/AgALAMb/1P/4/+n/6f/g/+D/5v8AAA4ADgAOAOz/0v/d//v/FADy/93/7/8XACAAAgAAABcAEQAIAPv/9f/4/wsAIAARAPX/CAAxABcAAgDv/y4ANwAgAAAA8v8uAC4AFwARABoAAAAFACMAIwALAPX/CAA3ABcA4P8OACkAPQAXAAAAHQAdAAgACwAXABcAOgAsABEAAgAXAEMAIAAAAPj//v8CAAIAEQD7/xQAIAACANL/3f8uAP7/w//P/wIADgDv/6j/qP/p/xEABQDJ/93/zP/a//L/2v+3/8D/7P+m/5r/2v8OANL/vf/U/8n/7//a/8D/w//p/xQA9f+6/8D/CAAaAOn/4//y/wsACADv//7/EQALAAsAFAD+/9r/7/8sACYABQAaACkAIAALABoAJgAUAB0APQAsABoAIAApAC4AHQAdABoAMQBvADEADgAxACwAQwA6AB0AFAAaAEAASQAdACwANAAjACMAFwAOAB0AFAAmAB0AAgD1/93/7/8FAB0A+//j/+//8v8XAAsA1//S/9T/7P/g/8//4//D/9r/8v/j/+//7P/a/6P/xv8FANf/2v/d/9T/7P/a/73/9f8FANf/z//X/+z/4P/j/93/CAAAAAsAGgAAAPX/vf/a/xQACADm//X/HQApAA4AAADj/wIALADm/9r/+/8gAA4A+/8OACkAEQDj/wUAKQAuAPj/6f8AAP7/CAAgAO//4/8OAC4AJgDj/9T/KQByABoA5v/a/y4AOgACAP7/7P/7/xcARgAFAAgAFAAOABoAFwARAOz/9f8OACAAHQAOAAgACAAgAEAADgDd/wsAMQAaAOz/5v8CAAAACwALAAAAAgD7//7/7//+/xQAGgDy/+D/CwAuAPv/t/8CAC4AEQDp/93/6f/d//X//v8AAPX/5v/j/+b/6f/X/9T/xv/U/9f/4P/v/+b/4//P/8//7//J/9T/5v/d/9L/wP/1/xEAFwACAOb/1//p/wgACwD+//L/AgARAAsACwAXABoANAARABoALAAaACYA+/8xADcATAA9AO//FwAuADoALABAAC4ALAAjAP7/GgAgABQAAgAXADQAGgDP//7/IwAFAPX/6f8UAAUA8v8RAP7/6f/y/w4AHQD7/+//4//U//X/EQAdAAIA5v/d/+z/CwDy//v/FAD1//j/BQDm//j/AAD+/+b/1P/y/wsAFwDm/8n/2v8UACAA+P/j/8D/1P/p//X/FwAAAMP/vf8XACAADgDs/8n/4P/y/wIA6f/v//L//v/4/+D/FwD1/9L/CABAAPj/rv/a/wgANwARAOD/CwAmAAAA4/8CAD0AJgD7/wsAQAAdAAUAIwAjADcABQDd/xEAOgBPADEA8v8CAC4AIAAIAO//BQAuAAsAFAAAANf/7/8LAPL/0v/m/wsA+P/7/+//8v/4/+//4/+6/+//+//1/+D//v8IAAgACwD4/+z/4/8sACkA+P/4/xcAOgApAOz/7P8OADEACwDj/wsA+P8IABcA7P/s/+n/8v/p/93/6f/7/+b/7P/y//j/BQDX/8z/8v8aAOP/0v8CABQACwDp//j/FAAAAOz/+P8IAA4AKQAsABEAAADy/xEALgAjABEA+/8aADoAIAD1/xcATwApABEA8v8FACkACwARAA4AIAAXAAAA9f/1//X/2v8CABoA+//m//L/+P/v/+n/3f/a/9f/6f/v//j/7//m/+n/4//v/+P/z//P/+b//v8AAPL/5v8CAAAA2v8FAPj/5v/4/wgAIwAmACAA+/8AABQANAAmAPX/8v8RAB0AKQA6ABEADgAsACkABQACADcAHQAOAA4ADgAgACMAAADM//v/IwAjAA4ADgD7/wAAIAALAPX/9f8RAAgACAAIAAIAHQAaAB0AHQAXACYA+//U/wgANAAuAPv/z/8FACAACAAOAPv/AAD+/+P/6f/y/+b/zP/X/8z/z//S/8b/vf+6/7r/sf/A/6b/qP+j/5f/oP+r/7r/sf/D/8z/lP+a/7T/z//d/9L/1//S/9f/3f/U/93//v/4/+b//v8dAB0AHQAgABEABQAgADEALAAxAEMAQAAxADcAOgBVAFgALAA0AFIAbwBVACAAQwBPAEwANAA0ACwAMQBJAC4AQAA3ADcALgApACkAKQAaACMALAAaADcAFwApADEAFwAXACAAIAD4/xQAHQApAP7/xv/+/yAADgDg/wAAFAAIABcAEQAOANr/zP8aACkA/v/a/+//HQAOAPL/6f/4/+n/4P/1/wAA+//S/+z/IAD7/8P/w/8FABEA1P/S/+n/8v/4//7/2v/m/xcA6f/d//v/CwAIABoABQDX//L/CwApAAUABQACABoAEQDs/xQAAgD7/wgAAADj/wAACAD+//j/1/8CABcAAADa/9L/4P/d/9r/rv+o/8P/7//X/6b/o//A/8b/mv+d/6j/qP+m/6j/rv+u/6j/q/+0/9r/w/+a/7H/xv+x/7f/+/8AAMD/t//m//j/6f/M/+P/CwDv/+z/CAAXAAUA+/8AAAIADgAsAB0AHQAmABEAIAAgACkAKQAuAD0ATABMADQANwA9AEMAVQByAFUAXQBAAC4AZgBjAFoATwBDAEwAZgBdAE8AYABMAFgAZgByAFUAOgBaAEYAKQBAAFoAYwAxACMAUgBMAB0AHQBAADcAEQAUABEABQA3AEAAHQAIACMAIwAmABcADgD7/wAAHQAFAAIABQDg/9T/FAAdAPv/0v/G/8//9f/7/+P/4P/D/8n/5v/1/7r/pv/G/8z/w/+0/9r/2v+x/6v/xv/X/+P/uv+0/73/4P8AAMP/tP/G/+z/wP+r/7f/z//a/8P/wP/G/+P/w/+9/8D/z//S/8n/xv/P/+b/5v/a/7r/zP/d/8//1/+3/8b/4//X/+//4P/p/93/7P8IAOz/z//s/wAAAAARAO//5v/1/wUABQDj//7/CwALAM//yf/+/xEANAARAPv/7P8jACYA9f/7/xoAEQAIAC4ALAAaAAIABQAxAEwAFwAIACwANwAxACkAKQA3ADcAIwAuADQAMQAmAAIALgBPADcALgAjADQALgAjACwAOgAXAA4AQwA3ACwAFAAUAD0AJgARADEAFwAUACYAQAA3AB0AKQAdAC4AJgAsADEAHQA6AFIACAD1/yYALAALAAIAKQAgAAAA3f/1/wsAAgARAAAA7P/J/+b/+P/s//X/7//M/8//zP/X//j/xv/D/+//AgDy/9T/1//+/93/4//7/+P/5v/+/wsA1P/s/xEAEQDm/9T//v8OAAIA7P/m//X/FAAdABQA8v8AAAIAEQD+//L/AgDy//X/9f8CANf/2v/p/+b/5v/v//7/sf/D/+b/CAAIAK7/z/8IAPL/5v/s/93/zP/v//7/3f/m/+D/8v/s/wIA/v/7/wIA1//1//7/+/8AAP7/4P/p/xEAHQAUAPL/xv/p/xoAEQAIAMz/zP8OABcA7//J/93/IwAOAOb/9f8AAA4A7P/1/+z//v/7//L/FAALAPX//v8jAPj/6f8RACYAAgD+/wsAIAAsACMAHQD+//v/AAAUACMALAAaAP7/FAARAAsAAgAFACYAGgD4//j/CwAUABoADgDy//7//v8aABoA5v8FACMAKQAAANr//v/7//v/CAAIAA4AAAAIABEABQARAB0AHQD7/wsAGgARAAsA+/8UABoAJgAjABQAIAAgAB0AIAACABcAHQAmAB0ADgAgABQAIAAUACYALAAsABoA7P8FAEYAJgD7//v/IAAXAAIAIAAdAAsA2v8AABcADgAIAAgA8v/m/+D/4P8FAAIA9f/a/9r/0v/v/+b/w//X/+P/6f/j/8n/4//j/73/wP/X//j/0v/A/8n/3f/7/+n/vf/P/w4AAADd/+z/CADj/+//DgDp/93/7//+/ykAIADp//j/IAAsAAUA4//+/wgAAAD1/wIACwAjAAsA3f8LABEA/v/m/+D/5v/+/wgA+P/s/+//BQDp/9r/5v8gABEA4P/v//v/IwAmAOP/7P8UAPj/EQAAAO//CAD1/wUAAgDy/+z//v8FABEALAAaAPX/xv/4/yAAAAD7//L/FAAmAAgACwAUACAAEQD7/wAAHQARAPL/5v/+/zoAJgAAAOz/AgALAAUADgDs//7/+P/1/x0ABQAFABcA/v/y//j/JgARAN3/+/8mAB0ACADy//L/IAALAP7/AADv/wgAFwApAAgA1//v/yYAIAD7/wsA+//p/wAACwAuAAUA6f/1/wUAFAAFAAsA7/8AAAUAHQAdAOz/5v/4/xQAGgACAAIADgAIAA4ABQD+/xQAIAACAO//CAA3ACkACADa//7/LgAIAOD/+P8mACYACAD4//v/CAD4/+P/AgD+/93/3f/1/+//4//S//v/7P/S/9T/6f/m/9T/6f8CAN3/1P/j/+z/AgDv/w4A4//d/+//AgAdAAsA+//v/wUA+/8XABoA+/8FAAAAGgAdAAsAEQAdACAAGgAgAAIA+P/p/wUALAAIAAAAAADs/wUACAARACMAAgDa/9r/FwAaAA4A5v/s/w4AHQAAAPL/FwAAAAIAEQD7//X/EQAXAAIA2v/g/wgAHQALAO///v/g/8//GgAUAOn/3f8CAOD/zP/v/+b/7//P/+n/CAD7/8//6f/7/93/7//7/wIA7P/s/wgADgAIAOP/7/8FABoAEQACAPv/AAAgAAIAFwAxACAABQAIACYAJgD+/wUAGgAUABcADgALAAgAFAAgAAgA+P8UAA4AFAAOAOn/7/8dABoA7/8AAB0A/v/p/+z/EQA6APv/1P/m//7/AgALAPL/w//m/xQABQDv/+n/8v8AAP7/8v/g//X/7//4/9L/9f8gACAA9f/D//7/AgAUAPv/FwAIAPX//v/4/ywAIAD+/wIADgAuACAA/v89AEAABQD+/xoASQAjAOz/EQAdABoAJgARABEADgAFAAgA9f8CAAAA3f/m/w4AEQDs/9r/2v/+//v/3f/S/8n/+//s/93/+P/M/+P/AADj/8P/1//+/+z/8v/m/+b/4//j//7/FADv/+b/5v8pAAUAz//p//X/BQDg//j/+P/7/xcACwD7/wsADgAaAA4A2v/7/ywAIwAAAAAACAAXAC4AHQALAP7/FwAUAAsAAAAIAB0AEQARAP7/BQAXACAAHQARAPj/+/8aACkACAAXACAAAgALAAgAFAAFAPX/FwAdAAsACADj//j/CwAXABEA+P/s//j/HQAOAO//6f8AAA4ACADy//L/EQALAO//5v/4/wgACADy/+z/+//p/wAAAgDm/+n/AAALAOP/z//d/w4AEQDp/9L/3f8CAPX/4//m/wsA7P/p/wIA7//U/8//+P8FAAUA6f/j/+D/4/8CABEA/v/+/+z/+P8CANr/+/80ACYA1P/m/xoAIAAOAPv/EQAgABoAFwAFAAUACAAmADoAAgDp/ywALgACAA4AFAA0ACAABQAXADEAGgARABEAFwAUAAAAFwD7/wgAEQAOAAAA+/8OAB0AHQD1/93//v/4//j/AADg/+b/9f8AAN3/zP/4/wgAz/+j/9r/EQD7/8z/2v/s/+P/7P/7/9r/6f8CAPL/4P/j/xQAFwAOAO//5v8XAAIAAgACAP7/BQAUABoA+P/X//X/KQD+/+b/4P8LABEA7//y//L/CAALAA4A6f8FAAsA9f8RACMAMQAXAAgA7P8AAD0AIwD+//v/CAAuABQA7/8FABcAIwAFAAgAFwARAAsAGgAdAAAA/v8LABcAAAAAAAIAEQAFAOD/HQAaAPX/0v/X/xcAAADs/8P/8v8dAAUA4//a/wgABQAOAPv/4//d//7/CwDv/+//AgAjAAsA+P8CABEANAAmAPX/2v/m/xcALADp/+n/IAAXABEA/v/v//7/CwAAAPj//v/7/wsACAALAAgAHQAFAO//EQApACAA0v/p/w4A/v/7//X/7//4/xoADgAaAAAA5v/4//v/4P/X/wAA+//m/+b//v8FAOz/4//g//7/4//X/wUA7//U/+b/8v/+/xcA5v/P/+b/9f8AAAIA9f/v//L/+//4/wAA4//P/wIACAAFAOz/8v8dACMADgDd//L/FAALAAAA6f8OACwAGgAIAPv/BQAXABoAHQACAAAAEQAjABoAAgAgABoAFwAFAAsAEQAXAAsACAALAA4AIAAIAAsA+P8RACYAAgD+//X/AgAFAA4AFwDs/+n/8v8LABEA9f/v/+//AgAAAPX/9f8CAPL/7//+/xEAGgDy//v/CwD1//L/AgAaAAsA+P/y/yAALAAXAPj/xv8CACYACwDy/+P/DgAaAP7/7//1//7//v8AAO//0v/7/x0ADgDX/93/AgD1/wgAAgD+/9r/+/8dAPX/8v/+/wAA/v/7//7/DgD+/+n/8v/1/w4ALAAXAAUA+P/4//X/8v8UABEAAAD7/xQAFAARAAgA+P8UAA4AAgAIAPj/8v8CABQAHQD7//j/+P8AAAgA9f/s//X/CAD+//7/4//y/xEACwD7/+P/7/8AAPL/5v/4/wUA8v/p/wAACADm/9f/8v/7/+n/3f/y//X/AAD1/+z/7P/1/wsA7//v/+z/CAAgAA4A/v/y//j/FwA6ADEAEQDg/wsALABDAD0AAgAIACAAIwAuADQA/v8FABoAIwAgAAAA9f/y/x0AFwD1/+b/+P8CAAAABQDa/9f/8v8AAAIA4//X/+//9f/y//L/8v/m/8n/z/8LABEA+//v/+n/CAAdANr/uv/7/zoAQAACAOb/6f8IAC4AHQDv/+b/CAAgABcA+//4//v/FwAdAPX/7/8LAAsACAALABcADgACAAAA+P8IAP7/+P/4//L/CwAOAPL/+/8OABQAAgDy/+z/EQAIAOn/8v8FAAAACAD4/+//9f8FABEAAADm/+P/EQAUAAAA4P/y//7/6f/1/wUA5v/+/wsA7//1/+b/9f8LAAIA7//d/+D/+/8IAAAA9f8CAAIA/v8CAAAAAAAOAP7/CAAgABcABQDm//L/JgA0AB0AAgD+/wsAHQAUABcAIwAdABoA5v8IACMAEQAIAAIAEQAOAAUA+//7//7/EQACAO///v/1//X/7P/g//v/+P/s/+//+/8AAOz/4P/4/wIABQARAO//5v/d/wIAEQD7//v/CAAOAPX/BQAOAPv//v8IAO//AAAAAAsA4//p/yMADgAjAAIA8v8FABcAIAD4//j/CwAdABcA8v/+/wIACwAaACMAAAD7/wgAFwAOAAIAEQAFAAIA+P8RAAsABQD7/9r/AAAdABcA7//a/+z/AgAFAP7/7P/d//X/CwDv/+b//v/1/wIA5v/a//v/+//s/8z/6f8IAOn/4P/y//L/+//v/8z/3f8LAAgA7P/a/+n/+P/7//v/7P/s//v/AgAaAPX/1P/4/yAAIwDX/+n/FwAdAA4A9f/7/xoADgARACYAAgD4/wsAIAAjABEACwAOAA4ACAAFABQADgAFAPX//v8CACYAJgD7//L/7/8XAD0A+P/J/+P/DgAsAPv/3f/v/ykACAD7/+b/AAAgAAAAFwAIAA4AEQAXABcAAgALABoAFwAFABoANwAgABQAFAARAAsAFwAgACAA+//v/yMAFAACAAAAAgAAAAgACAD+/9f/7P8IAPj/+P/d/+n/AgDp/8n/4//4//j/3f/g/9T/2v/m//X/7//P/+D/zP/X/+n/9f/g/8n/4//4/wAA7//j//L/8v/m//j/7//4/wIAAgD+//j/CAAFAAsABQAaAB0AGgAOAAAAHQAxABEA6f8RADoAPQAgAPv/+/8UACMAJgACAPj/GgAgACkABQDy/xEACwD+/yMABQDv/+D/+/8LAAIADgD4/wsA5v/d/wAA/v/y/+z/+//v/+b//v8AAA4A8v/X//X/AAAIAO//7/8AAPL//v8RABEA/v/j//v/LgAUAOz/7/8RABEA8v/+/wIADgD+/wAA+/8CAPL/4//v//X/FAARAAIACAAAAP7/CAD4/+P/8v8gABQA+//v/wsAJgAXAAAA+/8FAAgAFAAAAAAACwAmACkACAAOAAUADgARACMAEQD+/xQAIwAOAOP/CwAaACwA9f/M/wgAFAAIAPL/4P/7/wAA/v8AAN3/3f/m//v/+P/m/9L/1P8FAPj/8v/+/wAA7//4//v/1P/y/wAA9f/p/93/+/8dAPv/0v/1/wUAEQD1/8D/1/8LABQA6f/s//X/+//7/wAACwDs/+P/CAAOAAUA+//y/w4ACwAAABEACwAFAA4AHQAOAPX/BQARACMAMQAgAAgAGgAXACAA/v/1/xQAJgAmAPj/EQARABoAHQDy//L/BQAgAB0A+//1/xQA/v/1//X/+P8FAP7/+P/7/w4AFAAFAPL/+P8IAA4ACAAIAPX/CAARAPX/9f8FABcA+//d/+n/CwAUAOb/5v8UAP7/1//p/wAA/v/4/9f/yf/+/xcACwDX/9T/+//1//7//v/v/8//5v8RABQA9f/4//j/9f8AAAgA/v/d/wAABQAFAAUA+P8IAPv/7P8LACMABQD1/+z/EQARAP7//v/v/xEADgDs//7/KQAdAAIA3f8AACkA+/8CAA4AAgAIAPj//v8UABcACADS//X/KQALAN3/4/8LAA4ABQD7/xEAEQD4//7/EQAOAP7/AgAOAAsAFwALAPL/AgAFAAsAAgDv/wgALgARAPX/+/8FABQACAD7/+//7P8FABQAAgDg/+b/CwApABEA3f/s/w4ACwDy//X/EQAOAPv/JgAmAAIACAAFACMAIAAjAAsA8v/4/wgAFwACAAgACwAOAAIADgAUAO//6f/y/+P//v/4/9r/+P/y/+z/3f/D/8n/5v/d/9L/z//a/9r/1//d/9r/1P/d/+P/4P/U/9L/5v/+/+b/3f8LABcAGgDy//L/FwAdAP7/AABDACkAAgACACYAPQApACAAHQAgABEACwAdAB0ADgARACYAHQAOAAIACwAOABoAFwAOAAIA4P8AAAIA+//+//v/AgACAAUA+P/4//X/+//4/wUA+/8IABQA/v8XAAAABQAmAA4A/v8CABEAIAAaAAUABQAUAAgA+/8OACYAIAACAA4AEQD+//L/AAD+/wIABQDy//7//v8CAAUA7P/a/wAA+//v/+//4//s//v//v8AAAIA+P/g/93/5v/p//X/9f/m/9L/5v8FAAUA6f/P/+b/+//7/9T/2v/1/+P/+//v/9r/4P8AAPj/2v/a/wgACwDg/93//v/4//v/+//y/wgA/v8FAAUACAAAAPv/AAAaAA4ACwAUAPv/EQAgABEACwAIAAgADgAuACAACwD7/xcALgApABEAAAAaABQAFAAUADcAJgALAA4AIAA3AB0A+/8dACMAIAAXABcAIAD1//v/IAAjAAIA9f8CABQAFAD+/wAABQDs//L//v8OAOz/1//s//v/CAAFAPX/6f/v/+D/7P/X/wAAAADj/+b/2v/+//v/+P8AAPj//v8RAPL/6f8CAAUAAAAFAPj/9f8aABEADgDy//L/CwAXAPX/w//y/x0AKQD1/9T/8v8LABQA4P/P/9r/8v/m/8//9f/4//L/4//X/93/9f8FAPL/6f/v/wsAEQDy/93//v8XAA4A4P/U/wsAKQALAPX/7/8UACwACwD+/+z/DgAIAAsABQD+/xoACAAAABcAHQARAAsAFwA0APX/+/8sABcA/v8FAEAALAACAPX/DgA3ADoAGgAOAAsAAAAAABEAFAD7//X/DgAUAPX/5v8LAB0AAgDs/93//v8LAPL/1//7/wgA5v/p/93/7P/y/9f/7//s/+D/4P/m//X/8v/y/+P/1//v/wIADgAIAN3/6f/+/wUAAAAFAAAA+P8AAAUAAAD4/xQABQDv/wUACAAUABEA7P/s/wAAFAAXAAsAEQAAAAIAFwAUAAUA7/8CACkAGgARAA4ADgAsABoABQAAAAsAIAAIAAAA+P8FACAAIwAAAAUACwAOAAUA5v8FAAUAEQDy/+P/CwAOAP7/9f/1/+z/7P/y//7/7//a/+n/CAD4/+P/8v/1/+//7//4/+n/6f/v/+b/9f/4/wgACAD+/+n/7P/y/+//+/8IAPX/wP/1/xcA/v/y/wAACAD4/+b/8v8IAAUA8v/g/wIAHQAOAAUA/v8RACMADgALABEAAgAXABcADgAOAPv/CAAjACwAGgAIABQAIAApAA4A/v/7//j/FwAOAAAAAgALABcACwAAAAIA/v8RACAA8v/d/wgAIAAXAOn/4/8OAA4ACAD7/wIACwAOAAUAAAAAAAUAFwD4/+//CAAAAAgA5v8LACMA/v/1/wAAAADs//L/9f8AAPL/+P/+//j/4P/m/+z/DgAAAOP/0v/S//v/+//v/+D/4//s//j/6f/S/93/3f/j//L/4P/y/+z/9f/7/+D/7/8AAAAAAADv/+//8v8CABEACwD4//j/9f/1/yAAFwALAB0ADgAUAAUA/v8UACYAFwDy/w4AHQAOABoADgAaACwAFAAIAB0AJgAIAPX/CwAdAA4AGgAUAA4ACwAmABoAFwAgAB0A/v/s/wAAIwApAPj/+/8IACkALAAaAP7/AAAIAAsADgDy//v/EQAUAAUA+//+/wgAAgAIAPX/3f/+//7/8v/7//L/3f/G/+D//v8FAN3/xv8AAPj/3f/j//j/4P+9/93/6f/p/8z/1P/v//j/6f/g/wUA2v/P/+n//v/v/+n/4//y/w4AEQACAO//FAAgAAgA6f8CACMAJgAFAPX/IAAmACAAGgApACwACAD7/yMAOgAjAP7/BQApAAgA+P/4/wUAAAD4/wIA+P/4//L/9f/4//v/DgDp/8n/4//m//j/AgDy/wAA+//d//v/AAD7//v/9f/4/wUAAAD4/wsAAgAUAAIAGgAdAAgAAgAIAA4AAAAdACAA+P/j/xEALgAXAAgACwAOABcAFwAjAAgA+/8UACMA/v/7/y4AHQACAOz/AgA0AAUA+//+/wIAIwARABEACwD1/wUACwAjAAsA4/8FACAACwDp//v/CwAgAPX/5v/7/wgAFADv/+z/5v/+/wUAAADm/8z/7//7/+//6f/v/93/4P/p/+n/7P/J/8D/4P/+/+//1//P/+b/6f/1/wgA/v/g/9r/6f8IAAgA7//1/w4AFwD+/wgACwAaAB0ACAAAACMAIAACAAsAGgALAAUACwAAAAgABQD+/wsAEQD1//v/+/8CAAAA8v8AAAAA8v/s/+z/CwAaAPL/5v/1/wAAAADp/+D/CwAOAAgA6f/m/wgACwD+/+//CwALAOz/4/8IAAsA6f/y/x0AAgD4//j/CwAUAPj/FAAIAAAACAD4/+n/BQAmAAgACAARABQAIwAOAAUA/v8IAB0AIAAdABQAFAAgADcACAD+/y4AFwAAAPL/CAAuABoABQAOABQADgALABcACwDy//v/FwD1/+P/AAAXABoACAD4/+b/EQD7/9r/4//v/wAA7P/v//L/5v/m/+n/8v/a/93//v8AANf/3f/y/+b/7P/j/+n/7P/4//X/+//1/wAAEQD+/+n/5v/4/wgAAgAAAA4A+P8IABQAAAAFAA4AEQALAAgA+//m/wUAEQARAAgACwAaAAIAAgAOAAsA/v/+/wsAAgALAA4A4//d/xoAHQARAPX/7P8IAA4AEQAAAOb/9f8LABEA8v8CABoA7/8CAAsAIAAFAOb/3f/s/w4ABQD1/+P/7//4/wUA5v/m/wUA+P/S/9T/FwD4/9f/7P/+/xEA4//a//j/FwAIAAAAAgD7//v/7/8gAA4ABQACAPj//v8FAB0A7P/U/wsAIAAIAP7/BQAOAP7/HQAaAPj/7/8RADoAIAAOACMAQwAuAP7/EQAmADEAGgD+/xcANwAmAAIAAAARABoAIwAgAPj/DgAUAAIA7P/m/w4AFwAFAOD/5v8FAPv/7/8IAPv/5v/1/+D/+P/j//L/7//s/+z/4P/4/+z/3f/S//j/8v/p/8P/1P/d/+D/+P/a/9L/1//4/93/zP/J//v/FADa/93/8v8CAPL/5v8LAAsA7P/4/wgAAAD7/xQAJgARAOz/AgAgABEA9f/1/x0AFwAjAAgACwAgADcAKQDy/+//GgAdAAIACwD+/xoAJgAdAAsAEQApAB0A+/8CABcAIwApABEAIwAjACkADgApAEMAIAARACkASQAaABoAEQD4/yMAEQAFAP7/BQAIAO//6f/p//v/AAACAO//1//v/+D/yf/U/+n/3f/G/+P/7//S/9r/0v/p/9f/w//y/+b/4P/G/8P/4P/7/+z/yf/g//7//v/y/9T/7/8AAOP/1//s/xEAAADv//j/FAAUAPL/7/8FAAgAFAAUAAUAAAAaAB0AFAAOAPX/AAAmACwABQD+/ykAJgALABcAAgAUAD0ANAALAP7/IwA6ADEAAAARACkANwApAAAAGgAsAB0AHQAXABEAFAAgAAUA/v8UACMACwDp//v/EQAUAPv/CAAAAOP/7P/7//7/1//X/+//+//s/+n/8v/s/9T/z//y//j/2v/m/+//CADp//L/BQD+/wIA/v8AAAAAAAAAAAAAAAAAAAAAAAAAAAAAAAAAAAAAAAAAAAAAAAAAAAAAAAAAAAAAAAAAAAAAAAAAAAAAAAAAAAAAAAAAAAAAAAAAAAAAAAAAAAAAAAAAAAAAAAAAAAAAAAAAAAAAAAAAAAAAAAAAAAAAAAAAAAAAAAAAAAAAAAAAAAAAAAAAAAAAAAAAAAAAAAAAAAAAAAAAAAAAAAAAAAAAAAAAAAAAAAAAAAAAAAAAAAAAAAAAAAAAAAAAAAAAAAAAAAAAAAAAAAAAAAAAAAAAAAAAAAAAAAAAAAAAAAAAAAAAAAAAAAAAAAAAAAAAAAAAAAAAAAAAAAAAAAAAAAAAAAAAAAAAAAAAAAAAAAAAAAAAAAAAAAAAAAAAAAAAAAAAAAAAAAAAAAAAAAAAAAAAAAAAAAAAAAAAAAAAAAAAAAAAAAAAAAAAAAAAAAAAAAAAAAAAAAAAAA==\" type=\"audio/wav\" />\n",
              "                    Your browser does not support the audio element.\n",
              "                </audio>\n",
              "              "
            ],
            "text/plain": [
              "<IPython.lib.display.Audio object>"
            ]
          },
          "execution_count": 97,
          "metadata": {},
          "output_type": "execute_result"
        }
      ],
      "source": [
        "import IPython.display as ipd\n",
        "import numpy as np\n",
        "import random\n",
        "\n",
        "rand_int = random.randint(0, len(timit[\"train\"]))\n",
        "\n",
        "print(timit[\"train\"][rand_int][\"text\"])\n",
        "ipd.Audio(data=np.asarray(timit[\"train\"][rand_int][\"audio\"][\"audio\"]), autoplay=True, rate=16000)"
      ]
    },
    {
      "cell_type": "markdown",
      "metadata": {
        "id": "1MaL9J2dNVtG"
      },
      "source": [
        "It can be heard, that the speakers change along with their speaking rate, accent, etc. Overall, the recordings sound relatively clear though, which is to be expected from a read speech corpus.\n",
        "\n",
        "Let's do a final check that the data is correctly prepared, by printing the shape of the speech input, its transcription, and the corresponding sampling rate.\n",
        "\n",
        "**Note**: *You can click the following cell a couple of times to verify multiple samples.*"
      ]
    },
    {
      "cell_type": "code",
      "execution_count": 98,
      "metadata": {
        "colab": {
          "base_uri": "https://localhost:8080/"
        },
        "id": "1Po2g7YPuRTx",
        "outputId": "eb12b048-e624-48f3-d995-8145ed28658f"
      },
      "outputs": [
        {
          "name": "stdout",
          "output_type": "stream",
          "text": [
            "Target text: مخیر لیاقت چدھڑ نے کہا میں چل کر ننھیال کے ڈیرے تک ہولوں\n",
            "Input array shape: (92800,)\n",
            "Sampling rate: 16000\n"
          ]
        }
      ],
      "source": [
        "rand_int = random.randint(0, len(timit[\"train\"]))\n",
        "\n",
        "print(\"Target text:\", timit[\"train\"][rand_int][\"text\"])\n",
        "print(\"Input array shape:\", np.asarray(timit[\"train\"][rand_int][\"audio\"][\"audio\"]).shape)\n",
        "print(\"Sampling rate:\", timit[\"train\"][rand_int][\"audio\"][\"sampling_rate\"])"
      ]
    },
    {
      "cell_type": "markdown",
      "metadata": {
        "id": "M9teZcSwOBJ4"
      },
      "source": [
        "Good! Everything looks fine - the data is a 1-dimensional array, the sampling rate always corresponds to 16kHz, and the target text is normalized."
      ]
    },
    {
      "cell_type": "markdown",
      "metadata": {
        "id": "k3Pbn5WvOYZF"
      },
      "source": [
        "Finally, we can process the dataset to the format expected by the model for training. We will make use of the `map(...)` function.\n",
        "\n",
        "First, we load and resample the audio data, simply by calling `batch[\"audio\"]`.\n",
        "Second, we extract the `input_values` from the loaded audio file. In our case, the `Wav2Vec2Processor` only normalizes the data. For other speech models, however, this step can include more complex feature extraction, such as [Log-Mel feature extraction](https://en.wikipedia.org/wiki/Mel-frequency_cepstrum).\n",
        "Third, we encode the transcriptions to label ids.\n",
        "\n",
        "**Note**: This mapping function is a good example of how the `Wav2Vec2Processor` class should be used. In \"normal\" context, calling `processor(...)` is redirected to `Wav2Vec2FeatureExtractor`'s call method. When wrapping the processor into the `as_target_processor` context, however, the same method is redirected to `Wav2Vec2CTCTokenizer`'s call method.\n",
        "For more information please check the [docs](https://huggingface.co/transformers/master/model_doc/wav2vec2.html#transformers.Wav2Vec2Processor.__call__)."
      ]
    },
    {
      "cell_type": "code",
      "execution_count": 99,
      "metadata": {
        "id": "eJY7I0XAwe9p"
      },
      "outputs": [],
      "source": [
        "def prepare_dataset(batch):\n",
        "    audio = batch[\"audio\"]\n",
        "\n",
        "    # batched output is \"un-batched\" to ensure mapping is correct\n",
        "    batch[\"input_values\"] = processor(audio[\"audio\"], sampling_rate=audio[\"sampling_rate\"]).input_values[0]\n",
        "    batch[\"input_length\"] = len(batch[\"input_values\"])\n",
        "    \n",
        "    with processor.as_target_processor():\n",
        "        batch[\"labels\"] = processor(batch[\"text\"]).input_ids\n",
        "    return batch"
      ]
    },
    {
      "cell_type": "markdown",
      "metadata": {
        "id": "hVMZhH4-nP8-"
      },
      "source": [
        "Let's apply the data preparation function to all examples."
      ]
    },
    {
      "cell_type": "code",
      "execution_count": 100,
      "metadata": {
        "id": "-np9xYK-wl8q"
      },
      "outputs": [],
      "source": [
        "timit = timit.map(prepare_dataset, remove_columns=timit.column_names[\"train\"], num_proc=4)"
      ]
    },
    {
      "cell_type": "markdown",
      "metadata": {
        "id": "p_MuJSH8nTuQ"
      },
      "source": [
        "**Note**: Currently `datasets` make use of [`torchaudio`](https://pytorch.org/audio/stable/index.html) and [`librosa`](https://librosa.org/doc/latest/index.html) for audio loading and resampling. If you wish to implement your own costumized data loading/sampling, feel free to just make use of the `\"path\"` column instead and disregard the `\"audio\"` column."
      ]
    },
    {
      "cell_type": "markdown",
      "metadata": {
        "id": "M4J0bU1WsvAg"
      },
      "source": [
        "Long input sequences require a lot of memory. Since `Wav2Vec2` is based on `self-attention` the memory requirement scales quadratically with the input length for long input sequences (*cf.* with [this](https://www.reddit.com/r/MachineLearning/comments/genjvb/d_why_is_the_maximum_input_sequence_length_of/) reddit post). For this demo, let's filter all sequences that are longer than 4 seconds out of the training dataset."
      ]
    },
    {
      "cell_type": "code",
      "execution_count": 101,
      "metadata": {
        "id": "nqGobEPUvG3v"
      },
      "outputs": [],
      "source": [
        "# max_input_length_in_sec = 4.0\n",
        "# timit[\"train\"] = timit[\"train\"].filter(lambda x: x < max_input_length_in_sec * processor.feature_extractor.sampling_rate, input_columns=[\"input_length\"])"
      ]
    },
    {
      "cell_type": "markdown",
      "metadata": {
        "id": "25Genil2v_Br"
      },
      "source": [
        "Awesome, now we are ready to start training!"
      ]
    },
    {
      "cell_type": "markdown",
      "metadata": {
        "id": "gYlQkKVoRUos"
      },
      "source": [
        "## Training & Evaluation\n",
        "\n",
        "The data is processed so that we are ready to start setting up the training pipeline. We will make use of 🤗's [Trainer](https://huggingface.co/transformers/master/main_classes/trainer.html?highlight=trainer) for which we essentially need to do the following:\n",
        "\n",
        "- Define a data collator. In contrast to most NLP models, Wav2Vec2 has a much larger input length than output length. *E.g.*, a sample of input length 50000 has an output length of no more than 100. Given the large input sizes, it is much more efficient to pad the training batches dynamically meaning that all training samples should only be padded to the longest sample in their batch and not the overall longest sample. Therefore, fine-tuning Wav2Vec2 requires a special padding data collator, which we will define below\n",
        "\n",
        "- Evaluation metric. During training, the model should be evaluated on the word error rate. We should define a `compute_metrics` function accordingly\n",
        "\n",
        "- Load a pretrained checkpoint. We need to load a pretrained checkpoint and configure it correctly for training.\n",
        "\n",
        "- Define the training configuration.\n",
        "\n",
        "After having fine-tuned the model, we will correctly evaluate it on the test data and verify that it has indeed learned to correctly transcribe speech."
      ]
    },
    {
      "cell_type": "markdown",
      "metadata": {
        "id": "Slk403unUS91"
      },
      "source": [
        "### Set-up Trainer\n",
        "\n",
        "Let's start by defining the data collator. The code for the data collator was copied from [this example](https://github.com/huggingface/transformers/blob/9a06b6b11bdfc42eea08fa91d0c737d1863c99e3/examples/research_projects/wav2vec2/run_asr.py#L81).\n",
        "\n",
        "Without going into too many details, in contrast to the common data collators, this data collator treats the `input_values` and `labels` differently and thus applies to separate padding functions on them (again making use of Wav2Vec2's context manager). This is necessary because in speech input and output are of different modalities meaning that they should not be treated by the same padding function.\n",
        "Analogous to the common data collators, the padding tokens in the labels with `-100` so that those tokens are **not** taken into account when computing the loss."
      ]
    },
    {
      "cell_type": "code",
      "execution_count": 102,
      "metadata": {
        "id": "tborvC9hx88e"
      },
      "outputs": [],
      "source": [
        "import torch\n",
        "\n",
        "from dataclasses import dataclass, field\n",
        "from typing import Any, Dict, List, Optional, Union\n",
        "\n",
        "\n",
        "@dataclass\n",
        "class DataCollatorCTCWithPadding:\n",
        "    \"\"\"\n",
        "    Data collator that will dynamically pad the inputs received.\n",
        "    Args:\n",
        "        processor (:class:`~transformers.Wav2Vec2Processor`)\n",
        "            The processor used for proccessing the data.\n",
        "        padding (:obj:`bool`, :obj:`str` or :class:`~transformers.tokenization_utils_base.PaddingStrategy`, `optional`, defaults to :obj:`True`):\n",
        "            Select a strategy to pad the returned sequences (according to the model's padding side and padding index)\n",
        "            among:\n",
        "            * :obj:`True` or :obj:`'longest'`: Pad to the longest sequence in the batch (or no padding if only a single\n",
        "              sequence if provided).\n",
        "            * :obj:`'max_length'`: Pad to a maximum length specified with the argument :obj:`max_length` or to the\n",
        "              maximum acceptable input length for the model if that argument is not provided.\n",
        "            * :obj:`False` or :obj:`'do_not_pad'` (default): No padding (i.e., can output a batch with sequences of\n",
        "              different lengths).\n",
        "        max_length (:obj:`int`, `optional`):\n",
        "            Maximum length of the ``input_values`` of the returned list and optionally padding length (see above).\n",
        "        max_length_labels (:obj:`int`, `optional`):\n",
        "            Maximum length of the ``labels`` returned list and optionally padding length (see above).\n",
        "        pad_to_multiple_of (:obj:`int`, `optional`):\n",
        "            If set will pad the sequence to a multiple of the provided value.\n",
        "            This is especially useful to enable the use of Tensor Cores on NVIDIA hardware with compute capability >=\n",
        "            7.5 (Volta).\n",
        "    \"\"\"\n",
        "\n",
        "    processor: Wav2Vec2Processor\n",
        "    padding: Union[bool, str] = True\n",
        "    max_length: Optional[int] = None\n",
        "    max_length_labels: Optional[int] = None\n",
        "    pad_to_multiple_of: Optional[int] = None\n",
        "    pad_to_multiple_of_labels: Optional[int] = None\n",
        "\n",
        "    def __call__(self, features: List[Dict[str, Union[List[int], torch.Tensor]]]) -> Dict[str, torch.Tensor]:\n",
        "        # split inputs and labels since they have to be of different lenghts and need\n",
        "        # different padding methods\n",
        "        input_features = [{\"input_values\": feature[\"input_values\"]} for feature in features]\n",
        "        label_features = [{\"input_ids\": feature[\"labels\"]} for feature in features]\n",
        "\n",
        "        batch = self.processor.pad(\n",
        "            input_features,\n",
        "            padding=self.padding,\n",
        "            max_length=self.max_length,\n",
        "            pad_to_multiple_of=self.pad_to_multiple_of,\n",
        "            return_tensors=\"pt\",\n",
        "        ).to('cuda')\n",
        "        with self.processor.as_target_processor():\n",
        "            labels_batch = self.processor.pad(\n",
        "                label_features,\n",
        "                padding=self.padding,\n",
        "                max_length=self.max_length_labels,\n",
        "                pad_to_multiple_of=self.pad_to_multiple_of_labels,\n",
        "                return_tensors=\"pt\",\n",
        "            )\n",
        "\n",
        "        # replace padding with -100 to ignore loss correctly\n",
        "        labels = labels_batch[\"input_ids\"].masked_fill(labels_batch.attention_mask.ne(1), -100)\n",
        "\n",
        "        batch[\"labels\"] = labels\n",
        "\n",
        "        return batch"
      ]
    },
    {
      "cell_type": "code",
      "execution_count": 103,
      "metadata": {
        "id": "lbQf5GuZyQ4_"
      },
      "outputs": [],
      "source": [
        "data_collator = DataCollatorCTCWithPadding(processor=processor, padding=True)"
      ]
    },
    {
      "cell_type": "markdown",
      "metadata": {
        "id": "xO-Zdj-5cxXp"
      },
      "source": [
        "Next, the evaluation metric is defined. As mentioned earlier, the \n",
        "predominant metric in ASR is the word error rate (WER), hence we will use it in this notebook as well."
      ]
    },
    {
      "cell_type": "code",
      "execution_count": 104,
      "metadata": {
        "id": "9Xsux2gmyXso"
      },
      "outputs": [],
      "source": [
        "from datasets import load_metric\n",
        "wer_metric = load_metric(\"wer\")"
      ]
    },
    {
      "cell_type": "markdown",
      "metadata": {
        "id": "E1qZU5p-deqB"
      },
      "source": [
        "The model will return a sequence of logit vectors:\n",
        "$\\mathbf{y}_1, \\ldots, \\mathbf{y}_m$ with $\\mathbf{y}_1 = f_{\\theta}(x_1, \\ldots, x_n)[0]$ and $n >> m$.\n",
        "\n",
        "A logit vector $\\mathbf{y}_1$ contains the log-odds for each word in the vocabulary we defined earlier, thus $\\text{len}(\\mathbf{y}_i) =$ `config.vocab_size`. We are interested in the most likely prediction of the model and thus take the `argmax(...)` of the logits. Also, we transform the encoded labels back to the original string by replacing `-100` with the `pad_token_id` and decoding the ids while making sure that consecutive tokens are **not** grouped to the same token in CTC style ${}^1$."
      ]
    },
    {
      "cell_type": "code",
      "execution_count": 105,
      "metadata": {
        "id": "1XZ-kjweyTy_"
      },
      "outputs": [],
      "source": [
        "def compute_metrics(pred):\n",
        "    pred_logits = pred.predictions\n",
        "    pred_ids = np.argmax(pred_logits, axis=-1)\n",
        "\n",
        "    pred.label_ids[pred.label_ids == -100] = processor.tokenizer.pad_token_id\n",
        "\n",
        "    pred_str = processor.batch_decode(pred_ids)\n",
        "    # we do not want to group tokens when computing the metrics\n",
        "    label_str = processor.batch_decode(pred.label_ids, group_tokens=False)\n",
        "\n",
        "    wer = wer_metric.compute(predictions=pred_str, references=label_str)\n",
        "\n",
        "    return {\"wer\": wer}"
      ]
    },
    {
      "cell_type": "markdown",
      "metadata": {
        "id": "Xmgrx4bRwLIH"
      },
      "source": [
        "Now, we can load the pretrained `Wav2Vec2` checkpoint. The tokenizer's `pad_token_id` must be to define the model's `pad_token_id` or in the case of `Wav2Vec2ForCTC` also CTC's *blank token* ${}^2$. To save GPU memory, we enable PyTorch's [gradient checkpointing](https://pytorch.org/docs/stable/checkpoint.html) and also set the loss reduction to \"*mean*\"."
      ]
    },
    {
      "cell_type": "code",
      "execution_count": 106,
      "metadata": {
        "colab": {
          "base_uri": "https://localhost:8080/"
        },
        "id": "e7cqAWIayn6w",
        "outputId": "c9237111-0343-4f09-b3fb-03ff783ac3af"
      },
      "outputs": [
        {
          "name": "stderr",
          "output_type": "stream",
          "text": [
            "loading configuration file https://huggingface.co/facebook/wav2vec2-base/resolve/main/config.json from cache at /root/.cache/huggingface/transformers/c7746642f045322fd01afa31271dd490e677ea11999e68660a92619ec7c892b4.ce1f96bfaf3d7475cb8187b9668c7f19437ade45fb9ceb78d2b06a2cec198015\n",
            "/usr/local/lib/python3.7/dist-packages/transformers/configuration_utils.py:337: UserWarning: Passing `gradient_checkpointing` to a config initialization is deprecated and will be removed in v5 Transformers. Using `model.gradient_checkpointing_enable()` instead, or if you are using the `Trainer` API, pass `gradient_checkpointing=True` in your `TrainingArguments`.\n",
            "  \"Passing `gradient_checkpointing` to a config initialization is deprecated and will be removed in v5 \"\n",
            "Model config Wav2Vec2Config {\n",
            "  \"activation_dropout\": 0.0,\n",
            "  \"apply_spec_augment\": true,\n",
            "  \"architectures\": [\n",
            "    \"Wav2Vec2ForPreTraining\"\n",
            "  ],\n",
            "  \"attention_dropout\": 0.1,\n",
            "  \"bos_token_id\": 1,\n",
            "  \"classifier_proj_size\": 256,\n",
            "  \"codevector_dim\": 256,\n",
            "  \"contrastive_logits_temperature\": 0.1,\n",
            "  \"conv_bias\": false,\n",
            "  \"conv_dim\": [\n",
            "    512,\n",
            "    512,\n",
            "    512,\n",
            "    512,\n",
            "    512,\n",
            "    512,\n",
            "    512\n",
            "  ],\n",
            "  \"conv_kernel\": [\n",
            "    10,\n",
            "    3,\n",
            "    3,\n",
            "    3,\n",
            "    3,\n",
            "    2,\n",
            "    2\n",
            "  ],\n",
            "  \"conv_stride\": [\n",
            "    5,\n",
            "    2,\n",
            "    2,\n",
            "    2,\n",
            "    2,\n",
            "    2,\n",
            "    2\n",
            "  ],\n",
            "  \"ctc_loss_reduction\": \"mean\",\n",
            "  \"ctc_zero_infinity\": false,\n",
            "  \"diversity_loss_weight\": 0.1,\n",
            "  \"do_stable_layer_norm\": false,\n",
            "  \"eos_token_id\": 2,\n",
            "  \"feat_extract_activation\": \"gelu\",\n",
            "  \"feat_extract_norm\": \"group\",\n",
            "  \"feat_proj_dropout\": 0.1,\n",
            "  \"feat_quantizer_dropout\": 0.0,\n",
            "  \"final_dropout\": 0.0,\n",
            "  \"freeze_feat_extract_train\": true,\n",
            "  \"gradient_checkpointing\": true,\n",
            "  \"hidden_act\": \"gelu\",\n",
            "  \"hidden_dropout\": 0.1,\n",
            "  \"hidden_size\": 768,\n",
            "  \"initializer_range\": 0.02,\n",
            "  \"intermediate_size\": 3072,\n",
            "  \"layer_norm_eps\": 1e-05,\n",
            "  \"layerdrop\": 0.0,\n",
            "  \"mask_channel_length\": 10,\n",
            "  \"mask_channel_min_space\": 1,\n",
            "  \"mask_channel_other\": 0.0,\n",
            "  \"mask_channel_prob\": 0.0,\n",
            "  \"mask_channel_selection\": \"static\",\n",
            "  \"mask_feature_length\": 10,\n",
            "  \"mask_feature_prob\": 0.0,\n",
            "  \"mask_time_length\": 10,\n",
            "  \"mask_time_min_space\": 1,\n",
            "  \"mask_time_other\": 0.0,\n",
            "  \"mask_time_prob\": 0.05,\n",
            "  \"mask_time_selection\": \"static\",\n",
            "  \"model_type\": \"wav2vec2\",\n",
            "  \"no_mask_channel_overlap\": false,\n",
            "  \"no_mask_time_overlap\": false,\n",
            "  \"num_attention_heads\": 12,\n",
            "  \"num_codevector_groups\": 2,\n",
            "  \"num_codevectors_per_group\": 320,\n",
            "  \"num_conv_pos_embedding_groups\": 16,\n",
            "  \"num_conv_pos_embeddings\": 128,\n",
            "  \"num_feat_extract_layers\": 7,\n",
            "  \"num_hidden_layers\": 12,\n",
            "  \"num_negatives\": 100,\n",
            "  \"pad_token_id\": 51,\n",
            "  \"proj_codevector_dim\": 256,\n",
            "  \"transformers_version\": \"4.11.3\",\n",
            "  \"use_weighted_layer_sum\": false,\n",
            "  \"vocab_size\": 52\n",
            "}\n",
            "\n",
            "loading weights file https://huggingface.co/facebook/wav2vec2-base/resolve/main/pytorch_model.bin from cache at /root/.cache/huggingface/transformers/ef45231897ce572a660ebc5a63d3702f1a6041c4c5fb78cbec330708531939b3.fcae05302a685f7904c551c8ea571e8bc2a2c4a1777ea81ad66e47f7883a650a\n",
            "Some weights of the model checkpoint at facebook/wav2vec2-base were not used when initializing Wav2Vec2ForCTC: ['quantizer.codevectors', 'project_q.bias', 'project_hid.weight', 'project_hid.bias', 'project_q.weight', 'quantizer.weight_proj.bias', 'quantizer.weight_proj.weight']\n",
            "- This IS expected if you are initializing Wav2Vec2ForCTC from the checkpoint of a model trained on another task or with another architecture (e.g. initializing a BertForSequenceClassification model from a BertForPreTraining model).\n",
            "- This IS NOT expected if you are initializing Wav2Vec2ForCTC from the checkpoint of a model that you expect to be exactly identical (initializing a BertForSequenceClassification model from a BertForSequenceClassification model).\n",
            "Some weights of Wav2Vec2ForCTC were not initialized from the model checkpoint at facebook/wav2vec2-base and are newly initialized: ['lm_head.bias', 'lm_head.weight']\n",
            "You should probably TRAIN this model on a down-stream task to be able to use it for predictions and inference.\n"
          ]
        }
      ],
      "source": [
        "from transformers import Wav2Vec2ForCTC\n",
        "\n",
        "model = Wav2Vec2ForCTC.from_pretrained(\n",
        "    \"facebook/wav2vec2-base\", \n",
        "    ctc_loss_reduction=\"mean\", \n",
        "    pad_token_id=processor.tokenizer.pad_token_id,\n",
        "    vocab_size = 52,\n",
        ")"
      ]
    },
    {
      "cell_type": "markdown",
      "metadata": {
        "id": "1DwR3XLSzGDD"
      },
      "source": [
        "The first component of Wav2Vec2 consists of a stack of CNN layers that are used to extract acoustically meaningful - but contextually independent - features from the raw speech signal. This part of the model has already been sufficiently trained during pretrainind and as stated in the [paper](https://arxiv.org/abs/2006.11477) does not need to be fine-tuned anymore. \n",
        "Thus, we can set the `requires_grad` to `False` for all parameters of the *feature extraction* part."
      ]
    },
    {
      "cell_type": "markdown",
      "metadata": {
        "id": "lD4aGhQM0K-D"
      },
      "source": [
        "In a final step, we define all parameters related to training. \n",
        "To give more explanation on some of the parameters:\n",
        "- `group_by_length` makes training more efficient by grouping training samples of similar input length into one batch. This can significantly speed up training time by heavily reducing the overall number of useless padding tokens that are passed through the model\n",
        "- `learning_rate` and `weight_decay` were heuristically tuned until fine-tuning has become stable. Note that those parameters strongly depend on the Timit dataset and might be suboptimal for other speech datasets.\n",
        "\n",
        "For more explanations on other parameters, one can take a look at the [docs](https://huggingface.co/transformers/master/main_classes/trainer.html?highlight=trainer#trainingarguments).\n",
        "\n",
        "During training, a checkpoint will be uploaded asynchronously to the hub every 400 training steps. It allows you to also play around with the demo widget even while your model is still training.\n",
        "\n",
        "**Note**: If one does not want to upload the model checkpoints to the hub, simply set `push_to_hub=False`."
      ]
    },
    {
      "cell_type": "code",
      "execution_count": 107,
      "metadata": {
        "colab": {
          "base_uri": "https://localhost:8080/"
        },
        "id": "KbeKSV7uzGPP",
        "outputId": "cc60ba6b-8a40-4dca-b2a0-a745b88f0f15"
      },
      "outputs": [
        {
          "name": "stderr",
          "output_type": "stream",
          "text": [
            "PyTorch: setting up devices\n",
            "The default value for the training argument `--report_to` will change in v5 (from all installed integrations to none). In v5, you will need to use `--report_to all` to get the same behavior as now. You should start updating your code and make this info disappear :-).\n"
          ]
        }
      ],
      "source": [
        "from transformers import TrainingArguments\n",
        "\n",
        "training_args = TrainingArguments(\n",
        "  output_dir=repo_name,\n",
        "  group_by_length=True,\n",
        "  per_device_train_batch_size=16,\n",
        "  evaluation_strategy=\"steps\",\n",
        "  num_train_epochs=30,\n",
        "  fp16=True,\n",
        "  gradient_checkpointing=True,\n",
        "  save_steps=500,\n",
        "  eval_steps=500,\n",
        "  logging_steps=500,\n",
        "  learning_rate=1e-4,\n",
        "  weight_decay=0.005,\n",
        "  warmup_steps=1000,\n",
        "  save_total_limit=2,\n",
        "  push_to_hub=True,\n",
        "  dataloader_pin_memory = False,\n",
        ")"
      ]
    },
    {
      "cell_type": "markdown",
      "metadata": {
        "id": "OsW-WZcL1ZtN"
      },
      "source": [
        "Now, all instances can be passed to Trainer and we are ready to start training!"
      ]
    },
    {
      "cell_type": "code",
      "execution_count": 108,
      "metadata": {
        "colab": {
          "base_uri": "https://localhost:8080/"
        },
        "id": "rY7vBmFCPFgC",
        "outputId": "4e50e48f-04e4-4387-ec1b-1246ef83a185"
      },
      "outputs": [
        {
          "name": "stderr",
          "output_type": "stream",
          "text": [
            "/content/drive/MyDrive/Speech/Recordings/wav2vec2-base-timit-demo-colab is already a clone of https://huggingface.co/shumail/wav2vec2-base-timit-demo-colab. Make sure you pull the latest changes with `repo.git_pull()`.\n",
            "Using amp fp16 backend\n"
          ]
        }
      ],
      "source": [
        "from transformers import Trainer\n",
        "\n",
        "trainer = Trainer(\n",
        "    model=model,\n",
        "    data_collator=data_collator,\n",
        "    args=training_args,\n",
        "    compute_metrics=compute_metrics,\n",
        "    train_dataset=timit[\"train\"],\n",
        "    eval_dataset=timit[\"test\"],\n",
        "    tokenizer=processor.feature_extractor,\n",
        ")"
      ]
    },
    {
      "cell_type": "markdown",
      "metadata": {
        "id": "UoXBx1JAA0DX"
      },
      "source": [
        "[link text](https://)\n",
        "\n",
        "---\n",
        "\n",
        "${}^1$ To allow models to become independent of the speaker rate, in CTC, consecutive tokens that are identical are simply grouped as a single token. However, the encoded labels should not be grouped when decoding since they don't correspond to the predicted tokens of the model, which is why the `group_tokens=False` parameter has to be passed. If we wouldn't pass this parameter a word like `\"hello\"` would incorrectly be encoded, and decoded as `\"helo\"`.\n",
        "\n",
        "${}^2$ The blank token allows the model to predict a word, such as `\"hello\"` by forcing it to insert the blank token between the two l's. A CTC-conform prediction of `\"hello\"` of our model would be `[PAD] [PAD] \"h\" \"e\" \"e\" \"l\" \"l\" [PAD] \"l\" \"o\" \"o\" [PAD]`."
      ]
    },
    {
      "cell_type": "markdown",
      "metadata": {
        "id": "rpvZHM1xReIW"
      },
      "source": [
        "### Training"
      ]
    },
    {
      "cell_type": "markdown",
      "metadata": {
        "id": "j-3oKSzZ1hGq"
      },
      "source": [
        "Training will take between 90 and 270 minutes depending on the GPU allocated to this notebook. While the trained model yields satisfying results on *Timit*'s test data, it is by no means an optimally fine-tuned model. The purpose of this notebook is to demonstrate how Wav2Vec2's [base](https://huggingface.co/facebook/wav2vec2-base), [large](https://huggingface.co/facebook/wav2vec2-large), and [large-lv60](https://huggingface.co/facebook/wav2vec2-large-lv60) checkpoints can be fine-tuned on any English dataset.\n",
        "\n",
        "In case you want to use this google colab to fine-tune your model, you should make sure that your training doesn't stop due to inactivity. A simple hack to prevent this is to paste the following code into the console of this tab (*right mouse click -> inspect -> Console tab and insert code*)."
      ]
    },
    {
      "cell_type": "markdown",
      "metadata": {
        "id": "VYYAvgkW4P0m"
      },
      "source": [
        "```javascript\n",
        "function ConnectButton(){\n",
        "    console.log(\"Connect pushed\"); \n",
        "    document.querySelector(\"#top-toolbar > colab-connect-button\").shadowRoot.querySelector(\"#connect\").click() \n",
        "}\n",
        "setInterval(ConnectButton,60000);\n",
        "```"
      ]
    },
    {
      "cell_type": "markdown",
      "metadata": {
        "id": "PmY6yqd1zvzU"
      },
      "source": [
        "Depending on what GPU was allocated to your google colab it might be possible that you are seeing an `\"out-of-memory\"` error here. In this case, it's probably best to reduce `per_device_train_batch_size` to 16 or even less and eventually make use of [`gradient_accumulation`](https://huggingface.co/transformers/master/main_classes/trainer.html#trainingarguments)."
      ]
    },
    {
      "cell_type": "code",
      "execution_count": 109,
      "metadata": {
        "colab": {
          "base_uri": "https://localhost:8080/",
          "height": 818
        },
        "id": "_UEjJqGsQw24",
        "outputId": "203c5663-fe75-4244-c4d7-a775cfc09902"
      },
      "outputs": [
        {
          "name": "stderr",
          "output_type": "stream",
          "text": [
            "The following columns in the training set  don't have a corresponding argument in `Wav2Vec2ForCTC.forward` and have been ignored: input_length.\n",
            "***** Running training *****\n",
            "  Num examples = 566\n",
            "  Num Epochs = 30\n",
            "  Instantaneous batch size per device = 16\n",
            "  Total train batch size (w. parallel, distributed & accumulation) = 16\n",
            "  Gradient Accumulation steps = 1\n",
            "  Total optimization steps = 1080\n",
            "/usr/local/lib/python3.7/dist-packages/transformers/models/wav2vec2/modeling_wav2vec2.py:882: UserWarning: __floordiv__ is deprecated, and its behavior will change in a future version of pytorch. It currently rounds toward 0 (like the 'trunc' function NOT 'floor'). This results in incorrect rounding for negative values. To keep the current behavior, use torch.div(a, b, rounding_mode='trunc'), or for actual floor division, use torch.div(a, b, rounding_mode='floor').\n",
            "  return (input_length - kernel_size) // stride + 1\n"
          ]
        },
        {
          "data": {
            "text/html": [
              "\n",
              "    <div>\n",
              "      \n",
              "      <progress value='1080' max='1080' style='width:300px; height:20px; vertical-align: middle;'></progress>\n",
              "      [1080/1080 2:15:17, Epoch 30/30]\n",
              "    </div>\n",
              "    <table border=\"1\" class=\"dataframe\">\n",
              "  <thead>\n",
              "    <tr style=\"text-align: left;\">\n",
              "      <th>Step</th>\n",
              "      <th>Training Loss</th>\n",
              "      <th>Validation Loss</th>\n",
              "      <th>Wer</th>\n",
              "    </tr>\n",
              "  </thead>\n",
              "  <tbody>\n",
              "    <tr>\n",
              "      <td>500</td>\n",
              "      <td>4.152800</td>\n",
              "      <td>3.266063</td>\n",
              "      <td>1.000000</td>\n",
              "    </tr>\n",
              "    <tr>\n",
              "      <td>1000</td>\n",
              "      <td>3.236200</td>\n",
              "      <td>3.186995</td>\n",
              "      <td>1.000000</td>\n",
              "    </tr>\n",
              "  </tbody>\n",
              "</table><p>"
            ],
            "text/plain": [
              "<IPython.core.display.HTML object>"
            ]
          },
          "metadata": {},
          "output_type": "display_data"
        },
        {
          "name": "stderr",
          "output_type": "stream",
          "text": [
            "The following columns in the evaluation set  don't have a corresponding argument in `Wav2Vec2ForCTC.forward` and have been ignored: input_length.\n",
            "***** Running Evaluation *****\n",
            "  Num examples = 142\n",
            "  Batch size = 8\n",
            "Saving model checkpoint to wav2vec2-base-timit-demo-colab/checkpoint-500\n",
            "Configuration saved in wav2vec2-base-timit-demo-colab/checkpoint-500/config.json\n",
            "Model weights saved in wav2vec2-base-timit-demo-colab/checkpoint-500/pytorch_model.bin\n",
            "Configuration saved in wav2vec2-base-timit-demo-colab/checkpoint-500/preprocessor_config.json\n",
            "Configuration saved in wav2vec2-base-timit-demo-colab/preprocessor_config.json\n",
            "Several commits (2) will be pushed upstream.\n",
            "/usr/local/lib/python3.7/dist-packages/transformers/models/wav2vec2/modeling_wav2vec2.py:882: UserWarning: __floordiv__ is deprecated, and its behavior will change in a future version of pytorch. It currently rounds toward 0 (like the 'trunc' function NOT 'floor'). This results in incorrect rounding for negative values. To keep the current behavior, use torch.div(a, b, rounding_mode='trunc'), or for actual floor division, use torch.div(a, b, rounding_mode='floor').\n",
            "  return (input_length - kernel_size) // stride + 1\n",
            "The following columns in the evaluation set  don't have a corresponding argument in `Wav2Vec2ForCTC.forward` and have been ignored: input_length.\n",
            "***** Running Evaluation *****\n",
            "  Num examples = 142\n",
            "  Batch size = 8\n",
            "Saving model checkpoint to wav2vec2-base-timit-demo-colab/checkpoint-1000\n",
            "Configuration saved in wav2vec2-base-timit-demo-colab/checkpoint-1000/config.json\n",
            "Model weights saved in wav2vec2-base-timit-demo-colab/checkpoint-1000/pytorch_model.bin\n",
            "Configuration saved in wav2vec2-base-timit-demo-colab/checkpoint-1000/preprocessor_config.json\n",
            "/usr/local/lib/python3.7/dist-packages/transformers/models/wav2vec2/modeling_wav2vec2.py:882: UserWarning: __floordiv__ is deprecated, and its behavior will change in a future version of pytorch. It currently rounds toward 0 (like the 'trunc' function NOT 'floor'). This results in incorrect rounding for negative values. To keep the current behavior, use torch.div(a, b, rounding_mode='trunc'), or for actual floor division, use torch.div(a, b, rounding_mode='floor').\n",
            "  return (input_length - kernel_size) // stride + 1\n",
            "\n",
            "\n",
            "Training completed. Do not forget to share your model on huggingface.co/models =)\n",
            "\n",
            "\n"
          ]
        },
        {
          "data": {
            "text/plain": [
              "TrainOutput(global_step=1080, training_loss=3.6607903374565973, metrics={'train_runtime': 8131.4457, 'train_samples_per_second': 2.088, 'train_steps_per_second': 0.133, 'total_flos': 1.133180623017714e+18, 'train_loss': 3.6607903374565973, 'epoch': 30.0})"
            ]
          },
          "execution_count": 109,
          "metadata": {},
          "output_type": "execute_result"
        }
      ],
      "source": [
        "trainer.train()"
      ]
    },
    {
      "cell_type": "markdown",
      "metadata": {
        "id": "UCyp-v3n4Zlt"
      },
      "source": [
        "The final WER should be around 0.3 which is reasonable given that state-of-the-art phoneme error rates (PER) are just below 0.1 (see [leaderboard](https://paperswithcode.com/sota/speech-recognition-on-timit)) and that WER is usually worse than PER.\n",
        "\n",
        "You can now upload the result of the training to the Hub, just execute this instruction:"
      ]
    },
    {
      "cell_type": "code",
      "execution_count": 1,
      "metadata": {
        "colab": {
          "base_uri": "https://localhost:8080/",
          "height": 166
        },
        "id": "JYGQYBhHNsvj",
        "outputId": "cedb2f01-45ab-4f50-91ef-56145ab9cf03"
      },
      "outputs": [
        {
          "ename": "NameError",
          "evalue": "ignored",
          "output_type": "error",
          "traceback": [
            "\u001b[0;31m---------------------------------------------------------------------------\u001b[0m",
            "\u001b[0;31mNameError\u001b[0m                                 Traceback (most recent call last)",
            "\u001b[0;32m<ipython-input-1-8fcc5527db7e>\u001b[0m in \u001b[0;36m<module>\u001b[0;34m()\u001b[0m\n\u001b[0;32m----> 1\u001b[0;31m \u001b[0mtrainer\u001b[0m\u001b[0;34m.\u001b[0m\u001b[0mpush_to_hub\u001b[0m\u001b[0;34m(\u001b[0m\u001b[0;34m)\u001b[0m\u001b[0;34m\u001b[0m\u001b[0;34m\u001b[0m\u001b[0m\n\u001b[0m",
            "\u001b[0;31mNameError\u001b[0m: name 'trainer' is not defined"
          ]
        }
      ],
      "source": [
        "trainer.push_to_hub()"
      ]
    },
    {
      "cell_type": "markdown",
      "metadata": {
        "id": "djzwS5WeNu16"
      },
      "source": [
        "You can now share this model with all your friends, family, favorite pets: they can all load it with the identifier \"your-username/the-name-you-picked\" so for instance:"
      ]
    },
    {
      "cell_type": "markdown",
      "metadata": {
        "id": "Adm0LngNNxq7"
      },
      "source": [
        "```python\n",
        "from transformers import AutoModelForCTC, Wav2Vec2Processor\n",
        "\n",
        "model = AutoModelForCTC.from_pretrained(\"patrickvonplaten/wav2vec2-base-timit-demo-colab\")\n",
        "processor = Wav2Vec2Processor.from_pretrained(\"patrickvonplaten/wav2vec2-base-timit-demo-colab\")\n",
        "```"
      ]
    },
    {
      "cell_type": "markdown",
      "metadata": {
        "id": "nD4XP5IHncsY"
      },
      "source": [
        "### Evaluate\n",
        "\n",
        "In the final part, we run our model on some of the validation data to get a feeling for how well it works.\n",
        "\n",
        "Let's load the `processor` and `model`."
      ]
    },
    {
      "cell_type": "code",
      "execution_count": 56,
      "metadata": {
        "colab": {
          "base_uri": "https://localhost:8080/",
          "height": 703,
          "referenced_widgets": [
            "fd1375b9d1364099b64f9fc8489eba62",
            "4290faa05b0f40c4ad5f0682045b19d2",
            "9de3788167fe4f40b73fc20a934ca27b",
            "fe6af628e1b54d97a01df5a108f31533",
            "81237b951c97493c887a2769731369a8",
            "a44cb99e43cd4678a2dd523681c737b4",
            "299e3defda0147bdbd33cf46038e2898",
            "389d9a4061734dedb2a52fb0d19b9a99",
            "2a5377e77f0744c99586fb5661923abf",
            "4ecd0f4e2b2444ac87ab1c96da38bc12",
            "fd669901d13040b0827ddf22910fcb58",
            "e3282c14aa534b4b8845c7c4cdc64384",
            "6972e66d621748588074406cc0338724",
            "29ab5a3aa790418d8f1916b0512143b5",
            "ee80abb9ef8c4264b851d7c7ce908ed8",
            "96a100523baf4366b6aa77329d120dc2",
            "4160a17a6ddd46d7a30ffe39c3c0976f",
            "415702055d824772b603c4701a6ea850",
            "df1dc2ef3123452e992ed6f04aed80c2",
            "a9bcb92e26ce4fad82d45311d3ca15b8",
            "a4521f2cc713421194e022ef5c81bc0a",
            "3094549e969141f69d482ef61cb882f0",
            "5555718f9f2349318a8230525bab7aee",
            "de4f0a28d85c41b6862bb926cc1e950a",
            "0db6e84fa2bf465cb8b150db3addfc8c",
            "c0b42eef27954665b08e96e1cfd75f5c",
            "3b7d10796bd040f28ebb819b54233ef1",
            "49ec9cd68a26459fbe524d22457fbfb3",
            "15905c70ab6f4e5a9c674f672534e4e6",
            "52626666dee447ca95bd82f13b5fe4c9",
            "9df95193667a4554862777a8a49e807c",
            "af4179db9e4d48908c812a08476cf75a",
            "10912740bc204d7b8aae9c8818b8df7c",
            "7f015e7351df4204a1bef56fabc37559",
            "a953ec443ac2483f8e22b89e23317508",
            "46010f0757c84cc78ed1cb48ebdd794d",
            "43adbe50349749e1a38e5dc30160c0a7",
            "3602502578b44cf782204c875794ea70",
            "b6f3700c6afc4e1da1fe69738a5d6f98",
            "a7757d815aac40b4952bbd539e41d883",
            "cef2ef24c0484a678bb8937603d72b14",
            "b68d05c1e17e481eafeedc63c4851e6b",
            "8ed5a8bc375d437bacbb0f92f45aba64",
            "20e50683bd49420e9ef2aae6c0085ad1"
          ]
        },
        "id": "-rg0USDCnbo6",
        "outputId": "ae0fd839-0375-4193-c47b-342eca9a8639"
      },
      "outputs": [
        {
          "name": "stderr",
          "output_type": "stream",
          "text": [
            "https://huggingface.co/shumail/wav2vec2-base-timit-demo-colab/resolve/main/preprocessor_config.json not found in cache or force_download set to True, downloading to /root/.cache/huggingface/transformers/tmpfozc1oq_\n"
          ]
        },
        {
          "data": {
            "application/vnd.jupyter.widget-view+json": {
              "model_id": "fd1375b9d1364099b64f9fc8489eba62",
              "version_major": 2,
              "version_minor": 0
            },
            "text/plain": [
              "Downloading:   0%|          | 0.00/215 [00:00<?, ?B/s]"
            ]
          },
          "metadata": {},
          "output_type": "display_data"
        },
        {
          "name": "stderr",
          "output_type": "stream",
          "text": [
            "storing https://huggingface.co/shumail/wav2vec2-base-timit-demo-colab/resolve/main/preprocessor_config.json in cache at /root/.cache/huggingface/transformers/c3b5e089dda92a66d4613cf95b3c55660914997ebe0253f87ab11482752f397b.0e3e6656f99a6f7b9eddd943463eb7f34363640fce9e87b047ebd50d4b112b50\n",
            "creating metadata file for /root/.cache/huggingface/transformers/c3b5e089dda92a66d4613cf95b3c55660914997ebe0253f87ab11482752f397b.0e3e6656f99a6f7b9eddd943463eb7f34363640fce9e87b047ebd50d4b112b50\n",
            "loading feature extractor configuration file https://huggingface.co/shumail/wav2vec2-base-timit-demo-colab/resolve/main/preprocessor_config.json from cache at /root/.cache/huggingface/transformers/c3b5e089dda92a66d4613cf95b3c55660914997ebe0253f87ab11482752f397b.0e3e6656f99a6f7b9eddd943463eb7f34363640fce9e87b047ebd50d4b112b50\n",
            "Feature extractor Wav2Vec2FeatureExtractor {\n",
            "  \"do_normalize\": true,\n",
            "  \"feature_extractor_type\": \"Wav2Vec2FeatureExtractor\",\n",
            "  \"feature_size\": 1,\n",
            "  \"padding_side\": \"right\",\n",
            "  \"padding_value\": 0.0,\n",
            "  \"return_attention_mask\": false,\n",
            "  \"sampling_rate\": 16000\n",
            "}\n",
            "\n",
            "https://huggingface.co/shumail/wav2vec2-base-timit-demo-colab/resolve/main/vocab.json not found in cache or force_download set to True, downloading to /root/.cache/huggingface/transformers/tmp2eheil5i\n"
          ]
        },
        {
          "data": {
            "application/vnd.jupyter.widget-view+json": {
              "model_id": "e3282c14aa534b4b8845c7c4cdc64384",
              "version_major": 2,
              "version_minor": 0
            },
            "text/plain": [
              "Downloading:   0%|          | 0.00/516 [00:00<?, ?B/s]"
            ]
          },
          "metadata": {},
          "output_type": "display_data"
        },
        {
          "name": "stderr",
          "output_type": "stream",
          "text": [
            "storing https://huggingface.co/shumail/wav2vec2-base-timit-demo-colab/resolve/main/vocab.json in cache at /root/.cache/huggingface/transformers/aeb3738f149d709235d1a72db465c7aae871288a86c5bd3b2a7f3459a92becf3.b3c63458d0159d0027c3d2104c0cdf33fda5905c233de151f46c90ea6f00c97d\n",
            "creating metadata file for /root/.cache/huggingface/transformers/aeb3738f149d709235d1a72db465c7aae871288a86c5bd3b2a7f3459a92becf3.b3c63458d0159d0027c3d2104c0cdf33fda5905c233de151f46c90ea6f00c97d\n",
            "https://huggingface.co/shumail/wav2vec2-base-timit-demo-colab/resolve/main/tokenizer_config.json not found in cache or force_download set to True, downloading to /root/.cache/huggingface/transformers/tmpo8xc1_pj\n"
          ]
        },
        {
          "data": {
            "application/vnd.jupyter.widget-view+json": {
              "model_id": "5555718f9f2349318a8230525bab7aee",
              "version_major": 2,
              "version_minor": 0
            },
            "text/plain": [
              "Downloading:   0%|          | 0.00/181 [00:00<?, ?B/s]"
            ]
          },
          "metadata": {},
          "output_type": "display_data"
        },
        {
          "name": "stderr",
          "output_type": "stream",
          "text": [
            "storing https://huggingface.co/shumail/wav2vec2-base-timit-demo-colab/resolve/main/tokenizer_config.json in cache at /root/.cache/huggingface/transformers/edb9b5dde251f5e919c0012d7bd2a0690701eb5170ac6160e97e967690af68d8.9a832b91e3d317e7bec01bab5134265b75f2d6b05a270d0140d8a116c51b8591\n",
            "creating metadata file for /root/.cache/huggingface/transformers/edb9b5dde251f5e919c0012d7bd2a0690701eb5170ac6160e97e967690af68d8.9a832b91e3d317e7bec01bab5134265b75f2d6b05a270d0140d8a116c51b8591\n",
            "https://huggingface.co/shumail/wav2vec2-base-timit-demo-colab/resolve/main/special_tokens_map.json not found in cache or force_download set to True, downloading to /root/.cache/huggingface/transformers/tmp30wy7tj1\n"
          ]
        },
        {
          "data": {
            "application/vnd.jupyter.widget-view+json": {
              "model_id": "7f015e7351df4204a1bef56fabc37559",
              "version_major": 2,
              "version_minor": 0
            },
            "text/plain": [
              "Downloading:   0%|          | 0.00/85.0 [00:00<?, ?B/s]"
            ]
          },
          "metadata": {},
          "output_type": "display_data"
        },
        {
          "name": "stderr",
          "output_type": "stream",
          "text": [
            "storing https://huggingface.co/shumail/wav2vec2-base-timit-demo-colab/resolve/main/special_tokens_map.json in cache at /root/.cache/huggingface/transformers/0c8832cc0e7d7d3075f9d33770977a267568f1bc925ffd100348d3e11e0b1435.a21d51735cf8667bcd610f057e88548d5d6a381401f6b4501a8bc6c1a9dc8498\n",
            "creating metadata file for /root/.cache/huggingface/transformers/0c8832cc0e7d7d3075f9d33770977a267568f1bc925ffd100348d3e11e0b1435.a21d51735cf8667bcd610f057e88548d5d6a381401f6b4501a8bc6c1a9dc8498\n",
            "loading file https://huggingface.co/shumail/wav2vec2-base-timit-demo-colab/resolve/main/vocab.json from cache at /root/.cache/huggingface/transformers/aeb3738f149d709235d1a72db465c7aae871288a86c5bd3b2a7f3459a92becf3.b3c63458d0159d0027c3d2104c0cdf33fda5905c233de151f46c90ea6f00c97d\n",
            "loading file https://huggingface.co/shumail/wav2vec2-base-timit-demo-colab/resolve/main/tokenizer_config.json from cache at /root/.cache/huggingface/transformers/edb9b5dde251f5e919c0012d7bd2a0690701eb5170ac6160e97e967690af68d8.9a832b91e3d317e7bec01bab5134265b75f2d6b05a270d0140d8a116c51b8591\n",
            "loading file https://huggingface.co/shumail/wav2vec2-base-timit-demo-colab/resolve/main/added_tokens.json from cache at None\n",
            "loading file https://huggingface.co/shumail/wav2vec2-base-timit-demo-colab/resolve/main/special_tokens_map.json from cache at /root/.cache/huggingface/transformers/0c8832cc0e7d7d3075f9d33770977a267568f1bc925ffd100348d3e11e0b1435.a21d51735cf8667bcd610f057e88548d5d6a381401f6b4501a8bc6c1a9dc8498\n",
            "loading file https://huggingface.co/shumail/wav2vec2-base-timit-demo-colab/resolve/main/tokenizer.json from cache at None\n",
            "Adding <s> to the vocabulary\n",
            "Adding </s> to the vocabulary\n",
            "Special tokens have been added in the vocabulary, make sure the associated word embeddings are fine-tuned or trained.\n"
          ]
        }
      ],
      "source": [
        "processor = Wav2Vec2Processor.from_pretrained(username + \"/wav2vec2-base-timit-demo-colab\")"
      ]
    },
    {
      "cell_type": "code",
      "execution_count": 57,
      "metadata": {
        "colab": {
          "base_uri": "https://localhost:8080/",
          "height": 1000,
          "referenced_widgets": [
            "533b9e0231564d479e64e4f5335c6d89",
            "3796f42eca264b859e872b8356091370",
            "c42160055dd84bd48aa86fcd9e850339",
            "f5bd30f3cf9147bf9a2a4fdf2c9c4770",
            "e1fdc4939c48409eb380c0b227a47714",
            "ae6d9f3b649f4692941ff9cbbf18af07",
            "76dde68fefa744058dc154e6325dabab",
            "bc0631e768be441280250e0b2cafd6a1",
            "f9737a36c8a34ec7827c484445587de5",
            "ed1ac37177704df088112add285c285c",
            "509b46da21a94246adc513c8c50d2cc9",
            "cffa134caeb34744ba18ba6ddfda9b05",
            "136df86150bf4bb5a36457866d5d02e3",
            "3efff73b85724aacbba618099fe04eb9",
            "1e4be9e58b484528a66e4a7d61c897f6",
            "aff551819c68461a8c7035450fe4e397",
            "41a59374fa4d466bab15d3a6ff3d9a66",
            "da0d21f5185a407fa6ed8cd2c5230682",
            "45784a539edc4267beb9da5c146f13ce",
            "b17d95be5fa94d27ae80a9dc6a60aa33",
            "65de422f46154c50b39eae49dc2e4d31",
            "eedbffd063cd487eaf1e99c93394999d"
          ]
        },
        "id": "sSpFW3pDn23P",
        "outputId": "818f9204-cb6b-4ac0-c591-447a40a21d88"
      },
      "outputs": [
        {
          "name": "stderr",
          "output_type": "stream",
          "text": [
            "https://huggingface.co/shumail/wav2vec2-base-timit-demo-colab/resolve/main/config.json not found in cache or force_download set to True, downloading to /root/.cache/huggingface/transformers/tmp1no6nrn1\n"
          ]
        },
        {
          "data": {
            "application/vnd.jupyter.widget-view+json": {
              "model_id": "533b9e0231564d479e64e4f5335c6d89",
              "version_major": 2,
              "version_minor": 0
            },
            "text/plain": [
              "Downloading:   0%|          | 0.00/1.89k [00:00<?, ?B/s]"
            ]
          },
          "metadata": {},
          "output_type": "display_data"
        },
        {
          "name": "stderr",
          "output_type": "stream",
          "text": [
            "storing https://huggingface.co/shumail/wav2vec2-base-timit-demo-colab/resolve/main/config.json in cache at /root/.cache/huggingface/transformers/a37fc087bd06638e745ba052cd240affbda8a3c66d23392d515b863cc0b8c720.354e00ee439836ce42b521c3f1536ae217945dcd397ceb8a454b6ce035f5c622\n",
            "creating metadata file for /root/.cache/huggingface/transformers/a37fc087bd06638e745ba052cd240affbda8a3c66d23392d515b863cc0b8c720.354e00ee439836ce42b521c3f1536ae217945dcd397ceb8a454b6ce035f5c622\n",
            "loading configuration file https://huggingface.co/shumail/wav2vec2-base-timit-demo-colab/resolve/main/config.json from cache at /root/.cache/huggingface/transformers/a37fc087bd06638e745ba052cd240affbda8a3c66d23392d515b863cc0b8c720.354e00ee439836ce42b521c3f1536ae217945dcd397ceb8a454b6ce035f5c622\n",
            "Model config Wav2Vec2Config {\n",
            "  \"_name_or_path\": \"facebook/wav2vec2-base\",\n",
            "  \"activation_dropout\": 0.0,\n",
            "  \"apply_spec_augment\": true,\n",
            "  \"architectures\": [\n",
            "    \"Wav2Vec2ForCTC\"\n",
            "  ],\n",
            "  \"attention_dropout\": 0.1,\n",
            "  \"bos_token_id\": 1,\n",
            "  \"classifier_proj_size\": 256,\n",
            "  \"codevector_dim\": 256,\n",
            "  \"contrastive_logits_temperature\": 0.1,\n",
            "  \"conv_bias\": false,\n",
            "  \"conv_dim\": [\n",
            "    512,\n",
            "    512,\n",
            "    512,\n",
            "    512,\n",
            "    512,\n",
            "    512,\n",
            "    512\n",
            "  ],\n",
            "  \"conv_kernel\": [\n",
            "    10,\n",
            "    3,\n",
            "    3,\n",
            "    3,\n",
            "    3,\n",
            "    2,\n",
            "    2\n",
            "  ],\n",
            "  \"conv_stride\": [\n",
            "    5,\n",
            "    2,\n",
            "    2,\n",
            "    2,\n",
            "    2,\n",
            "    2,\n",
            "    2\n",
            "  ],\n",
            "  \"ctc_loss_reduction\": \"mean\",\n",
            "  \"ctc_zero_infinity\": false,\n",
            "  \"diversity_loss_weight\": 0.1,\n",
            "  \"do_stable_layer_norm\": false,\n",
            "  \"eos_token_id\": 2,\n",
            "  \"feat_extract_activation\": \"gelu\",\n",
            "  \"feat_extract_norm\": \"group\",\n",
            "  \"feat_proj_dropout\": 0.1,\n",
            "  \"feat_quantizer_dropout\": 0.0,\n",
            "  \"final_dropout\": 0.0,\n",
            "  \"freeze_feat_extract_train\": true,\n",
            "  \"hidden_act\": \"gelu\",\n",
            "  \"hidden_dropout\": 0.1,\n",
            "  \"hidden_size\": 768,\n",
            "  \"initializer_range\": 0.02,\n",
            "  \"intermediate_size\": 3072,\n",
            "  \"layer_norm_eps\": 1e-05,\n",
            "  \"layerdrop\": 0.0,\n",
            "  \"mask_channel_length\": 10,\n",
            "  \"mask_channel_min_space\": 1,\n",
            "  \"mask_channel_other\": 0.0,\n",
            "  \"mask_channel_prob\": 0.0,\n",
            "  \"mask_channel_selection\": \"static\",\n",
            "  \"mask_feature_length\": 10,\n",
            "  \"mask_feature_prob\": 0.0,\n",
            "  \"mask_time_length\": 10,\n",
            "  \"mask_time_min_space\": 1,\n",
            "  \"mask_time_other\": 0.0,\n",
            "  \"mask_time_prob\": 0.05,\n",
            "  \"mask_time_selection\": \"static\",\n",
            "  \"model_type\": \"wav2vec2\",\n",
            "  \"no_mask_channel_overlap\": false,\n",
            "  \"no_mask_time_overlap\": false,\n",
            "  \"num_attention_heads\": 12,\n",
            "  \"num_codevector_groups\": 2,\n",
            "  \"num_codevectors_per_group\": 320,\n",
            "  \"num_conv_pos_embedding_groups\": 16,\n",
            "  \"num_conv_pos_embeddings\": 128,\n",
            "  \"num_feat_extract_layers\": 7,\n",
            "  \"num_hidden_layers\": 12,\n",
            "  \"num_negatives\": 100,\n",
            "  \"pad_token_id\": 51,\n",
            "  \"proj_codevector_dim\": 256,\n",
            "  \"torch_dtype\": \"float32\",\n",
            "  \"transformers_version\": \"4.11.3\",\n",
            "  \"use_weighted_layer_sum\": false,\n",
            "  \"vocab_size\": 52\n",
            "}\n",
            "\n",
            "https://huggingface.co/shumail/wav2vec2-base-timit-demo-colab/resolve/main/pytorch_model.bin not found in cache or force_download set to True, downloading to /root/.cache/huggingface/transformers/tmpfsupqrcx\n"
          ]
        },
        {
          "data": {
            "application/vnd.jupyter.widget-view+json": {
              "model_id": "cffa134caeb34744ba18ba6ddfda9b05",
              "version_major": 2,
              "version_minor": 0
            },
            "text/plain": [
              "Downloading:   0%|          | 0.00/360M [00:00<?, ?B/s]"
            ]
          },
          "metadata": {},
          "output_type": "display_data"
        },
        {
          "name": "stderr",
          "output_type": "stream",
          "text": [
            "storing https://huggingface.co/shumail/wav2vec2-base-timit-demo-colab/resolve/main/pytorch_model.bin in cache at /root/.cache/huggingface/transformers/feb47ea6f4a4cf58e4231f2a0b05194b3c25af5a1a8b0144f98f0e9ff1fab2c0.c9cb118ca9ec8274a4a0010cc50dfb0c341b6aed9409b3b9d808dd131ea460bd\n",
            "creating metadata file for /root/.cache/huggingface/transformers/feb47ea6f4a4cf58e4231f2a0b05194b3c25af5a1a8b0144f98f0e9ff1fab2c0.c9cb118ca9ec8274a4a0010cc50dfb0c341b6aed9409b3b9d808dd131ea460bd\n",
            "loading weights file https://huggingface.co/shumail/wav2vec2-base-timit-demo-colab/resolve/main/pytorch_model.bin from cache at /root/.cache/huggingface/transformers/feb47ea6f4a4cf58e4231f2a0b05194b3c25af5a1a8b0144f98f0e9ff1fab2c0.c9cb118ca9ec8274a4a0010cc50dfb0c341b6aed9409b3b9d808dd131ea460bd\n",
            "All model checkpoint weights were used when initializing Wav2Vec2ForCTC.\n",
            "\n",
            "All the weights of Wav2Vec2ForCTC were initialized from the model checkpoint at shumail/wav2vec2-base-timit-demo-colab.\n",
            "If your task is similar to the task the model of the checkpoint was trained on, you can already use Wav2Vec2ForCTC for predictions without further training.\n"
          ]
        }
      ],
      "source": [
        "model = Wav2Vec2ForCTC.from_pretrained(username + \"/wav2vec2-base-timit-demo-colab\")"
      ]
    },
    {
      "cell_type": "markdown",
      "metadata": {
        "id": "TUuZpB0v5jn_"
      },
      "source": [
        "Now, we will make use of the `map(...)` function to predict the transcription of every test sample and to save the prediction in the dataset itself. We will call the resulting dictionary `\"results\"`. \n",
        "\n",
        "**Note**: we evaluate the test data set with `batch_size=1` on purpose due to this [issue](https://github.com/pytorch/fairseq/issues/3227). Since padded inputs don't yield the exact same output as non-padded inputs, a better WER can be achieved by not padding the input at all."
      ]
    },
    {
      "cell_type": "code",
      "execution_count": 58,
      "metadata": {
        "id": "40naJl53n7jT"
      },
      "outputs": [],
      "source": [
        "def map_to_result(batch):\n",
        "  with torch.no_grad():\n",
        "    input_values = torch.tensor(batch[\"input_values\"], device=\"cuda\").unsqueeze(0)\n",
        "    logits = model(input_values).logits\n",
        "\n",
        "  pred_ids = torch.argmax(logits, dim=-1)\n",
        "  # print(logits)\n",
        "  batch[\"pred_str\"] = processor.batch_decode(pred_ids)[0]\n",
        "  batch[\"text\"] = processor.decode(batch[\"labels\"], group_tokens=False)\n",
        "  \n",
        "  return batch"
      ]
    },
    {
      "cell_type": "code",
      "execution_count": 59,
      "metadata": {
        "colab": {
          "base_uri": "https://localhost:8080/"
        },
        "id": "VFahrpLSe8b4",
        "outputId": "20acc9ab-12db-4f90-85b4-07470584b1ec"
      },
      "outputs": [
        {
          "data": {
            "text/plain": [
              "Wav2Vec2ForCTC(\n",
              "  (wav2vec2): Wav2Vec2Model(\n",
              "    (feature_extractor): Wav2Vec2FeatureExtractor(\n",
              "      (conv_layers): ModuleList(\n",
              "        (0): Wav2Vec2GroupNormConvLayer(\n",
              "          (conv): Conv1d(1, 512, kernel_size=(10,), stride=(5,), bias=False)\n",
              "          (layer_norm): GroupNorm(512, 512, eps=1e-05, affine=True)\n",
              "        )\n",
              "        (1): Wav2Vec2NoLayerNormConvLayer(\n",
              "          (conv): Conv1d(512, 512, kernel_size=(3,), stride=(2,), bias=False)\n",
              "        )\n",
              "        (2): Wav2Vec2NoLayerNormConvLayer(\n",
              "          (conv): Conv1d(512, 512, kernel_size=(3,), stride=(2,), bias=False)\n",
              "        )\n",
              "        (3): Wav2Vec2NoLayerNormConvLayer(\n",
              "          (conv): Conv1d(512, 512, kernel_size=(3,), stride=(2,), bias=False)\n",
              "        )\n",
              "        (4): Wav2Vec2NoLayerNormConvLayer(\n",
              "          (conv): Conv1d(512, 512, kernel_size=(3,), stride=(2,), bias=False)\n",
              "        )\n",
              "        (5): Wav2Vec2NoLayerNormConvLayer(\n",
              "          (conv): Conv1d(512, 512, kernel_size=(2,), stride=(2,), bias=False)\n",
              "        )\n",
              "        (6): Wav2Vec2NoLayerNormConvLayer(\n",
              "          (conv): Conv1d(512, 512, kernel_size=(2,), stride=(2,), bias=False)\n",
              "        )\n",
              "      )\n",
              "    )\n",
              "    (feature_projection): Wav2Vec2FeatureProjection(\n",
              "      (layer_norm): LayerNorm((512,), eps=1e-05, elementwise_affine=True)\n",
              "      (projection): Linear(in_features=512, out_features=768, bias=True)\n",
              "      (dropout): Dropout(p=0.1, inplace=False)\n",
              "    )\n",
              "    (encoder): Wav2Vec2Encoder(\n",
              "      (pos_conv_embed): Wav2Vec2PositionalConvEmbedding(\n",
              "        (conv): Conv1d(768, 768, kernel_size=(128,), stride=(1,), padding=(64,), groups=16)\n",
              "        (padding): Wav2Vec2SamePadLayer()\n",
              "      )\n",
              "      (layer_norm): LayerNorm((768,), eps=1e-05, elementwise_affine=True)\n",
              "      (dropout): Dropout(p=0.1, inplace=False)\n",
              "      (layers): ModuleList(\n",
              "        (0): Wav2Vec2EncoderLayer(\n",
              "          (attention): Wav2Vec2Attention(\n",
              "            (k_proj): Linear(in_features=768, out_features=768, bias=True)\n",
              "            (v_proj): Linear(in_features=768, out_features=768, bias=True)\n",
              "            (q_proj): Linear(in_features=768, out_features=768, bias=True)\n",
              "            (out_proj): Linear(in_features=768, out_features=768, bias=True)\n",
              "          )\n",
              "          (dropout): Dropout(p=0.1, inplace=False)\n",
              "          (layer_norm): LayerNorm((768,), eps=1e-05, elementwise_affine=True)\n",
              "          (feed_forward): Wav2Vec2FeedForward(\n",
              "            (intermediate_dropout): Dropout(p=0.0, inplace=False)\n",
              "            (intermediate_dense): Linear(in_features=768, out_features=3072, bias=True)\n",
              "            (output_dense): Linear(in_features=3072, out_features=768, bias=True)\n",
              "            (output_dropout): Dropout(p=0.1, inplace=False)\n",
              "          )\n",
              "          (final_layer_norm): LayerNorm((768,), eps=1e-05, elementwise_affine=True)\n",
              "        )\n",
              "        (1): Wav2Vec2EncoderLayer(\n",
              "          (attention): Wav2Vec2Attention(\n",
              "            (k_proj): Linear(in_features=768, out_features=768, bias=True)\n",
              "            (v_proj): Linear(in_features=768, out_features=768, bias=True)\n",
              "            (q_proj): Linear(in_features=768, out_features=768, bias=True)\n",
              "            (out_proj): Linear(in_features=768, out_features=768, bias=True)\n",
              "          )\n",
              "          (dropout): Dropout(p=0.1, inplace=False)\n",
              "          (layer_norm): LayerNorm((768,), eps=1e-05, elementwise_affine=True)\n",
              "          (feed_forward): Wav2Vec2FeedForward(\n",
              "            (intermediate_dropout): Dropout(p=0.0, inplace=False)\n",
              "            (intermediate_dense): Linear(in_features=768, out_features=3072, bias=True)\n",
              "            (output_dense): Linear(in_features=3072, out_features=768, bias=True)\n",
              "            (output_dropout): Dropout(p=0.1, inplace=False)\n",
              "          )\n",
              "          (final_layer_norm): LayerNorm((768,), eps=1e-05, elementwise_affine=True)\n",
              "        )\n",
              "        (2): Wav2Vec2EncoderLayer(\n",
              "          (attention): Wav2Vec2Attention(\n",
              "            (k_proj): Linear(in_features=768, out_features=768, bias=True)\n",
              "            (v_proj): Linear(in_features=768, out_features=768, bias=True)\n",
              "            (q_proj): Linear(in_features=768, out_features=768, bias=True)\n",
              "            (out_proj): Linear(in_features=768, out_features=768, bias=True)\n",
              "          )\n",
              "          (dropout): Dropout(p=0.1, inplace=False)\n",
              "          (layer_norm): LayerNorm((768,), eps=1e-05, elementwise_affine=True)\n",
              "          (feed_forward): Wav2Vec2FeedForward(\n",
              "            (intermediate_dropout): Dropout(p=0.0, inplace=False)\n",
              "            (intermediate_dense): Linear(in_features=768, out_features=3072, bias=True)\n",
              "            (output_dense): Linear(in_features=3072, out_features=768, bias=True)\n",
              "            (output_dropout): Dropout(p=0.1, inplace=False)\n",
              "          )\n",
              "          (final_layer_norm): LayerNorm((768,), eps=1e-05, elementwise_affine=True)\n",
              "        )\n",
              "        (3): Wav2Vec2EncoderLayer(\n",
              "          (attention): Wav2Vec2Attention(\n",
              "            (k_proj): Linear(in_features=768, out_features=768, bias=True)\n",
              "            (v_proj): Linear(in_features=768, out_features=768, bias=True)\n",
              "            (q_proj): Linear(in_features=768, out_features=768, bias=True)\n",
              "            (out_proj): Linear(in_features=768, out_features=768, bias=True)\n",
              "          )\n",
              "          (dropout): Dropout(p=0.1, inplace=False)\n",
              "          (layer_norm): LayerNorm((768,), eps=1e-05, elementwise_affine=True)\n",
              "          (feed_forward): Wav2Vec2FeedForward(\n",
              "            (intermediate_dropout): Dropout(p=0.0, inplace=False)\n",
              "            (intermediate_dense): Linear(in_features=768, out_features=3072, bias=True)\n",
              "            (output_dense): Linear(in_features=3072, out_features=768, bias=True)\n",
              "            (output_dropout): Dropout(p=0.1, inplace=False)\n",
              "          )\n",
              "          (final_layer_norm): LayerNorm((768,), eps=1e-05, elementwise_affine=True)\n",
              "        )\n",
              "        (4): Wav2Vec2EncoderLayer(\n",
              "          (attention): Wav2Vec2Attention(\n",
              "            (k_proj): Linear(in_features=768, out_features=768, bias=True)\n",
              "            (v_proj): Linear(in_features=768, out_features=768, bias=True)\n",
              "            (q_proj): Linear(in_features=768, out_features=768, bias=True)\n",
              "            (out_proj): Linear(in_features=768, out_features=768, bias=True)\n",
              "          )\n",
              "          (dropout): Dropout(p=0.1, inplace=False)\n",
              "          (layer_norm): LayerNorm((768,), eps=1e-05, elementwise_affine=True)\n",
              "          (feed_forward): Wav2Vec2FeedForward(\n",
              "            (intermediate_dropout): Dropout(p=0.0, inplace=False)\n",
              "            (intermediate_dense): Linear(in_features=768, out_features=3072, bias=True)\n",
              "            (output_dense): Linear(in_features=3072, out_features=768, bias=True)\n",
              "            (output_dropout): Dropout(p=0.1, inplace=False)\n",
              "          )\n",
              "          (final_layer_norm): LayerNorm((768,), eps=1e-05, elementwise_affine=True)\n",
              "        )\n",
              "        (5): Wav2Vec2EncoderLayer(\n",
              "          (attention): Wav2Vec2Attention(\n",
              "            (k_proj): Linear(in_features=768, out_features=768, bias=True)\n",
              "            (v_proj): Linear(in_features=768, out_features=768, bias=True)\n",
              "            (q_proj): Linear(in_features=768, out_features=768, bias=True)\n",
              "            (out_proj): Linear(in_features=768, out_features=768, bias=True)\n",
              "          )\n",
              "          (dropout): Dropout(p=0.1, inplace=False)\n",
              "          (layer_norm): LayerNorm((768,), eps=1e-05, elementwise_affine=True)\n",
              "          (feed_forward): Wav2Vec2FeedForward(\n",
              "            (intermediate_dropout): Dropout(p=0.0, inplace=False)\n",
              "            (intermediate_dense): Linear(in_features=768, out_features=3072, bias=True)\n",
              "            (output_dense): Linear(in_features=3072, out_features=768, bias=True)\n",
              "            (output_dropout): Dropout(p=0.1, inplace=False)\n",
              "          )\n",
              "          (final_layer_norm): LayerNorm((768,), eps=1e-05, elementwise_affine=True)\n",
              "        )\n",
              "        (6): Wav2Vec2EncoderLayer(\n",
              "          (attention): Wav2Vec2Attention(\n",
              "            (k_proj): Linear(in_features=768, out_features=768, bias=True)\n",
              "            (v_proj): Linear(in_features=768, out_features=768, bias=True)\n",
              "            (q_proj): Linear(in_features=768, out_features=768, bias=True)\n",
              "            (out_proj): Linear(in_features=768, out_features=768, bias=True)\n",
              "          )\n",
              "          (dropout): Dropout(p=0.1, inplace=False)\n",
              "          (layer_norm): LayerNorm((768,), eps=1e-05, elementwise_affine=True)\n",
              "          (feed_forward): Wav2Vec2FeedForward(\n",
              "            (intermediate_dropout): Dropout(p=0.0, inplace=False)\n",
              "            (intermediate_dense): Linear(in_features=768, out_features=3072, bias=True)\n",
              "            (output_dense): Linear(in_features=3072, out_features=768, bias=True)\n",
              "            (output_dropout): Dropout(p=0.1, inplace=False)\n",
              "          )\n",
              "          (final_layer_norm): LayerNorm((768,), eps=1e-05, elementwise_affine=True)\n",
              "        )\n",
              "        (7): Wav2Vec2EncoderLayer(\n",
              "          (attention): Wav2Vec2Attention(\n",
              "            (k_proj): Linear(in_features=768, out_features=768, bias=True)\n",
              "            (v_proj): Linear(in_features=768, out_features=768, bias=True)\n",
              "            (q_proj): Linear(in_features=768, out_features=768, bias=True)\n",
              "            (out_proj): Linear(in_features=768, out_features=768, bias=True)\n",
              "          )\n",
              "          (dropout): Dropout(p=0.1, inplace=False)\n",
              "          (layer_norm): LayerNorm((768,), eps=1e-05, elementwise_affine=True)\n",
              "          (feed_forward): Wav2Vec2FeedForward(\n",
              "            (intermediate_dropout): Dropout(p=0.0, inplace=False)\n",
              "            (intermediate_dense): Linear(in_features=768, out_features=3072, bias=True)\n",
              "            (output_dense): Linear(in_features=3072, out_features=768, bias=True)\n",
              "            (output_dropout): Dropout(p=0.1, inplace=False)\n",
              "          )\n",
              "          (final_layer_norm): LayerNorm((768,), eps=1e-05, elementwise_affine=True)\n",
              "        )\n",
              "        (8): Wav2Vec2EncoderLayer(\n",
              "          (attention): Wav2Vec2Attention(\n",
              "            (k_proj): Linear(in_features=768, out_features=768, bias=True)\n",
              "            (v_proj): Linear(in_features=768, out_features=768, bias=True)\n",
              "            (q_proj): Linear(in_features=768, out_features=768, bias=True)\n",
              "            (out_proj): Linear(in_features=768, out_features=768, bias=True)\n",
              "          )\n",
              "          (dropout): Dropout(p=0.1, inplace=False)\n",
              "          (layer_norm): LayerNorm((768,), eps=1e-05, elementwise_affine=True)\n",
              "          (feed_forward): Wav2Vec2FeedForward(\n",
              "            (intermediate_dropout): Dropout(p=0.0, inplace=False)\n",
              "            (intermediate_dense): Linear(in_features=768, out_features=3072, bias=True)\n",
              "            (output_dense): Linear(in_features=3072, out_features=768, bias=True)\n",
              "            (output_dropout): Dropout(p=0.1, inplace=False)\n",
              "          )\n",
              "          (final_layer_norm): LayerNorm((768,), eps=1e-05, elementwise_affine=True)\n",
              "        )\n",
              "        (9): Wav2Vec2EncoderLayer(\n",
              "          (attention): Wav2Vec2Attention(\n",
              "            (k_proj): Linear(in_features=768, out_features=768, bias=True)\n",
              "            (v_proj): Linear(in_features=768, out_features=768, bias=True)\n",
              "            (q_proj): Linear(in_features=768, out_features=768, bias=True)\n",
              "            (out_proj): Linear(in_features=768, out_features=768, bias=True)\n",
              "          )\n",
              "          (dropout): Dropout(p=0.1, inplace=False)\n",
              "          (layer_norm): LayerNorm((768,), eps=1e-05, elementwise_affine=True)\n",
              "          (feed_forward): Wav2Vec2FeedForward(\n",
              "            (intermediate_dropout): Dropout(p=0.0, inplace=False)\n",
              "            (intermediate_dense): Linear(in_features=768, out_features=3072, bias=True)\n",
              "            (output_dense): Linear(in_features=3072, out_features=768, bias=True)\n",
              "            (output_dropout): Dropout(p=0.1, inplace=False)\n",
              "          )\n",
              "          (final_layer_norm): LayerNorm((768,), eps=1e-05, elementwise_affine=True)\n",
              "        )\n",
              "        (10): Wav2Vec2EncoderLayer(\n",
              "          (attention): Wav2Vec2Attention(\n",
              "            (k_proj): Linear(in_features=768, out_features=768, bias=True)\n",
              "            (v_proj): Linear(in_features=768, out_features=768, bias=True)\n",
              "            (q_proj): Linear(in_features=768, out_features=768, bias=True)\n",
              "            (out_proj): Linear(in_features=768, out_features=768, bias=True)\n",
              "          )\n",
              "          (dropout): Dropout(p=0.1, inplace=False)\n",
              "          (layer_norm): LayerNorm((768,), eps=1e-05, elementwise_affine=True)\n",
              "          (feed_forward): Wav2Vec2FeedForward(\n",
              "            (intermediate_dropout): Dropout(p=0.0, inplace=False)\n",
              "            (intermediate_dense): Linear(in_features=768, out_features=3072, bias=True)\n",
              "            (output_dense): Linear(in_features=3072, out_features=768, bias=True)\n",
              "            (output_dropout): Dropout(p=0.1, inplace=False)\n",
              "          )\n",
              "          (final_layer_norm): LayerNorm((768,), eps=1e-05, elementwise_affine=True)\n",
              "        )\n",
              "        (11): Wav2Vec2EncoderLayer(\n",
              "          (attention): Wav2Vec2Attention(\n",
              "            (k_proj): Linear(in_features=768, out_features=768, bias=True)\n",
              "            (v_proj): Linear(in_features=768, out_features=768, bias=True)\n",
              "            (q_proj): Linear(in_features=768, out_features=768, bias=True)\n",
              "            (out_proj): Linear(in_features=768, out_features=768, bias=True)\n",
              "          )\n",
              "          (dropout): Dropout(p=0.1, inplace=False)\n",
              "          (layer_norm): LayerNorm((768,), eps=1e-05, elementwise_affine=True)\n",
              "          (feed_forward): Wav2Vec2FeedForward(\n",
              "            (intermediate_dropout): Dropout(p=0.0, inplace=False)\n",
              "            (intermediate_dense): Linear(in_features=768, out_features=3072, bias=True)\n",
              "            (output_dense): Linear(in_features=3072, out_features=768, bias=True)\n",
              "            (output_dropout): Dropout(p=0.1, inplace=False)\n",
              "          )\n",
              "          (final_layer_norm): LayerNorm((768,), eps=1e-05, elementwise_affine=True)\n",
              "        )\n",
              "      )\n",
              "    )\n",
              "  )\n",
              "  (dropout): Dropout(p=0.0, inplace=False)\n",
              "  (lm_head): Linear(in_features=768, out_features=52, bias=True)\n",
              ")"
            ]
          },
          "execution_count": 59,
          "metadata": {},
          "output_type": "execute_result"
        }
      ],
      "source": [
        "model.to('cuda')"
      ]
    },
    {
      "cell_type": "code",
      "execution_count": 60,
      "metadata": {
        "colab": {
          "base_uri": "https://localhost:8080/",
          "height": 49,
          "referenced_widgets": [
            "b55a3f6e4c6d433db53181451a0935a4",
            "30c584eb798642f6ab216d2f2b2dd159",
            "b803d2e238864d01adedd0c520f4aa58",
            "ff39689122df4e5e9226baf4feeb8ab9",
            "415e279ce14847b4ba371fdcf371b434",
            "ba195bdce4ac42aeaad5c3859ced23c1",
            "f8c6b83ff1264bb39d1565e5e514ebe5",
            "db72f8176428485cb74714e639400596",
            "ce4965efcf3d459cbda976fd9ffaf648",
            "900c6c1807d14a0ea53725a944fd02f1",
            "4503eb509a514078a1f89a37469e88df"
          ]
        },
        "id": "uPqH7gZqrGPi",
        "outputId": "1584c640-d960-4702-e015-d6fb49526d02"
      },
      "outputs": [
        {
          "data": {
            "application/vnd.jupyter.widget-view+json": {
              "model_id": "b55a3f6e4c6d433db53181451a0935a4",
              "version_major": 2,
              "version_minor": 0
            },
            "text/plain": [
              "0ex [00:00, ?ex/s]"
            ]
          },
          "metadata": {},
          "output_type": "display_data"
        }
      ],
      "source": [
        "results = timit[\"test\"].map(map_to_result, remove_columns=timit[\"test\"].column_names)"
      ]
    },
    {
      "cell_type": "markdown",
      "metadata": {
        "id": "-mqpdB8R6rty"
      },
      "source": [
        "Let's compute the overall WER now."
      ]
    },
    {
      "cell_type": "code",
      "execution_count": 61,
      "metadata": {
        "colab": {
          "base_uri": "https://localhost:8080/"
        },
        "id": "PmqAb4Isx8OK",
        "outputId": "8b51fe94-d536-409a-f041-c3f409c04775"
      },
      "outputs": [
        {
          "name": "stdout",
          "output_type": "stream",
          "text": [
            "Test WER: 0.588\n"
          ]
        }
      ],
      "source": [
        "print(\"Test WER: {:.3f}\".format(wer_metric.compute(predictions=results[\"pred_str\"], references=results[\"text\"])))"
      ]
    },
    {
      "cell_type": "markdown",
      "metadata": {
        "id": "6Va94d8Y7Q98"
      },
      "source": [
        "22.1% WER - not bad! Our demo model would have probably made it on the official [leaderboard](https://paperswithcode.com/sota/speech-recognition-on-timit).\n",
        "\n",
        "Let's take a look at some predictions to see what errors are made by the model."
      ]
    },
    {
      "cell_type": "code",
      "execution_count": null,
      "metadata": {
        "id": "L-PN3tPxu2si"
      },
      "outputs": [],
      "source": [
        "def show_random_elements2(dataset, num_examples=20):\n",
        "    assert num_examples <= len(dataset), \"Can't pick more elements than there are in the dataset.\"\n",
        "    picks = []\n",
        "    for _ in range(num_examples):\n",
        "        pick = random.randint(0, len(dataset)-1)\n",
        "        while pick in picks:\n",
        "            pick = random.randint(0, len(dataset)-1)\n",
        "        picks.append(pick)\n",
        "    \n",
        "    df = pd.DataFrame(dataset[picks])\n",
        "    display(HTML(df.to_html()))"
      ]
    },
    {
      "cell_type": "code",
      "execution_count": null,
      "metadata": {
        "colab": {
          "base_uri": "https://localhost:8080/",
          "height": 832
        },
        "id": "odNDiFVRy53w",
        "outputId": "78333e1b-ba8b-487f-a399-f1f3739f24b1"
      },
      "outputs": [
        {
          "data": {
            "text/html": [
              "<table border=\"1\" class=\"dataframe\">\n",
              "  <thead>\n",
              "    <tr style=\"text-align: right;\">\n",
              "      <th></th>\n",
              "      <th>pred_str</th>\n",
              "      <th>text</th>\n",
              "    </tr>\n",
              "  </thead>\n",
              "  <tbody>\n",
              "    <tr>\n",
              "      <th>0</th>\n",
              "      <td>سینمہ گھروں کا رسیا بوڑھا حبشی لیڈر اجیب مص ہور آواز رکھتا ہے</td>\n",
              "      <td>سینما گھروں کا رسیا بوڑھا حبشی لیڈر عجیب مسحور آواز رکھتا ہے</td>\n",
              "    </tr>\n",
              "    <tr>\n",
              "      <th>1</th>\n",
              "      <td>ہیلو ہاے رکھرکھاوؤ کا ایک ساغر ہیں اور سوری ایک دوایا حوسلہ ہے</td>\n",
              "      <td>ہیلو ہائے رکھ رکھاؤ کا ایک ساغر ہیں اور سوری ایک دعائیہ حوصلہ ہے</td>\n",
              "    </tr>\n",
              "    <tr>\n",
              "      <th>2</th>\n",
              "      <td>ٹشو کاغز سے چہرے اور ہاتوں کو پونچھنے کے بعد  لارا سیدھے گرامو فون کے پاس بیٹھ گئی</td>\n",
              "      <td>ٹشو کاغذ سے چہرے اور ہاتھوں کو پونچھنے کے بعد لارا سیدھے گراموفون کے پاس بیٹھ گئی</td>\n",
              "    </tr>\n",
              "    <tr>\n",
              "      <th>3</th>\n",
              "      <td>بتسورد بانسری کی انوالمنٹ میں سیلرز کی حیرو سے گیراں تخریب نیچرل تھی</td>\n",
              "      <td>بدصورت بانسری کی انوالومنٹ سے سیلرز کی ہیرو سے گراں تخریب نیچرل تھی</td>\n",
              "    </tr>\n",
              "    <tr>\n",
              "      <th>4</th>\n",
              "      <td>فاروڈ فلیچر میں بلبل کو کھلے آسمان کے گشت میں بام یا عیسڈ  سر داغنے کی کوشش کریں</td>\n",
              "      <td>فارورڈ فلیچر میں بلبل کو کھلے آسمان کے گشت میں بم یا ایسڈ سے داغنے کی کوشش کریں</td>\n",
              "    </tr>\n",
              "    <tr>\n",
              "      <th>5</th>\n",
              "      <td>گوہر فروش نے مصخرے سے ارگیشن شیلڈے اونے پونے میں خرید لیں</td>\n",
              "      <td>گوہر فروش نے مسخرے سے اریگیشن شیلڈیں اونے پونے میں خرید لیں</td>\n",
              "    </tr>\n",
              "    <tr>\n",
              "      <th>6</th>\n",
              "      <td>بچے گود وٹا کر کوڑ اور کہت سے بچاؤ کے لیے دوا گوں ہیں آب تنسیخ پر بدھا کا پیچھا چھوڑ دیں</td>\n",
              "      <td>بچے گود اٹھا کے کوڑھ اور قحط سے بچاؤ کے لیے دعاگو ہیں آپ تنسیخ پر بدھا کا پیچھا چھوڑ دیں</td>\n",
              "    </tr>\n",
              "    <tr>\n",
              "      <th>7</th>\n",
              "      <td>میت کو روڈ سے قبرستان بھجوائیں اور دڑوت پڑھنے کی کوشش کریں</td>\n",
              "      <td>میت کو روڈ سے قبرستان بھجوائیں اور درود پڑھنے کی کوشش کریں</td>\n",
              "    </tr>\n",
              "    <tr>\n",
              "      <th>8</th>\n",
              "      <td>جن کالجز کی فہریستے ریڈ ہیں وو کمشنر کو تسلیم ہیں</td>\n",
              "      <td>جن کالجز کی فہرستیں ریڈ ہیں وہ کمشنر کو تسلیم ہیں</td>\n",
              "    </tr>\n",
              "    <tr>\n",
              "      <th>9</th>\n",
              "      <td>نوبت یہں تک پانچی کے دھاگہ کے ریشوں میں دھری لنگڑی گلہری ادھر انگور کے پڑاؤں کو ابور کرنے لگی</td>\n",
              "      <td>نوبت یہاں تک پہنچی کہ دھاگے کے ریشوں میں دھری لنگڑی گلہری اُدھر انگور کے پڑاؤ کو عبور کرنے لگی</td>\n",
              "    </tr>\n",
              "    <tr>\n",
              "      <th>10</th>\n",
              "      <td>برگیڈیر اکرم کولسری نے سوشل سروے پراجیکٹ کے ملازمت تدریس پر تیاک دی</td>\n",
              "      <td>بریگیڈیر اکرم کولسری نے سوشل سروے پروجیکٹ کی ملازمت تدریس پر تیاگ دی</td>\n",
              "    </tr>\n",
              "    <tr>\n",
              "      <th>11</th>\n",
              "      <td>آؤ سالہوں سے بھری ہوئی بدحالی کی چادر نوچیں اور انحتات کے افرات کی مخالفت کریں</td>\n",
              "      <td>آؤ سانحوں سے بھری ہوئی بدحالی کی چادر نوچیں اور انحطاط کے افراط کی مخالفت کریں</td>\n",
              "    </tr>\n",
              "    <tr>\n",
              "      <th>12</th>\n",
              "      <td>سگے بھایوں کے کھو جانے پر سلتان زرقاوی ڈھے گیا اور موصلہ دھار دوائیں کیں</td>\n",
              "      <td>سگے بھائیوں کے کھو جانے پر سلطان زرقاوی ڈھے گیا اور موسلادھار دعائیں کیں</td>\n",
              "    </tr>\n",
              "    <tr>\n",
              "      <th>13</th>\n",
              "      <td>کمپیوٹرائیز ٹوہ کو خیر بعد کہو اور آحستہ عحائستہ گھنیی جہتیں اور شگوفے اور تلخیاں بھول جاوؤ</td>\n",
              "      <td>کمپیوٹرائزڈ ٹوہ کو خیر باد کہو اور آہستہ آہستہ گھنیری جہتیں اور شگوفے اور تلخیاں بھول جاؤ</td>\n",
              "    </tr>\n",
              "    <tr>\n",
              "      <th>14</th>\n",
              "      <td>قلیفہ نے سقوت منشابعد پر غور و خوس کے بعد ننہیں بلغان کی چوگنیز دیکھیں</td>\n",
              "      <td>خلیفہ نے سقوط منش آباد پر غوروخوض کے بعد ننھے بالغان کی چوگنی صفیں دیکھیں</td>\n",
              "    </tr>\n",
              "    <tr>\n",
              "      <th>15</th>\n",
              "      <td>غیور یانگ لے جبری مصروفیات اور بجھائی ہوئی آک کے دھویں سے ببپھر کر بلغم اور خون اگلا</td>\n",
              "      <td>غیور یانگ نے جبری مصروفیات اور بجھائی ہوئی آگ کے دھوئیں سے بپھر کر بلغم اور خون اگلا</td>\n",
              "    </tr>\n",
              "    <tr>\n",
              "      <th>16</th>\n",
              "      <td>بھدی نفسیاتی جھریاں اور ساوبتیں ڈاٹ ایمپی تھری ڈجٹل نزام کے تفیل ہیں</td>\n",
              "      <td>بھدی نفسیاتی جھریاں اور صعوبتیں ڈاٹ ایم پی تھری ڈیجیٹل نظام کے طفیل ہیں</td>\n",
              "    </tr>\n",
              "    <tr>\n",
              "      <th>17</th>\n",
              "      <td>فرانسیسی نشاد رمزی اسمانی نو دیگر بیورک ریڈس کے ساتھ ایفرو ایشین س مگلروں کے تاقب میں ہے</td>\n",
              "      <td>فرانسیسی نژاد رمزی عثمانی نو دیگر بیوروکریٹس کے ساتھ ایفروایشین سمگلروں کے تعاقب میں ہے</td>\n",
              "    </tr>\n",
              "    <tr>\n",
              "      <th>18</th>\n",
              "      <td>قلم کو لاحق بقس اور جاہل کو روسدی نے الودہ کہا</td>\n",
              "      <td>قلم کو لاحق بغض اور جہل کو رشدی نے الوداع کہا</td>\n",
              "    </tr>\n",
              "    <tr>\n",
              "      <th>19</th>\n",
              "      <td>اختر نے جنم بھومی اور دائیں آما گجا مسے ملہں کا جزف بنایا</td>\n",
              "      <td>اختر نے جنم بھومی اور دائِیں آماجگاہ سے ملحقہ جزو بنایا</td>\n",
              "    </tr>\n",
              "  </tbody>\n",
              "</table>"
            ],
            "text/plain": [
              "<IPython.core.display.HTML object>"
            ]
          },
          "metadata": {},
          "output_type": "display_data"
        }
      ],
      "source": [
        "show_random_elements2(results)"
      ]
    },
    {
      "cell_type": "markdown",
      "metadata": {
        "id": "5HFCujhd9n4N"
      },
      "source": [
        "It becomes clear that the predicted transcriptions are acoustically very similar to the target transcriptions, but often contain spelling or grammatical errors. This shouldn't be very surprising though given that we purely rely on Wav2Vec2 without making use of a language model."
      ]
    },
    {
      "cell_type": "markdown",
      "metadata": {
        "id": "a3ydKvUl9FTK"
      },
      "source": [
        "Finally, to better understand how CTC works, it is worth taking a deeper look at the exact output of the model. Let's run the first test sample through the model, take the predicted ids and convert them to their corresponding tokens."
      ]
    },
    {
      "cell_type": "code",
      "execution_count": null,
      "metadata": {
        "colab": {
          "base_uri": "https://localhost:8080/",
          "height": 202
        },
        "id": "AqaM45t87uM4",
        "outputId": "add50ff2-eb66-4fcb-f40b-668e888b6db7"
      },
      "outputs": [
        {
          "data": {
            "application/vnd.google.colaboratory.intrinsic+json": {
              "type": "string"
            },
            "text/plain": [
              "'[PAD] [PAD] [PAD] [PAD] [PAD] [PAD] [PAD] [PAD] [PAD] [PAD] [PAD] [PAD] [PAD] [PAD] [PAD] [PAD] [PAD] [PAD] [PAD] [PAD] [PAD] [PAD] [PAD] [PAD] [PAD] [PAD] [PAD] [PAD] [PAD] [PAD] [PAD] [PAD] [PAD] [PAD] [PAD] [PAD] [PAD] [PAD] [PAD] [PAD] [PAD] ک [PAD] [PAD] [PAD] [PAD] [PAD] م م [PAD] [PAD] ی ی و و [PAD] ن ن [PAD] [PAD] [PAD] [PAD] [PAD] [PAD] س [PAD] | | | [PAD] [PAD] ل [PAD] [PAD] [PAD] [PAD] [PAD] [PAD] گ [PAD] [PAD] [PAD] [PAD] و ں | | [PAD] ن [PAD] [PAD] [PAD] [PAD] [PAD] [PAD] ے | | [PAD] [PAD] [PAD] [PAD] ت [PAD] [PAD] [PAD] [PAD] [PAD] ن ن گ گ | | ہ [PAD] [PAD] [PAD] و و [PAD] [PAD] ن [PAD] [PAD] [PAD] [PAD] ے | | [PAD] [PAD] ک [PAD] [PAD] ے ے | [PAD] [PAD] ب [PAD] [PAD] [PAD] ا [PAD] [PAD] [PAD] و [PAD] [PAD] [PAD] [PAD] [PAD] [PAD] ج ج [PAD] [PAD] [PAD] [PAD] [PAD] [PAD] [PAD] و و [PAD] [PAD] [PAD] [PAD] [PAD] د | | [PAD] [PAD] [PAD] [PAD] [PAD] [PAD] [PAD] [PAD] [PAD] [PAD] [PAD] [PAD] [PAD] [PAD] [PAD] ک [PAD] [PAD] [PAD] ئ ئ ئ ی ی | | [PAD] [PAD] [PAD] ش [PAD] [PAD] [PAD] [PAD] و [PAD] [PAD] [PAD] [PAD] ب [PAD] [PAD] و و ں | [PAD] م [PAD] [PAD] ی ی ں | | [PAD] [PAD] [PAD] ت [PAD] [PAD] [PAD] [PAD] [PAD] ن [PAD] [PAD] [PAD] د [PAD] [PAD] [PAD] [PAD] ہ [PAD] [PAD] [PAD] [PAD] ی [PAD] | | [PAD] [PAD] [PAD] س [PAD] [PAD] [PAD] [PAD] [PAD] [PAD] ے | | [PAD] [PAD] ا [PAD] [PAD] [PAD] [PAD] پ پ [PAD] [PAD] [PAD] ن [PAD] [PAD] [PAD] [PAD] ے ے | [PAD] [PAD] [PAD] ک [PAD] [PAD] [PAD] [PAD] ی ی [PAD] ر ر [PAD] [PAD] [PAD] [PAD] ی [PAD] [PAD] [PAD] [PAD] ر | [PAD] [PAD] [PAD] ک [PAD] [PAD] و | | [PAD] م م [PAD] [PAD] [PAD] [PAD] [PAD] ز [PAD] [PAD] [PAD] [PAD] [PAD] [PAD] [PAD] [PAD] ی [PAD] [PAD] [PAD] [PAD] ن | | [PAD] ک [PAD] [PAD] [PAD] [PAD] [PAD] [PAD] | [PAD] [PAD] ل [PAD] [PAD] [PAD] [PAD] ی ی [PAD] [PAD] [PAD] [PAD] ا [PAD] [PAD] [PAD] [PAD] [PAD] [PAD] [PAD] [PAD] [PAD] [PAD] [PAD] [PAD] [PAD] [PAD] [PAD] [PAD] [PAD] [PAD] [PAD] [PAD] [PAD] [PAD] [PAD] [PAD] [PAD] [PAD] [PAD] [PAD] [PAD] [PAD] [PAD] [PAD] [PAD] [PAD] [PAD] [PAD] [PAD] [PAD] [PAD] [PAD] [PAD] [PAD] [PAD] [PAD] [PAD] [PAD] [PAD] [PAD] [PAD] [PAD] [PAD] [PAD] [PAD] [PAD] [PAD] [PAD] [PAD] [PAD] [PAD] [PAD] [PAD] [PAD] [PAD] [PAD] [PAD] [PAD] [PAD] [PAD] [PAD] [PAD] [PAD] [PAD] [PAD]'"
            ]
          },
          "execution_count": 88,
          "metadata": {},
          "output_type": "execute_result"
        }
      ],
      "source": [
        "model.to(\"cuda\")\n",
        "\n",
        "with torch.no_grad():\n",
        "  logits = model(torch.tensor(timit[\"test\"][:1][\"input_values\"], device=\"cuda\")).logits\n",
        "\n",
        "pred_ids = torch.argmax(logits, dim=-1)\n",
        "\n",
        "# convert ids to tokens\n",
        "\" \".join(processor.tokenizer.convert_ids_to_tokens(pred_ids[0].tolist()))"
      ]
    },
    {
      "cell_type": "markdown",
      "metadata": {
        "id": "tdO8E28g-n5C"
      },
      "source": [
        "The output should make it a bit clearer how CTC works in practice. The model is to some extent invariant to speaking rate since it has learned to either just repeat the same token in case the speech chunk to be classified still corresponds to the same token. This makes CTC a very powerful algorithm for speech recognition since the speech file's transcription is often very much independent of its length.\n",
        "\n",
        "I again advise the reader to take a look at [this](https://distill.pub/2017/ctc) very nice blog post to better understand CTC."
      ]
    }
  ],
  "metadata": {
    "accelerator": "GPU",
    "colab": {
      "collapsed_sections": [],
      "machine_shape": "hm",
      "name": "Copy of Final_Fine_tuning_Wav2Vec2_for_English_ASR (1).ipynb",
      "provenance": []
    },
    "kernelspec": {
      "display_name": "Python 3",
      "name": "python3"
    },
    "widgets": {
      "application/vnd.jupyter.widget-state+json": {
        "035abd7f0e5b44979109d7ad68e41949": {
          "model_module": "@jupyter-widgets/base",
          "model_module_version": "1.2.0",
          "model_name": "LayoutModel",
          "state": {
            "_model_module": "@jupyter-widgets/base",
            "_model_module_version": "1.2.0",
            "_model_name": "LayoutModel",
            "_view_count": null,
            "_view_module": "@jupyter-widgets/base",
            "_view_module_version": "1.2.0",
            "_view_name": "LayoutView",
            "align_content": null,
            "align_items": "center",
            "align_self": null,
            "border": null,
            "bottom": null,
            "display": "flex",
            "flex": null,
            "flex_flow": "column",
            "grid_area": null,
            "grid_auto_columns": null,
            "grid_auto_flow": null,
            "grid_auto_rows": null,
            "grid_column": null,
            "grid_gap": null,
            "grid_row": null,
            "grid_template_areas": null,
            "grid_template_columns": null,
            "grid_template_rows": null,
            "height": null,
            "justify_content": null,
            "justify_items": null,
            "left": null,
            "margin": null,
            "max_height": null,
            "max_width": null,
            "min_height": null,
            "min_width": null,
            "object_fit": null,
            "object_position": null,
            "order": null,
            "overflow": null,
            "overflow_x": null,
            "overflow_y": null,
            "padding": null,
            "right": null,
            "top": null,
            "visibility": null,
            "width": "50%"
          }
        },
        "06f1eeac68c04c6a840b8585cabef387": {
          "model_module": "@jupyter-widgets/controls",
          "model_module_version": "1.5.0",
          "model_name": "HTMLModel",
          "state": {
            "_dom_classes": [],
            "_model_module": "@jupyter-widgets/controls",
            "_model_module_version": "1.5.0",
            "_model_name": "HTMLModel",
            "_view_count": null,
            "_view_module": "@jupyter-widgets/controls",
            "_view_module_version": "1.5.0",
            "_view_name": "HTMLView",
            "description": "",
            "description_tooltip": null,
            "layout": "IPY_MODEL_5dc72c5b47444246a04ec8d6e3888b05",
            "placeholder": "​",
            "style": "IPY_MODEL_507868ff2e854637ab48b2a204bacbfc",
            "value": "100%"
          }
        },
        "0c76df17cfe64affb074da9617c6da73": {
          "model_module": "@jupyter-widgets/controls",
          "model_module_version": "1.5.0",
          "model_name": "DescriptionStyleModel",
          "state": {
            "_model_module": "@jupyter-widgets/controls",
            "_model_module_version": "1.5.0",
            "_model_name": "DescriptionStyleModel",
            "_view_count": null,
            "_view_module": "@jupyter-widgets/base",
            "_view_module_version": "1.2.0",
            "_view_name": "StyleView",
            "description_width": ""
          }
        },
        "0db6e84fa2bf465cb8b150db3addfc8c": {
          "model_module": "@jupyter-widgets/controls",
          "model_module_version": "1.5.0",
          "model_name": "FloatProgressModel",
          "state": {
            "_dom_classes": [],
            "_model_module": "@jupyter-widgets/controls",
            "_model_module_version": "1.5.0",
            "_model_name": "FloatProgressModel",
            "_view_count": null,
            "_view_module": "@jupyter-widgets/controls",
            "_view_module_version": "1.5.0",
            "_view_name": "ProgressView",
            "bar_style": "success",
            "description": "",
            "description_tooltip": null,
            "layout": "IPY_MODEL_52626666dee447ca95bd82f13b5fe4c9",
            "max": 181,
            "min": 0,
            "orientation": "horizontal",
            "style": "IPY_MODEL_9df95193667a4554862777a8a49e807c",
            "value": 181
          }
        },
        "0fbfefbb0d3c41939bb0995117988173": {
          "model_module": "@jupyter-widgets/base",
          "model_module_version": "1.2.0",
          "model_name": "LayoutModel",
          "state": {
            "_model_module": "@jupyter-widgets/base",
            "_model_module_version": "1.2.0",
            "_model_name": "LayoutModel",
            "_view_count": null,
            "_view_module": "@jupyter-widgets/base",
            "_view_module_version": "1.2.0",
            "_view_name": "LayoutView",
            "align_content": null,
            "align_items": null,
            "align_self": null,
            "border": null,
            "bottom": null,
            "display": null,
            "flex": null,
            "flex_flow": null,
            "grid_area": null,
            "grid_auto_columns": null,
            "grid_auto_flow": null,
            "grid_auto_rows": null,
            "grid_column": null,
            "grid_gap": null,
            "grid_row": null,
            "grid_template_areas": null,
            "grid_template_columns": null,
            "grid_template_rows": null,
            "height": null,
            "justify_content": null,
            "justify_items": null,
            "left": null,
            "margin": null,
            "max_height": null,
            "max_width": null,
            "min_height": null,
            "min_width": null,
            "object_fit": null,
            "object_position": null,
            "order": null,
            "overflow": null,
            "overflow_x": null,
            "overflow_y": null,
            "padding": null,
            "right": null,
            "top": null,
            "visibility": null,
            "width": null
          }
        },
        "10912740bc204d7b8aae9c8818b8df7c": {
          "model_module": "@jupyter-widgets/controls",
          "model_module_version": "1.5.0",
          "model_name": "DescriptionStyleModel",
          "state": {
            "_model_module": "@jupyter-widgets/controls",
            "_model_module_version": "1.5.0",
            "_model_name": "DescriptionStyleModel",
            "_view_count": null,
            "_view_module": "@jupyter-widgets/base",
            "_view_module_version": "1.2.0",
            "_view_name": "StyleView",
            "description_width": ""
          }
        },
        "10deb8d48a6d41e0897d205567d2df21": {
          "model_module": "@jupyter-widgets/base",
          "model_module_version": "1.2.0",
          "model_name": "LayoutModel",
          "state": {
            "_model_module": "@jupyter-widgets/base",
            "_model_module_version": "1.2.0",
            "_model_name": "LayoutModel",
            "_view_count": null,
            "_view_module": "@jupyter-widgets/base",
            "_view_module_version": "1.2.0",
            "_view_name": "LayoutView",
            "align_content": null,
            "align_items": null,
            "align_self": null,
            "border": null,
            "bottom": null,
            "display": null,
            "flex": null,
            "flex_flow": null,
            "grid_area": null,
            "grid_auto_columns": null,
            "grid_auto_flow": null,
            "grid_auto_rows": null,
            "grid_column": null,
            "grid_gap": null,
            "grid_row": null,
            "grid_template_areas": null,
            "grid_template_columns": null,
            "grid_template_rows": null,
            "height": null,
            "justify_content": null,
            "justify_items": null,
            "left": null,
            "margin": null,
            "max_height": null,
            "max_width": null,
            "min_height": null,
            "min_width": null,
            "object_fit": null,
            "object_position": null,
            "order": null,
            "overflow": null,
            "overflow_x": null,
            "overflow_y": null,
            "padding": null,
            "right": null,
            "top": null,
            "visibility": null,
            "width": null
          }
        },
        "136df86150bf4bb5a36457866d5d02e3": {
          "model_module": "@jupyter-widgets/controls",
          "model_module_version": "1.5.0",
          "model_name": "HTMLModel",
          "state": {
            "_dom_classes": [],
            "_model_module": "@jupyter-widgets/controls",
            "_model_module_version": "1.5.0",
            "_model_name": "HTMLModel",
            "_view_count": null,
            "_view_module": "@jupyter-widgets/controls",
            "_view_module_version": "1.5.0",
            "_view_name": "HTMLView",
            "description": "",
            "description_tooltip": null,
            "layout": "IPY_MODEL_41a59374fa4d466bab15d3a6ff3d9a66",
            "placeholder": "​",
            "style": "IPY_MODEL_da0d21f5185a407fa6ed8cd2c5230682",
            "value": "Downloading: 100%"
          }
        },
        "15905c70ab6f4e5a9c674f672534e4e6": {
          "model_module": "@jupyter-widgets/controls",
          "model_module_version": "1.5.0",
          "model_name": "DescriptionStyleModel",
          "state": {
            "_model_module": "@jupyter-widgets/controls",
            "_model_module_version": "1.5.0",
            "_model_name": "DescriptionStyleModel",
            "_view_count": null,
            "_view_module": "@jupyter-widgets/base",
            "_view_module_version": "1.2.0",
            "_view_name": "StyleView",
            "description_width": ""
          }
        },
        "1e4be9e58b484528a66e4a7d61c897f6": {
          "model_module": "@jupyter-widgets/controls",
          "model_module_version": "1.5.0",
          "model_name": "HTMLModel",
          "state": {
            "_dom_classes": [],
            "_model_module": "@jupyter-widgets/controls",
            "_model_module_version": "1.5.0",
            "_model_name": "HTMLModel",
            "_view_count": null,
            "_view_module": "@jupyter-widgets/controls",
            "_view_module_version": "1.5.0",
            "_view_name": "HTMLView",
            "description": "",
            "description_tooltip": null,
            "layout": "IPY_MODEL_65de422f46154c50b39eae49dc2e4d31",
            "placeholder": "​",
            "style": "IPY_MODEL_eedbffd063cd487eaf1e99c93394999d",
            "value": " 360M/360M [00:27&lt;00:00, 16.4MB/s]"
          }
        },
        "20e50683bd49420e9ef2aae6c0085ad1": {
          "model_module": "@jupyter-widgets/controls",
          "model_module_version": "1.5.0",
          "model_name": "DescriptionStyleModel",
          "state": {
            "_model_module": "@jupyter-widgets/controls",
            "_model_module_version": "1.5.0",
            "_model_name": "DescriptionStyleModel",
            "_view_count": null,
            "_view_module": "@jupyter-widgets/base",
            "_view_module_version": "1.2.0",
            "_view_name": "StyleView",
            "description_width": ""
          }
        },
        "2579a03859fa4391a1c78e1ac3045299": {
          "model_module": "@jupyter-widgets/base",
          "model_module_version": "1.2.0",
          "model_name": "LayoutModel",
          "state": {
            "_model_module": "@jupyter-widgets/base",
            "_model_module_version": "1.2.0",
            "_model_name": "LayoutModel",
            "_view_count": null,
            "_view_module": "@jupyter-widgets/base",
            "_view_module_version": "1.2.0",
            "_view_name": "LayoutView",
            "align_content": null,
            "align_items": null,
            "align_self": null,
            "border": null,
            "bottom": null,
            "display": null,
            "flex": null,
            "flex_flow": null,
            "grid_area": null,
            "grid_auto_columns": null,
            "grid_auto_flow": null,
            "grid_auto_rows": null,
            "grid_column": null,
            "grid_gap": null,
            "grid_row": null,
            "grid_template_areas": null,
            "grid_template_columns": null,
            "grid_template_rows": null,
            "height": null,
            "justify_content": null,
            "justify_items": null,
            "left": null,
            "margin": null,
            "max_height": null,
            "max_width": null,
            "min_height": null,
            "min_width": null,
            "object_fit": null,
            "object_position": null,
            "order": null,
            "overflow": null,
            "overflow_x": null,
            "overflow_y": null,
            "padding": null,
            "right": null,
            "top": null,
            "visibility": null,
            "width": null
          }
        },
        "28d42d84960441828bc3b99bb36dbbc8": {
          "model_module": "@jupyter-widgets/controls",
          "model_module_version": "1.5.0",
          "model_name": "ButtonStyleModel",
          "state": {
            "_model_module": "@jupyter-widgets/controls",
            "_model_module_version": "1.5.0",
            "_model_name": "ButtonStyleModel",
            "_view_count": null,
            "_view_module": "@jupyter-widgets/base",
            "_view_module_version": "1.2.0",
            "_view_name": "StyleView",
            "button_color": null,
            "font_weight": ""
          }
        },
        "299e3defda0147bdbd33cf46038e2898": {
          "model_module": "@jupyter-widgets/controls",
          "model_module_version": "1.5.0",
          "model_name": "DescriptionStyleModel",
          "state": {
            "_model_module": "@jupyter-widgets/controls",
            "_model_module_version": "1.5.0",
            "_model_name": "DescriptionStyleModel",
            "_view_count": null,
            "_view_module": "@jupyter-widgets/base",
            "_view_module_version": "1.2.0",
            "_view_name": "StyleView",
            "description_width": ""
          }
        },
        "29ab5a3aa790418d8f1916b0512143b5": {
          "model_module": "@jupyter-widgets/controls",
          "model_module_version": "1.5.0",
          "model_name": "FloatProgressModel",
          "state": {
            "_dom_classes": [],
            "_model_module": "@jupyter-widgets/controls",
            "_model_module_version": "1.5.0",
            "_model_name": "FloatProgressModel",
            "_view_count": null,
            "_view_module": "@jupyter-widgets/controls",
            "_view_module_version": "1.5.0",
            "_view_name": "ProgressView",
            "bar_style": "success",
            "description": "",
            "description_tooltip": null,
            "layout": "IPY_MODEL_df1dc2ef3123452e992ed6f04aed80c2",
            "max": 516,
            "min": 0,
            "orientation": "horizontal",
            "style": "IPY_MODEL_a9bcb92e26ce4fad82d45311d3ca15b8",
            "value": 516
          }
        },
        "2a5377e77f0744c99586fb5661923abf": {
          "model_module": "@jupyter-widgets/controls",
          "model_module_version": "1.5.0",
          "model_name": "ProgressStyleModel",
          "state": {
            "_model_module": "@jupyter-widgets/controls",
            "_model_module_version": "1.5.0",
            "_model_name": "ProgressStyleModel",
            "_view_count": null,
            "_view_module": "@jupyter-widgets/base",
            "_view_module_version": "1.2.0",
            "_view_name": "StyleView",
            "bar_color": null,
            "description_width": ""
          }
        },
        "3094549e969141f69d482ef61cb882f0": {
          "model_module": "@jupyter-widgets/controls",
          "model_module_version": "1.5.0",
          "model_name": "DescriptionStyleModel",
          "state": {
            "_model_module": "@jupyter-widgets/controls",
            "_model_module_version": "1.5.0",
            "_model_name": "DescriptionStyleModel",
            "_view_count": null,
            "_view_module": "@jupyter-widgets/base",
            "_view_module_version": "1.2.0",
            "_view_name": "StyleView",
            "description_width": ""
          }
        },
        "30c584eb798642f6ab216d2f2b2dd159": {
          "model_module": "@jupyter-widgets/controls",
          "model_module_version": "1.5.0",
          "model_name": "HTMLModel",
          "state": {
            "_dom_classes": [],
            "_model_module": "@jupyter-widgets/controls",
            "_model_module_version": "1.5.0",
            "_model_name": "HTMLModel",
            "_view_count": null,
            "_view_module": "@jupyter-widgets/controls",
            "_view_module_version": "1.5.0",
            "_view_name": "HTMLView",
            "description": "",
            "description_tooltip": null,
            "layout": "IPY_MODEL_ba195bdce4ac42aeaad5c3859ced23c1",
            "placeholder": "​",
            "style": "IPY_MODEL_f8c6b83ff1264bb39d1565e5e514ebe5",
            "value": ""
          }
        },
        "3602502578b44cf782204c875794ea70": {
          "model_module": "@jupyter-widgets/base",
          "model_module_version": "1.2.0",
          "model_name": "LayoutModel",
          "state": {
            "_model_module": "@jupyter-widgets/base",
            "_model_module_version": "1.2.0",
            "_model_name": "LayoutModel",
            "_view_count": null,
            "_view_module": "@jupyter-widgets/base",
            "_view_module_version": "1.2.0",
            "_view_name": "LayoutView",
            "align_content": null,
            "align_items": null,
            "align_self": null,
            "border": null,
            "bottom": null,
            "display": null,
            "flex": null,
            "flex_flow": null,
            "grid_area": null,
            "grid_auto_columns": null,
            "grid_auto_flow": null,
            "grid_auto_rows": null,
            "grid_column": null,
            "grid_gap": null,
            "grid_row": null,
            "grid_template_areas": null,
            "grid_template_columns": null,
            "grid_template_rows": null,
            "height": null,
            "justify_content": null,
            "justify_items": null,
            "left": null,
            "margin": null,
            "max_height": null,
            "max_width": null,
            "min_height": null,
            "min_width": null,
            "object_fit": null,
            "object_position": null,
            "order": null,
            "overflow": null,
            "overflow_x": null,
            "overflow_y": null,
            "padding": null,
            "right": null,
            "top": null,
            "visibility": null,
            "width": null
          }
        },
        "3796f42eca264b859e872b8356091370": {
          "model_module": "@jupyter-widgets/controls",
          "model_module_version": "1.5.0",
          "model_name": "HTMLModel",
          "state": {
            "_dom_classes": [],
            "_model_module": "@jupyter-widgets/controls",
            "_model_module_version": "1.5.0",
            "_model_name": "HTMLModel",
            "_view_count": null,
            "_view_module": "@jupyter-widgets/controls",
            "_view_module_version": "1.5.0",
            "_view_name": "HTMLView",
            "description": "",
            "description_tooltip": null,
            "layout": "IPY_MODEL_ae6d9f3b649f4692941ff9cbbf18af07",
            "placeholder": "​",
            "style": "IPY_MODEL_76dde68fefa744058dc154e6325dabab",
            "value": "Downloading: 100%"
          }
        },
        "389d9a4061734dedb2a52fb0d19b9a99": {
          "model_module": "@jupyter-widgets/base",
          "model_module_version": "1.2.0",
          "model_name": "LayoutModel",
          "state": {
            "_model_module": "@jupyter-widgets/base",
            "_model_module_version": "1.2.0",
            "_model_name": "LayoutModel",
            "_view_count": null,
            "_view_module": "@jupyter-widgets/base",
            "_view_module_version": "1.2.0",
            "_view_name": "LayoutView",
            "align_content": null,
            "align_items": null,
            "align_self": null,
            "border": null,
            "bottom": null,
            "display": null,
            "flex": null,
            "flex_flow": null,
            "grid_area": null,
            "grid_auto_columns": null,
            "grid_auto_flow": null,
            "grid_auto_rows": null,
            "grid_column": null,
            "grid_gap": null,
            "grid_row": null,
            "grid_template_areas": null,
            "grid_template_columns": null,
            "grid_template_rows": null,
            "height": null,
            "justify_content": null,
            "justify_items": null,
            "left": null,
            "margin": null,
            "max_height": null,
            "max_width": null,
            "min_height": null,
            "min_width": null,
            "object_fit": null,
            "object_position": null,
            "order": null,
            "overflow": null,
            "overflow_x": null,
            "overflow_y": null,
            "padding": null,
            "right": null,
            "top": null,
            "visibility": null,
            "width": null
          }
        },
        "3b7d10796bd040f28ebb819b54233ef1": {
          "model_module": "@jupyter-widgets/base",
          "model_module_version": "1.2.0",
          "model_name": "LayoutModel",
          "state": {
            "_model_module": "@jupyter-widgets/base",
            "_model_module_version": "1.2.0",
            "_model_name": "LayoutModel",
            "_view_count": null,
            "_view_module": "@jupyter-widgets/base",
            "_view_module_version": "1.2.0",
            "_view_name": "LayoutView",
            "align_content": null,
            "align_items": null,
            "align_self": null,
            "border": null,
            "bottom": null,
            "display": null,
            "flex": null,
            "flex_flow": null,
            "grid_area": null,
            "grid_auto_columns": null,
            "grid_auto_flow": null,
            "grid_auto_rows": null,
            "grid_column": null,
            "grid_gap": null,
            "grid_row": null,
            "grid_template_areas": null,
            "grid_template_columns": null,
            "grid_template_rows": null,
            "height": null,
            "justify_content": null,
            "justify_items": null,
            "left": null,
            "margin": null,
            "max_height": null,
            "max_width": null,
            "min_height": null,
            "min_width": null,
            "object_fit": null,
            "object_position": null,
            "order": null,
            "overflow": null,
            "overflow_x": null,
            "overflow_y": null,
            "padding": null,
            "right": null,
            "top": null,
            "visibility": null,
            "width": null
          }
        },
        "3efff73b85724aacbba618099fe04eb9": {
          "model_module": "@jupyter-widgets/controls",
          "model_module_version": "1.5.0",
          "model_name": "FloatProgressModel",
          "state": {
            "_dom_classes": [],
            "_model_module": "@jupyter-widgets/controls",
            "_model_module_version": "1.5.0",
            "_model_name": "FloatProgressModel",
            "_view_count": null,
            "_view_module": "@jupyter-widgets/controls",
            "_view_module_version": "1.5.0",
            "_view_name": "ProgressView",
            "bar_style": "success",
            "description": "",
            "description_tooltip": null,
            "layout": "IPY_MODEL_45784a539edc4267beb9da5c146f13ce",
            "max": 377731543,
            "min": 0,
            "orientation": "horizontal",
            "style": "IPY_MODEL_b17d95be5fa94d27ae80a9dc6a60aa33",
            "value": 377731543
          }
        },
        "415702055d824772b603c4701a6ea850": {
          "model_module": "@jupyter-widgets/controls",
          "model_module_version": "1.5.0",
          "model_name": "DescriptionStyleModel",
          "state": {
            "_model_module": "@jupyter-widgets/controls",
            "_model_module_version": "1.5.0",
            "_model_name": "DescriptionStyleModel",
            "_view_count": null,
            "_view_module": "@jupyter-widgets/base",
            "_view_module_version": "1.2.0",
            "_view_name": "StyleView",
            "description_width": ""
          }
        },
        "415e279ce14847b4ba371fdcf371b434": {
          "model_module": "@jupyter-widgets/base",
          "model_module_version": "1.2.0",
          "model_name": "LayoutModel",
          "state": {
            "_model_module": "@jupyter-widgets/base",
            "_model_module_version": "1.2.0",
            "_model_name": "LayoutModel",
            "_view_count": null,
            "_view_module": "@jupyter-widgets/base",
            "_view_module_version": "1.2.0",
            "_view_name": "LayoutView",
            "align_content": null,
            "align_items": null,
            "align_self": null,
            "border": null,
            "bottom": null,
            "display": null,
            "flex": null,
            "flex_flow": null,
            "grid_area": null,
            "grid_auto_columns": null,
            "grid_auto_flow": null,
            "grid_auto_rows": null,
            "grid_column": null,
            "grid_gap": null,
            "grid_row": null,
            "grid_template_areas": null,
            "grid_template_columns": null,
            "grid_template_rows": null,
            "height": null,
            "justify_content": null,
            "justify_items": null,
            "left": null,
            "margin": null,
            "max_height": null,
            "max_width": null,
            "min_height": null,
            "min_width": null,
            "object_fit": null,
            "object_position": null,
            "order": null,
            "overflow": null,
            "overflow_x": null,
            "overflow_y": null,
            "padding": null,
            "right": null,
            "top": null,
            "visibility": null,
            "width": null
          }
        },
        "4160a17a6ddd46d7a30ffe39c3c0976f": {
          "model_module": "@jupyter-widgets/base",
          "model_module_version": "1.2.0",
          "model_name": "LayoutModel",
          "state": {
            "_model_module": "@jupyter-widgets/base",
            "_model_module_version": "1.2.0",
            "_model_name": "LayoutModel",
            "_view_count": null,
            "_view_module": "@jupyter-widgets/base",
            "_view_module_version": "1.2.0",
            "_view_name": "LayoutView",
            "align_content": null,
            "align_items": null,
            "align_self": null,
            "border": null,
            "bottom": null,
            "display": null,
            "flex": null,
            "flex_flow": null,
            "grid_area": null,
            "grid_auto_columns": null,
            "grid_auto_flow": null,
            "grid_auto_rows": null,
            "grid_column": null,
            "grid_gap": null,
            "grid_row": null,
            "grid_template_areas": null,
            "grid_template_columns": null,
            "grid_template_rows": null,
            "height": null,
            "justify_content": null,
            "justify_items": null,
            "left": null,
            "margin": null,
            "max_height": null,
            "max_width": null,
            "min_height": null,
            "min_width": null,
            "object_fit": null,
            "object_position": null,
            "order": null,
            "overflow": null,
            "overflow_x": null,
            "overflow_y": null,
            "padding": null,
            "right": null,
            "top": null,
            "visibility": null,
            "width": null
          }
        },
        "41a59374fa4d466bab15d3a6ff3d9a66": {
          "model_module": "@jupyter-widgets/base",
          "model_module_version": "1.2.0",
          "model_name": "LayoutModel",
          "state": {
            "_model_module": "@jupyter-widgets/base",
            "_model_module_version": "1.2.0",
            "_model_name": "LayoutModel",
            "_view_count": null,
            "_view_module": "@jupyter-widgets/base",
            "_view_module_version": "1.2.0",
            "_view_name": "LayoutView",
            "align_content": null,
            "align_items": null,
            "align_self": null,
            "border": null,
            "bottom": null,
            "display": null,
            "flex": null,
            "flex_flow": null,
            "grid_area": null,
            "grid_auto_columns": null,
            "grid_auto_flow": null,
            "grid_auto_rows": null,
            "grid_column": null,
            "grid_gap": null,
            "grid_row": null,
            "grid_template_areas": null,
            "grid_template_columns": null,
            "grid_template_rows": null,
            "height": null,
            "justify_content": null,
            "justify_items": null,
            "left": null,
            "margin": null,
            "max_height": null,
            "max_width": null,
            "min_height": null,
            "min_width": null,
            "object_fit": null,
            "object_position": null,
            "order": null,
            "overflow": null,
            "overflow_x": null,
            "overflow_y": null,
            "padding": null,
            "right": null,
            "top": null,
            "visibility": null,
            "width": null
          }
        },
        "428ff0619f28484dbf1f45abc26ce45b": {
          "model_module": "@jupyter-widgets/controls",
          "model_module_version": "1.5.0",
          "model_name": "DescriptionStyleModel",
          "state": {
            "_model_module": "@jupyter-widgets/controls",
            "_model_module_version": "1.5.0",
            "_model_name": "DescriptionStyleModel",
            "_view_count": null,
            "_view_module": "@jupyter-widgets/base",
            "_view_module_version": "1.2.0",
            "_view_name": "StyleView",
            "description_width": ""
          }
        },
        "4290faa05b0f40c4ad5f0682045b19d2": {
          "model_module": "@jupyter-widgets/controls",
          "model_module_version": "1.5.0",
          "model_name": "HTMLModel",
          "state": {
            "_dom_classes": [],
            "_model_module": "@jupyter-widgets/controls",
            "_model_module_version": "1.5.0",
            "_model_name": "HTMLModel",
            "_view_count": null,
            "_view_module": "@jupyter-widgets/controls",
            "_view_module_version": "1.5.0",
            "_view_name": "HTMLView",
            "description": "",
            "description_tooltip": null,
            "layout": "IPY_MODEL_a44cb99e43cd4678a2dd523681c737b4",
            "placeholder": "​",
            "style": "IPY_MODEL_299e3defda0147bdbd33cf46038e2898",
            "value": "Downloading: 100%"
          }
        },
        "43adbe50349749e1a38e5dc30160c0a7": {
          "model_module": "@jupyter-widgets/controls",
          "model_module_version": "1.5.0",
          "model_name": "HTMLModel",
          "state": {
            "_dom_classes": [],
            "_model_module": "@jupyter-widgets/controls",
            "_model_module_version": "1.5.0",
            "_model_name": "HTMLModel",
            "_view_count": null,
            "_view_module": "@jupyter-widgets/controls",
            "_view_module_version": "1.5.0",
            "_view_name": "HTMLView",
            "description": "",
            "description_tooltip": null,
            "layout": "IPY_MODEL_8ed5a8bc375d437bacbb0f92f45aba64",
            "placeholder": "​",
            "style": "IPY_MODEL_20e50683bd49420e9ef2aae6c0085ad1",
            "value": " 85.0/85.0 [00:00&lt;00:00, 2.65kB/s]"
          }
        },
        "4503eb509a514078a1f89a37469e88df": {
          "model_module": "@jupyter-widgets/controls",
          "model_module_version": "1.5.0",
          "model_name": "DescriptionStyleModel",
          "state": {
            "_model_module": "@jupyter-widgets/controls",
            "_model_module_version": "1.5.0",
            "_model_name": "DescriptionStyleModel",
            "_view_count": null,
            "_view_module": "@jupyter-widgets/base",
            "_view_module_version": "1.2.0",
            "_view_name": "StyleView",
            "description_width": ""
          }
        },
        "45784a539edc4267beb9da5c146f13ce": {
          "model_module": "@jupyter-widgets/base",
          "model_module_version": "1.2.0",
          "model_name": "LayoutModel",
          "state": {
            "_model_module": "@jupyter-widgets/base",
            "_model_module_version": "1.2.0",
            "_model_name": "LayoutModel",
            "_view_count": null,
            "_view_module": "@jupyter-widgets/base",
            "_view_module_version": "1.2.0",
            "_view_name": "LayoutView",
            "align_content": null,
            "align_items": null,
            "align_self": null,
            "border": null,
            "bottom": null,
            "display": null,
            "flex": null,
            "flex_flow": null,
            "grid_area": null,
            "grid_auto_columns": null,
            "grid_auto_flow": null,
            "grid_auto_rows": null,
            "grid_column": null,
            "grid_gap": null,
            "grid_row": null,
            "grid_template_areas": null,
            "grid_template_columns": null,
            "grid_template_rows": null,
            "height": null,
            "justify_content": null,
            "justify_items": null,
            "left": null,
            "margin": null,
            "max_height": null,
            "max_width": null,
            "min_height": null,
            "min_width": null,
            "object_fit": null,
            "object_position": null,
            "order": null,
            "overflow": null,
            "overflow_x": null,
            "overflow_y": null,
            "padding": null,
            "right": null,
            "top": null,
            "visibility": null,
            "width": null
          }
        },
        "46010f0757c84cc78ed1cb48ebdd794d": {
          "model_module": "@jupyter-widgets/controls",
          "model_module_version": "1.5.0",
          "model_name": "FloatProgressModel",
          "state": {
            "_dom_classes": [],
            "_model_module": "@jupyter-widgets/controls",
            "_model_module_version": "1.5.0",
            "_model_name": "FloatProgressModel",
            "_view_count": null,
            "_view_module": "@jupyter-widgets/controls",
            "_view_module_version": "1.5.0",
            "_view_name": "ProgressView",
            "bar_style": "success",
            "description": "",
            "description_tooltip": null,
            "layout": "IPY_MODEL_cef2ef24c0484a678bb8937603d72b14",
            "max": 85,
            "min": 0,
            "orientation": "horizontal",
            "style": "IPY_MODEL_b68d05c1e17e481eafeedc63c4851e6b",
            "value": 85
          }
        },
        "46f48fa158e4412fa3a3347cc5496a21": {
          "model_module": "@jupyter-widgets/controls",
          "model_module_version": "1.5.0",
          "model_name": "ButtonModel",
          "state": {
            "_dom_classes": [],
            "_model_module": "@jupyter-widgets/controls",
            "_model_module_version": "1.5.0",
            "_model_name": "ButtonModel",
            "_view_count": null,
            "_view_module": "@jupyter-widgets/controls",
            "_view_module_version": "1.5.0",
            "_view_name": "ButtonView",
            "button_style": "",
            "description": "Login",
            "disabled": false,
            "icon": "",
            "layout": "IPY_MODEL_77bbcbf4c4f6467888a3037455d37ea9",
            "style": "IPY_MODEL_28d42d84960441828bc3b99bb36dbbc8",
            "tooltip": ""
          }
        },
        "49ec9cd68a26459fbe524d22457fbfb3": {
          "model_module": "@jupyter-widgets/base",
          "model_module_version": "1.2.0",
          "model_name": "LayoutModel",
          "state": {
            "_model_module": "@jupyter-widgets/base",
            "_model_module_version": "1.2.0",
            "_model_name": "LayoutModel",
            "_view_count": null,
            "_view_module": "@jupyter-widgets/base",
            "_view_module_version": "1.2.0",
            "_view_name": "LayoutView",
            "align_content": null,
            "align_items": null,
            "align_self": null,
            "border": null,
            "bottom": null,
            "display": null,
            "flex": null,
            "flex_flow": null,
            "grid_area": null,
            "grid_auto_columns": null,
            "grid_auto_flow": null,
            "grid_auto_rows": null,
            "grid_column": null,
            "grid_gap": null,
            "grid_row": null,
            "grid_template_areas": null,
            "grid_template_columns": null,
            "grid_template_rows": null,
            "height": null,
            "justify_content": null,
            "justify_items": null,
            "left": null,
            "margin": null,
            "max_height": null,
            "max_width": null,
            "min_height": null,
            "min_width": null,
            "object_fit": null,
            "object_position": null,
            "order": null,
            "overflow": null,
            "overflow_x": null,
            "overflow_y": null,
            "padding": null,
            "right": null,
            "top": null,
            "visibility": null,
            "width": null
          }
        },
        "4ecd0f4e2b2444ac87ab1c96da38bc12": {
          "model_module": "@jupyter-widgets/base",
          "model_module_version": "1.2.0",
          "model_name": "LayoutModel",
          "state": {
            "_model_module": "@jupyter-widgets/base",
            "_model_module_version": "1.2.0",
            "_model_name": "LayoutModel",
            "_view_count": null,
            "_view_module": "@jupyter-widgets/base",
            "_view_module_version": "1.2.0",
            "_view_name": "LayoutView",
            "align_content": null,
            "align_items": null,
            "align_self": null,
            "border": null,
            "bottom": null,
            "display": null,
            "flex": null,
            "flex_flow": null,
            "grid_area": null,
            "grid_auto_columns": null,
            "grid_auto_flow": null,
            "grid_auto_rows": null,
            "grid_column": null,
            "grid_gap": null,
            "grid_row": null,
            "grid_template_areas": null,
            "grid_template_columns": null,
            "grid_template_rows": null,
            "height": null,
            "justify_content": null,
            "justify_items": null,
            "left": null,
            "margin": null,
            "max_height": null,
            "max_width": null,
            "min_height": null,
            "min_width": null,
            "object_fit": null,
            "object_position": null,
            "order": null,
            "overflow": null,
            "overflow_x": null,
            "overflow_y": null,
            "padding": null,
            "right": null,
            "top": null,
            "visibility": null,
            "width": null
          }
        },
        "507868ff2e854637ab48b2a204bacbfc": {
          "model_module": "@jupyter-widgets/controls",
          "model_module_version": "1.5.0",
          "model_name": "DescriptionStyleModel",
          "state": {
            "_model_module": "@jupyter-widgets/controls",
            "_model_module_version": "1.5.0",
            "_model_name": "DescriptionStyleModel",
            "_view_count": null,
            "_view_module": "@jupyter-widgets/base",
            "_view_module_version": "1.2.0",
            "_view_name": "StyleView",
            "description_width": ""
          }
        },
        "509b46da21a94246adc513c8c50d2cc9": {
          "model_module": "@jupyter-widgets/controls",
          "model_module_version": "1.5.0",
          "model_name": "DescriptionStyleModel",
          "state": {
            "_model_module": "@jupyter-widgets/controls",
            "_model_module_version": "1.5.0",
            "_model_name": "DescriptionStyleModel",
            "_view_count": null,
            "_view_module": "@jupyter-widgets/base",
            "_view_module_version": "1.2.0",
            "_view_name": "StyleView",
            "description_width": ""
          }
        },
        "51a85dd15071420582316df7d98868c3": {
          "model_module": "@jupyter-widgets/controls",
          "model_module_version": "1.5.0",
          "model_name": "HTMLModel",
          "state": {
            "_dom_classes": [],
            "_model_module": "@jupyter-widgets/controls",
            "_model_module_version": "1.5.0",
            "_model_name": "HTMLModel",
            "_view_count": null,
            "_view_module": "@jupyter-widgets/controls",
            "_view_module_version": "1.5.0",
            "_view_name": "HTMLView",
            "description": "",
            "description_tooltip": null,
            "layout": "IPY_MODEL_10deb8d48a6d41e0897d205567d2df21",
            "placeholder": "​",
            "style": "IPY_MODEL_5ce89147351b46bf9173278309421ad9",
            "value": "<center> <img\nsrc=https://huggingface.co/front/assets/huggingface_logo-noborder.svg\nalt='Hugging Face'> <br> Copy a token from <a\nhref=\"https://huggingface.co/settings/tokens\" target=\"_blank\">your Hugging Face\ntokens page</a> and paste it below. <br> Immediately click login after copying\nyour token or it might be stored in plain text in this notebook file. </center>"
          }
        },
        "52626666dee447ca95bd82f13b5fe4c9": {
          "model_module": "@jupyter-widgets/base",
          "model_module_version": "1.2.0",
          "model_name": "LayoutModel",
          "state": {
            "_model_module": "@jupyter-widgets/base",
            "_model_module_version": "1.2.0",
            "_model_name": "LayoutModel",
            "_view_count": null,
            "_view_module": "@jupyter-widgets/base",
            "_view_module_version": "1.2.0",
            "_view_name": "LayoutView",
            "align_content": null,
            "align_items": null,
            "align_self": null,
            "border": null,
            "bottom": null,
            "display": null,
            "flex": null,
            "flex_flow": null,
            "grid_area": null,
            "grid_auto_columns": null,
            "grid_auto_flow": null,
            "grid_auto_rows": null,
            "grid_column": null,
            "grid_gap": null,
            "grid_row": null,
            "grid_template_areas": null,
            "grid_template_columns": null,
            "grid_template_rows": null,
            "height": null,
            "justify_content": null,
            "justify_items": null,
            "left": null,
            "margin": null,
            "max_height": null,
            "max_width": null,
            "min_height": null,
            "min_width": null,
            "object_fit": null,
            "object_position": null,
            "order": null,
            "overflow": null,
            "overflow_x": null,
            "overflow_y": null,
            "padding": null,
            "right": null,
            "top": null,
            "visibility": null,
            "width": null
          }
        },
        "533b9e0231564d479e64e4f5335c6d89": {
          "model_module": "@jupyter-widgets/controls",
          "model_module_version": "1.5.0",
          "model_name": "HBoxModel",
          "state": {
            "_dom_classes": [],
            "_model_module": "@jupyter-widgets/controls",
            "_model_module_version": "1.5.0",
            "_model_name": "HBoxModel",
            "_view_count": null,
            "_view_module": "@jupyter-widgets/controls",
            "_view_module_version": "1.5.0",
            "_view_name": "HBoxView",
            "box_style": "",
            "children": [
              "IPY_MODEL_3796f42eca264b859e872b8356091370",
              "IPY_MODEL_c42160055dd84bd48aa86fcd9e850339",
              "IPY_MODEL_f5bd30f3cf9147bf9a2a4fdf2c9c4770"
            ],
            "layout": "IPY_MODEL_e1fdc4939c48409eb380c0b227a47714"
          }
        },
        "5555718f9f2349318a8230525bab7aee": {
          "model_module": "@jupyter-widgets/controls",
          "model_module_version": "1.5.0",
          "model_name": "HBoxModel",
          "state": {
            "_dom_classes": [],
            "_model_module": "@jupyter-widgets/controls",
            "_model_module_version": "1.5.0",
            "_model_name": "HBoxModel",
            "_view_count": null,
            "_view_module": "@jupyter-widgets/controls",
            "_view_module_version": "1.5.0",
            "_view_name": "HBoxView",
            "box_style": "",
            "children": [
              "IPY_MODEL_de4f0a28d85c41b6862bb926cc1e950a",
              "IPY_MODEL_0db6e84fa2bf465cb8b150db3addfc8c",
              "IPY_MODEL_c0b42eef27954665b08e96e1cfd75f5c"
            ],
            "layout": "IPY_MODEL_3b7d10796bd040f28ebb819b54233ef1"
          }
        },
        "56c65e3ba1c847ad958c5244e85255d8": {
          "model_module": "@jupyter-widgets/controls",
          "model_module_version": "1.5.0",
          "model_name": "HTMLModel",
          "state": {
            "_dom_classes": [],
            "_model_module": "@jupyter-widgets/controls",
            "_model_module_version": "1.5.0",
            "_model_name": "HTMLModel",
            "_view_count": null,
            "_view_module": "@jupyter-widgets/controls",
            "_view_module_version": "1.5.0",
            "_view_name": "HTMLView",
            "description": "",
            "description_tooltip": null,
            "layout": "IPY_MODEL_b0873ccc8df44d1abfbca45ee00e67dc",
            "placeholder": "​",
            "style": "IPY_MODEL_6de03dc43d4e4d9f81cbfd969612bb2d",
            "value": "100%"
          }
        },
        "5716b0b53dc141978fb9900e35787877": {
          "model_module": "@jupyter-widgets/controls",
          "model_module_version": "1.5.0",
          "model_name": "ProgressStyleModel",
          "state": {
            "_model_module": "@jupyter-widgets/controls",
            "_model_module_version": "1.5.0",
            "_model_name": "ProgressStyleModel",
            "_view_count": null,
            "_view_module": "@jupyter-widgets/base",
            "_view_module_version": "1.2.0",
            "_view_name": "StyleView",
            "bar_color": null,
            "description_width": ""
          }
        },
        "57e938fdff904c46b661bf4d369ddb95": {
          "model_module": "@jupyter-widgets/base",
          "model_module_version": "1.2.0",
          "model_name": "LayoutModel",
          "state": {
            "_model_module": "@jupyter-widgets/base",
            "_model_module_version": "1.2.0",
            "_model_name": "LayoutModel",
            "_view_count": null,
            "_view_module": "@jupyter-widgets/base",
            "_view_module_version": "1.2.0",
            "_view_name": "LayoutView",
            "align_content": null,
            "align_items": null,
            "align_self": null,
            "border": null,
            "bottom": null,
            "display": null,
            "flex": null,
            "flex_flow": null,
            "grid_area": null,
            "grid_auto_columns": null,
            "grid_auto_flow": null,
            "grid_auto_rows": null,
            "grid_column": null,
            "grid_gap": null,
            "grid_row": null,
            "grid_template_areas": null,
            "grid_template_columns": null,
            "grid_template_rows": null,
            "height": null,
            "justify_content": null,
            "justify_items": null,
            "left": null,
            "margin": null,
            "max_height": null,
            "max_width": null,
            "min_height": null,
            "min_width": null,
            "object_fit": null,
            "object_position": null,
            "order": null,
            "overflow": null,
            "overflow_x": null,
            "overflow_y": null,
            "padding": null,
            "right": null,
            "top": null,
            "visibility": null,
            "width": null
          }
        },
        "5ce89147351b46bf9173278309421ad9": {
          "model_module": "@jupyter-widgets/controls",
          "model_module_version": "1.5.0",
          "model_name": "DescriptionStyleModel",
          "state": {
            "_model_module": "@jupyter-widgets/controls",
            "_model_module_version": "1.5.0",
            "_model_name": "DescriptionStyleModel",
            "_view_count": null,
            "_view_module": "@jupyter-widgets/base",
            "_view_module_version": "1.2.0",
            "_view_name": "StyleView",
            "description_width": ""
          }
        },
        "5dc72c5b47444246a04ec8d6e3888b05": {
          "model_module": "@jupyter-widgets/base",
          "model_module_version": "1.2.0",
          "model_name": "LayoutModel",
          "state": {
            "_model_module": "@jupyter-widgets/base",
            "_model_module_version": "1.2.0",
            "_model_name": "LayoutModel",
            "_view_count": null,
            "_view_module": "@jupyter-widgets/base",
            "_view_module_version": "1.2.0",
            "_view_name": "LayoutView",
            "align_content": null,
            "align_items": null,
            "align_self": null,
            "border": null,
            "bottom": null,
            "display": null,
            "flex": null,
            "flex_flow": null,
            "grid_area": null,
            "grid_auto_columns": null,
            "grid_auto_flow": null,
            "grid_auto_rows": null,
            "grid_column": null,
            "grid_gap": null,
            "grid_row": null,
            "grid_template_areas": null,
            "grid_template_columns": null,
            "grid_template_rows": null,
            "height": null,
            "justify_content": null,
            "justify_items": null,
            "left": null,
            "margin": null,
            "max_height": null,
            "max_width": null,
            "min_height": null,
            "min_width": null,
            "object_fit": null,
            "object_position": null,
            "order": null,
            "overflow": null,
            "overflow_x": null,
            "overflow_y": null,
            "padding": null,
            "right": null,
            "top": null,
            "visibility": null,
            "width": null
          }
        },
        "65de422f46154c50b39eae49dc2e4d31": {
          "model_module": "@jupyter-widgets/base",
          "model_module_version": "1.2.0",
          "model_name": "LayoutModel",
          "state": {
            "_model_module": "@jupyter-widgets/base",
            "_model_module_version": "1.2.0",
            "_model_name": "LayoutModel",
            "_view_count": null,
            "_view_module": "@jupyter-widgets/base",
            "_view_module_version": "1.2.0",
            "_view_name": "LayoutView",
            "align_content": null,
            "align_items": null,
            "align_self": null,
            "border": null,
            "bottom": null,
            "display": null,
            "flex": null,
            "flex_flow": null,
            "grid_area": null,
            "grid_auto_columns": null,
            "grid_auto_flow": null,
            "grid_auto_rows": null,
            "grid_column": null,
            "grid_gap": null,
            "grid_row": null,
            "grid_template_areas": null,
            "grid_template_columns": null,
            "grid_template_rows": null,
            "height": null,
            "justify_content": null,
            "justify_items": null,
            "left": null,
            "margin": null,
            "max_height": null,
            "max_width": null,
            "min_height": null,
            "min_width": null,
            "object_fit": null,
            "object_position": null,
            "order": null,
            "overflow": null,
            "overflow_x": null,
            "overflow_y": null,
            "padding": null,
            "right": null,
            "top": null,
            "visibility": null,
            "width": null
          }
        },
        "6972e66d621748588074406cc0338724": {
          "model_module": "@jupyter-widgets/controls",
          "model_module_version": "1.5.0",
          "model_name": "HTMLModel",
          "state": {
            "_dom_classes": [],
            "_model_module": "@jupyter-widgets/controls",
            "_model_module_version": "1.5.0",
            "_model_name": "HTMLModel",
            "_view_count": null,
            "_view_module": "@jupyter-widgets/controls",
            "_view_module_version": "1.5.0",
            "_view_name": "HTMLView",
            "description": "",
            "description_tooltip": null,
            "layout": "IPY_MODEL_4160a17a6ddd46d7a30ffe39c3c0976f",
            "placeholder": "​",
            "style": "IPY_MODEL_415702055d824772b603c4701a6ea850",
            "value": "Downloading: 100%"
          }
        },
        "6de03dc43d4e4d9f81cbfd969612bb2d": {
          "model_module": "@jupyter-widgets/controls",
          "model_module_version": "1.5.0",
          "model_name": "DescriptionStyleModel",
          "state": {
            "_model_module": "@jupyter-widgets/controls",
            "_model_module_version": "1.5.0",
            "_model_name": "DescriptionStyleModel",
            "_view_count": null,
            "_view_module": "@jupyter-widgets/base",
            "_view_module_version": "1.2.0",
            "_view_name": "StyleView",
            "description_width": ""
          }
        },
        "724926daa37440b3a259a0e1c1fbb93d": {
          "model_module": "@jupyter-widgets/controls",
          "model_module_version": "1.5.0",
          "model_name": "HTMLModel",
          "state": {
            "_dom_classes": [],
            "_model_module": "@jupyter-widgets/controls",
            "_model_module_version": "1.5.0",
            "_model_name": "HTMLModel",
            "_view_count": null,
            "_view_module": "@jupyter-widgets/controls",
            "_view_module_version": "1.5.0",
            "_view_name": "HTMLView",
            "description": "",
            "description_tooltip": null,
            "layout": "IPY_MODEL_d5f18942b4014d39ba9b26d9cb3f73af",
            "placeholder": "​",
            "style": "IPY_MODEL_428ff0619f28484dbf1f45abc26ce45b",
            "value": " 1/1 [00:24&lt;00:00, 24.24s/ba]"
          }
        },
        "76dde68fefa744058dc154e6325dabab": {
          "model_module": "@jupyter-widgets/controls",
          "model_module_version": "1.5.0",
          "model_name": "DescriptionStyleModel",
          "state": {
            "_model_module": "@jupyter-widgets/controls",
            "_model_module_version": "1.5.0",
            "_model_name": "DescriptionStyleModel",
            "_view_count": null,
            "_view_module": "@jupyter-widgets/base",
            "_view_module_version": "1.2.0",
            "_view_name": "StyleView",
            "description_width": ""
          }
        },
        "77bbcbf4c4f6467888a3037455d37ea9": {
          "model_module": "@jupyter-widgets/base",
          "model_module_version": "1.2.0",
          "model_name": "LayoutModel",
          "state": {
            "_model_module": "@jupyter-widgets/base",
            "_model_module_version": "1.2.0",
            "_model_name": "LayoutModel",
            "_view_count": null,
            "_view_module": "@jupyter-widgets/base",
            "_view_module_version": "1.2.0",
            "_view_name": "LayoutView",
            "align_content": null,
            "align_items": null,
            "align_self": null,
            "border": null,
            "bottom": null,
            "display": null,
            "flex": null,
            "flex_flow": null,
            "grid_area": null,
            "grid_auto_columns": null,
            "grid_auto_flow": null,
            "grid_auto_rows": null,
            "grid_column": null,
            "grid_gap": null,
            "grid_row": null,
            "grid_template_areas": null,
            "grid_template_columns": null,
            "grid_template_rows": null,
            "height": null,
            "justify_content": null,
            "justify_items": null,
            "left": null,
            "margin": null,
            "max_height": null,
            "max_width": null,
            "min_height": null,
            "min_width": null,
            "object_fit": null,
            "object_position": null,
            "order": null,
            "overflow": null,
            "overflow_x": null,
            "overflow_y": null,
            "padding": null,
            "right": null,
            "top": null,
            "visibility": null,
            "width": null
          }
        },
        "7f015e7351df4204a1bef56fabc37559": {
          "model_module": "@jupyter-widgets/controls",
          "model_module_version": "1.5.0",
          "model_name": "HBoxModel",
          "state": {
            "_dom_classes": [],
            "_model_module": "@jupyter-widgets/controls",
            "_model_module_version": "1.5.0",
            "_model_name": "HBoxModel",
            "_view_count": null,
            "_view_module": "@jupyter-widgets/controls",
            "_view_module_version": "1.5.0",
            "_view_name": "HBoxView",
            "box_style": "",
            "children": [
              "IPY_MODEL_a953ec443ac2483f8e22b89e23317508",
              "IPY_MODEL_46010f0757c84cc78ed1cb48ebdd794d",
              "IPY_MODEL_43adbe50349749e1a38e5dc30160c0a7"
            ],
            "layout": "IPY_MODEL_3602502578b44cf782204c875794ea70"
          }
        },
        "81237b951c97493c887a2769731369a8": {
          "model_module": "@jupyter-widgets/base",
          "model_module_version": "1.2.0",
          "model_name": "LayoutModel",
          "state": {
            "_model_module": "@jupyter-widgets/base",
            "_model_module_version": "1.2.0",
            "_model_name": "LayoutModel",
            "_view_count": null,
            "_view_module": "@jupyter-widgets/base",
            "_view_module_version": "1.2.0",
            "_view_name": "LayoutView",
            "align_content": null,
            "align_items": null,
            "align_self": null,
            "border": null,
            "bottom": null,
            "display": null,
            "flex": null,
            "flex_flow": null,
            "grid_area": null,
            "grid_auto_columns": null,
            "grid_auto_flow": null,
            "grid_auto_rows": null,
            "grid_column": null,
            "grid_gap": null,
            "grid_row": null,
            "grid_template_areas": null,
            "grid_template_columns": null,
            "grid_template_rows": null,
            "height": null,
            "justify_content": null,
            "justify_items": null,
            "left": null,
            "margin": null,
            "max_height": null,
            "max_width": null,
            "min_height": null,
            "min_width": null,
            "object_fit": null,
            "object_position": null,
            "order": null,
            "overflow": null,
            "overflow_x": null,
            "overflow_y": null,
            "padding": null,
            "right": null,
            "top": null,
            "visibility": null,
            "width": null
          }
        },
        "82a45f883f7843beb144b58841e35fdd": {
          "model_module": "@jupyter-widgets/controls",
          "model_module_version": "1.5.0",
          "model_name": "HBoxModel",
          "state": {
            "_dom_classes": [],
            "_model_module": "@jupyter-widgets/controls",
            "_model_module_version": "1.5.0",
            "_model_name": "HBoxModel",
            "_view_count": null,
            "_view_module": "@jupyter-widgets/controls",
            "_view_module_version": "1.5.0",
            "_view_name": "HBoxView",
            "box_style": "",
            "children": [
              "IPY_MODEL_56c65e3ba1c847ad958c5244e85255d8",
              "IPY_MODEL_8a20c9b8f62348de8c5c2f3f472d399f",
              "IPY_MODEL_724926daa37440b3a259a0e1c1fbb93d"
            ],
            "layout": "IPY_MODEL_dea593b1f54a477ead0f9dc2143f2ab4"
          }
        },
        "89d85b45e7d24b2ebb46a58f2ccd0cb8": {
          "model_module": "@jupyter-widgets/controls",
          "model_module_version": "1.5.0",
          "model_name": "ProgressStyleModel",
          "state": {
            "_model_module": "@jupyter-widgets/controls",
            "_model_module_version": "1.5.0",
            "_model_name": "ProgressStyleModel",
            "_view_count": null,
            "_view_module": "@jupyter-widgets/base",
            "_view_module_version": "1.2.0",
            "_view_name": "StyleView",
            "bar_color": null,
            "description_width": ""
          }
        },
        "8a20c9b8f62348de8c5c2f3f472d399f": {
          "model_module": "@jupyter-widgets/controls",
          "model_module_version": "1.5.0",
          "model_name": "FloatProgressModel",
          "state": {
            "_dom_classes": [],
            "_model_module": "@jupyter-widgets/controls",
            "_model_module_version": "1.5.0",
            "_model_name": "FloatProgressModel",
            "_view_count": null,
            "_view_module": "@jupyter-widgets/controls",
            "_view_module_version": "1.5.0",
            "_view_name": "ProgressView",
            "bar_style": "success",
            "description": "",
            "description_tooltip": null,
            "layout": "IPY_MODEL_57e938fdff904c46b661bf4d369ddb95",
            "max": 1,
            "min": 0,
            "orientation": "horizontal",
            "style": "IPY_MODEL_5716b0b53dc141978fb9900e35787877",
            "value": 1
          }
        },
        "8eb89b5854c74677b210e104ba856b2a": {
          "model_module": "@jupyter-widgets/base",
          "model_module_version": "1.2.0",
          "model_name": "LayoutModel",
          "state": {
            "_model_module": "@jupyter-widgets/base",
            "_model_module_version": "1.2.0",
            "_model_name": "LayoutModel",
            "_view_count": null,
            "_view_module": "@jupyter-widgets/base",
            "_view_module_version": "1.2.0",
            "_view_name": "LayoutView",
            "align_content": null,
            "align_items": null,
            "align_self": null,
            "border": null,
            "bottom": null,
            "display": null,
            "flex": null,
            "flex_flow": null,
            "grid_area": null,
            "grid_auto_columns": null,
            "grid_auto_flow": null,
            "grid_auto_rows": null,
            "grid_column": null,
            "grid_gap": null,
            "grid_row": null,
            "grid_template_areas": null,
            "grid_template_columns": null,
            "grid_template_rows": null,
            "height": null,
            "justify_content": null,
            "justify_items": null,
            "left": null,
            "margin": null,
            "max_height": null,
            "max_width": null,
            "min_height": null,
            "min_width": null,
            "object_fit": null,
            "object_position": null,
            "order": null,
            "overflow": null,
            "overflow_x": null,
            "overflow_y": null,
            "padding": null,
            "right": null,
            "top": null,
            "visibility": null,
            "width": null
          }
        },
        "8ed5a8bc375d437bacbb0f92f45aba64": {
          "model_module": "@jupyter-widgets/base",
          "model_module_version": "1.2.0",
          "model_name": "LayoutModel",
          "state": {
            "_model_module": "@jupyter-widgets/base",
            "_model_module_version": "1.2.0",
            "_model_name": "LayoutModel",
            "_view_count": null,
            "_view_module": "@jupyter-widgets/base",
            "_view_module_version": "1.2.0",
            "_view_name": "LayoutView",
            "align_content": null,
            "align_items": null,
            "align_self": null,
            "border": null,
            "bottom": null,
            "display": null,
            "flex": null,
            "flex_flow": null,
            "grid_area": null,
            "grid_auto_columns": null,
            "grid_auto_flow": null,
            "grid_auto_rows": null,
            "grid_column": null,
            "grid_gap": null,
            "grid_row": null,
            "grid_template_areas": null,
            "grid_template_columns": null,
            "grid_template_rows": null,
            "height": null,
            "justify_content": null,
            "justify_items": null,
            "left": null,
            "margin": null,
            "max_height": null,
            "max_width": null,
            "min_height": null,
            "min_width": null,
            "object_fit": null,
            "object_position": null,
            "order": null,
            "overflow": null,
            "overflow_x": null,
            "overflow_y": null,
            "padding": null,
            "right": null,
            "top": null,
            "visibility": null,
            "width": null
          }
        },
        "900c6c1807d14a0ea53725a944fd02f1": {
          "model_module": "@jupyter-widgets/base",
          "model_module_version": "1.2.0",
          "model_name": "LayoutModel",
          "state": {
            "_model_module": "@jupyter-widgets/base",
            "_model_module_version": "1.2.0",
            "_model_name": "LayoutModel",
            "_view_count": null,
            "_view_module": "@jupyter-widgets/base",
            "_view_module_version": "1.2.0",
            "_view_name": "LayoutView",
            "align_content": null,
            "align_items": null,
            "align_self": null,
            "border": null,
            "bottom": null,
            "display": null,
            "flex": null,
            "flex_flow": null,
            "grid_area": null,
            "grid_auto_columns": null,
            "grid_auto_flow": null,
            "grid_auto_rows": null,
            "grid_column": null,
            "grid_gap": null,
            "grid_row": null,
            "grid_template_areas": null,
            "grid_template_columns": null,
            "grid_template_rows": null,
            "height": null,
            "justify_content": null,
            "justify_items": null,
            "left": null,
            "margin": null,
            "max_height": null,
            "max_width": null,
            "min_height": null,
            "min_width": null,
            "object_fit": null,
            "object_position": null,
            "order": null,
            "overflow": null,
            "overflow_x": null,
            "overflow_y": null,
            "padding": null,
            "right": null,
            "top": null,
            "visibility": null,
            "width": null
          }
        },
        "906bab11b2f24c438633d435084c92b5": {
          "model_module": "@jupyter-widgets/base",
          "model_module_version": "1.2.0",
          "model_name": "LayoutModel",
          "state": {
            "_model_module": "@jupyter-widgets/base",
            "_model_module_version": "1.2.0",
            "_model_name": "LayoutModel",
            "_view_count": null,
            "_view_module": "@jupyter-widgets/base",
            "_view_module_version": "1.2.0",
            "_view_name": "LayoutView",
            "align_content": null,
            "align_items": null,
            "align_self": null,
            "border": null,
            "bottom": null,
            "display": null,
            "flex": null,
            "flex_flow": null,
            "grid_area": null,
            "grid_auto_columns": null,
            "grid_auto_flow": null,
            "grid_auto_rows": null,
            "grid_column": null,
            "grid_gap": null,
            "grid_row": null,
            "grid_template_areas": null,
            "grid_template_columns": null,
            "grid_template_rows": null,
            "height": null,
            "justify_content": null,
            "justify_items": null,
            "left": null,
            "margin": null,
            "max_height": null,
            "max_width": null,
            "min_height": null,
            "min_width": null,
            "object_fit": null,
            "object_position": null,
            "order": null,
            "overflow": null,
            "overflow_x": null,
            "overflow_y": null,
            "padding": null,
            "right": null,
            "top": null,
            "visibility": null,
            "width": null
          }
        },
        "96a100523baf4366b6aa77329d120dc2": {
          "model_module": "@jupyter-widgets/base",
          "model_module_version": "1.2.0",
          "model_name": "LayoutModel",
          "state": {
            "_model_module": "@jupyter-widgets/base",
            "_model_module_version": "1.2.0",
            "_model_name": "LayoutModel",
            "_view_count": null,
            "_view_module": "@jupyter-widgets/base",
            "_view_module_version": "1.2.0",
            "_view_name": "LayoutView",
            "align_content": null,
            "align_items": null,
            "align_self": null,
            "border": null,
            "bottom": null,
            "display": null,
            "flex": null,
            "flex_flow": null,
            "grid_area": null,
            "grid_auto_columns": null,
            "grid_auto_flow": null,
            "grid_auto_rows": null,
            "grid_column": null,
            "grid_gap": null,
            "grid_row": null,
            "grid_template_areas": null,
            "grid_template_columns": null,
            "grid_template_rows": null,
            "height": null,
            "justify_content": null,
            "justify_items": null,
            "left": null,
            "margin": null,
            "max_height": null,
            "max_width": null,
            "min_height": null,
            "min_width": null,
            "object_fit": null,
            "object_position": null,
            "order": null,
            "overflow": null,
            "overflow_x": null,
            "overflow_y": null,
            "padding": null,
            "right": null,
            "top": null,
            "visibility": null,
            "width": null
          }
        },
        "982e69be6eee44f780ea651e08fb46db": {
          "model_module": "@jupyter-widgets/base",
          "model_module_version": "1.2.0",
          "model_name": "LayoutModel",
          "state": {
            "_model_module": "@jupyter-widgets/base",
            "_model_module_version": "1.2.0",
            "_model_name": "LayoutModel",
            "_view_count": null,
            "_view_module": "@jupyter-widgets/base",
            "_view_module_version": "1.2.0",
            "_view_name": "LayoutView",
            "align_content": null,
            "align_items": null,
            "align_self": null,
            "border": null,
            "bottom": null,
            "display": null,
            "flex": null,
            "flex_flow": null,
            "grid_area": null,
            "grid_auto_columns": null,
            "grid_auto_flow": null,
            "grid_auto_rows": null,
            "grid_column": null,
            "grid_gap": null,
            "grid_row": null,
            "grid_template_areas": null,
            "grid_template_columns": null,
            "grid_template_rows": null,
            "height": null,
            "justify_content": null,
            "justify_items": null,
            "left": null,
            "margin": null,
            "max_height": null,
            "max_width": null,
            "min_height": null,
            "min_width": null,
            "object_fit": null,
            "object_position": null,
            "order": null,
            "overflow": null,
            "overflow_x": null,
            "overflow_y": null,
            "padding": null,
            "right": null,
            "top": null,
            "visibility": null,
            "width": null
          }
        },
        "99d0cadfca28484da4f502f4cf6cd09e": {
          "model_module": "@jupyter-widgets/controls",
          "model_module_version": "1.5.0",
          "model_name": "ButtonModel",
          "state": {
            "_dom_classes": [],
            "_model_module": "@jupyter-widgets/controls",
            "_model_module_version": "1.5.0",
            "_model_name": "ButtonModel",
            "_view_count": null,
            "_view_module": "@jupyter-widgets/controls",
            "_view_module_version": "1.5.0",
            "_view_name": "ButtonView",
            "button_style": "",
            "description": "Use password",
            "disabled": false,
            "icon": "",
            "layout": "IPY_MODEL_2579a03859fa4391a1c78e1ac3045299",
            "style": "IPY_MODEL_a58c89230ced455097f33bd1553fc347",
            "tooltip": ""
          }
        },
        "9d514df149ec40e8ae80afbb58e38f71": {
          "model_module": "@jupyter-widgets/controls",
          "model_module_version": "1.5.0",
          "model_name": "HTMLModel",
          "state": {
            "_dom_classes": [],
            "_model_module": "@jupyter-widgets/controls",
            "_model_module_version": "1.5.0",
            "_model_name": "HTMLModel",
            "_view_count": null,
            "_view_module": "@jupyter-widgets/controls",
            "_view_module_version": "1.5.0",
            "_view_name": "HTMLView",
            "description": "",
            "description_tooltip": null,
            "layout": "IPY_MODEL_0fbfefbb0d3c41939bb0995117988173",
            "placeholder": "​",
            "style": "IPY_MODEL_b265a9019aca4f3b93d1501ed3d2eee7",
            "value": "\n<b>Pro Tip:</b> If you don't already have one, you can create a dedicated\n'notebooks' token with 'write' access, that you can then easily reuse for all\nnotebooks. <br> <i>Logging in with your username and password is deprecated and\nwon't be possible anymore in the near future. You can still use them for now by\nclicking below.</i> </center>"
          }
        },
        "9de3788167fe4f40b73fc20a934ca27b": {
          "model_module": "@jupyter-widgets/controls",
          "model_module_version": "1.5.0",
          "model_name": "FloatProgressModel",
          "state": {
            "_dom_classes": [],
            "_model_module": "@jupyter-widgets/controls",
            "_model_module_version": "1.5.0",
            "_model_name": "FloatProgressModel",
            "_view_count": null,
            "_view_module": "@jupyter-widgets/controls",
            "_view_module_version": "1.5.0",
            "_view_name": "ProgressView",
            "bar_style": "success",
            "description": "",
            "description_tooltip": null,
            "layout": "IPY_MODEL_389d9a4061734dedb2a52fb0d19b9a99",
            "max": 215,
            "min": 0,
            "orientation": "horizontal",
            "style": "IPY_MODEL_2a5377e77f0744c99586fb5661923abf",
            "value": 215
          }
        },
        "9df95193667a4554862777a8a49e807c": {
          "model_module": "@jupyter-widgets/controls",
          "model_module_version": "1.5.0",
          "model_name": "ProgressStyleModel",
          "state": {
            "_model_module": "@jupyter-widgets/controls",
            "_model_module_version": "1.5.0",
            "_model_name": "ProgressStyleModel",
            "_view_count": null,
            "_view_module": "@jupyter-widgets/base",
            "_view_module_version": "1.2.0",
            "_view_name": "StyleView",
            "bar_color": null,
            "description_width": ""
          }
        },
        "a01c0e6ae52d4d2587e3b7d7cc49de19": {
          "model_module": "@jupyter-widgets/controls",
          "model_module_version": "1.5.0",
          "model_name": "PasswordModel",
          "state": {
            "_dom_classes": [],
            "_model_module": "@jupyter-widgets/controls",
            "_model_module_version": "1.5.0",
            "_model_name": "PasswordModel",
            "_view_count": null,
            "_view_module": "@jupyter-widgets/controls",
            "_view_module_version": "1.5.0",
            "_view_name": "PasswordView",
            "continuous_update": true,
            "description": "Token:",
            "description_tooltip": null,
            "disabled": false,
            "layout": "IPY_MODEL_c6874f97c75f4e8eac15d4723d86569e",
            "placeholder": "​",
            "style": "IPY_MODEL_a52f49f4574f4caf8da2de9ebccdc710",
            "value": ""
          }
        },
        "a44cb99e43cd4678a2dd523681c737b4": {
          "model_module": "@jupyter-widgets/base",
          "model_module_version": "1.2.0",
          "model_name": "LayoutModel",
          "state": {
            "_model_module": "@jupyter-widgets/base",
            "_model_module_version": "1.2.0",
            "_model_name": "LayoutModel",
            "_view_count": null,
            "_view_module": "@jupyter-widgets/base",
            "_view_module_version": "1.2.0",
            "_view_name": "LayoutView",
            "align_content": null,
            "align_items": null,
            "align_self": null,
            "border": null,
            "bottom": null,
            "display": null,
            "flex": null,
            "flex_flow": null,
            "grid_area": null,
            "grid_auto_columns": null,
            "grid_auto_flow": null,
            "grid_auto_rows": null,
            "grid_column": null,
            "grid_gap": null,
            "grid_row": null,
            "grid_template_areas": null,
            "grid_template_columns": null,
            "grid_template_rows": null,
            "height": null,
            "justify_content": null,
            "justify_items": null,
            "left": null,
            "margin": null,
            "max_height": null,
            "max_width": null,
            "min_height": null,
            "min_width": null,
            "object_fit": null,
            "object_position": null,
            "order": null,
            "overflow": null,
            "overflow_x": null,
            "overflow_y": null,
            "padding": null,
            "right": null,
            "top": null,
            "visibility": null,
            "width": null
          }
        },
        "a4521f2cc713421194e022ef5c81bc0a": {
          "model_module": "@jupyter-widgets/base",
          "model_module_version": "1.2.0",
          "model_name": "LayoutModel",
          "state": {
            "_model_module": "@jupyter-widgets/base",
            "_model_module_version": "1.2.0",
            "_model_name": "LayoutModel",
            "_view_count": null,
            "_view_module": "@jupyter-widgets/base",
            "_view_module_version": "1.2.0",
            "_view_name": "LayoutView",
            "align_content": null,
            "align_items": null,
            "align_self": null,
            "border": null,
            "bottom": null,
            "display": null,
            "flex": null,
            "flex_flow": null,
            "grid_area": null,
            "grid_auto_columns": null,
            "grid_auto_flow": null,
            "grid_auto_rows": null,
            "grid_column": null,
            "grid_gap": null,
            "grid_row": null,
            "grid_template_areas": null,
            "grid_template_columns": null,
            "grid_template_rows": null,
            "height": null,
            "justify_content": null,
            "justify_items": null,
            "left": null,
            "margin": null,
            "max_height": null,
            "max_width": null,
            "min_height": null,
            "min_width": null,
            "object_fit": null,
            "object_position": null,
            "order": null,
            "overflow": null,
            "overflow_x": null,
            "overflow_y": null,
            "padding": null,
            "right": null,
            "top": null,
            "visibility": null,
            "width": null
          }
        },
        "a52f49f4574f4caf8da2de9ebccdc710": {
          "model_module": "@jupyter-widgets/controls",
          "model_module_version": "1.5.0",
          "model_name": "DescriptionStyleModel",
          "state": {
            "_model_module": "@jupyter-widgets/controls",
            "_model_module_version": "1.5.0",
            "_model_name": "DescriptionStyleModel",
            "_view_count": null,
            "_view_module": "@jupyter-widgets/base",
            "_view_module_version": "1.2.0",
            "_view_name": "StyleView",
            "description_width": ""
          }
        },
        "a58c89230ced455097f33bd1553fc347": {
          "model_module": "@jupyter-widgets/controls",
          "model_module_version": "1.5.0",
          "model_name": "ButtonStyleModel",
          "state": {
            "_model_module": "@jupyter-widgets/controls",
            "_model_module_version": "1.5.0",
            "_model_name": "ButtonStyleModel",
            "_view_count": null,
            "_view_module": "@jupyter-widgets/base",
            "_view_module_version": "1.2.0",
            "_view_name": "StyleView",
            "button_color": null,
            "font_weight": ""
          }
        },
        "a7757d815aac40b4952bbd539e41d883": {
          "model_module": "@jupyter-widgets/controls",
          "model_module_version": "1.5.0",
          "model_name": "DescriptionStyleModel",
          "state": {
            "_model_module": "@jupyter-widgets/controls",
            "_model_module_version": "1.5.0",
            "_model_name": "DescriptionStyleModel",
            "_view_count": null,
            "_view_module": "@jupyter-widgets/base",
            "_view_module_version": "1.2.0",
            "_view_name": "StyleView",
            "description_width": ""
          }
        },
        "a953ec443ac2483f8e22b89e23317508": {
          "model_module": "@jupyter-widgets/controls",
          "model_module_version": "1.5.0",
          "model_name": "HTMLModel",
          "state": {
            "_dom_classes": [],
            "_model_module": "@jupyter-widgets/controls",
            "_model_module_version": "1.5.0",
            "_model_name": "HTMLModel",
            "_view_count": null,
            "_view_module": "@jupyter-widgets/controls",
            "_view_module_version": "1.5.0",
            "_view_name": "HTMLView",
            "description": "",
            "description_tooltip": null,
            "layout": "IPY_MODEL_b6f3700c6afc4e1da1fe69738a5d6f98",
            "placeholder": "​",
            "style": "IPY_MODEL_a7757d815aac40b4952bbd539e41d883",
            "value": "Downloading: 100%"
          }
        },
        "a9bcb92e26ce4fad82d45311d3ca15b8": {
          "model_module": "@jupyter-widgets/controls",
          "model_module_version": "1.5.0",
          "model_name": "ProgressStyleModel",
          "state": {
            "_model_module": "@jupyter-widgets/controls",
            "_model_module_version": "1.5.0",
            "_model_name": "ProgressStyleModel",
            "_view_count": null,
            "_view_module": "@jupyter-widgets/base",
            "_view_module_version": "1.2.0",
            "_view_name": "StyleView",
            "bar_color": null,
            "description_width": ""
          }
        },
        "aafd56b437d64e84912f19531ca08227": {
          "model_module": "@jupyter-widgets/controls",
          "model_module_version": "1.5.0",
          "model_name": "HBoxModel",
          "state": {
            "_dom_classes": [],
            "_model_module": "@jupyter-widgets/controls",
            "_model_module_version": "1.5.0",
            "_model_name": "HBoxModel",
            "_view_count": null,
            "_view_module": "@jupyter-widgets/controls",
            "_view_module_version": "1.5.0",
            "_view_name": "HBoxView",
            "box_style": "",
            "children": [
              "IPY_MODEL_06f1eeac68c04c6a840b8585cabef387",
              "IPY_MODEL_bf1a124470384d6db31433542a072697",
              "IPY_MODEL_c87064b3f63c41d0846336ca2da5e4d6"
            ],
            "layout": "IPY_MODEL_8eb89b5854c74677b210e104ba856b2a"
          }
        },
        "ae6d9f3b649f4692941ff9cbbf18af07": {
          "model_module": "@jupyter-widgets/base",
          "model_module_version": "1.2.0",
          "model_name": "LayoutModel",
          "state": {
            "_model_module": "@jupyter-widgets/base",
            "_model_module_version": "1.2.0",
            "_model_name": "LayoutModel",
            "_view_count": null,
            "_view_module": "@jupyter-widgets/base",
            "_view_module_version": "1.2.0",
            "_view_name": "LayoutView",
            "align_content": null,
            "align_items": null,
            "align_self": null,
            "border": null,
            "bottom": null,
            "display": null,
            "flex": null,
            "flex_flow": null,
            "grid_area": null,
            "grid_auto_columns": null,
            "grid_auto_flow": null,
            "grid_auto_rows": null,
            "grid_column": null,
            "grid_gap": null,
            "grid_row": null,
            "grid_template_areas": null,
            "grid_template_columns": null,
            "grid_template_rows": null,
            "height": null,
            "justify_content": null,
            "justify_items": null,
            "left": null,
            "margin": null,
            "max_height": null,
            "max_width": null,
            "min_height": null,
            "min_width": null,
            "object_fit": null,
            "object_position": null,
            "order": null,
            "overflow": null,
            "overflow_x": null,
            "overflow_y": null,
            "padding": null,
            "right": null,
            "top": null,
            "visibility": null,
            "width": null
          }
        },
        "af4179db9e4d48908c812a08476cf75a": {
          "model_module": "@jupyter-widgets/base",
          "model_module_version": "1.2.0",
          "model_name": "LayoutModel",
          "state": {
            "_model_module": "@jupyter-widgets/base",
            "_model_module_version": "1.2.0",
            "_model_name": "LayoutModel",
            "_view_count": null,
            "_view_module": "@jupyter-widgets/base",
            "_view_module_version": "1.2.0",
            "_view_name": "LayoutView",
            "align_content": null,
            "align_items": null,
            "align_self": null,
            "border": null,
            "bottom": null,
            "display": null,
            "flex": null,
            "flex_flow": null,
            "grid_area": null,
            "grid_auto_columns": null,
            "grid_auto_flow": null,
            "grid_auto_rows": null,
            "grid_column": null,
            "grid_gap": null,
            "grid_row": null,
            "grid_template_areas": null,
            "grid_template_columns": null,
            "grid_template_rows": null,
            "height": null,
            "justify_content": null,
            "justify_items": null,
            "left": null,
            "margin": null,
            "max_height": null,
            "max_width": null,
            "min_height": null,
            "min_width": null,
            "object_fit": null,
            "object_position": null,
            "order": null,
            "overflow": null,
            "overflow_x": null,
            "overflow_y": null,
            "padding": null,
            "right": null,
            "top": null,
            "visibility": null,
            "width": null
          }
        },
        "aff551819c68461a8c7035450fe4e397": {
          "model_module": "@jupyter-widgets/base",
          "model_module_version": "1.2.0",
          "model_name": "LayoutModel",
          "state": {
            "_model_module": "@jupyter-widgets/base",
            "_model_module_version": "1.2.0",
            "_model_name": "LayoutModel",
            "_view_count": null,
            "_view_module": "@jupyter-widgets/base",
            "_view_module_version": "1.2.0",
            "_view_name": "LayoutView",
            "align_content": null,
            "align_items": null,
            "align_self": null,
            "border": null,
            "bottom": null,
            "display": null,
            "flex": null,
            "flex_flow": null,
            "grid_area": null,
            "grid_auto_columns": null,
            "grid_auto_flow": null,
            "grid_auto_rows": null,
            "grid_column": null,
            "grid_gap": null,
            "grid_row": null,
            "grid_template_areas": null,
            "grid_template_columns": null,
            "grid_template_rows": null,
            "height": null,
            "justify_content": null,
            "justify_items": null,
            "left": null,
            "margin": null,
            "max_height": null,
            "max_width": null,
            "min_height": null,
            "min_width": null,
            "object_fit": null,
            "object_position": null,
            "order": null,
            "overflow": null,
            "overflow_x": null,
            "overflow_y": null,
            "padding": null,
            "right": null,
            "top": null,
            "visibility": null,
            "width": null
          }
        },
        "b0873ccc8df44d1abfbca45ee00e67dc": {
          "model_module": "@jupyter-widgets/base",
          "model_module_version": "1.2.0",
          "model_name": "LayoutModel",
          "state": {
            "_model_module": "@jupyter-widgets/base",
            "_model_module_version": "1.2.0",
            "_model_name": "LayoutModel",
            "_view_count": null,
            "_view_module": "@jupyter-widgets/base",
            "_view_module_version": "1.2.0",
            "_view_name": "LayoutView",
            "align_content": null,
            "align_items": null,
            "align_self": null,
            "border": null,
            "bottom": null,
            "display": null,
            "flex": null,
            "flex_flow": null,
            "grid_area": null,
            "grid_auto_columns": null,
            "grid_auto_flow": null,
            "grid_auto_rows": null,
            "grid_column": null,
            "grid_gap": null,
            "grid_row": null,
            "grid_template_areas": null,
            "grid_template_columns": null,
            "grid_template_rows": null,
            "height": null,
            "justify_content": null,
            "justify_items": null,
            "left": null,
            "margin": null,
            "max_height": null,
            "max_width": null,
            "min_height": null,
            "min_width": null,
            "object_fit": null,
            "object_position": null,
            "order": null,
            "overflow": null,
            "overflow_x": null,
            "overflow_y": null,
            "padding": null,
            "right": null,
            "top": null,
            "visibility": null,
            "width": null
          }
        },
        "b17d95be5fa94d27ae80a9dc6a60aa33": {
          "model_module": "@jupyter-widgets/controls",
          "model_module_version": "1.5.0",
          "model_name": "ProgressStyleModel",
          "state": {
            "_model_module": "@jupyter-widgets/controls",
            "_model_module_version": "1.5.0",
            "_model_name": "ProgressStyleModel",
            "_view_count": null,
            "_view_module": "@jupyter-widgets/base",
            "_view_module_version": "1.2.0",
            "_view_name": "StyleView",
            "bar_color": null,
            "description_width": ""
          }
        },
        "b265a9019aca4f3b93d1501ed3d2eee7": {
          "model_module": "@jupyter-widgets/controls",
          "model_module_version": "1.5.0",
          "model_name": "DescriptionStyleModel",
          "state": {
            "_model_module": "@jupyter-widgets/controls",
            "_model_module_version": "1.5.0",
            "_model_name": "DescriptionStyleModel",
            "_view_count": null,
            "_view_module": "@jupyter-widgets/base",
            "_view_module_version": "1.2.0",
            "_view_name": "StyleView",
            "description_width": ""
          }
        },
        "b55a3f6e4c6d433db53181451a0935a4": {
          "model_module": "@jupyter-widgets/controls",
          "model_module_version": "1.5.0",
          "model_name": "HBoxModel",
          "state": {
            "_dom_classes": [],
            "_model_module": "@jupyter-widgets/controls",
            "_model_module_version": "1.5.0",
            "_model_name": "HBoxModel",
            "_view_count": null,
            "_view_module": "@jupyter-widgets/controls",
            "_view_module_version": "1.5.0",
            "_view_name": "HBoxView",
            "box_style": "",
            "children": [
              "IPY_MODEL_30c584eb798642f6ab216d2f2b2dd159",
              "IPY_MODEL_b803d2e238864d01adedd0c520f4aa58",
              "IPY_MODEL_ff39689122df4e5e9226baf4feeb8ab9"
            ],
            "layout": "IPY_MODEL_415e279ce14847b4ba371fdcf371b434"
          }
        },
        "b68d05c1e17e481eafeedc63c4851e6b": {
          "model_module": "@jupyter-widgets/controls",
          "model_module_version": "1.5.0",
          "model_name": "ProgressStyleModel",
          "state": {
            "_model_module": "@jupyter-widgets/controls",
            "_model_module_version": "1.5.0",
            "_model_name": "ProgressStyleModel",
            "_view_count": null,
            "_view_module": "@jupyter-widgets/base",
            "_view_module_version": "1.2.0",
            "_view_name": "StyleView",
            "bar_color": null,
            "description_width": ""
          }
        },
        "b6f3700c6afc4e1da1fe69738a5d6f98": {
          "model_module": "@jupyter-widgets/base",
          "model_module_version": "1.2.0",
          "model_name": "LayoutModel",
          "state": {
            "_model_module": "@jupyter-widgets/base",
            "_model_module_version": "1.2.0",
            "_model_name": "LayoutModel",
            "_view_count": null,
            "_view_module": "@jupyter-widgets/base",
            "_view_module_version": "1.2.0",
            "_view_name": "LayoutView",
            "align_content": null,
            "align_items": null,
            "align_self": null,
            "border": null,
            "bottom": null,
            "display": null,
            "flex": null,
            "flex_flow": null,
            "grid_area": null,
            "grid_auto_columns": null,
            "grid_auto_flow": null,
            "grid_auto_rows": null,
            "grid_column": null,
            "grid_gap": null,
            "grid_row": null,
            "grid_template_areas": null,
            "grid_template_columns": null,
            "grid_template_rows": null,
            "height": null,
            "justify_content": null,
            "justify_items": null,
            "left": null,
            "margin": null,
            "max_height": null,
            "max_width": null,
            "min_height": null,
            "min_width": null,
            "object_fit": null,
            "object_position": null,
            "order": null,
            "overflow": null,
            "overflow_x": null,
            "overflow_y": null,
            "padding": null,
            "right": null,
            "top": null,
            "visibility": null,
            "width": null
          }
        },
        "b803d2e238864d01adedd0c520f4aa58": {
          "model_module": "@jupyter-widgets/controls",
          "model_module_version": "1.5.0",
          "model_name": "FloatProgressModel",
          "state": {
            "_dom_classes": [],
            "_model_module": "@jupyter-widgets/controls",
            "_model_module_version": "1.5.0",
            "_model_name": "FloatProgressModel",
            "_view_count": null,
            "_view_module": "@jupyter-widgets/controls",
            "_view_module_version": "1.5.0",
            "_view_name": "ProgressView",
            "bar_style": "success",
            "description": "",
            "description_tooltip": null,
            "layout": "IPY_MODEL_db72f8176428485cb74714e639400596",
            "max": 1,
            "min": 0,
            "orientation": "horizontal",
            "style": "IPY_MODEL_ce4965efcf3d459cbda976fd9ffaf648",
            "value": 1
          }
        },
        "ba195bdce4ac42aeaad5c3859ced23c1": {
          "model_module": "@jupyter-widgets/base",
          "model_module_version": "1.2.0",
          "model_name": "LayoutModel",
          "state": {
            "_model_module": "@jupyter-widgets/base",
            "_model_module_version": "1.2.0",
            "_model_name": "LayoutModel",
            "_view_count": null,
            "_view_module": "@jupyter-widgets/base",
            "_view_module_version": "1.2.0",
            "_view_name": "LayoutView",
            "align_content": null,
            "align_items": null,
            "align_self": null,
            "border": null,
            "bottom": null,
            "display": null,
            "flex": null,
            "flex_flow": null,
            "grid_area": null,
            "grid_auto_columns": null,
            "grid_auto_flow": null,
            "grid_auto_rows": null,
            "grid_column": null,
            "grid_gap": null,
            "grid_row": null,
            "grid_template_areas": null,
            "grid_template_columns": null,
            "grid_template_rows": null,
            "height": null,
            "justify_content": null,
            "justify_items": null,
            "left": null,
            "margin": null,
            "max_height": null,
            "max_width": null,
            "min_height": null,
            "min_width": null,
            "object_fit": null,
            "object_position": null,
            "order": null,
            "overflow": null,
            "overflow_x": null,
            "overflow_y": null,
            "padding": null,
            "right": null,
            "top": null,
            "visibility": null,
            "width": null
          }
        },
        "bc0631e768be441280250e0b2cafd6a1": {
          "model_module": "@jupyter-widgets/base",
          "model_module_version": "1.2.0",
          "model_name": "LayoutModel",
          "state": {
            "_model_module": "@jupyter-widgets/base",
            "_model_module_version": "1.2.0",
            "_model_name": "LayoutModel",
            "_view_count": null,
            "_view_module": "@jupyter-widgets/base",
            "_view_module_version": "1.2.0",
            "_view_name": "LayoutView",
            "align_content": null,
            "align_items": null,
            "align_self": null,
            "border": null,
            "bottom": null,
            "display": null,
            "flex": null,
            "flex_flow": null,
            "grid_area": null,
            "grid_auto_columns": null,
            "grid_auto_flow": null,
            "grid_auto_rows": null,
            "grid_column": null,
            "grid_gap": null,
            "grid_row": null,
            "grid_template_areas": null,
            "grid_template_columns": null,
            "grid_template_rows": null,
            "height": null,
            "justify_content": null,
            "justify_items": null,
            "left": null,
            "margin": null,
            "max_height": null,
            "max_width": null,
            "min_height": null,
            "min_width": null,
            "object_fit": null,
            "object_position": null,
            "order": null,
            "overflow": null,
            "overflow_x": null,
            "overflow_y": null,
            "padding": null,
            "right": null,
            "top": null,
            "visibility": null,
            "width": null
          }
        },
        "bf1a124470384d6db31433542a072697": {
          "model_module": "@jupyter-widgets/controls",
          "model_module_version": "1.5.0",
          "model_name": "FloatProgressModel",
          "state": {
            "_dom_classes": [],
            "_model_module": "@jupyter-widgets/controls",
            "_model_module_version": "1.5.0",
            "_model_name": "FloatProgressModel",
            "_view_count": null,
            "_view_module": "@jupyter-widgets/controls",
            "_view_module_version": "1.5.0",
            "_view_name": "ProgressView",
            "bar_style": "success",
            "description": "",
            "description_tooltip": null,
            "layout": "IPY_MODEL_982e69be6eee44f780ea651e08fb46db",
            "max": 1,
            "min": 0,
            "orientation": "horizontal",
            "style": "IPY_MODEL_89d85b45e7d24b2ebb46a58f2ccd0cb8",
            "value": 1
          }
        },
        "c0b42eef27954665b08e96e1cfd75f5c": {
          "model_module": "@jupyter-widgets/controls",
          "model_module_version": "1.5.0",
          "model_name": "HTMLModel",
          "state": {
            "_dom_classes": [],
            "_model_module": "@jupyter-widgets/controls",
            "_model_module_version": "1.5.0",
            "_model_name": "HTMLModel",
            "_view_count": null,
            "_view_module": "@jupyter-widgets/controls",
            "_view_module_version": "1.5.0",
            "_view_name": "HTMLView",
            "description": "",
            "description_tooltip": null,
            "layout": "IPY_MODEL_af4179db9e4d48908c812a08476cf75a",
            "placeholder": "​",
            "style": "IPY_MODEL_10912740bc204d7b8aae9c8818b8df7c",
            "value": " 181/181 [00:00&lt;00:00, 5.43kB/s]"
          }
        },
        "c1769ed845eb44f2acb20f508179472d": {
          "model_module": "@jupyter-widgets/controls",
          "model_module_version": "1.5.0",
          "model_name": "VBoxModel",
          "state": {
            "_dom_classes": [],
            "_model_module": "@jupyter-widgets/controls",
            "_model_module_version": "1.5.0",
            "_model_name": "VBoxModel",
            "_view_count": null,
            "_view_module": "@jupyter-widgets/controls",
            "_view_module_version": "1.5.0",
            "_view_name": "VBoxView",
            "box_style": "",
            "children": [
              "IPY_MODEL_51a85dd15071420582316df7d98868c3",
              "IPY_MODEL_a01c0e6ae52d4d2587e3b7d7cc49de19",
              "IPY_MODEL_46f48fa158e4412fa3a3347cc5496a21",
              "IPY_MODEL_9d514df149ec40e8ae80afbb58e38f71",
              "IPY_MODEL_99d0cadfca28484da4f502f4cf6cd09e"
            ],
            "layout": "IPY_MODEL_035abd7f0e5b44979109d7ad68e41949"
          }
        },
        "c42160055dd84bd48aa86fcd9e850339": {
          "model_module": "@jupyter-widgets/controls",
          "model_module_version": "1.5.0",
          "model_name": "FloatProgressModel",
          "state": {
            "_dom_classes": [],
            "_model_module": "@jupyter-widgets/controls",
            "_model_module_version": "1.5.0",
            "_model_name": "FloatProgressModel",
            "_view_count": null,
            "_view_module": "@jupyter-widgets/controls",
            "_view_module_version": "1.5.0",
            "_view_name": "ProgressView",
            "bar_style": "success",
            "description": "",
            "description_tooltip": null,
            "layout": "IPY_MODEL_bc0631e768be441280250e0b2cafd6a1",
            "max": 1937,
            "min": 0,
            "orientation": "horizontal",
            "style": "IPY_MODEL_f9737a36c8a34ec7827c484445587de5",
            "value": 1937
          }
        },
        "c6874f97c75f4e8eac15d4723d86569e": {
          "model_module": "@jupyter-widgets/base",
          "model_module_version": "1.2.0",
          "model_name": "LayoutModel",
          "state": {
            "_model_module": "@jupyter-widgets/base",
            "_model_module_version": "1.2.0",
            "_model_name": "LayoutModel",
            "_view_count": null,
            "_view_module": "@jupyter-widgets/base",
            "_view_module_version": "1.2.0",
            "_view_name": "LayoutView",
            "align_content": null,
            "align_items": null,
            "align_self": null,
            "border": null,
            "bottom": null,
            "display": null,
            "flex": null,
            "flex_flow": null,
            "grid_area": null,
            "grid_auto_columns": null,
            "grid_auto_flow": null,
            "grid_auto_rows": null,
            "grid_column": null,
            "grid_gap": null,
            "grid_row": null,
            "grid_template_areas": null,
            "grid_template_columns": null,
            "grid_template_rows": null,
            "height": null,
            "justify_content": null,
            "justify_items": null,
            "left": null,
            "margin": null,
            "max_height": null,
            "max_width": null,
            "min_height": null,
            "min_width": null,
            "object_fit": null,
            "object_position": null,
            "order": null,
            "overflow": null,
            "overflow_x": null,
            "overflow_y": null,
            "padding": null,
            "right": null,
            "top": null,
            "visibility": null,
            "width": null
          }
        },
        "c87064b3f63c41d0846336ca2da5e4d6": {
          "model_module": "@jupyter-widgets/controls",
          "model_module_version": "1.5.0",
          "model_name": "HTMLModel",
          "state": {
            "_dom_classes": [],
            "_model_module": "@jupyter-widgets/controls",
            "_model_module_version": "1.5.0",
            "_model_name": "HTMLModel",
            "_view_count": null,
            "_view_module": "@jupyter-widgets/controls",
            "_view_module_version": "1.5.0",
            "_view_name": "HTMLView",
            "description": "",
            "description_tooltip": null,
            "layout": "IPY_MODEL_906bab11b2f24c438633d435084c92b5",
            "placeholder": "​",
            "style": "IPY_MODEL_0c76df17cfe64affb074da9617c6da73",
            "value": " 1/1 [00:05&lt;00:00,  6.00s/ba]"
          }
        },
        "ce4965efcf3d459cbda976fd9ffaf648": {
          "model_module": "@jupyter-widgets/controls",
          "model_module_version": "1.5.0",
          "model_name": "ProgressStyleModel",
          "state": {
            "_model_module": "@jupyter-widgets/controls",
            "_model_module_version": "1.5.0",
            "_model_name": "ProgressStyleModel",
            "_view_count": null,
            "_view_module": "@jupyter-widgets/base",
            "_view_module_version": "1.2.0",
            "_view_name": "StyleView",
            "bar_color": null,
            "description_width": ""
          }
        },
        "cef2ef24c0484a678bb8937603d72b14": {
          "model_module": "@jupyter-widgets/base",
          "model_module_version": "1.2.0",
          "model_name": "LayoutModel",
          "state": {
            "_model_module": "@jupyter-widgets/base",
            "_model_module_version": "1.2.0",
            "_model_name": "LayoutModel",
            "_view_count": null,
            "_view_module": "@jupyter-widgets/base",
            "_view_module_version": "1.2.0",
            "_view_name": "LayoutView",
            "align_content": null,
            "align_items": null,
            "align_self": null,
            "border": null,
            "bottom": null,
            "display": null,
            "flex": null,
            "flex_flow": null,
            "grid_area": null,
            "grid_auto_columns": null,
            "grid_auto_flow": null,
            "grid_auto_rows": null,
            "grid_column": null,
            "grid_gap": null,
            "grid_row": null,
            "grid_template_areas": null,
            "grid_template_columns": null,
            "grid_template_rows": null,
            "height": null,
            "justify_content": null,
            "justify_items": null,
            "left": null,
            "margin": null,
            "max_height": null,
            "max_width": null,
            "min_height": null,
            "min_width": null,
            "object_fit": null,
            "object_position": null,
            "order": null,
            "overflow": null,
            "overflow_x": null,
            "overflow_y": null,
            "padding": null,
            "right": null,
            "top": null,
            "visibility": null,
            "width": null
          }
        },
        "cffa134caeb34744ba18ba6ddfda9b05": {
          "model_module": "@jupyter-widgets/controls",
          "model_module_version": "1.5.0",
          "model_name": "HBoxModel",
          "state": {
            "_dom_classes": [],
            "_model_module": "@jupyter-widgets/controls",
            "_model_module_version": "1.5.0",
            "_model_name": "HBoxModel",
            "_view_count": null,
            "_view_module": "@jupyter-widgets/controls",
            "_view_module_version": "1.5.0",
            "_view_name": "HBoxView",
            "box_style": "",
            "children": [
              "IPY_MODEL_136df86150bf4bb5a36457866d5d02e3",
              "IPY_MODEL_3efff73b85724aacbba618099fe04eb9",
              "IPY_MODEL_1e4be9e58b484528a66e4a7d61c897f6"
            ],
            "layout": "IPY_MODEL_aff551819c68461a8c7035450fe4e397"
          }
        },
        "d5f18942b4014d39ba9b26d9cb3f73af": {
          "model_module": "@jupyter-widgets/base",
          "model_module_version": "1.2.0",
          "model_name": "LayoutModel",
          "state": {
            "_model_module": "@jupyter-widgets/base",
            "_model_module_version": "1.2.0",
            "_model_name": "LayoutModel",
            "_view_count": null,
            "_view_module": "@jupyter-widgets/base",
            "_view_module_version": "1.2.0",
            "_view_name": "LayoutView",
            "align_content": null,
            "align_items": null,
            "align_self": null,
            "border": null,
            "bottom": null,
            "display": null,
            "flex": null,
            "flex_flow": null,
            "grid_area": null,
            "grid_auto_columns": null,
            "grid_auto_flow": null,
            "grid_auto_rows": null,
            "grid_column": null,
            "grid_gap": null,
            "grid_row": null,
            "grid_template_areas": null,
            "grid_template_columns": null,
            "grid_template_rows": null,
            "height": null,
            "justify_content": null,
            "justify_items": null,
            "left": null,
            "margin": null,
            "max_height": null,
            "max_width": null,
            "min_height": null,
            "min_width": null,
            "object_fit": null,
            "object_position": null,
            "order": null,
            "overflow": null,
            "overflow_x": null,
            "overflow_y": null,
            "padding": null,
            "right": null,
            "top": null,
            "visibility": null,
            "width": null
          }
        },
        "da0d21f5185a407fa6ed8cd2c5230682": {
          "model_module": "@jupyter-widgets/controls",
          "model_module_version": "1.5.0",
          "model_name": "DescriptionStyleModel",
          "state": {
            "_model_module": "@jupyter-widgets/controls",
            "_model_module_version": "1.5.0",
            "_model_name": "DescriptionStyleModel",
            "_view_count": null,
            "_view_module": "@jupyter-widgets/base",
            "_view_module_version": "1.2.0",
            "_view_name": "StyleView",
            "description_width": ""
          }
        },
        "db72f8176428485cb74714e639400596": {
          "model_module": "@jupyter-widgets/base",
          "model_module_version": "1.2.0",
          "model_name": "LayoutModel",
          "state": {
            "_model_module": "@jupyter-widgets/base",
            "_model_module_version": "1.2.0",
            "_model_name": "LayoutModel",
            "_view_count": null,
            "_view_module": "@jupyter-widgets/base",
            "_view_module_version": "1.2.0",
            "_view_name": "LayoutView",
            "align_content": null,
            "align_items": null,
            "align_self": null,
            "border": null,
            "bottom": null,
            "display": null,
            "flex": null,
            "flex_flow": null,
            "grid_area": null,
            "grid_auto_columns": null,
            "grid_auto_flow": null,
            "grid_auto_rows": null,
            "grid_column": null,
            "grid_gap": null,
            "grid_row": null,
            "grid_template_areas": null,
            "grid_template_columns": null,
            "grid_template_rows": null,
            "height": null,
            "justify_content": null,
            "justify_items": null,
            "left": null,
            "margin": null,
            "max_height": null,
            "max_width": null,
            "min_height": null,
            "min_width": null,
            "object_fit": null,
            "object_position": null,
            "order": null,
            "overflow": null,
            "overflow_x": null,
            "overflow_y": null,
            "padding": null,
            "right": null,
            "top": null,
            "visibility": null,
            "width": "20px"
          }
        },
        "de4f0a28d85c41b6862bb926cc1e950a": {
          "model_module": "@jupyter-widgets/controls",
          "model_module_version": "1.5.0",
          "model_name": "HTMLModel",
          "state": {
            "_dom_classes": [],
            "_model_module": "@jupyter-widgets/controls",
            "_model_module_version": "1.5.0",
            "_model_name": "HTMLModel",
            "_view_count": null,
            "_view_module": "@jupyter-widgets/controls",
            "_view_module_version": "1.5.0",
            "_view_name": "HTMLView",
            "description": "",
            "description_tooltip": null,
            "layout": "IPY_MODEL_49ec9cd68a26459fbe524d22457fbfb3",
            "placeholder": "​",
            "style": "IPY_MODEL_15905c70ab6f4e5a9c674f672534e4e6",
            "value": "Downloading: 100%"
          }
        },
        "dea593b1f54a477ead0f9dc2143f2ab4": {
          "model_module": "@jupyter-widgets/base",
          "model_module_version": "1.2.0",
          "model_name": "LayoutModel",
          "state": {
            "_model_module": "@jupyter-widgets/base",
            "_model_module_version": "1.2.0",
            "_model_name": "LayoutModel",
            "_view_count": null,
            "_view_module": "@jupyter-widgets/base",
            "_view_module_version": "1.2.0",
            "_view_name": "LayoutView",
            "align_content": null,
            "align_items": null,
            "align_self": null,
            "border": null,
            "bottom": null,
            "display": null,
            "flex": null,
            "flex_flow": null,
            "grid_area": null,
            "grid_auto_columns": null,
            "grid_auto_flow": null,
            "grid_auto_rows": null,
            "grid_column": null,
            "grid_gap": null,
            "grid_row": null,
            "grid_template_areas": null,
            "grid_template_columns": null,
            "grid_template_rows": null,
            "height": null,
            "justify_content": null,
            "justify_items": null,
            "left": null,
            "margin": null,
            "max_height": null,
            "max_width": null,
            "min_height": null,
            "min_width": null,
            "object_fit": null,
            "object_position": null,
            "order": null,
            "overflow": null,
            "overflow_x": null,
            "overflow_y": null,
            "padding": null,
            "right": null,
            "top": null,
            "visibility": null,
            "width": null
          }
        },
        "df1dc2ef3123452e992ed6f04aed80c2": {
          "model_module": "@jupyter-widgets/base",
          "model_module_version": "1.2.0",
          "model_name": "LayoutModel",
          "state": {
            "_model_module": "@jupyter-widgets/base",
            "_model_module_version": "1.2.0",
            "_model_name": "LayoutModel",
            "_view_count": null,
            "_view_module": "@jupyter-widgets/base",
            "_view_module_version": "1.2.0",
            "_view_name": "LayoutView",
            "align_content": null,
            "align_items": null,
            "align_self": null,
            "border": null,
            "bottom": null,
            "display": null,
            "flex": null,
            "flex_flow": null,
            "grid_area": null,
            "grid_auto_columns": null,
            "grid_auto_flow": null,
            "grid_auto_rows": null,
            "grid_column": null,
            "grid_gap": null,
            "grid_row": null,
            "grid_template_areas": null,
            "grid_template_columns": null,
            "grid_template_rows": null,
            "height": null,
            "justify_content": null,
            "justify_items": null,
            "left": null,
            "margin": null,
            "max_height": null,
            "max_width": null,
            "min_height": null,
            "min_width": null,
            "object_fit": null,
            "object_position": null,
            "order": null,
            "overflow": null,
            "overflow_x": null,
            "overflow_y": null,
            "padding": null,
            "right": null,
            "top": null,
            "visibility": null,
            "width": null
          }
        },
        "e1fdc4939c48409eb380c0b227a47714": {
          "model_module": "@jupyter-widgets/base",
          "model_module_version": "1.2.0",
          "model_name": "LayoutModel",
          "state": {
            "_model_module": "@jupyter-widgets/base",
            "_model_module_version": "1.2.0",
            "_model_name": "LayoutModel",
            "_view_count": null,
            "_view_module": "@jupyter-widgets/base",
            "_view_module_version": "1.2.0",
            "_view_name": "LayoutView",
            "align_content": null,
            "align_items": null,
            "align_self": null,
            "border": null,
            "bottom": null,
            "display": null,
            "flex": null,
            "flex_flow": null,
            "grid_area": null,
            "grid_auto_columns": null,
            "grid_auto_flow": null,
            "grid_auto_rows": null,
            "grid_column": null,
            "grid_gap": null,
            "grid_row": null,
            "grid_template_areas": null,
            "grid_template_columns": null,
            "grid_template_rows": null,
            "height": null,
            "justify_content": null,
            "justify_items": null,
            "left": null,
            "margin": null,
            "max_height": null,
            "max_width": null,
            "min_height": null,
            "min_width": null,
            "object_fit": null,
            "object_position": null,
            "order": null,
            "overflow": null,
            "overflow_x": null,
            "overflow_y": null,
            "padding": null,
            "right": null,
            "top": null,
            "visibility": null,
            "width": null
          }
        },
        "e3282c14aa534b4b8845c7c4cdc64384": {
          "model_module": "@jupyter-widgets/controls",
          "model_module_version": "1.5.0",
          "model_name": "HBoxModel",
          "state": {
            "_dom_classes": [],
            "_model_module": "@jupyter-widgets/controls",
            "_model_module_version": "1.5.0",
            "_model_name": "HBoxModel",
            "_view_count": null,
            "_view_module": "@jupyter-widgets/controls",
            "_view_module_version": "1.5.0",
            "_view_name": "HBoxView",
            "box_style": "",
            "children": [
              "IPY_MODEL_6972e66d621748588074406cc0338724",
              "IPY_MODEL_29ab5a3aa790418d8f1916b0512143b5",
              "IPY_MODEL_ee80abb9ef8c4264b851d7c7ce908ed8"
            ],
            "layout": "IPY_MODEL_96a100523baf4366b6aa77329d120dc2"
          }
        },
        "ed1ac37177704df088112add285c285c": {
          "model_module": "@jupyter-widgets/base",
          "model_module_version": "1.2.0",
          "model_name": "LayoutModel",
          "state": {
            "_model_module": "@jupyter-widgets/base",
            "_model_module_version": "1.2.0",
            "_model_name": "LayoutModel",
            "_view_count": null,
            "_view_module": "@jupyter-widgets/base",
            "_view_module_version": "1.2.0",
            "_view_name": "LayoutView",
            "align_content": null,
            "align_items": null,
            "align_self": null,
            "border": null,
            "bottom": null,
            "display": null,
            "flex": null,
            "flex_flow": null,
            "grid_area": null,
            "grid_auto_columns": null,
            "grid_auto_flow": null,
            "grid_auto_rows": null,
            "grid_column": null,
            "grid_gap": null,
            "grid_row": null,
            "grid_template_areas": null,
            "grid_template_columns": null,
            "grid_template_rows": null,
            "height": null,
            "justify_content": null,
            "justify_items": null,
            "left": null,
            "margin": null,
            "max_height": null,
            "max_width": null,
            "min_height": null,
            "min_width": null,
            "object_fit": null,
            "object_position": null,
            "order": null,
            "overflow": null,
            "overflow_x": null,
            "overflow_y": null,
            "padding": null,
            "right": null,
            "top": null,
            "visibility": null,
            "width": null
          }
        },
        "ee80abb9ef8c4264b851d7c7ce908ed8": {
          "model_module": "@jupyter-widgets/controls",
          "model_module_version": "1.5.0",
          "model_name": "HTMLModel",
          "state": {
            "_dom_classes": [],
            "_model_module": "@jupyter-widgets/controls",
            "_model_module_version": "1.5.0",
            "_model_name": "HTMLModel",
            "_view_count": null,
            "_view_module": "@jupyter-widgets/controls",
            "_view_module_version": "1.5.0",
            "_view_name": "HTMLView",
            "description": "",
            "description_tooltip": null,
            "layout": "IPY_MODEL_a4521f2cc713421194e022ef5c81bc0a",
            "placeholder": "​",
            "style": "IPY_MODEL_3094549e969141f69d482ef61cb882f0",
            "value": " 516/516 [00:00&lt;00:00, 14.8kB/s]"
          }
        },
        "eedbffd063cd487eaf1e99c93394999d": {
          "model_module": "@jupyter-widgets/controls",
          "model_module_version": "1.5.0",
          "model_name": "DescriptionStyleModel",
          "state": {
            "_model_module": "@jupyter-widgets/controls",
            "_model_module_version": "1.5.0",
            "_model_name": "DescriptionStyleModel",
            "_view_count": null,
            "_view_module": "@jupyter-widgets/base",
            "_view_module_version": "1.2.0",
            "_view_name": "StyleView",
            "description_width": ""
          }
        },
        "f5bd30f3cf9147bf9a2a4fdf2c9c4770": {
          "model_module": "@jupyter-widgets/controls",
          "model_module_version": "1.5.0",
          "model_name": "HTMLModel",
          "state": {
            "_dom_classes": [],
            "_model_module": "@jupyter-widgets/controls",
            "_model_module_version": "1.5.0",
            "_model_name": "HTMLModel",
            "_view_count": null,
            "_view_module": "@jupyter-widgets/controls",
            "_view_module_version": "1.5.0",
            "_view_name": "HTMLView",
            "description": "",
            "description_tooltip": null,
            "layout": "IPY_MODEL_ed1ac37177704df088112add285c285c",
            "placeholder": "​",
            "style": "IPY_MODEL_509b46da21a94246adc513c8c50d2cc9",
            "value": " 1.89k/1.89k [00:00&lt;00:00, 49.4kB/s]"
          }
        },
        "f8c6b83ff1264bb39d1565e5e514ebe5": {
          "model_module": "@jupyter-widgets/controls",
          "model_module_version": "1.5.0",
          "model_name": "DescriptionStyleModel",
          "state": {
            "_model_module": "@jupyter-widgets/controls",
            "_model_module_version": "1.5.0",
            "_model_name": "DescriptionStyleModel",
            "_view_count": null,
            "_view_module": "@jupyter-widgets/base",
            "_view_module_version": "1.2.0",
            "_view_name": "StyleView",
            "description_width": ""
          }
        },
        "f9737a36c8a34ec7827c484445587de5": {
          "model_module": "@jupyter-widgets/controls",
          "model_module_version": "1.5.0",
          "model_name": "ProgressStyleModel",
          "state": {
            "_model_module": "@jupyter-widgets/controls",
            "_model_module_version": "1.5.0",
            "_model_name": "ProgressStyleModel",
            "_view_count": null,
            "_view_module": "@jupyter-widgets/base",
            "_view_module_version": "1.2.0",
            "_view_name": "StyleView",
            "bar_color": null,
            "description_width": ""
          }
        },
        "fd1375b9d1364099b64f9fc8489eba62": {
          "model_module": "@jupyter-widgets/controls",
          "model_module_version": "1.5.0",
          "model_name": "HBoxModel",
          "state": {
            "_dom_classes": [],
            "_model_module": "@jupyter-widgets/controls",
            "_model_module_version": "1.5.0",
            "_model_name": "HBoxModel",
            "_view_count": null,
            "_view_module": "@jupyter-widgets/controls",
            "_view_module_version": "1.5.0",
            "_view_name": "HBoxView",
            "box_style": "",
            "children": [
              "IPY_MODEL_4290faa05b0f40c4ad5f0682045b19d2",
              "IPY_MODEL_9de3788167fe4f40b73fc20a934ca27b",
              "IPY_MODEL_fe6af628e1b54d97a01df5a108f31533"
            ],
            "layout": "IPY_MODEL_81237b951c97493c887a2769731369a8"
          }
        },
        "fd669901d13040b0827ddf22910fcb58": {
          "model_module": "@jupyter-widgets/controls",
          "model_module_version": "1.5.0",
          "model_name": "DescriptionStyleModel",
          "state": {
            "_model_module": "@jupyter-widgets/controls",
            "_model_module_version": "1.5.0",
            "_model_name": "DescriptionStyleModel",
            "_view_count": null,
            "_view_module": "@jupyter-widgets/base",
            "_view_module_version": "1.2.0",
            "_view_name": "StyleView",
            "description_width": ""
          }
        },
        "fe6af628e1b54d97a01df5a108f31533": {
          "model_module": "@jupyter-widgets/controls",
          "model_module_version": "1.5.0",
          "model_name": "HTMLModel",
          "state": {
            "_dom_classes": [],
            "_model_module": "@jupyter-widgets/controls",
            "_model_module_version": "1.5.0",
            "_model_name": "HTMLModel",
            "_view_count": null,
            "_view_module": "@jupyter-widgets/controls",
            "_view_module_version": "1.5.0",
            "_view_name": "HTMLView",
            "description": "",
            "description_tooltip": null,
            "layout": "IPY_MODEL_4ecd0f4e2b2444ac87ab1c96da38bc12",
            "placeholder": "​",
            "style": "IPY_MODEL_fd669901d13040b0827ddf22910fcb58",
            "value": " 215/215 [00:00&lt;00:00, 5.32kB/s]"
          }
        },
        "ff39689122df4e5e9226baf4feeb8ab9": {
          "model_module": "@jupyter-widgets/controls",
          "model_module_version": "1.5.0",
          "model_name": "HTMLModel",
          "state": {
            "_dom_classes": [],
            "_model_module": "@jupyter-widgets/controls",
            "_model_module_version": "1.5.0",
            "_model_name": "HTMLModel",
            "_view_count": null,
            "_view_module": "@jupyter-widgets/controls",
            "_view_module_version": "1.5.0",
            "_view_name": "HTMLView",
            "description": "",
            "description_tooltip": null,
            "layout": "IPY_MODEL_900c6c1807d14a0ea53725a944fd02f1",
            "placeholder": "​",
            "style": "IPY_MODEL_4503eb509a514078a1f89a37469e88df",
            "value": " 142/? [00:21&lt;00:00,  6.71ex/s]"
          }
        }
      }
    }
  },
  "nbformat": 4,
  "nbformat_minor": 0
}
